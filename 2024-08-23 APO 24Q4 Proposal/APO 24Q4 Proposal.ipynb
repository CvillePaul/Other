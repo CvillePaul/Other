{
 "cells": [
  {
   "cell_type": "markdown",
   "metadata": {},
   "source": [
    "## Jimmy requested eclipse timings for TIC 4707 for a range of days during 2024Q4 so if there's a B-system eclipse we might request that particular day in our proposal."
   ]
  },
  {
   "cell_type": "code",
   "execution_count": 37,
   "metadata": {},
   "outputs": [],
   "source": [
    "import astropy.table as tb\n",
    "from astropy.time import Time\n",
    "import astropy.units as u\n"
   ]
  },
  {
   "cell_type": "code",
   "execution_count": 5,
   "metadata": {},
   "outputs": [
    {
     "data": {
      "text/html": [
       "<div><i>Table length=2</i>\n",
       "<table id=\"table2187219081200\" class=\"table-striped table-bordered table-condensed\">\n",
       "<thead><tr><th>Local ID</th><th>Member</th><th>Period</th><th>T0 Primary</th><th>T0 Secondary</th><th>Depth Primary</th><th>Depth Secondary</th><th>Duration Primary</th><th>Duration Secondary</th></tr></thead>\n",
       "<thead><tr><th>str14</th><th>str1</th><th>float64</th><th>float64</th><th>float64</th><th>int32</th><th>int32</th><th>float64</th><th>float64</th></tr></thead>\n",
       "<tr><td>TIC 470710327</td><td>A</td><td>1.104686</td><td>1765.1668</td><td>1765.721905</td><td>60</td><td>50</td><td>5.8</td><td>5.5</td></tr>\n",
       "<tr><td>TIC 470710327</td><td>B</td><td>19.950922</td><td>1805.4542</td><td>--</td><td>70</td><td>--</td><td>--</td><td>--</td></tr>\n",
       "</table></div>"
      ],
      "text/plain": [
       "<Table length=2>\n",
       "   Local ID   Member   Period  ... Duration Primary Duration Secondary\n",
       "    str14      str1   float64  ...     float64           float64      \n",
       "------------- ------ --------- ... ---------------- ------------------\n",
       "TIC 470710327      A  1.104686 ...              5.8                5.5\n",
       "TIC 470710327      B 19.950922 ...               --                 --"
      ]
     },
     "execution_count": 5,
     "metadata": {},
     "output_type": "execute_result"
    }
   ],
   "source": [
    "ephemerides = tb.vstack([\n",
    "    tb.Table.read(r'..\\..\\django\\TargetDB\\Data Files\\Binary Parameters\\Kostov 2022 Binary Parameters.csv'),\n",
    "    tb.Table.read(r'..\\..\\django\\TargetDB\\Data Files\\Binary Parameters\\Kostov 2023 Binary Parameters.csv'),\n",
    "])\n",
    "ephemerides[ephemerides[\"Local ID\"] == \"TIC 470710327\"]"
   ]
  },
  {
   "cell_type": "code",
   "execution_count": 65,
   "metadata": {},
   "outputs": [
    {
     "name": "stdout",
     "output_type": "stream",
     "text": [
      "A a 2024-11-08 15:04:03.533 2024-11-08 20:52:03.533 1765.1668 1.104686\n",
      "A a 2024-11-09 17:34:48.403 2024-11-09 23:22:48.403 1765.1668 1.104686\n",
      "A a 2024-11-10 20:05:33.274 2024-11-11 01:53:33.274 1765.1668 1.104686\n",
      "A a 2024-11-11 22:36:18.144 2024-11-12 04:24:18.144 1765.1668 1.104686\n",
      "A a 2024-11-13 01:07:03.014 2024-11-13 06:55:03.014 1765.1668 1.104686\n",
      "A a 2024-11-14 03:37:47.885 2024-11-14 09:25:47.885 1765.1668 1.104686\n",
      "A a 2024-11-15 06:08:32.755 2024-11-15 11:56:32.755 1765.1668 1.104686\n",
      "A a 2024-11-16 08:39:17.626 2024-11-16 14:27:17.626 1765.1668 1.104686\n",
      "A a 2024-11-17 11:10:02.496 2024-11-17 16:58:02.496 1765.1668 1.104686\n",
      "A a 2024-11-18 13:40:47.366 2024-11-18 19:28:47.366 1765.1668 1.104686\n",
      "A a 2024-11-19 16:11:32.237 2024-11-19 21:59:32.237 1765.1668 1.104686\n",
      "A a 2024-11-20 18:42:17.107 2024-11-21 00:30:17.107 1765.1668 1.104686\n",
      "A b 2024-11-08 02:01:39.734 2024-11-08 07:31:39.734 1765.721905 1.104686\n",
      "A b 2024-11-09 04:32:24.605 2024-11-09 10:02:24.605 1765.721905 1.104686\n",
      "A b 2024-11-10 07:03:09.475 2024-11-10 12:33:09.475 1765.721905 1.104686\n",
      "A b 2024-11-11 09:33:54.346 2024-11-11 15:03:54.346 1765.721905 1.104686\n",
      "A b 2024-11-12 12:04:39.216 2024-11-12 17:34:39.216 1765.721905 1.104686\n",
      "A b 2024-11-13 14:35:24.086 2024-11-13 20:05:24.086 1765.721905 1.104686\n",
      "A b 2024-11-14 17:06:08.957 2024-11-14 22:36:08.957 1765.721905 1.104686\n",
      "A b 2024-11-15 19:36:53.827 2024-11-16 01:06:53.827 1765.721905 1.104686\n",
      "A b 2024-11-16 22:07:38.698 2024-11-17 03:37:38.698 1765.721905 1.104686\n",
      "A b 2024-11-18 00:38:23.568 2024-11-18 06:08:23.568 1765.721905 1.104686\n",
      "A b 2024-11-19 03:09:08.438 2024-11-19 08:39:08.438 1765.721905 1.104686\n",
      "A b 2024-11-20 05:39:53.309 2024-11-20 11:09:53.309 1765.721905 1.104686\n",
      "B a 2024-11-06 11:42:52.013 2024-11-06 11:42:52.013 1805.4542 19.950922\n"
     ]
    }
   ],
   "source": [
    "tess_offset = 2457000\n",
    "beg_date = Time(\"2024-11-09\", format=\"iso\", scale=\"utc\").jd - tess_offset\n",
    "end_date = Time(\"2024-11-21\", format=\"iso\", scale=\"utc\").jd - tess_offset\n",
    "\n",
    "for system in ephemerides[ephemerides[\"Local ID\"] == \"TIC 470710327\"]:\n",
    "    for member_letter, member_name in [(\"a\", \"Primary\"), (\"b\", \"Secondary\")]:\n",
    "        name = f\"T0 {member_name}\"\n",
    "        if system[name] > 0:\n",
    "            t0 = system[name]\n",
    "            period = system[\"Period\"]\n",
    "            if not (half_duration := system[f\"Duration {member_name}\"] / 24 / 2):\n",
    "                half_duration = 0\n",
    "            mid_eclipse = t0 + int((beg_date - t0) / period) * period\n",
    "            while True:\n",
    "                eclipse_beg = mid_eclipse - half_duration\n",
    "                eclipse_end = mid_eclipse + half_duration\n",
    "                print(system[\"Member\"], member_letter, Time(eclipse_beg + tess_offset, format=\"jd\").iso, Time(eclipse_end + tess_offset, format=\"jd\").iso, t0, period)\n",
    "                mid_eclipse += period\n",
    "                if mid_eclipse > end_date:\n",
    "                    break\n"
   ]
  },
  {
   "cell_type": "code",
   "execution_count": 232,
   "metadata": {},
   "outputs": [
    {
     "name": "stdout",
     "output_type": "stream",
     "text": [
      "2024-11-10 20:05:33.274     2024-11-11 01:53:33.274\n"
     ]
    },
    {
     "data": {
      "text/plain": [
       "[(<Time object: scale='utc' format='jd' value=2460625.3371906662>,\n",
       "  <Time object: scale='utc' format='jd' value=2460625.578857333>)]"
      ]
     },
     "execution_count": 232,
     "metadata": {},
     "output_type": "execute_result"
    }
   ],
   "source": [
    "from astropy.table.row import Row\n",
    "from astropy.time import Time\n",
    "import astropy.units as u\n",
    "\n",
    "def calc_eclipse_timings(\n",
    "    t0: Time = None,\n",
    "    period: u.Quantity = None,\n",
    "    duration: u.Quantity = None,\n",
    "    beg_time: Time = None,\n",
    "    end_time: Time = None,\n",
    "    count: int = 0,\n",
    "    row = None,\n",
    ") -> list[tuple[Time, Time]]:\n",
    "    \"\"\"Given an initial time (t0), a period and optionally a duration, return a list of eclipses.\n",
    "    The results can be a fixed number of eclipses, or all eclipses falling between a beginning and end time.\n",
    "    Period & duration are Astropy Quantity, t0, beg_time & end_time are Astropy Time objects, and count is an int.\n",
    "    \"\"\"\n",
    "    # process & validate inputs\n",
    "    if isinstance(row, Row):\n",
    "        t0 = row[\"T0\"]\n",
    "        period = row[\"Period\"]\n",
    "        if \"Duration\" in row.columns:\n",
    "            duration = row[\"Duration\"]\n",
    "    if beg_time is None:\n",
    "        raise ValueError(\"Must specify begin time\")\n",
    "    if count > 0:\n",
    "        if end_time is not None:\n",
    "            raise ValueError(\"Cannot specify both a count and an end time\")\n",
    "        use_count = True\n",
    "    else:\n",
    "        if count < 0:\n",
    "            raise ValueError(\"Count cannot be negative\")\n",
    "        if end_time is None:\n",
    "            raise ValueError(\"If count is zero, end time must be specified\")\n",
    "        use_count = False\n",
    "\n",
    "\n",
    "    if duration is not None:\n",
    "        half_duration = duration / 2\n",
    "    t = t0 + (round((beg_time.jd - t0.jd) / period.value) * period)\n",
    "    while t - half_duration < beg_time:\n",
    "        t += period\n",
    "    eclipses = []\n",
    "    while True:\n",
    "        if duration is not None:\n",
    "            eclipse_beg = t - half_duration\n",
    "            eclipse_end = t + half_duration\n",
    "        else:\n",
    "            eclipse_beg = t\n",
    "            eclipse_end = t\n",
    "        eclipses.append((eclipse_beg, eclipse_end))\n",
    "        print(eclipse_beg.iso, \"   \", eclipse_end.iso)\n",
    "        t += period\n",
    "        if use_count:\n",
    "            if len(eclipses) >= count:\n",
    "                break\n",
    "        else:\n",
    "            if end_time < t + half_duration:\n",
    "                break\n",
    "    return eclipses\n",
    "\n",
    "\n",
    "beg_time = Time(\"2024-11-10\", format=\"iso\", scale=\"utc\")\n",
    "end_time = Time(\"2024-11-21\", format=\"iso\", scale=\"utc\")\n",
    "\n",
    "foo = QTable(names=[\"T0\", \"Period\", \"Duration\"], dtype=[Time, u.Quantity, u.Quantity])\n",
    "# foo.add_row([1,2 * u.day,3])\n",
    "foo.add_row([Time(1765.1668 + tess_offset, format=\"jd\"), 1.104686 * u.day, 5.8 * u.hour])\n",
    "calc_eclipse_timings(row=foo[0], beg_time=beg_time, count=1)\n",
    "\n",
    "# print(\"Aa\")\n",
    "# calc_eclipse_timings(Time(1765.1668 + tess_offset, format=\"jd\"), 1.104686 * u.day, 5.8 * u.hour, beg_time, end_time)\n",
    "# print(\"Ab\")\n",
    "# calc_eclipse_timings(Time(1765.721905 + tess_offset, format=\"jd\"), 1.104686 * u.day, 5.5 * u.hour, beg_time, end_time)\n",
    "# print(\"Ba\")\n",
    "# calc_eclipse_timings(Time(1805.4542 + tess_offset, format=\"jd\"), 19.950922 * u.day, None, beg_time, end_time)"
   ]
  },
  {
   "cell_type": "markdown",
   "metadata": {},
   "source": [
    "## After catching a bug in the one-off code (while testing the above function), do some manual cross-checking to make sure I'm not jerking Jimmy around with bad answers."
   ]
  },
  {
   "cell_type": "code",
   "execution_count": 56,
   "metadata": {},
   "outputs": [
    {
     "data": {
      "text/plain": [
       "91.00000000012707"
      ]
     },
     "execution_count": 56,
     "metadata": {},
     "output_type": "execute_result"
    }
   ],
   "source": [
    "foo = Time(\"2024-11-06 11:42:52.013\", format=\"iso\", scale=\"utc\").jd - tess_offset\n",
    "(foo - 1805.4542) / 19.950922\n"
   ]
  },
  {
   "cell_type": "code",
   "execution_count": 58,
   "metadata": {},
   "outputs": [
    {
     "data": {
      "text/plain": [
       "2460620.988102"
      ]
     },
     "execution_count": 58,
     "metadata": {},
     "output_type": "execute_result"
    }
   ],
   "source": [
    "19.950922 * 91 + 1805.4542 + tess_offset"
   ]
  },
  {
   "cell_type": "markdown",
   "metadata": {},
   "source": [
    "## Convert CSV file of Kostov ephemerides to something easier to manage, and in standard units."
   ]
  },
  {
   "cell_type": "code",
   "execution_count": 269,
   "metadata": {},
   "outputs": [
    {
     "data": {
      "text/html": [
       "<div><i>QTable length=669</i>\n",
       "<table id=\"table2187255892976\" class=\"table-striped table-bordered table-condensed\">\n",
       "<thead><tr><th>Local ID</th><th>System</th><th>Member</th><th>T0</th><th>Period</th><th>Duration</th><th>Depth</th></tr></thead>\n",
       "<thead><tr><th></th><th></th><th></th><th></th><th>d</th><th>h</th><th></th></tr></thead>\n",
       "<thead><tr><th>str14</th><th>str1</th><th>str1</th><th>float64</th><th>object</th><th>object</th><th>float64</th></tr></thead>\n",
       "<tr><td>TIC 9493888</td><td>A</td><td>a</td><td>2458816.2345</td><td>2.098992</td><td>2.9</td><td>0.146</td></tr>\n",
       "<tr><td>TIC 9493888</td><td>A</td><td>b</td><td>2458817.283786</td><td>2.098992</td><td>2.7</td><td>0.117</td></tr>\n",
       "<tr><td>TIC 25818450</td><td>A</td><td>a</td><td>2458769.9109</td><td>10.132402</td><td>None</td><td>0.012</td></tr>\n",
       "<tr><td>TIC 25818450</td><td>A</td><td>b</td><td>2458776.391584</td><td>10.132402</td><td>None</td><td>0.009</td></tr>\n",
       "<tr><td>TIC 27543409</td><td>A</td><td>a</td><td>2458493.1001</td><td>2.122862</td><td>None</td><td>0.05</td></tr>\n",
       "<tr><td>TIC 27543409</td><td>A</td><td>b</td><td>2458494.153889</td><td>2.122862</td><td>None</td><td>0.015</td></tr>\n",
       "<tr><td>TIC 31928452</td><td>A</td><td>a</td><td>2458337.9129</td><td>2.8823</td><td>2.1</td><td>0.03</td></tr>\n",
       "<tr><td>TIC 31928452</td><td>A</td><td>b</td><td>2458339.358085</td><td>2.8823</td><td>1.6</td><td>0.025</td></tr>\n",
       "<tr><td>TIC 52856877</td><td>A</td><td>a</td><td>2458791.059</td><td>5.186818</td><td>5.5</td><td>0.22</td></tr>\n",
       "<tr><td>...</td><td>...</td><td>...</td><td>...</td><td>...</td><td>...</td><td>...</td></tr>\n",
       "<tr><td>TIC 382182610</td><td>B</td><td>b</td><td>2459041.7416</td><td>11.78085534</td><td>4.0</td><td>0.012</td></tr>\n",
       "<tr><td>TIC 53158069</td><td>B</td><td>a</td><td>2458469.3138</td><td>14.49556</td><td>5.3</td><td>0.093</td></tr>\n",
       "<tr><td>TIC 417752064</td><td>B</td><td>a</td><td>2458778.8615</td><td>15.079816</td><td>4.8</td><td>0.246</td></tr>\n",
       "<tr><td>TIC 417752064</td><td>B</td><td>b</td><td>2458805.476</td><td>15.079816</td><td>9.0</td><td>0.174</td></tr>\n",
       "<tr><td>TIC 430745185</td><td>B</td><td>a</td><td>2458742.4694</td><td>10.71396</td><td>6.1</td><td>0.064</td></tr>\n",
       "<tr><td>TIC 430745185</td><td>B</td><td>b</td><td>2458757.2317</td><td>10.71396</td><td>6.2</td><td>0.023</td></tr>\n",
       "<tr><td>TIC 231595025</td><td>B</td><td>a</td><td>2459248.5616</td><td>19.6682</td><td>8.2</td><td>0.137</td></tr>\n",
       "<tr><td>TIC 231595025</td><td>B</td><td>b</td><td>2459275.7342</td><td>19.6682</td><td>7.0</td><td>0.078</td></tr>\n",
       "<tr><td>TIC 91600053</td><td>B</td><td>a</td><td>2458488.333</td><td>35.02051</td><td>11.0</td><td>0.052</td></tr>\n",
       "<tr><td>TIC 91600053</td><td>B</td><td>b</td><td>2459208.3315</td><td>35.02051</td><td>11.6</td><td>0.025</td></tr>\n",
       "</table></div>"
      ],
      "text/plain": [
       "<QTable length=669>\n",
       "   Local ID   System Member       T0          Period   Duration  Depth \n",
       "                                                d         h            \n",
       "    str14      str1   str1     float64        object    object  float64\n",
       "------------- ------ ------ -------------- ----------- -------- -------\n",
       "  TIC 9493888      A      a   2458816.2345    2.098992      2.9   0.146\n",
       "  TIC 9493888      A      b 2458817.283786    2.098992      2.7   0.117\n",
       " TIC 25818450      A      a   2458769.9109   10.132402     None   0.012\n",
       " TIC 25818450      A      b 2458776.391584   10.132402     None   0.009\n",
       " TIC 27543409      A      a   2458493.1001    2.122862     None    0.05\n",
       " TIC 27543409      A      b 2458494.153889    2.122862     None   0.015\n",
       " TIC 31928452      A      a   2458337.9129      2.8823      2.1    0.03\n",
       " TIC 31928452      A      b 2458339.358085      2.8823      1.6   0.025\n",
       " TIC 52856877      A      a    2458791.059    5.186818      5.5    0.22\n",
       "          ...    ...    ...            ...         ...      ...     ...\n",
       "TIC 382182610      B      b   2459041.7416 11.78085534      4.0   0.012\n",
       " TIC 53158069      B      a   2458469.3138    14.49556      5.3   0.093\n",
       "TIC 417752064      B      a   2458778.8615   15.079816      4.8   0.246\n",
       "TIC 417752064      B      b    2458805.476   15.079816      9.0   0.174\n",
       "TIC 430745185      B      a   2458742.4694    10.71396      6.1   0.064\n",
       "TIC 430745185      B      b   2458757.2317    10.71396      6.2   0.023\n",
       "TIC 231595025      B      a   2459248.5616     19.6682      8.2   0.137\n",
       "TIC 231595025      B      b   2459275.7342     19.6682      7.0   0.078\n",
       " TIC 91600053      B      a    2458488.333    35.02051     11.0   0.052\n",
       " TIC 91600053      B      b   2459208.3315    35.02051     11.6   0.025"
      ]
     },
     "execution_count": 269,
     "metadata": {},
     "output_type": "execute_result"
    }
   ],
   "source": [
    "from astropy.table import QTable\n",
    "\n",
    "better_ephem = QTable(names=[\"Local ID\", \"System\", \"Member\", \"T0\", \"Period\", \"Duration\", \"Depth\"],\n",
    "                      units={\"Period\": u.day, \"Duration\": u.hour},\n",
    "                      dtype=[str, str, str, float, u.Quantity, u.Quantity, float],\n",
    "                      )\n",
    "# better_ephem[\"Period\"].unit = u.day\n",
    "# better_ephem[\"Duration\"].unit = u.hour\n",
    "\n",
    "for ephem in ephemerides:\n",
    "    for letter, word in [(\"a\", \"Primary\"), (\"b\", \"Secondary\")]:\n",
    "        if not ephem[f\"T0 {word}\"] or ephem[\"Period\"] < 0:\n",
    "            continue\n",
    "        if ephem[f\"Duration {word}\"]:\n",
    "            duration = ephem[f\"Duration {word}\"]# * u.hour\n",
    "        else:\n",
    "            duration = None\n",
    "        better_ephem.add_row([\n",
    "            ephem[\"Local ID\"],\n",
    "            ephem[\"Member\"],\n",
    "            letter,\n",
    "            Time(ephem[f\"T0 {word}\"] + tess_offset, format=\"jd\").jd,\n",
    "            ephem[\"Period\"],# * u.day,\n",
    "            duration,\n",
    "            ephem[f\"Depth {word}\"] / 1000,\n",
    "            ],\n",
    "            # mask = [False, False, False, False, False, not (ephem[f\"Duration {word}\"] > 0), False],\n",
    "            )\n",
    "\n",
    "better_ephem.write(\"Kostov ephemerides.csv\", overwrite=True)\n",
    "better_ephem"
   ]
  },
  {
   "cell_type": "code",
   "execution_count": 267,
   "metadata": {},
   "outputs": [],
   "source": [
    "foo = QTable.read(\"Kostov ephemerides.ecsv\")\n",
    "foo.add_row([\"mine\", \"A\", \"a\", 1234.5678, 12*u.day, 14*u.day, None])\n",
    "foo.write(\"foo.csv\")"
   ]
  },
  {
   "cell_type": "code",
   "execution_count": 179,
   "metadata": {},
   "outputs": [
    {
     "name": "stdout",
     "output_type": "stream",
     "text": [
      "\n",
      "TIC 470710327\n",
      "  Aa, Period=  1.10469 d, Duration= 5.8000 h, Depth=0.06\n",
      "2024-10-16 10:18:21.254     2024-10-16 16:06:21.254\n",
      "2024-10-17 12:49:06.125     2024-10-17 18:37:06.125\n",
      "2024-10-18 15:19:50.995     2024-10-18 21:07:50.995\n",
      "2024-10-19 17:50:35.866     2024-10-19 23:38:35.866\n",
      "2024-10-20 20:21:20.736     2024-10-21 02:09:20.736\n",
      "2024-10-21 22:52:05.606     2024-10-22 04:40:05.606\n",
      "  Ab, Period=  1.10469 d, Duration= 5.5000 h, Depth=0.05\n",
      "2024-10-15 21:15:57.456     2024-10-16 02:45:57.456\n",
      "2024-10-16 23:46:42.326     2024-10-17 05:16:42.326\n",
      "2024-10-18 02:17:27.197     2024-10-18 07:47:27.197\n",
      "2024-10-19 04:48:12.067     2024-10-19 10:18:12.067\n",
      "2024-10-20 07:18:56.938     2024-10-20 12:48:56.938\n",
      "2024-10-21 09:49:41.808     2024-10-21 15:19:41.808\n",
      "2024-10-22 12:20:26.678     2024-10-22 17:50:26.678\n",
      "  Ba, Period= 19.95092 d, Duration=unknown, Depth=0.07\n",
      "2024-10-17 12:53:32.352     2024-10-17 12:53:32.352\n"
     ]
    }
   ],
   "source": [
    "tics_of_interest = [\n",
    "# (\"2024-05-27\", \"TIC 344541836\"),\n",
    "# (\"2024-05-28\", \"TIC 278465736\"),\n",
    "# (\"2024-02-23\", \"TIC 161043618\"),\n",
    "# (\"2024-02-24\", \"TIC 367448265\"),\n",
    "  (\"\", \"TIC 470710327\"),\n",
    "]\n",
    "\n",
    "beg_time = Time(\"2024-10-16\", format=\"iso\", scale=\"utc\")\n",
    "end_time = Time(\"2024-10-23\", format=\"iso\", scale=\"utc\")\n",
    "# beg_time = Time(\"2024-08-23\", format=\"iso\", scale=\"utc\")\n",
    "# end_time = Time(\"2024-09-11\", format=\"iso\", scale=\"utc\")\n",
    "\n",
    "for _, tic_of_interest in tics_of_interest:\n",
    "    print()\n",
    "    print(tic_of_interest)\n",
    "    for ephem in better_ephem[better_ephem[\"Local ID\"] == tic_of_interest]:\n",
    "        if ephem[\"Duration\"] is None:\n",
    "            print(f\"  {ephem[\"System\"]}{ephem[\"Member\"]}, Period={ephem[\"Period\"]:9.5f}, Duration=unknown, Depth={ephem[\"Depth\"]}\")\n",
    "        else:\n",
    "            print(f\"  {ephem[\"System\"]}{ephem[\"Member\"]}, Period={ephem[\"Period\"]:9.5f}, Duration={ephem[\"Duration\"]:7.4f}, Depth={ephem[\"Depth\"]}\")\n",
    "        calc_eclipse_timings(ephem[\"T0\"], ephem[\"Period\"], ephem[\"Duration\"], beg_time, end_time)"
   ]
  },
  {
   "cell_type": "code",
   "execution_count": 162,
   "metadata": {},
   "outputs": [
    {
     "data": {
      "text/html": [
       "&lt;MaskedColumn name=&apos;Duration&apos; dtype=&apos;object&apos; unit=&apos;h&apos; length=1&gt;\n",
       "<table>\n",
       "<tr><td>-- h</td></tr>\n",
       "</table>"
      ],
      "text/plain": [
       "<MaskedColumn name='Duration' dtype='object' unit='h' length=1>\n",
       "-- h"
      ]
     },
     "execution_count": 162,
     "metadata": {},
     "output_type": "execute_result"
    }
   ],
   "source": [
    "better_ephem[(better_ephem[\"Local ID\"]==\"TIC 367448265\") & (better_ephem[\"System\"]==\"A\") & (better_ephem[\"Member\"]==\"a\")][\"Duration\"]"
   ]
  }
 ],
 "metadata": {
  "kernelspec": {
   "display_name": "Astro",
   "language": "python",
   "name": "python3"
  },
  "language_info": {
   "codemirror_mode": {
    "name": "ipython",
    "version": 3
   },
   "file_extension": ".py",
   "mimetype": "text/x-python",
   "name": "python",
   "nbconvert_exporter": "python",
   "pygments_lexer": "ipython3",
   "version": "3.12.2"
  }
 },
 "nbformat": 4,
 "nbformat_minor": 2
}
