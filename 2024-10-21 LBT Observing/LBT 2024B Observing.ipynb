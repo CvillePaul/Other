{
 "cells": [
  {
   "cell_type": "markdown",
   "metadata": {},
   "source": [
    "# OB Files for 2024-10-29 to 2024-11-01 observing session\n",
    "Priorities for this session:\n",
    "* Continue to double the exposure time returned by the PEPSI ETC in hopes of getting good SNR\n",
    "* Prioritize systems that weren't resolved with DSSI measurements from APO\n",
    "* Get multiple RV measurements on a systems for which we already have LBT spectra\n"
   ]
  },
  {
   "cell_type": "code",
   "execution_count": 1,
   "metadata": {},
   "outputs": [],
   "source": [
    "from functools import partial\n",
    "from sqlite3 import connect\n",
    "import sys\n",
    "\n",
    "import astroplan as ap\n",
    "from astropy.table import Table\n",
    "from astropy.time import Time\n",
    "import astropy.units as u\n",
    "import pandas as pd\n",
    "\n",
    "sys.path.append(\"../../\")\n",
    "import astropaul.targetlistcreator as tlc\n",
    "import astropaul.lbt as lbt\n"
   ]
  },
  {
   "cell_type": "code",
   "execution_count": 23,
   "metadata": {},
   "outputs": [
    {
     "name": "stderr",
     "output_type": "stream",
     "text": [
      "c:\\Users\\User\\AppData\\Local\\Programs\\Python\\Python312\\Lib\\site-packages\\erfa\\core.py:4620: RuntimeWarning: invalid value encountered in ld\n",
      "  p1 = ufunc.ld(bm, p, q, e, em, dlim)\n",
      "c:\\Users\\User\\AppData\\Local\\Programs\\Python\\Python312\\Lib\\site-packages\\erfa\\core.py:19004: RuntimeWarning: invalid value encountered in anp\n",
      "  c_retval = ufunc.anp(a)\n",
      "c:\\Users\\User\\AppData\\Local\\Programs\\Python\\Python312\\Lib\\site-packages\\erfa\\core.py:4036: RuntimeWarning: invalid value encountered in atioq\n",
      "  aob, zob, hob, dob, rob = ufunc.atioq(ri, di, astrom)\n"
     ]
    },
    {
     "data": {
      "text/html": [
       "<div><i>Table length=12</i>\n",
       "<table id=\"table2414371477392\" class=\"table-striped table-bordered table-condensed\">\n",
       "<thead><tr><th>target_name</th><th>target_source</th><th>target_type</th><th>tess_version</th><th>tess_HIP</th><th>tess_TYC</th><th>tess_UCAC</th><th>tess_TWOMASS</th><th>tess_SDSS</th><th>tess_ALLWISE</th><th>tess_GAIA</th><th>tess_APASS</th><th>tess_KIC</th><th>tess_objType</th><th>tess_typeSrc</th><th>tess_ra</th><th>tess_dec</th><th>tess_POSflag</th><th>tess_pmRA</th><th>tess_e_pmRA</th><th>tess_pmDEC</th><th>tess_e_pmDEC</th><th>tess_PMflag</th><th>tess_plx</th><th>tess_e_plx</th><th>tess_PARflag</th><th>tess_gallong</th><th>tess_gallat</th><th>tess_eclong</th><th>tess_eclat</th><th>tess_Bmag</th><th>tess_e_Bmag</th><th>tess_Vmag</th><th>tess_e_Vmag</th><th>tess_umag</th><th>tess_e_umag</th><th>tess_gmag</th><th>tess_e_gmag</th><th>tess_rmag</th><th>tess_e_rmag</th><th>tess_imag</th><th>tess_e_imag</th><th>tess_zmag</th><th>tess_e_zmag</th><th>tess_Jmag</th><th>tess_e_Jmag</th><th>tess_Hmag</th><th>tess_e_Hmag</th><th>tess_Kmag</th><th>tess_e_Kmag</th><th>tess_TWOMflag</th><th>tess_prox</th><th>tess_w1mag</th><th>tess_e_w1mag</th><th>tess_w2mag</th><th>tess_e_w2mag</th><th>tess_w3mag</th><th>tess_e_w3mag</th><th>tess_w4mag</th><th>tess_e_w4mag</th><th>tess_GAIAmag</th><th>tess_e_GAIAmag</th><th>tess_Tmag</th><th>tess_e_Tmag</th><th>tess_TESSflag</th><th>tess_SPFlag</th><th>tess_Teff</th><th>tess_e_Teff</th><th>tess_logg</th><th>tess_e_logg</th><th>tess_MH</th><th>tess_e_MH</th><th>tess_rad</th><th>tess_e_rad</th><th>tess_mass</th><th>tess_e_mass</th><th>tess_rho</th><th>tess_e_rho</th><th>tess_lumclass</th><th>tess_lum</th><th>tess_e_lum</th><th>tess_d</th><th>tess_e_d</th><th>tess_ebv</th><th>tess_e_ebv</th><th>tess_numcont</th><th>tess_contratio</th><th>tess_disposition</th><th>tess_duplicate_id</th><th>tess_priority</th><th>tess_eneg_EBV</th><th>tess_epos_EBV</th><th>tess_EBVflag</th><th>tess_eneg_Mass</th><th>tess_epos_Mass</th><th>tess_eneg_Rad</th><th>tess_epos_Rad</th><th>tess_eneg_rho</th><th>tess_epos_rho</th><th>tess_eneg_logg</th><th>tess_epos_logg</th><th>tess_eneg_lum</th><th>tess_epos_lum</th><th>tess_eneg_dist</th><th>tess_epos_dist</th><th>tess_distflag</th><th>tess_eneg_Teff</th><th>tess_epos_Teff</th><th>tess_TeffFlag</th><th>tess_gaiabp</th><th>tess_e_gaiabp</th><th>tess_gaiarp</th><th>tess_e_gaiarp</th><th>tess_gaiaqflag</th><th>tess_starchareFlag</th><th>tess_VmagFlag</th><th>tess_BmagFlag</th><th>tess_splists</th><th>tess_e_RA</th><th>tess_e_Dec</th><th>tess_RA_orig</th><th>tess_Dec_orig</th><th>tess_e_RA_orig</th><th>tess_e_Dec_orig</th><th>tess_raddflag</th><th>tess_wdflag</th><th>tess_objID</th><th>tess_Identifier</th><th>ra</th><th>dec</th><th>pmra</th><th>pmdec</th><th>parallax</th><th>Vmag</th><th>Teff</th><th>list_Featured_targets</th><th>list_Gemini_2024B_Proposal</th><th>list_Gemini_2025A_Proposal</th><th>list_HQND</th><th>list_Kostov_2022</th><th>list_Kostov_2023</th><th>list_LBT_2023-12-06</th><th>list_LBT_2023B</th><th>list_LBT_2024B</th><th>list_Speckle_Resolved</th><th>pepsi_count</th><th>pepsi_fiber</th><th>pepsi_cd_blue</th><th>pepsi_cd_blue_num_exp</th><th>pepsi_cd_red</th><th>pepsi_cd_red_num_exp</th><th>pepsi_snr</th><th>pepsi_exp_time</th><th>pepsi_priority</th><th>pepsi_notes</th><th>observable</th></tr></thead>\n",
       "<thead><tr><th>str13</th><th>str28</th><th>str6</th><th>float64</th><th>object</th><th>object</th><th>str10</th><th>str16</th><th>object</th><th>str19</th><th>str19</th><th>str8</th><th>object</th><th>str4</th><th>str7</th><th>float64</th><th>float64</th><th>str7</th><th>float64</th><th>float64</th><th>float64</th><th>float64</th><th>object</th><th>float64</th><th>float64</th><th>object</th><th>float64</th><th>float64</th><th>float64</th><th>float64</th><th>float64</th><th>float64</th><th>float64</th><th>float64</th><th>float64</th><th>float64</th><th>float64</th><th>float64</th><th>float64</th><th>float64</th><th>float64</th><th>float64</th><th>float64</th><th>float64</th><th>float64</th><th>float64</th><th>float64</th><th>float64</th><th>float64</th><th>float64</th><th>str19</th><th>object</th><th>float64</th><th>float64</th><th>float64</th><th>float64</th><th>float64</th><th>float64</th><th>float64</th><th>float64</th><th>float64</th><th>float64</th><th>float64</th><th>float64</th><th>str5</th><th>str5</th><th>float64</th><th>float64</th><th>float64</th><th>float64</th><th>float64</th><th>float64</th><th>float64</th><th>float64</th><th>float64</th><th>float64</th><th>float64</th><th>float64</th><th>object</th><th>float64</th><th>float64</th><th>float64</th><th>float64</th><th>float64</th><th>float64</th><th>float64</th><th>float64</th><th>object</th><th>float64</th><th>float64</th><th>float64</th><th>float64</th><th>object</th><th>float64</th><th>float64</th><th>float64</th><th>float64</th><th>float64</th><th>float64</th><th>float64</th><th>float64</th><th>float64</th><th>float64</th><th>float64</th><th>float64</th><th>object</th><th>float64</th><th>float64</th><th>object</th><th>float64</th><th>float64</th><th>float64</th><th>float64</th><th>float64</th><th>object</th><th>str8</th><th>str8</th><th>object</th><th>float64</th><th>float64</th><th>float64</th><th>float64</th><th>float64</th><th>float64</th><th>float64</th><th>float64</th><th>float64</th><th>str9</th><th>float64</th><th>float64</th><th>float64</th><th>float64</th><th>float64</th><th>float64</th><th>float64</th><th>bool</th><th>bool</th><th>bool</th><th>bool</th><th>bool</th><th>bool</th><th>bool</th><th>bool</th><th>bool</th><th>bool</th><th>int64</th><th>str3</th><th>int64</th><th>int64</th><th>int64</th><th>int64</th><th>int64</th><th>float64</th><th>str6</th><th>str1</th><th>bool</th></tr></thead>\n",
       "<tr><td>TIC 161043618</td><td>Kostov 2022 arXiv:2202.05790</td><td>QuadEB</td><td>20190415.0</td><td>--</td><td>3861-01090-1</td><td>714-052661</td><td>14534203+5242569</td><td>1237659148849119256</td><td>J145342.04+524256.9</td><td>1594082407606370176</td><td>55620165</td><td>--</td><td>STAR</td><td>tmgaia2</td><td>223.425163143389</td><td>52.7158479482434</td><td>tmgaia2</td><td>2.17801</td><td>1.0398</td><td>-3.59429</td><td>1.46315</td><td>tgas</td><td>2.02761</td><td>0.603419</td><td>tgas</td><td>89.7053761311409</td><td>55.7930770142449</td><td>188.47564384935</td><td>63.5887549816856</td><td>12.397</td><td>0.298</td><td>12.497</td><td>0.033</td><td>14.6131</td><td>0.00506893</td><td>12.7875</td><td>0.00145113</td><td>12.3934</td><td>0.00145221</td><td>12.2906</td><td>0.00198318</td><td>12.8784</td><td>0.00464124</td><td>11.329</td><td>0.024</td><td>11.081</td><td>0.017</td><td>11.042</td><td>0.021</td><td>AAA-222-111-000-0-0</td><td>--</td><td>11.006</td><td>0.023</td><td>11.036</td><td>0.021</td><td>11.015</td><td>0.087</td><td>9.264</td><td>--</td><td>12.2734</td><td>0.001479</td><td>11.9099</td><td>0.0062</td><td>gbprp</td><td>splin</td><td>5860.0</td><td>--</td><td>--</td><td>--</td><td>--</td><td>--</td><td>1.16588</td><td>--</td><td>--</td><td>--</td><td>--</td><td>--</td><td>DWARF</td><td>--</td><td>--</td><td>443.336</td><td>--</td><td>--</td><td>--</td><td>39.0</td><td>0.000527256867</td><td>--</td><td>--</td><td>0.00074595405</td><td>--</td><td>--</td><td>--</td><td>--</td><td>--</td><td>--</td><td>--</td><td>--</td><td>--</td><td>--</td><td>--</td><td>--</td><td>--</td><td>--</td><td>--</td><td>tgas</td><td>--</td><td>--</td><td>dered</td><td>12.5342</td><td>0.00445</td><td>11.8457</td><td>0.003765</td><td>0.0</td><td>--</td><td>tycho2v3</td><td>tycho2b3</td><td>--</td><td>17.9879268710121</td><td>22.6794687070632</td><td>223.4251786238</td><td>52.715832472829</td><td>0.160964239580252</td><td>0.170872625180601</td><td>1.0</td><td>0.0</td><td>153100762.0</td><td>161043618</td><td>223.425163143389</td><td>52.7158479482434</td><td>2.17801</td><td>-3.59429</td><td>2.02761</td><td>12.497</td><td>5860.0</td><td>False</td><td>False</td><td>False</td><td>False</td><td>True</td><td>False</td><td>False</td><td>True</td><td>True</td><td>True</td><td>2</td><td>300</td><td>3</td><td>1</td><td>6</td><td>1</td><td>100</td><td>7.416666666666667</td><td>Normal</td><td></td><td>True</td></tr>\n",
       "<tr><td>TIC 25818450</td><td>Kostov 2022 arXiv:2202.05790</td><td>QuadEB</td><td>20190415.0</td><td>--</td><td>3999-01843-1</td><td>716-112677</td><td>23305842+5304089</td><td>1237663235515155056</td><td>J233058.42+530408.8</td><td>1992486494566143744</td><td>56034387</td><td>--</td><td>STAR</td><td>tmgaia2</td><td>352.743443672117</td><td>53.0691499118143</td><td>tmgaia2</td><td>3.5736</td><td>0.120465</td><td>-1.17213</td><td>0.105649</td><td>gaia2</td><td>1.06521</td><td>0.0863575</td><td>gaia2</td><td>110.889754521347</td><td>-7.91092321721663</td><td>22.6187185435761</td><td>49.7816144815773</td><td>12.009</td><td>0.253</td><td>11.782</td><td>0.02</td><td>14.5493</td><td>0.00692632</td><td>11.1462</td><td>0.000378802</td><td>14.4116</td><td>0.00922492</td><td>14.7755</td><td>0.0109775</td><td>13.5623</td><td>0.0168086</td><td>10.662</td><td>0.022</td><td>10.494</td><td>0.02</td><td>10.447</td><td>0.017</td><td>AAA-222-111-000-0-0</td><td>--</td><td>10.398</td><td>0.022</td><td>10.416</td><td>0.021</td><td>10.342</td><td>0.058</td><td>9.348</td><td>--</td><td>11.4491</td><td>0.000428</td><td>11.1449</td><td>0.0109</td><td>rered</td><td>gaia2</td><td>7172.0</td><td>144.436</td><td>3.66863</td><td>0.109813</td><td>--</td><td>--</td><td>3.06745</td><td>0.269639</td><td>1.6</td><td>0.278197</td><td>0.0554354</td><td>0.0183845</td><td>DWARF</td><td>22.42905</td><td>3.934295</td><td>919.322</td><td>75.1735</td><td>0.126393</td><td>0.0125419851</td><td>535.0</td><td>1.01544189</td><td>--</td><td>--</td><td>1.98518883e-05</td><td>0.00993757</td><td>0.0151464</td><td>panstarrs</td><td>0.191824</td><td>0.364569</td><td>0.204249</td><td>0.335028</td><td>0.0202478</td><td>0.0165213</td><td>0.119415</td><td>0.100212</td><td>3.12243</td><td>4.74616</td><td>69.189</td><td>81.158</td><td>bj2018</td><td>130.855</td><td>158.018</td><td>dered</td><td>11.678</td><td>0.00143</td><td>11.0882</td><td>0.000792</td><td>1.0</td><td>--</td><td>tycho2v3</td><td>tycho2b3</td><td>--</td><td>2.08800105121405</td><td>1.63865426149199</td><td>352.743469279698</td><td>53.0691448651462</td><td>0.063117347979715</td><td>0.0598888359011701</td><td>1.0</td><td>0.0</td><td>499325086.0</td><td>25818450</td><td>352.743443672117</td><td>53.0691499118143</td><td>3.5736</td><td>-1.17213</td><td>1.06521</td><td>11.782</td><td>7172.0</td><td>False</td><td>False</td><td>False</td><td>False</td><td>True</td><td>False</td><td>True</td><td>True</td><td>True</td><td>True</td><td>4</td><td>300</td><td>3</td><td>1</td><td>6</td><td>1</td><td>100</td><td>4.9366666666666665</td><td>Normal</td><td></td><td>True</td></tr>\n",
       "<tr><td>TIC 414026507</td><td>Kostov 2022 arXiv:2202.05790</td><td>QuadEB</td><td>20190415.0</td><td>--</td><td>3991-00580-1</td><td>734-084865</td><td>22272105+5644253</td><td>--</td><td>J222721.05+564425.2</td><td>2007566227834657280</td><td>57607052</td><td>--</td><td>STAR</td><td>tmgaia2</td><td>336.837716720964</td><td>56.7403620051295</td><td>tmgaia2</td><td>-3.66449</td><td>0.0808668</td><td>-2.95647</td><td>0.0795741</td><td>gaia2</td><td>0.242427</td><td>0.0515833</td><td>gaia2</td><td>104.114162318226</td><td>-0.772428297162426</td><td>14.9568340187936</td><td>58.5395977340726</td><td>11.503</td><td>0.119</td><td>10.899</td><td>0.008</td><td>--</td><td>--</td><td>--</td><td>--</td><td>--</td><td>--</td><td>--</td><td>--</td><td>--</td><td>--</td><td>10.001</td><td>0.021</td><td>9.869</td><td>0.028</td><td>9.863</td><td>0.021</td><td>AAA-222-111-000-0-0</td><td>--</td><td>9.833</td><td>0.023</td><td>9.862</td><td>0.02</td><td>9.699</td><td>0.041</td><td>8.694</td><td>0.368</td><td>10.9351</td><td>0.001002</td><td>10.61</td><td>0.0489</td><td>rered</td><td>gaia2</td><td>9187.0</td><td>132.0</td><td>--</td><td>--</td><td>--</td><td>--</td><td>15.9132</td><td>--</td><td>--</td><td>--</td><td>--</td><td>--</td><td>GIANT</td><td>--</td><td>--</td><td>3556.64</td><td>685.265</td><td>0.484984</td><td>0.0594209</td><td>--</td><td>--</td><td>--</td><td>--</td><td>--</td><td>0.0434563</td><td>0.0753855</td><td>panstarrs</td><td>--</td><td>--</td><td>--</td><td>--</td><td>--</td><td>--</td><td>--</td><td>--</td><td>--</td><td>--</td><td>568.26</td><td>802.27</td><td>bj2018</td><td>--</td><td>--</td><td>dered</td><td>11.2038</td><td>0.004451</td><td>10.5088</td><td>0.003471</td><td>1.0</td><td>--</td><td>tycho2v3</td><td>tycho2b3</td><td>--</td><td>1.42520776978154</td><td>1.23407955953728</td><td>336.837687952383</td><td>56.7403492758873</td><td>0.0440521375909311</td><td>0.0409923910698001</td><td>0.0</td><td>0.0</td><td>479118576.0</td><td>414026507</td><td>336.837716720964</td><td>56.7403620051295</td><td>-3.66449</td><td>-2.95647</td><td>0.242427</td><td>10.899</td><td>9187.0</td><td>False</td><td>True</td><td>False</td><td>True</td><td>True</td><td>False</td><td>True</td><td>True</td><td>True</td><td>False</td><td>2</td><td>300</td><td>3</td><td>1</td><td>6</td><td>1</td><td>100</td><td>3.3666666666666667</td><td>High</td><td></td><td>True</td></tr>\n",
       "<tr><td>TIC 470710327</td><td>Kostov 2022 arXiv:2202.05790</td><td>QuadEB</td><td>20190415.0</td><td>--</td><td>4285-03758-1</td><td>760-076196</td><td>23491896+6157459</td><td>1237649768645197969</td><td>J234918.96+615746.0</td><td>2012876727243918336</td><td>58441383</td><td>--</td><td>STAR</td><td>tmgaia2</td><td>357.329052373724</td><td>61.9627867228284</td><td>tmgaia2</td><td>0.6</td><td>2.7</td><td>-2.5</td><td>2.6</td><td>tycho2</td><td>--</td><td>--</td><td>--</td><td>115.701816089536</td><td>-0.0337838659643733</td><td>35.1819273088224</td><td>54.9370725636426</td><td>9.985</td><td>0.047</td><td>9.65</td><td>0.003</td><td>12.0138</td><td>0.00233042</td><td>11.417</td><td>0.00166011</td><td>10.3576</td><td>0.000828485</td><td>12.1587</td><td>0.00498589</td><td>11.3588</td><td>0.00287689</td><td>8.728</td><td>0.024</td><td>8.646</td><td>0.028</td><td>8.631</td><td>0.022</td><td>AAA-122-111-000-0-0</td><td>--</td><td>8.598</td><td>0.022</td><td>8.627</td><td>0.02</td><td>8.651</td><td>0.028</td><td>8.084</td><td>0.142</td><td>9.52218</td><td>0.003542</td><td>9.23</td><td>0.007</td><td>gbprp</td><td>splin</td><td>8986.0</td><td>--</td><td>--</td><td>--</td><td>--</td><td>--</td><td>2.28228</td><td>--</td><td>--</td><td>--</td><td>--</td><td>--</td><td>DWARF</td><td>--</td><td>--</td><td>302.432</td><td>--</td><td>--</td><td>--</td><td>1063.0</td><td>0.138698876</td><td>--</td><td>--</td><td>0.000122259</td><td>--</td><td>--</td><td>--</td><td>--</td><td>--</td><td>--</td><td>--</td><td>--</td><td>--</td><td>--</td><td>--</td><td>--</td><td>--</td><td>--</td><td>--</td><td>--</td><td>--</td><td>--</td><td>dered</td><td>9.69011</td><td>0.005195</td><td>9.13638</td><td>0.004999</td><td>0.0</td><td>--</td><td>tycho2v3</td><td>tycho2b3</td><td>--</td><td>48.8272484470814</td><td>40.3113172943252</td><td>357.329057869652</td><td>61.9627759589395</td><td>0.918323371110309</td><td>0.955145017138293</td><td>1.0</td><td>-1.0</td><td>504711068.0</td><td>470710327</td><td>357.329052373724</td><td>61.9627867228284</td><td>0.6</td><td>-2.5</td><td>--</td><td>9.65</td><td>8986.0</td><td>True</td><td>False</td><td>False</td><td>False</td><td>True</td><td>False</td><td>True</td><td>True</td><td>True</td><td>True</td><td>8</td><td>300</td><td>3</td><td>1</td><td>6</td><td>1</td><td>100</td><td>1.0666666666666667</td><td>Normal</td><td></td><td>True</td></tr>\n",
       "<tr><td>TIC 89278612</td><td>Kostov 2022 arXiv:2202.05790</td><td>QuadEB</td><td>20190415.0</td><td>--</td><td>2674-00773-1</td><td>614-093868</td><td>20045268+3238349</td><td>--</td><td>J200452.68+323834.9</td><td>2055125259707080832</td><td>48706136</td><td>--</td><td>STAR</td><td>tmgaia2</td><td>301.21949809707</td><td>32.6430514778645</td><td>tmgaia2</td><td>-0.48521</td><td>0.241593</td><td>-1.50692</td><td>0.311386</td><td>gaia2</td><td>0.663315</td><td>0.145322</td><td>gaia2</td><td>69.8759584467023</td><td>0.567488286405912</td><td>314.371864960169</td><td>51.3830469334891</td><td>11.542</td><td>0.143</td><td>11.235</td><td>0.01</td><td>--</td><td>--</td><td>--</td><td>--</td><td>--</td><td>--</td><td>--</td><td>--</td><td>--</td><td>--</td><td>10.422</td><td>0.021</td><td>10.355</td><td>0.022</td><td>10.309</td><td>0.018</td><td>AAA-222-111-000-0-0</td><td>--</td><td>10.188</td><td>0.022</td><td>10.231</td><td>0.021</td><td>9.87</td><td>0.155</td><td>8.454</td><td>0.313</td><td>11.1144</td><td>0.000723</td><td>10.8756</td><td>0.2736</td><td>rered</td><td>gaia2</td><td>8740.0</td><td>125.0</td><td>--</td><td>--</td><td>--</td><td>--</td><td>5.31098</td><td>--</td><td>--</td><td>--</td><td>--</td><td>--</td><td>GIANT</td><td>--</td><td>--</td><td>1515.3</td><td>423.69</td><td>0.302806</td><td>0.3402226</td><td>--</td><td>--</td><td>--</td><td>--</td><td>--</td><td>0.0283952</td><td>0.65205</td><td>panstarrs</td><td>--</td><td>--</td><td>--</td><td>--</td><td>--</td><td>--</td><td>--</td><td>--</td><td>--</td><td>--</td><td>316.44</td><td>530.94</td><td>bj2018</td><td>--</td><td>--</td><td>dered</td><td>11.3097</td><td>0.003046</td><td>10.7986</td><td>0.0017</td><td>1.0</td><td>--</td><td>tycho2v3</td><td>tycho2b3</td><td>--</td><td>3.90333508718087</td><td>4.82866681204384</td><td>301.219495616095</td><td>32.6430449897367</td><td>0.104285582519727</td><td>0.145206860873289</td><td>0.0</td><td>0.0</td><td>376844534.0</td><td>89278612</td><td>301.21949809707</td><td>32.6430514778645</td><td>-0.48521</td><td>-1.50692</td><td>0.663315</td><td>11.235</td><td>8740.0</td><td>True</td><td>False</td><td>False</td><td>False</td><td>True</td><td>False</td><td>True</td><td>True</td><td>True</td><td>True</td><td>6</td><td>300</td><td>3</td><td>1</td><td>6</td><td>1</td><td>100</td><td>4.586666666666667</td><td>Normal</td><td></td><td>True</td></tr>\n",
       "<tr><td>TIC 278352276</td><td>Kostov 2022 arXiv:2202.05790</td><td>QuadEB</td><td>20190415.0</td><td>--</td><td>--</td><td>694-079053</td><td>20300086+4836254</td><td>--</td><td>J203000.84+483625.4</td><td>2083748704155705856</td><td>54516882</td><td>--</td><td>STAR</td><td>tmgaia2</td><td>307.503640407431</td><td>48.6070563353721</td><td>tmgaia2</td><td>1.85387</td><td>0.0656087</td><td>6.57664</td><td>0.0620416</td><td>gaia2</td><td>1.36265</td><td>0.0409929</td><td>gaia2</td><td>85.7878360600453</td><td>5.54868030759334</td><td>335.570256835065</td><td>63.7592502074011</td><td>10.936</td><td>0.073</td><td>10.387</td><td>0.012</td><td>--</td><td>--</td><td>--</td><td>--</td><td>--</td><td>--</td><td>--</td><td>--</td><td>--</td><td>--</td><td>9.529</td><td>0.022</td><td>9.366</td><td>0.027</td><td>9.333</td><td>0.021</td><td>AAA-222-111-000-0-0</td><td>--</td><td>9.22</td><td>0.023</td><td>9.248</td><td>0.021</td><td>9.244</td><td>0.032</td><td>8.519</td><td>--</td><td>10.3192</td><td>0.001018</td><td>9.996</td><td>0.0191</td><td>rered</td><td>gaia2</td><td>7156.0</td><td>179.173</td><td>3.39814</td><td>0.0861353</td><td>--</td><td>--</td><td>4.18815</td><td>0.208882</td><td>1.6</td><td>0.259695</td><td>0.0217797</td><td>0.00504168</td><td>DWARF</td><td>41.44016</td><td>4.132375</td><td>719.555</td><td>21.412</td><td>0.15163</td><td>0.0251168</td><td>1167.0</td><td>0.09899649</td><td>--</td><td>--</td><td>3.78133736e-05</td><td>0.028926</td><td>0.0213076</td><td>panstarrs</td><td>0.199105</td><td>0.320285</td><td>0.212116</td><td>0.205648</td><td>0.00421911</td><td>0.00586426</td><td>0.084741</td><td>0.0875296</td><td>4.46036</td><td>3.80439</td><td>20.786</td><td>22.038</td><td>bj2018</td><td>157.868</td><td>200.478</td><td>dered</td><td>10.5765</td><td>0.00321</td><td>9.94957</td><td>0.003147</td><td>1.0</td><td>--</td><td>ucac4</td><td>apassdr9</td><td>--</td><td>1.11628574722179</td><td>0.962226700151493</td><td>307.503652478975</td><td>48.6070846514619</td><td>0.0321946413644729</td><td>0.0334589467465963</td><td>1.0</td><td>0.0</td><td>407099254.0</td><td>278352276</td><td>307.503640407431</td><td>48.6070563353721</td><td>1.85387</td><td>6.57664</td><td>1.36265</td><td>10.387</td><td>7156.0</td><td>False</td><td>True</td><td>True</td><td>True</td><td>True</td><td>False</td><td>True</td><td>True</td><td>True</td><td>False</td><td>4</td><td>300</td><td>3</td><td>1</td><td>6</td><td>1</td><td>100</td><td>1.3666666666666667</td><td>High</td><td></td><td>True</td></tr>\n",
       "<tr><td>TIC 123098844</td><td>Kostov 2022 arXiv:2202.05790</td><td>QuadEB</td><td>20190415.0</td><td>--</td><td>3117-01404-1</td><td>674-065744</td><td>18381747+4441549</td><td>--</td><td>J183817.48+444154.8</td><td>2117607962866960256</td><td>52381134</td><td>8536401</td><td>STAR</td><td>tmgaia2</td><td>279.57284311725</td><td>44.6986003104844</td><td>tmgaia2</td><td>3.4825</td><td>0.0438563</td><td>-9.10427</td><td>0.046578</td><td>gaia2</td><td>1.30925</td><td>0.0235259</td><td>gaia2</td><td>73.4934443561563</td><td>20.9159111037412</td><td>288.024089401181</td><td>67.5398379041908</td><td>11.62</td><td>0.137</td><td>11.136</td><td>0.009</td><td>--</td><td>--</td><td>--</td><td>--</td><td>--</td><td>--</td><td>--</td><td>--</td><td>--</td><td>--</td><td>10.317</td><td>0.023</td><td>10.103</td><td>0.02</td><td>10.063</td><td>0.011</td><td>AAA-222-111-000-0-0</td><td>--</td><td>10.048</td><td>0.023</td><td>10.063</td><td>0.02</td><td>9.96</td><td>0.04</td><td>9.194</td><td>--</td><td>11.1064</td><td>0.000854</td><td>10.7917</td><td>0.0072</td><td>rered</td><td>gaia2</td><td>6761.0</td><td>126.882</td><td>3.64855</td><td>0.092063</td><td>--</td><td>--</td><td>2.98843</td><td>0.141414</td><td>1.45</td><td>0.246043</td><td>0.0543301</td><td>0.0129991</td><td>DWARF</td><td>16.8121529</td><td>0.9639345</td><td>747.494</td><td>13.248</td><td>0.0530955</td><td>0.005584685</td><td>170.0</td><td>0.016561009</td><td>--</td><td>--</td><td>0.00042254373</td><td>0.00666812</td><td>0.00450125</td><td>panstarrs</td><td>0.175767</td><td>0.316319</td><td>0.112384</td><td>0.170445</td><td>0.0111681</td><td>0.01483</td><td>0.0858799</td><td>0.0982461</td><td>1.14366</td><td>0.784209</td><td>13.017</td><td>13.479</td><td>bj2018</td><td>151.387</td><td>102.378</td><td>dered</td><td>11.3406</td><td>0.001983</td><td>10.7403</td><td>0.001153</td><td>1.0</td><td>--</td><td>tycho2v3</td><td>tycho2b3</td><td>--</td><td>0.735225295794406</td><td>0.722346894086639</td><td>279.572864211434</td><td>44.6985611115457</td><td>0.018900213859872</td><td>0.0236693412585622</td><td>1.0</td><td>0.0</td><td>207684988.0</td><td>123098844</td><td>279.57284311725</td><td>44.6986003104844</td><td>3.4825</td><td>-9.10427</td><td>1.30925</td><td>11.136</td><td>6761.0</td><td>False</td><td>True</td><td>False</td><td>True</td><td>True</td><td>False</td><td>True</td><td>True</td><td>True</td><td>False</td><td>4</td><td>300</td><td>3</td><td>1</td><td>6</td><td>1</td><td>100</td><td>2.5833333333333335</td><td>High</td><td></td><td>True</td></tr>\n",
       "<tr><td>TIC 322727163</td><td>Kostov 2022 arXiv:2202.05790</td><td>QuadEB</td><td>20190415.0</td><td>--</td><td>3582-01045-1</td><td>703-079641</td><td>20385198+5028004</td><td>--</td><td>J203851.99+502800.4</td><td>2180387912158160512</td><td>55785096</td><td>--</td><td>STAR</td><td>tmgaia2</td><td>309.716625434398</td><td>50.466820684196</td><td>tmgaia2</td><td>2.8</td><td>1.9</td><td>-7.5</td><td>1.8</td><td>tycho2</td><td>--</td><td>--</td><td>--</td><td>88.1476631798837</td><td>5.49472646944018</td><td>340.700355918498</td><td>64.4720050279992</td><td>11.574</td><td>0.14</td><td>10.997</td><td>0.01</td><td>--</td><td>--</td><td>--</td><td>--</td><td>--</td><td>--</td><td>--</td><td>--</td><td>--</td><td>--</td><td>10.098</td><td>0.023</td><td>9.95</td><td>0.028</td><td>9.9</td><td>0.02</td><td>AAA-222-111-000-0-0</td><td>--</td><td>9.796</td><td>0.023</td><td>9.822</td><td>0.02</td><td>9.77</td><td>0.041</td><td>8.587</td><td>--</td><td>10.9939</td><td>0.004161</td><td>10.6482</td><td>0.0073</td><td>gbprp</td><td>spec7</td><td>7876.56</td><td>--</td><td>--</td><td>--</td><td>-0.089</td><td>0.013</td><td>2.66409</td><td>--</td><td>--</td><td>--</td><td>--</td><td>--</td><td>DWARF</td><td>--</td><td>--</td><td>450.018</td><td>--</td><td>--</td><td>--</td><td>828.0</td><td>0.144171074</td><td>--</td><td>--</td><td>5.014356e-05</td><td>--</td><td>--</td><td>--</td><td>--</td><td>--</td><td>--</td><td>--</td><td>--</td><td>--</td><td>--</td><td>--</td><td>--</td><td>--</td><td>--</td><td>--</td><td>--</td><td>--</td><td>--</td><td>spect</td><td>11.24</td><td>0.012627</td><td>10.5855</td><td>0.011601</td><td>0.0</td><td>--</td><td>tycho2v3</td><td>tycho2b3</td><td>--</td><td>32.5621717833165</td><td>27.9071298974503</td><td>309.716644374041</td><td>50.4667883925306</td><td>0.55256532287603</td><td>0.630792448563457</td><td>1.0</td><td>0.0</td><td>414049764.0</td><td>322727163</td><td>309.716625434398</td><td>50.466820684196</td><td>2.8</td><td>-7.5</td><td>--</td><td>10.997</td><td>7876.56</td><td>False</td><td>False</td><td>False</td><td>False</td><td>True</td><td>False</td><td>True</td><td>True</td><td>True</td><td>True</td><td>8</td><td>300</td><td>3</td><td>1</td><td>6</td><td>1</td><td>100</td><td>3.36</td><td>Normal</td><td></td><td>True</td></tr>\n",
       "<tr><td>TIC 375325607</td><td>Kostov 2022 arXiv:2202.05790</td><td>QuadEB</td><td>20190415.0</td><td>--</td><td>--</td><td>728-072566</td><td>21031037+5528095</td><td>1237671940354212153</td><td>J210310.36+552809.6</td><td>2188911081472114304</td><td>56967986</td><td>--</td><td>STAR</td><td>tmgaia2</td><td>315.793095381608</td><td>55.4693137447543</td><td>tmgaia2</td><td>--</td><td>--</td><td>--</td><td>--</td><td>--</td><td>--</td><td>--</td><td>--</td><td>94.3627437087516</td><td>5.81844540262011</td><td>355.08759821301</td><td>65.9314374397067</td><td>13.525</td><td>0.031</td><td>12.682</td><td>0.08</td><td>15.2324</td><td>0.00564963</td><td>13.5483</td><td>0.00223656</td><td>12.6588</td><td>0.00144361</td><td>15.2028</td><td>0.0114035</td><td>13.0257</td><td>0.00564829</td><td>11.055</td><td>0.027</td><td>10.816</td><td>0.031</td><td>10.744</td><td>0.021</td><td>AAA-222-111-000-0-0</td><td>--</td><td>10.627</td><td>0.022</td><td>10.647</td><td>0.02</td><td>10.978</td><td>0.101</td><td>9.476</td><td>--</td><td>12.5884</td><td>0.006179</td><td>12.0004</td><td>0.0086</td><td>gbprp</td><td>splin</td><td>--</td><td>--</td><td>--</td><td>--</td><td>--</td><td>--</td><td>--</td><td>--</td><td>--</td><td>--</td><td>--</td><td>--</td><td>--</td><td>--</td><td>--</td><td>732.164</td><td>--</td><td>--</td><td>--</td><td>--</td><td>--</td><td>--</td><td>--</td><td>--</td><td>--</td><td>--</td><td>--</td><td>--</td><td>--</td><td>--</td><td>--</td><td>--</td><td>--</td><td>--</td><td>--</td><td>--</td><td>--</td><td>--</td><td>--</td><td>--</td><td>--</td><td>--</td><td>--</td><td>12.9966</td><td>0.006688</td><td>11.8435</td><td>0.006576</td><td>0.0</td><td>--</td><td>ucac4</td><td>apassdr9</td><td>--</td><td>2.19225356905827</td><td>2.70539858668097</td><td>315.793095381608</td><td>55.4693137447543</td><td>2.19225356905827</td><td>2.70539858668097</td><td>-1.0</td><td>-1.0</td><td>433775495.0</td><td>375325607</td><td>315.793095381608</td><td>55.4693137447543</td><td>--</td><td>--</td><td>--</td><td>12.682</td><td>--</td><td>False</td><td>False</td><td>False</td><td>False</td><td>True</td><td>False</td><td>True</td><td>True</td><td>True</td><td>True</td><td>8</td><td>300</td><td>3</td><td>1</td><td>6</td><td>1</td><td>100</td><td>8.793333333333333</td><td>Normal</td><td></td><td>True</td></tr>\n",
       "<tr><td>TIC 427092089</td><td>Kostov 2022 arXiv:2202.05790</td><td>QuadEB</td><td>20190415.0</td><td>--</td><td>--</td><td>772-050840</td><td>21242685+6422503</td><td>--</td><td>J212426.87+642250.3</td><td>2220339079463012480</td><td>58910411</td><td>--</td><td>STAR</td><td>tmgaia2</td><td>321.112008802747</td><td>64.3806832987609</td><td>tmgaia2</td><td>-2.81497</td><td>0.0611916</td><td>-2.82837</td><td>0.0559684</td><td>gaia2</td><td>0.728287</td><td>0.0299404</td><td>gaia2</td><td>102.765801516848</td><td>9.95649921458093</td><td>18.0400918842754</td><td>69.2701509903451</td><td>12.655</td><td>0.117</td><td>12.367</td><td>0.069</td><td>--</td><td>--</td><td>--</td><td>--</td><td>--</td><td>--</td><td>--</td><td>--</td><td>--</td><td>--</td><td>11.338</td><td>0.021</td><td>11.151</td><td>0.028</td><td>11.077</td><td>0.021</td><td>AAA-222-111-000-0-0</td><td>--</td><td>10.995</td><td>0.023</td><td>11.007</td><td>0.02</td><td>10.604</td><td>0.06</td><td>8.902</td><td>--</td><td>12.2682</td><td>0.000539</td><td>11.9828</td><td>0.0151</td><td>rered</td><td>gaia2</td><td>8760.0</td><td>207.061</td><td>3.83305</td><td>0.0783458</td><td>--</td><td>--</td><td>2.97659</td><td>0.149789</td><td>2.2</td><td>0.315782</td><td>0.0834187</td><td>0.017732</td><td>DWARF</td><td>47.0056953</td><td>5.495085</td><td>1322.52</td><td>52.84</td><td>0.375943</td><td>0.0167345</td><td>430.0</td><td>0.09749741</td><td>--</td><td>--</td><td>1.97495738e-05</td><td>0.0212401</td><td>0.0122289</td><td>panstarrs</td><td>0.272033</td><td>0.35953</td><td>0.12896</td><td>0.170618</td><td>0.018837</td><td>0.016627</td><td>0.0885833</td><td>0.0681083</td><td>5.58229</td><td>5.40788</td><td>50.77</td><td>54.91</td><td>bj2018</td><td>254.927</td><td>159.195</td><td>dered</td><td>12.4739</td><td>0.001536</td><td>11.8697</td><td>0.001088</td><td>1.0</td><td>--</td><td>ucac4</td><td>apassdr9</td><td>--</td><td>1.12111187023776</td><td>0.868026986352683</td><td>321.111980772459</td><td>64.3806711210593</td><td>0.0285694788622456</td><td>0.0299483210294081</td><td>1.0</td><td>0.0</td><td>447973874.0</td><td>427092089</td><td>321.112008802747</td><td>64.3806832987609</td><td>-2.81497</td><td>-2.82837</td><td>0.728287</td><td>12.367</td><td>8760.0</td><td>False</td><td>False</td><td>False</td><td>False</td><td>True</td><td>False</td><td>True</td><td>True</td><td>True</td><td>True</td><td>4</td><td>300</td><td>3</td><td>1</td><td>6</td><td>1</td><td>100</td><td>13.01</td><td>Normal</td><td></td><td>True</td></tr>\n",
       "<tr><td>TIC 283940788</td><td>Kostov 2022 arXiv:2202.05790</td><td>QuadEB</td><td>20190415.0</td><td>--</td><td>--</td><td>765-007583</td><td>00352434+6254057</td><td>--</td><td>J003524.33+625405.7</td><td>430724884089973376</td><td>58464080</td><td>--</td><td>STAR</td><td>tmgaia2</td><td>8.85143612777593</td><td>62.9015955605648</td><td>tmgaia2</td><td>-2.72664</td><td>0.0640661</td><td>-0.153866</td><td>0.0602593</td><td>gaia2</td><td>0.076539</td><td>0.0461036</td><td>gaia2</td><td>121.107359835071</td><td>0.0866582291156517</td><td>42.9112893759298</td><td>52.0814217832519</td><td>12.122</td><td>0.008</td><td>11.774</td><td>0.034</td><td>--</td><td>--</td><td>--</td><td>--</td><td>--</td><td>--</td><td>--</td><td>--</td><td>--</td><td>--</td><td>11.065</td><td>0.026</td><td>11.004</td><td>0.031</td><td>10.944</td><td>0.018</td><td>AAA-222-111-000-0-0</td><td>--</td><td>10.935</td><td>0.022</td><td>10.972</td><td>0.021</td><td>10.504</td><td>0.081</td><td>9.134</td><td>0.495</td><td>11.7266</td><td>0.000985</td><td>11.4744</td><td>0.0169</td><td>rered</td><td>gaia2</td><td>7384.0</td><td>123.0</td><td>--</td><td>--</td><td>--</td><td>--</td><td>17.1841</td><td>--</td><td>--</td><td>--</td><td>--</td><td>--</td><td>GIANT</td><td>--</td><td>--</td><td>6457.08</td><td>1561.06</td><td>0.0914342</td><td>0.02118415</td><td>--</td><td>--</td><td>--</td><td>--</td><td>--</td><td>0.0176842</td><td>0.0246841</td><td>schlegel</td><td>--</td><td>--</td><td>--</td><td>--</td><td>--</td><td>--</td><td>--</td><td>--</td><td>--</td><td>--</td><td>1288.84</td><td>1833.28</td><td>bj2018</td><td>--</td><td>--</td><td>dered</td><td>11.8903</td><td>0.003193</td><td>11.3975</td><td>0.002126</td><td>1.0</td><td>--</td><td>ucac4</td><td>apassdr9</td><td>--</td><td>1.16451390728425</td><td>0.934637339575243</td><td>8.85141035569867</td><td>62.9015948980886</td><td>0.0334071368364229</td><td>0.0339879973162059</td><td>0.0</td><td>0.0</td><td>7940645.0</td><td>283940788</td><td>8.85143612777593</td><td>62.9015955605648</td><td>-2.72664</td><td>-0.153866</td><td>0.076539</td><td>11.774</td><td>7384.0</td><td>False</td><td>False</td><td>False</td><td>False</td><td>True</td><td>False</td><td>True</td><td>True</td><td>True</td><td>True</td><td>6</td><td>300</td><td>3</td><td>1</td><td>6</td><td>1</td><td>100</td><td>5.363333333333333</td><td>Normal</td><td></td><td>True</td></tr>\n",
       "<tr><td>TIC 52856877</td><td>Kostov 2022 arXiv:2202.05790</td><td>QuadEB</td><td>20190415.0</td><td>--</td><td>4030-00578-1</td><td>756-012061</td><td>01092022+6102285</td><td>--</td><td>J010920.22+610228.5</td><td>522450134113950336</td><td>58262383</td><td>--</td><td>STAR</td><td>tmgaia2</td><td>17.3342875541794</td><td>61.0412445618326</td><td>tmgaia2</td><td>3.21705</td><td>0.0654399</td><td>-1.71955</td><td>0.0682401</td><td>gaia2</td><td>1.07133</td><td>0.049341</td><td>gaia2</td><td>125.097868044656</td><td>-1.75520573032274</td><td>46.1066536184388</td><td>48.1921575006434</td><td>11.357</td><td>0.099</td><td>10.969</td><td>0.007</td><td>--</td><td>--</td><td>--</td><td>--</td><td>--</td><td>--</td><td>--</td><td>--</td><td>--</td><td>--</td><td>10.123</td><td>0.021</td><td>9.99</td><td>0.015</td><td>9.965</td><td>0.015</td><td>AAA-222-111-000-0-0</td><td>--</td><td>9.924</td><td>0.023</td><td>9.942</td><td>0.021</td><td>10.173</td><td>0.068</td><td>8.865</td><td>--</td><td>10.8506</td><td>0.000527</td><td>10.6244</td><td>0.0123</td><td>rered</td><td>gaia2</td><td>8886.0</td><td>185.724</td><td>3.69562</td><td>0.0788246</td><td>--</td><td>--</td><td>3.51844</td><td>0.184864</td><td>2.24</td><td>0.317672</td><td>0.0514277</td><td>0.0108765</td><td>DWARF</td><td>69.53773</td><td>8.37767</td><td>910.89</td><td>41.337</td><td>0.301405</td><td>0.01310185</td><td>863.0</td><td>0.12463022</td><td>--</td><td>--</td><td>2.57569482e-05</td><td>0.0120484</td><td>0.0141553</td><td>panstarrs</td><td>0.231936</td><td>0.403408</td><td>0.173971</td><td>0.195757</td><td>0.0101028</td><td>0.0116502</td><td>0.085129</td><td>0.0725202</td><td>7.06866</td><td>9.68668</td><td>39.499</td><td>43.175</td><td>bj2018</td><td>219.476</td><td>151.972</td><td>dered</td><td>11.0381</td><td>0.001138</td><td>10.5478</td><td>0.000913</td><td>1.0</td><td>--</td><td>tycho2v3</td><td>tycho2b3</td><td>--</td><td>1.17801546714509</td><td>1.05833809066831</td><td>17.3343161617025</td><td>61.0412371582175</td><td>0.0361806281656907</td><td>0.0361197567135656</td><td>1.0</td><td>0.0</td><td>16214585.0</td><td>52856877</td><td>17.3342875541794</td><td>61.0412445618326</td><td>3.21705</td><td>-1.71955</td><td>1.07133</td><td>10.969</td><td>8886.0</td><td>False</td><td>True</td><td>False</td><td>True</td><td>True</td><td>False</td><td>True</td><td>True</td><td>True</td><td>False</td><td>2</td><td>300</td><td>3</td><td>1</td><td>6</td><td>1</td><td>100</td><td>3.5900000000000003</td><td>High</td><td></td><td>True</td></tr>\n",
       "</table></div>"
      ],
      "text/plain": [
       "<Table length=12>\n",
       " target_name         target_source         ... pepsi_notes observable\n",
       "    str13                str28             ...     str1       bool   \n",
       "------------- ---------------------------- ... ----------- ----------\n",
       "TIC 161043618 Kostov 2022 arXiv:2202.05790 ...                   True\n",
       " TIC 25818450 Kostov 2022 arXiv:2202.05790 ...                   True\n",
       "TIC 414026507 Kostov 2022 arXiv:2202.05790 ...                   True\n",
       "TIC 470710327 Kostov 2022 arXiv:2202.05790 ...                   True\n",
       " TIC 89278612 Kostov 2022 arXiv:2202.05790 ...                   True\n",
       "TIC 278352276 Kostov 2022 arXiv:2202.05790 ...                   True\n",
       "TIC 123098844 Kostov 2022 arXiv:2202.05790 ...                   True\n",
       "TIC 322727163 Kostov 2022 arXiv:2202.05790 ...                   True\n",
       "TIC 375325607 Kostov 2022 arXiv:2202.05790 ...                   True\n",
       "TIC 427092089 Kostov 2022 arXiv:2202.05790 ...                   True\n",
       "TIC 283940788 Kostov 2022 arXiv:2202.05790 ...                   True\n",
       " TIC 52856877 Kostov 2022 arXiv:2202.05790 ...                   True"
      ]
     },
     "execution_count": 23,
     "metadata": {},
     "output_type": "execute_result"
    }
   ],
   "source": [
    "# start by making list of targets from 2024B proposal that are observable and have prior spectra\n",
    "conn = connect(\"../../django/TargetDB/db.sqlite3\")\n",
    "\n",
    "observer = ap.Observer.at_site(\"LBT\")\n",
    "session = (Time(\"2024-10-29\"), Time(\"2024-11-02\"))\n",
    "\n",
    "creator = tlc.TargetListCreator(connection=conn)\n",
    "creator.steps = [\n",
    "    tlc.add_targets,\n",
    "    tlc.add_tess,\n",
    "    tlc.add_coords,\n",
    "    partial(tlc.hide_cols, prefix=\"tess\"),\n",
    "    tlc.add_lists,\n",
    "    tlc.add_spectra,\n",
    "    partial(lbt.add_pepsi_params, fiber=\"300\", cd_blue=3, cd_red=6, snr=100, binocular=True),\n",
    "    partial(tlc.add_observability, observer=observer, time_segment=session),\n",
    "]\n",
    "targets = creator.calculate()\n",
    "# targets = Table.from_pandas(creator.calculate())\n",
    "\n",
    "criteria = (\n",
    "    (targets[\"list_LBT_2024B\"])\n",
    "    & (targets[\"pepsi_count\"] > 0)\n",
    "    & (targets[\"observable\"])\n",
    ")\n",
    "lbt_targets = targets.loc[criteria]\n",
    "\n",
    "# double the exposure time and convert from seconds to minutes\n",
    "lbt_targets.loc[:, \"pepsi_exp_time\"] *= 2\n",
    "lbt_targets.loc[:, \"pepsi_exp_time\"] /= 60\n",
    "\n",
    "# prioritize targets unresolved by APO speckle\n",
    "lbt_targets.loc[:, \"pepsi_priority\"] = \"Normal\"\n",
    "lbt_targets.loc[lbt_targets[\"list_HQND\"], \"pepsi_priority\"] = \"High\"\n",
    "\n",
    "Table.from_pandas(lbt_targets)\n"
   ]
  },
  {
   "cell_type": "code",
   "execution_count": 25,
   "metadata": {},
   "outputs": [
    {
     "name": "stdout",
     "output_type": "stream",
     "text": [
      "Project ID: UV-2024B-007\n",
      "     Title: Characterizing Quadruple and Sextuple Eclipsing Binaries with PEPSI\n",
      "\n",
      "Instrument: PEPSI PFU\n",
      "\n",
      "PI: Steven Majewski\n",
      "\n",
      "Run Contact:\n",
      "   Name: Steven Majewski (UVA) / Robert Wilson (NASA)\n",
      "   Phone: srm4n@virginia.edu   / 210.487.0187\n",
      "   Contact Times: all / all\n",
      "\n",
      "Conditions Required:\n",
      "   Moon: Any\n",
      "   Desired Seeing: Any\n",
      "   Cloud Cover: Any\n",
      "\n",
      "Program Summary:\n",
      "\n",
      "Targets are TESS identified eclipsing quadruple systems (2 sets of Eclipsing Binaries, each showing both a Primary and Secondary Eclipse).\n",
      "\n",
      "There are three objectives for this run:\n",
      "1) Better understand the relation between exposure times from the PEPSI exposure time calculator vs the quality of spectra obtained.\n",
      "2) Accumulate spectra towards the goal of using radial velocity measurements to characterize the orbital dynamics of the systems.\n",
      "\n",
      " Target Name        RA         DEC       Vmag  Teff Fiber BLUE Cross Disperser BLUE CD NExp BLUE CD Exp Time RED Cross Disperser RED CD NExp RED CD Exp Time Desired BLUE SNR Desired RED SNR Priority Notes\n",
      "-------------- ----------- ------------ ------ ---- ----- -------------------- ------------ ---------------- ------------------- ----------- --------------- ---------------- --------------- -------- -----\n",
      "TIC 283940788   0:35:24.34 +62:54:05.74 11.774 7384   300                    3            1             5.36                   6           1            5.36              100             100   Normal\n",
      "TIC 52856877    1:09:20.23 +61:02:28.48 10.969 8886   300                    3            1             3.59                   6           1            3.59              100             100     High\n",
      "TIC 161043618  14:53:42.04 +52:42:57.05 12.497 5860   300                    3            1             7.42                   6           1            7.42              100             100   Normal\n",
      "TIC 123098844  18:38:17.48 +44:41:54.96 11.136 6761   300                    3            1             2.58                   6           1            2.58              100             100     High\n",
      "TIC 89278612   20:04:52.68 +32:38:34.99 11.235 8740   300                    3            1             4.59                   6           1            4.59              100             100   Normal\n",
      "TIC 278352276  20:30:00.87 +48:36:25.40 10.387 7156   300                    3            1             1.37                   6           1            1.37              100             100     High\n",
      "TIC 322727163  20:38:51.99 +50:28:00.55 10.997 7877   300                    3            1             3.36                   6           1            3.36              100             100   Normal\n",
      "TIC 375325607  21:03:10.34 +55:28:09.53 12.682   --   300                    3            1             8.79                   6           1            8.79              100             100   Normal\n",
      "TIC 427092089  21:24:26.88 +64:22:50.46 12.367 8760   300                    3            1            13.01                   6           1           13.01              100             100   Normal\n",
      "TIC 414026507  22:27:21.05 +56:44:25.30 10.899 9187   300                    3            1             3.37                   6           1            3.37              100             100     High\n",
      "TIC 25818450   23:30:58.43 +53:04:08.94 11.782 7172   300                    3            1             4.94                   6           1            4.94              100             100   Normal\n",
      "TIC 470710327  23:49:18.97 +61:57:46.03   9.65 8986   300                    3            1             1.07                   6           1            1.07              100             100   Normal\n",
      "\n",
      "(Exposure times are in minutes)\n",
      "\n",
      "Calibrations:\n",
      "Standard PEPSI calibrations.\n",
      "For accurate sky subtraction, we request a sky fiber be taken at the time of observing.\n",
      "\n",
      "Obtaining multiple measurements of the targets is desireable.\n",
      "Because these are relatively short period systems, followup measurements as little as 6 hours apart will be of use in determining orbital parameters.\n",
      "Repeat measurements of longer cadence are equally useful.\n",
      "\n"
     ]
    }
   ],
   "source": [
    "import importlib\n",
    "importlib.reload(lbt)\n",
    "\n",
    "final_targets = Table.from_pandas(lbt_targets)\n",
    "final_targets[\"target_name\"].info.format = \"<14s\"\n",
    "final_targets[\"Teff\"].info.format = \".0f\"\n",
    "final_targets[\"pepsi_exp_time\"].info.format = \".2f\"\n",
    "\n",
    "foo = lbt.write_lbt_ob_files(\"UVa_Multistar\", final_targets)\n",
    "print(foo)"
   ]
  }
 ],
 "metadata": {
  "kernelspec": {
   "display_name": "Python 3",
   "language": "python",
   "name": "python3"
  },
  "language_info": {
   "codemirror_mode": {
    "name": "ipython",
    "version": 3
   },
   "file_extension": ".py",
   "mimetype": "text/x-python",
   "name": "python",
   "nbconvert_exporter": "python",
   "pygments_lexer": "ipython3",
   "version": "3.12.6"
  }
 },
 "nbformat": 4,
 "nbformat_minor": 2
}
