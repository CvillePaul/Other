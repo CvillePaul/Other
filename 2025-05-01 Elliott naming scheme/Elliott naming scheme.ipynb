{
 "cells": [
  {
   "cell_type": "code",
   "execution_count": 1,
   "id": "83d8dc68",
   "metadata": {},
   "outputs": [],
   "source": [
    "from glob import glob\n"
   ]
  },
  {
   "cell_type": "code",
   "execution_count": null,
   "id": "e298d1be",
   "metadata": {},
   "outputs": [
    {
     "name": "stdout",
     "output_type": "stream",
     "text": [
      "../../Files/DSSI Files/DSSI Logs\\2022-Q2\\may10raw.olist\n",
      "../../Files/DSSI Files/DSSI Logs\\2022-Q2\\may11raw.olist\n",
      "../../Files/DSSI Files/DSSI Logs\\2022-Q2\\may12raw.olist\n",
      "../../Files/DSSI Files/DSSI Logs\\2022-Q2\\may15raw.olist\n",
      "../../Files/DSSI Files/DSSI Logs\\2022-Q3\\sep27raw.olist\n",
      "../../Files/DSSI Files/DSSI Logs\\2022-Q3\\sep28raw.olist\n",
      "../../Files/DSSI Files/DSSI Logs\\2022-Q3\\sep29raw.olist\n",
      "../../Files/DSSI Files/DSSI Logs\\2022-Q3\\sep30raw.olist\n",
      "../../Files/DSSI Files/DSSI Logs\\2022-Q4\\nov12raw.olist\n",
      "../../Files/DSSI Files/DSSI Logs\\2022-Q4\\nov13raw.olist\n",
      "../../Files/DSSI Files/DSSI Logs\\2022-Q4\\nov14raw.olist\n",
      "../../Files/DSSI Files/DSSI Logs\\2022-Q4\\nov15raw.olist\n",
      "../../Files/DSSI Files/DSSI Logs\\2022-Q4\\nov16raw.olist\n",
      "../../Files/DSSI Files/DSSI Logs\\2023-Q1\\mar07raw.olist\n",
      "../../Files/DSSI Files/DSSI Logs\\2023-Q1\\mar08raw.olist\n",
      "../../Files/DSSI Files/DSSI Logs\\2023-Q1\\mar09raw.olist\n",
      "../../Files/DSSI Files/DSSI Logs\\2023-Q1\\mar11raw.olist\n",
      "../../Files/DSSI Files/DSSI Logs\\2023-Q1\\mar12raw.olist\n",
      "../../Files/DSSI Files/DSSI Logs\\2023-Q2\\may09raw.olist\n",
      "../../Files/DSSI Files/DSSI Logs\\2023-Q2\\may10raw.olist\n",
      "../../Files/DSSI Files/DSSI Logs\\2023-Q2\\may11raw.olist\n",
      "../../Files/DSSI Files/DSSI Logs\\2023-Q2\\may12raw.olist\n",
      "../../Files/DSSI Files/DSSI Logs\\2023-Q2\\may13raw.olist\n",
      "../../Files/DSSI Files/DSSI Logs\\2023-Q3\\sep01raw.olist\n",
      "../../Files/DSSI Files/DSSI Logs\\2023-Q3\\sep02raw.olist\n",
      "../../Files/DSSI Files/DSSI Logs\\2023-Q3\\sep04raw.olist\n",
      "../../Files/DSSI Files/DSSI Logs\\2023-Q4\\oct19raw.olist\n",
      "../../Files/DSSI Files/DSSI Logs\\2023-Q4\\oct20raw.olist\n",
      "../../Files/DSSI Files/DSSI Logs\\2023-Q4\\oct28raw.olist\n",
      "../../Files/DSSI Files/DSSI Logs\\2024-Q1\\feb23raw.olist\n",
      "../../Files/DSSI Files/DSSI Logs\\2024-Q1\\feb24raw.olist\n",
      "../../Files/DSSI Files/DSSI Logs\\2024-Q1\\feb25raw.olist\n",
      "../../Files/DSSI Files/DSSI Logs\\2024-Q1\\feb26raw.olist\n",
      "../../Files/DSSI Files/DSSI Logs\\2024-Q2\\may25raw.olist\n",
      "../../Files/DSSI Files/DSSI Logs\\2024-Q2\\may26raw.olist\n",
      "../../Files/DSSI Files/DSSI Logs\\2024-Q2\\may27raw.olist\n",
      "../../Files/DSSI Files/DSSI Logs\\2024-Q2\\may28raw.olist\n",
      "../../Files/DSSI Files/DSSI Logs\\2024-Q3\\sep21raw.olist\n",
      "../../Files/DSSI Files/DSSI Logs\\2024-Q3\\sep23raw.olist\n",
      "../../Files/DSSI Files/DSSI Logs\\2024-Q3\\sep24raw.olist\n",
      "../../Files/DSSI Files/DSSI Logs\\2024-Q4\\nov15raw.olist\n",
      "../../Files/DSSI Files/DSSI Logs\\2024-Q4\\nov16raw.olist\n",
      "../../Files/DSSI Files/DSSI Logs\\2025-Q1\\mar15raw.olist\n",
      "../../Files/DSSI Files/DSSI Logs\\2025-Q1\\mar16raw.olist\n",
      "../../Files/DSSI Files/DSSI Logs\\2025-Q1\\mar18raw.olist\n",
      "../../Files/DSSI Files/DSSI Logs\\2025-Q1\\mar19raw.olist\n"
     ]
    }
   ],
   "source": [
    "file_pattern = \"../../Files/DSSI Files/DSSI Logs/202?-Q?/*.olist\"\n",
    "\n",
    "from collections import defaultdict\n",
    "\n",
    "tic_to_elliott = defaultdict(set)\n",
    "elliott_to_tic = defaultdict(set)\n",
    "for file in glob(file_pattern):\n",
    "    "
   ]
  }
 ],
 "metadata": {
  "kernelspec": {
   "display_name": "Python 3",
   "language": "python",
   "name": "python3"
  },
  "language_info": {
   "codemirror_mode": {
    "name": "ipython",
    "version": 3
   },
   "file_extension": ".py",
   "mimetype": "text/x-python",
   "name": "python",
   "nbconvert_exporter": "python",
   "pygments_lexer": "ipython3",
   "version": "3.12.6"
  }
 },
 "nbformat": 4,
 "nbformat_minor": 5
}
