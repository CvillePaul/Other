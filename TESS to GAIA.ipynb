{
 "cells": [
  {
   "cell_type": "markdown",
   "metadata": {},
   "source": [
    "## Check if Gaia resolves any of our TESS targets into more than one GAIA object\n",
    "(From 2024-01-07 Meeting)"
   ]
  },
  {
   "cell_type": "code",
   "execution_count": 2,
   "metadata": {},
   "outputs": [],
   "source": [
    "from sqlite3 import connect\n",
    "from astropy.coordinates import SkyCoord\n",
    "from astropy.table import Table, vstack\n",
    "from astropy.time import Time\n",
    "import astropy.units as u\n",
    "from astroquery.gaia import Gaia\n",
    "from astroquery.mast import Catalogs\n",
    "import numpy as np\n",
    "import pandas as pd"
   ]
  },
  {
   "cell_type": "code",
   "execution_count": 3,
   "metadata": {},
   "outputs": [],
   "source": [
    "conn = connect(\"../django/QuadEBdb/db.sqlite3\")\n",
    "\n",
    "# read base list of targets\n",
    "targets = pd.read_sql(\"select * from tom_target;\", conn, index_col=\"id\")\n",
    "\n",
    "# retrieve all objects by TIC ID from the TIC catalog, which (among other things) gives us the GAIA ID\n",
    "# TIC fields: https://mast.stsci.edu/api/v0/_t_i_cfields.html\n",
    "tic_table = Catalogs.query_criteria(\n",
    "    catalog=\"Tic\", ID=targets[\"local_id\"].str.replace(\"TIC \", \"\")\n",
    ")\n",
    "\n",
    "# replace NaN values with a stand-ins\n",
    "tic_table[\"pmRA\"][np.isnan(tic_table[\"pmRA\"])] = 0\n",
    "tic_table[\"pmDEC\"][np.isnan(tic_table[\"pmDEC\"])] = 0\n",
    "tic_table[\"plx\"][np.isnan(tic_table[\"plx\"])] = 1e-3\n",
    "\n",
    "# write to a csv file in case we want to do other analysis\n",
    "# tic_table.write(\"TICv8 Targets.csv\", format=\"ascii.csv\", overwrite=True)"
   ]
  },
  {
   "cell_type": "code",
   "execution_count": 5,
   "metadata": {},
   "outputs": [
    {
     "name": "stdout",
     "output_type": "stream",
     "text": [
      "74919381 (3) "
     ]
    },
    {
     "name": "stderr",
     "output_type": "stream",
     "text": [
      "c:\\Users\\User\\Anaconda3\\envs\\Astro\\Lib\\site-packages\\erfa\\core.py:154: ErfaWarning: ERFA function \"pmsafe\" yielded 1 of \"distance overridden (Note 6)\"\n",
      "  warnings.warn('ERFA function \"{}\" yielded {}'.format(func_name, wmsg),\n"
     ]
    },
    {
     "name": "stdout",
     "output_type": "stream",
     "text": [
      "140593601 (6) "
     ]
    },
    {
     "name": "stderr",
     "output_type": "stream",
     "text": [
      "c:\\Users\\User\\Anaconda3\\envs\\Astro\\Lib\\site-packages\\erfa\\core.py:154: ErfaWarning: ERFA function \"pmsafe\" yielded 1 of \"distance overridden (Note 6)\"\n",
      "  warnings.warn('ERFA function \"{}\" yielded {}'.format(func_name, wmsg),\n"
     ]
    },
    {
     "name": "stdout",
     "output_type": "stream",
     "text": [
      "75740921 (9) "
     ]
    },
    {
     "name": "stderr",
     "output_type": "stream",
     "text": [
      "c:\\Users\\User\\Anaconda3\\envs\\Astro\\Lib\\site-packages\\erfa\\core.py:154: ErfaWarning: ERFA function \"pmsafe\" yielded 1 of \"distance overridden (Note 6)\"\n",
      "  warnings.warn('ERFA function \"{}\" yielded {}'.format(func_name, wmsg),\n"
     ]
    },
    {
     "name": "stdout",
     "output_type": "stream",
     "text": [
      "322727163 (12) 283940788 (13) 191283915 (15) 59453672 (16) 38542448 (17) 414475823 (22) "
     ]
    },
    {
     "name": "stderr",
     "output_type": "stream",
     "text": [
      "c:\\Users\\User\\Anaconda3\\envs\\Astro\\Lib\\site-packages\\erfa\\core.py:154: ErfaWarning: ERFA function \"pmsafe\" yielded 1 of \"distance overridden (Note 6)\"\n",
      "  warnings.warn('ERFA function \"{}\" yielded {}'.format(func_name, wmsg),\n"
     ]
    },
    {
     "name": "stdout",
     "output_type": "stream",
     "text": [
      "348651800 (24) "
     ]
    },
    {
     "name": "stderr",
     "output_type": "stream",
     "text": [
      "c:\\Users\\User\\Anaconda3\\envs\\Astro\\Lib\\site-packages\\erfa\\core.py:154: ErfaWarning: ERFA function \"pmsafe\" yielded 1 of \"distance overridden (Note 6)\"\n",
      "  warnings.warn('ERFA function \"{}\" yielded {}'.format(func_name, wmsg),\n"
     ]
    },
    {
     "name": "stdout",
     "output_type": "stream",
     "text": [
      "78568780 (27) 36439758 (31) 33721975 (34) 329089161 (42) 54577663 (44) 282005870 (48) 161043618 (49) "
     ]
    },
    {
     "name": "stderr",
     "output_type": "stream",
     "text": [
      "c:\\Users\\User\\Anaconda3\\envs\\Astro\\Lib\\site-packages\\erfa\\core.py:154: ErfaWarning: ERFA function \"pmsafe\" yielded 1 of \"distance overridden (Note 6)\"\n",
      "  warnings.warn('ERFA function \"{}\" yielded {}'.format(func_name, wmsg),\n"
     ]
    },
    {
     "name": "stdout",
     "output_type": "stream",
     "text": [
      "50198590 (51) 418699570 (53) 141733685 (57) 140328928 (59) 293442412 (67) 219006972 (68) "
     ]
    },
    {
     "name": "stderr",
     "output_type": "stream",
     "text": [
      "c:\\Users\\User\\Anaconda3\\envs\\Astro\\Lib\\site-packages\\erfa\\core.py:154: ErfaWarning: ERFA function \"pmsafe\" yielded 1 of \"distance overridden (Note 6)\"\n",
      "  warnings.warn('ERFA function \"{}\" yielded {}'.format(func_name, wmsg),\n"
     ]
    },
    {
     "name": "stdout",
     "output_type": "stream",
     "text": [
      "304713857 (72) 95928255 (73) 367448265 (75) 93373156 (76) 153406662 (78) 274791367 (83) 9493888 (84) 407060024 (87) 265684107 (91) 399492452 (96) "
     ]
    },
    {
     "name": "stderr",
     "output_type": "stream",
     "text": [
      "c:\\Users\\User\\Anaconda3\\envs\\Astro\\Lib\\site-packages\\erfa\\core.py:154: ErfaWarning: ERFA function \"pmsafe\" yielded 1 of \"distance overridden (Note 6)\"\n",
      "  warnings.warn('ERFA function \"{}\" yielded {}'.format(func_name, wmsg),\n"
     ]
    },
    {
     "name": "stdout",
     "output_type": "stream",
     "text": [
      "311838200 (101) 370440624 (102) "
     ]
    },
    {
     "name": "stderr",
     "output_type": "stream",
     "text": [
      "c:\\Users\\User\\Anaconda3\\envs\\Astro\\Lib\\site-packages\\erfa\\core.py:154: ErfaWarning: ERFA function \"pmsafe\" yielded 1 of \"distance overridden (Note 6)\"\n",
      "  warnings.warn('ERFA function \"{}\" yielded {}'.format(func_name, wmsg),\n"
     ]
    },
    {
     "name": "stdout",
     "output_type": "stream",
     "text": [
      "80893927 (104) 270360534 (106) 139914081 (107) 320233974 (114) "
     ]
    },
    {
     "name": "stderr",
     "output_type": "stream",
     "text": [
      "c:\\Users\\User\\Anaconda3\\envs\\Astro\\Lib\\site-packages\\erfa\\core.py:154: ErfaWarning: ERFA function \"pmsafe\" yielded 1 of \"distance overridden (Note 6)\"\n",
      "  warnings.warn('ERFA function \"{}\" yielded {}'.format(func_name, wmsg),\n"
     ]
    },
    {
     "name": "stdout",
     "output_type": "stream",
     "text": [
      "146435300 (116) 244279814 (117) 89278612 (123) 231595025 (125) 386414884 (127) 144686626 (132) 456737763 (135) "
     ]
    },
    {
     "name": "stderr",
     "output_type": "stream",
     "text": [
      "c:\\Users\\User\\Anaconda3\\envs\\Astro\\Lib\\site-packages\\erfa\\core.py:154: ErfaWarning: ERFA function \"pmsafe\" yielded 1 of \"distance overridden (Note 6)\"\n",
      "  warnings.warn('ERFA function \"{}\" yielded {}'.format(func_name, wmsg),\n"
     ]
    },
    {
     "name": "stdout",
     "output_type": "stream",
     "text": [
      "255532033 (136) 140241924 (138) "
     ]
    },
    {
     "name": "stderr",
     "output_type": "stream",
     "text": [
      "c:\\Users\\User\\Anaconda3\\envs\\Astro\\Lib\\site-packages\\erfa\\core.py:154: ErfaWarning: ERFA function \"pmsafe\" yielded 1 of \"distance overridden (Note 6)\"\n",
      "  warnings.warn('ERFA function \"{}\" yielded {}'.format(func_name, wmsg),\n"
     ]
    },
    {
     "name": "stdout",
     "output_type": "stream",
     "text": [
      "470710327 (143) 13021681 (144) 60584909 (145) "
     ]
    },
    {
     "name": "stderr",
     "output_type": "stream",
     "text": [
      "c:\\Users\\User\\Anaconda3\\envs\\Astro\\Lib\\site-packages\\erfa\\core.py:154: ErfaWarning: ERFA function \"pmsafe\" yielded 1 of \"distance overridden (Note 6)\"\n",
      "  warnings.warn('ERFA function \"{}\" yielded {}'.format(func_name, wmsg),\n"
     ]
    },
    {
     "name": "stdout",
     "output_type": "stream",
     "text": [
      "239872462 (147) 130533284 (150) 73296637 (151) 63459761 (155) 250119205 (158) 167800999 (159) 328181241 (161) 375325607 (165) 454140642 (166) 439511833 (169) 356318101 (170) 200094011 (172) 321471064 (177) "
     ]
    },
    {
     "name": "stderr",
     "output_type": "stream",
     "text": [
      "c:\\Users\\User\\Anaconda3\\envs\\Astro\\Lib\\site-packages\\erfa\\core.py:154: ErfaWarning: ERFA function \"pmsafe\" yielded 1 of \"distance overridden (Note 6)\"\n",
      "  warnings.warn('ERFA function \"{}\" yielded {}'.format(func_name, wmsg),\n"
     ]
    },
    {
     "name": "stdout",
     "output_type": "stream",
     "text": [
      "168789840 (179) 78333248 (180) 286470992 (182) 391620600 (184) 284814380 (187) "
     ]
    },
    {
     "name": "stderr",
     "output_type": "stream",
     "text": [
      "c:\\Users\\User\\Anaconda3\\envs\\Astro\\Lib\\site-packages\\erfa\\core.py:154: ErfaWarning: ERFA function \"pmsafe\" yielded 1 of \"distance overridden (Note 6)\"\n",
      "  warnings.warn('ERFA function \"{}\" yielded {}'.format(func_name, wmsg),\n"
     ]
    },
    {
     "name": "stdout",
     "output_type": "stream",
     "text": [
      "458108996 (200) 309025182 (201) "
     ]
    },
    {
     "name": "stderr",
     "output_type": "stream",
     "text": [
      "c:\\Users\\User\\Anaconda3\\envs\\Astro\\Lib\\site-packages\\erfa\\core.py:154: ErfaWarning: ERFA function \"pmsafe\" yielded 1 of \"distance overridden (Note 6)\"\n",
      "  warnings.warn('ERFA function \"{}\" yielded {}'.format(func_name, wmsg),\n"
     ]
    },
    {
     "name": "stdout",
     "output_type": "stream",
     "text": [
      "201310151 (202) 278352276 (205) 265274458 (207) 202664216 (210) 144475902 (214) 178953404 (215) 357810643 (221) 779824 (222) 264402353 (223) 430745185 (226) 292318612 (227) "
     ]
    },
    {
     "name": "stderr",
     "output_type": "stream",
     "text": [
      "c:\\Users\\User\\Anaconda3\\envs\\Astro\\Lib\\site-packages\\erfa\\core.py:154: ErfaWarning: ERFA function \"pmsafe\" yielded 1 of \"distance overridden (Note 6)\"\n",
      "  warnings.warn('ERFA function \"{}\" yielded {}'.format(func_name, wmsg),\n"
     ]
    },
    {
     "name": "stdout",
     "output_type": "stream",
     "text": [
      "314802266 (230) 125952257 (234) 346000664 (238) 121511673 (246) 459959916 (247) "
     ]
    },
    {
     "name": "stderr",
     "output_type": "stream",
     "text": [
      "c:\\Users\\User\\Anaconda3\\envs\\Astro\\Lib\\site-packages\\erfa\\core.py:154: ErfaWarning: ERFA function \"pmsafe\" yielded 1 of \"distance overridden (Note 6)\"\n",
      "  warnings.warn('ERFA function \"{}\" yielded {}'.format(func_name, wmsg),\n"
     ]
    },
    {
     "name": "stdout",
     "output_type": "stream",
     "text": [
      "1337279468 (251) 429901945 (253) 53158069 (255) 462322817 (260) 344541836 (262) 285655079 (267) "
     ]
    },
    {
     "name": "stderr",
     "output_type": "stream",
     "text": [
      "c:\\Users\\User\\Anaconda3\\envs\\Astro\\Lib\\site-packages\\erfa\\core.py:154: ErfaWarning: ERFA function \"pmsafe\" yielded 1 of \"distance overridden (Note 6)\"\n",
      "  warnings.warn('ERFA function \"{}\" yielded {}'.format(func_name, wmsg),\n"
     ]
    },
    {
     "name": "stdout",
     "output_type": "stream",
     "text": [
      "47279366 (269) 25818450 (270) 260056937 (273) 266395331 (277) 125583594 (283) 269811101 (288) 414969157 (289) 461614217 (293) 146810480 (294) 232087348 (295) 384735219 (296) "
     ]
    },
    {
     "name": "stderr",
     "output_type": "stream",
     "text": [
      "c:\\Users\\User\\Anaconda3\\envs\\Astro\\Lib\\site-packages\\erfa\\core.py:154: ErfaWarning: ERFA function \"pmsafe\" yielded 1 of \"distance overridden (Note 6)\"\n",
      "  warnings.warn('ERFA function \"{}\" yielded {}'.format(func_name, wmsg),\n"
     ]
    },
    {
     "name": "stdout",
     "output_type": "stream",
     "text": [
      "405114468 (302) 444816203 (315) 29046597 (320) 128802666 (325) "
     ]
    },
    {
     "name": "stderr",
     "output_type": "stream",
     "text": [
      "c:\\Users\\User\\Anaconda3\\envs\\Astro\\Lib\\site-packages\\erfa\\core.py:154: ErfaWarning: ERFA function \"pmsafe\" yielded 1 of \"distance overridden (Note 6)\"\n",
      "  warnings.warn('ERFA function \"{}\" yielded {}'.format(func_name, wmsg),\n"
     ]
    },
    {
     "name": "stdout",
     "output_type": "stream",
     "text": [
      "438226195 (328) 97356407 (330) "
     ]
    },
    {
     "name": "stderr",
     "output_type": "stream",
     "text": [
      "c:\\Users\\User\\Anaconda3\\envs\\Astro\\Lib\\site-packages\\erfa\\core.py:154: ErfaWarning: ERFA function \"pmsafe\" yielded 1 of \"distance overridden (Note 6)\"\n",
      "  warnings.warn('ERFA function \"{}\" yielded {}'.format(func_name, wmsg),\n"
     ]
    },
    {
     "name": "stdout",
     "output_type": "stream",
     "text": [
      "470397849 (333) 20212631 (334) 256158466 (336) 370274336 (339) 384410712 (346) 32945664 (347) 261940513 (349) 125787704 (351) "
     ]
    },
    {
     "name": "stderr",
     "output_type": "stream",
     "text": [
      "c:\\Users\\User\\Anaconda3\\envs\\Astro\\Lib\\site-packages\\erfa\\core.py:154: ErfaWarning: ERFA function \"pmsafe\" yielded 1 of \"distance overridden (Note 6)\"\n",
      "  warnings.warn('ERFA function \"{}\" yielded {}'.format(func_name, wmsg),\n"
     ]
    },
    {
     "name": "stdout",
     "output_type": "stream",
     "text": [
      "358422952 (352) 238558210 (353) 80914862 (355) 441794509 (357) 308731030 (359) 427092089 (360) 219469945 (362) 52856877 (364) 139944266 (366) 190895730 (368) "
     ]
    },
    {
     "name": "stderr",
     "output_type": "stream",
     "text": [
      "c:\\Users\\User\\Anaconda3\\envs\\Astro\\Lib\\site-packages\\erfa\\core.py:154: ErfaWarning: ERFA function \"pmsafe\" yielded 1 of \"distance overridden (Note 6)\"\n",
      "  warnings.warn('ERFA function \"{}\" yielded {}'.format(func_name, wmsg),\n"
     ]
    },
    {
     "name": "stdout",
     "output_type": "stream",
     "text": [
      "306903715 (369) 273919067 (370) 387288959 (374) 79140936 (375) 134744873 (380) 327885074 (382) 307119043 (385) 382182610 (386) 139621206 (391) 466187603 (398) 459333241 (409) 43472931 (411) 443862276 (412) "
     ]
    },
    {
     "name": "stderr",
     "output_type": "stream",
     "text": [
      "c:\\Users\\User\\Anaconda3\\envs\\Astro\\Lib\\site-packages\\erfa\\core.py:154: ErfaWarning: ERFA function \"pmsafe\" yielded 1 of \"distance overridden (Note 6)\"\n",
      "  warnings.warn('ERFA function \"{}\" yielded {}'.format(func_name, wmsg),\n"
     ]
    },
    {
     "name": "stdout",
     "output_type": "stream",
     "text": [
      "37376063 (414) 434452777 (416) 375036945 (417) 387096013 (422) 24700485 (423) 414026507 (427) 266771301 (429) 130276377 (434) "
     ]
    },
    {
     "name": "stderr",
     "output_type": "stream",
     "text": [
      "c:\\Users\\User\\Anaconda3\\envs\\Astro\\Lib\\site-packages\\erfa\\core.py:154: ErfaWarning: ERFA function \"pmsafe\" yielded 1 of \"distance overridden (Note 6)\"\n",
      "  warnings.warn('ERFA function \"{}\" yielded {}'.format(func_name, wmsg),\n"
     ]
    },
    {
     "name": "stdout",
     "output_type": "stream",
     "text": [
      "371583423 (437) "
     ]
    },
    {
     "name": "stderr",
     "output_type": "stream",
     "text": [
      "c:\\Users\\User\\Anaconda3\\envs\\Astro\\Lib\\site-packages\\erfa\\core.py:154: ErfaWarning: ERFA function \"pmsafe\" yielded 1 of \"distance overridden (Note 6)\"\n",
      "  warnings.warn('ERFA function \"{}\" yielded {}'.format(func_name, wmsg),\n"
     ]
    },
    {
     "name": "stdout",
     "output_type": "stream",
     "text": [
      "240256832 (441) 392229331 (445) "
     ]
    },
    {
     "name": "stderr",
     "output_type": "stream",
     "text": [
      "c:\\Users\\User\\Anaconda3\\envs\\Astro\\Lib\\site-packages\\erfa\\core.py:154: ErfaWarning: ERFA function \"pmsafe\" yielded 1 of \"distance overridden (Note 6)\"\n",
      "  warnings.warn('ERFA function \"{}\" yielded {}'.format(func_name, wmsg),\n"
     ]
    },
    {
     "name": "stdout",
     "output_type": "stream",
     "text": [
      "389836747 (448) 284806955 (451) 458606169 (458) 266657256 (459) 58539786 (461) 337346017 (467) "
     ]
    },
    {
     "name": "stderr",
     "output_type": "stream",
     "text": [
      "c:\\Users\\User\\Anaconda3\\envs\\Astro\\Lib\\site-packages\\erfa\\core.py:154: ErfaWarning: ERFA function \"pmsafe\" yielded 1 of \"distance overridden (Note 6)\"\n",
      "  warnings.warn('ERFA function \"{}\" yielded {}'.format(func_name, wmsg),\n"
     ]
    },
    {
     "name": "stdout",
     "output_type": "stream",
     "text": [
      "45160946 (470) 271186951 (479) "
     ]
    },
    {
     "name": "stderr",
     "output_type": "stream",
     "text": [
      "c:\\Users\\User\\Anaconda3\\envs\\Astro\\Lib\\site-packages\\erfa\\core.py:154: ErfaWarning: ERFA function \"pmsafe\" yielded 1 of \"distance overridden (Note 6)\"\n",
      "  warnings.warn('ERFA function \"{}\" yielded {}'.format(func_name, wmsg),\n"
     ]
    },
    {
     "name": "stdout",
     "output_type": "stream",
     "text": [
      "300987891 (483) 251757935 (486) 207137124 (487) 417752064 (488) 257776944 (491) 459400252 (499) 285681367 (503) 442333487 (510) 123098844 (512) 262755078 (514) 160514618 (516) "
     ]
    },
    {
     "name": "stderr",
     "output_type": "stream",
     "text": [
      "c:\\Users\\User\\Anaconda3\\envs\\Astro\\Lib\\site-packages\\erfa\\core.py:154: ErfaWarning: ERFA function \"pmsafe\" yielded 1 of \"distance overridden (Note 6)\"\n",
      "  warnings.warn('ERFA function \"{}\" yielded {}'.format(func_name, wmsg),\n"
     ]
    },
    {
     "name": "stdout",
     "output_type": "stream",
     "text": [
      "120911334 (517) 458740670 (527) "
     ]
    },
    {
     "name": "stderr",
     "output_type": "stream",
     "text": [
      "c:\\Users\\User\\Anaconda3\\envs\\Astro\\Lib\\site-packages\\erfa\\core.py:154: ErfaWarning: ERFA function \"pmsafe\" yielded 1 of \"distance overridden (Note 6)\"\n",
      "  warnings.warn('ERFA function \"{}\" yielded {}'.format(func_name, wmsg),\n"
     ]
    },
    {
     "name": "stdout",
     "output_type": "stream",
     "text": [
      "274481742 (530) "
     ]
    },
    {
     "name": "stderr",
     "output_type": "stream",
     "text": [
      "c:\\Users\\User\\Anaconda3\\envs\\Astro\\Lib\\site-packages\\erfa\\core.py:154: ErfaWarning: ERFA function \"pmsafe\" yielded 1 of \"distance overridden (Note 6)\"\n",
      "  warnings.warn('ERFA function \"{}\" yielded {}'.format(func_name, wmsg),\n"
     ]
    },
    {
     "name": "stdout",
     "output_type": "stream",
     "text": [
      "321474625 (537) 91600053 (540) "
     ]
    },
    {
     "name": "stderr",
     "output_type": "stream",
     "text": [
      "c:\\Users\\User\\Anaconda3\\envs\\Astro\\Lib\\site-packages\\erfa\\core.py:154: ErfaWarning: ERFA function \"pmsafe\" yielded 1 of \"distance overridden (Note 6)\"\n",
      "  warnings.warn('ERFA function \"{}\" yielded {}'.format(func_name, wmsg),\n"
     ]
    },
    {
     "name": "stdout",
     "output_type": "stream",
     "text": [
      "177810207 (541) 139650665 (542) "
     ]
    },
    {
     "name": "stderr",
     "output_type": "stream",
     "text": [
      "c:\\Users\\User\\Anaconda3\\envs\\Astro\\Lib\\site-packages\\erfa\\core.py:154: ErfaWarning: ERFA function \"pmsafe\" yielded 1 of \"distance overridden (Note 6)\"\n",
      "  warnings.warn('ERFA function \"{}\" yielded {}'.format(func_name, wmsg),\n"
     ]
    },
    {
     "name": "stdout",
     "output_type": "stream",
     "text": [
      "31928452 (543) 386202029 (544) 317863971 (546) 408147984 (550) 82818966 (552) 459705607 (556) "
     ]
    },
    {
     "name": "stderr",
     "output_type": "stream",
     "text": [
      "c:\\Users\\User\\Anaconda3\\envs\\Astro\\Lib\\site-packages\\erfa\\core.py:154: ErfaWarning: ERFA function \"pmsafe\" yielded 1 of \"distance overridden (Note 6)\"\n",
      "  warnings.warn('ERFA function \"{}\" yielded {}'.format(func_name, wmsg),\n"
     ]
    },
    {
     "name": "stdout",
     "output_type": "stream",
     "text": [
      "409682934 (557) "
     ]
    },
    {
     "name": "stderr",
     "output_type": "stream",
     "text": [
      "c:\\Users\\User\\Anaconda3\\envs\\Astro\\Lib\\site-packages\\erfa\\core.py:154: ErfaWarning: ERFA function \"pmsafe\" yielded 1 of \"distance overridden (Note 6)\"\n",
      "  warnings.warn('ERFA function \"{}\" yielded {}'.format(func_name, wmsg),\n"
     ]
    },
    {
     "name": "stdout",
     "output_type": "stream",
     "text": [
      "300446218 (558) 204698586 (559) 170146066 (565) 27543409 (566) 354314226 (568) 150055835 (569) "
     ]
    },
    {
     "name": "stderr",
     "output_type": "stream",
     "text": [
      "c:\\Users\\User\\Anaconda3\\envs\\Astro\\Lib\\site-packages\\erfa\\core.py:154: ErfaWarning: ERFA function \"pmsafe\" yielded 1 of \"distance overridden (Note 6)\"\n",
      "  warnings.warn('ERFA function \"{}\" yielded {}'.format(func_name, wmsg),\n"
     ]
    },
    {
     "name": "stdout",
     "output_type": "stream",
     "text": [
      "278465736 (572) 127011022 (574) 285853156 (576) 274862252 (581) "
     ]
    },
    {
     "name": "stderr",
     "output_type": "stream",
     "text": [
      "c:\\Users\\User\\Anaconda3\\envs\\Astro\\Lib\\site-packages\\erfa\\core.py:154: ErfaWarning: ERFA function \"pmsafe\" yielded 1 of \"distance overridden (Note 6)\"\n",
      "  warnings.warn('ERFA function \"{}\" yielded {}'.format(func_name, wmsg),\n"
     ]
    },
    {
     "name": "stdout",
     "output_type": "stream",
     "text": [
      "278142612 (582) "
     ]
    },
    {
     "name": "stderr",
     "output_type": "stream",
     "text": [
      "c:\\Users\\User\\Anaconda3\\envs\\Astro\\Lib\\site-packages\\erfa\\core.py:154: ErfaWarning: ERFA function \"pmsafe\" yielded 1 of \"distance overridden (Note 6)\"\n",
      "  warnings.warn('ERFA function \"{}\" yielded {}'.format(func_name, wmsg),\n"
     ]
    },
    {
     "name": "stdout",
     "output_type": "stream",
     "text": [
      "336882813 (583) 309262405 (585) "
     ]
    }
   ],
   "source": [
    "tic_epoch = Time(2000.0, format=\"jyear\", scale=\"tdb\")\n",
    "gaia_dr3_epoch = Time(2016.0, format=\"jyear\", scale=\"tdb\")\n",
    "cone_size = 10 * u.arcsec\n",
    "\n",
    "gaia_neighbors = None\n",
    "gaia_from_tic = {}\n",
    "for tic_object in tic_table:\n",
    "    tic_coord = SkyCoord(\n",
    "        ra=tic_object[\"ra\"] * u.deg,\n",
    "        dec=tic_object[\"dec\"] * u.deg,\n",
    "        distance=tic_object[\"plx\"] * u.mas,\n",
    "        pm_ra_cosdec=tic_object[\"pmRA\"] * u.mas / u.yr,\n",
    "        pm_dec=tic_object[\"pmDEC\"] * u.mas / u.yr,\n",
    "        obstime=tic_epoch,\n",
    "    )\n",
    "    # evolve coord to gaia epoch\n",
    "    tic_coord = tic_coord.apply_space_motion(gaia_dr3_epoch)\n",
    "\n",
    "    # GAIA fields: https://gea.esac.esa.int/archive/documentation/GDR3/Gaia_archive/chap_datamodel/sec_dm_main_source_catalogue/ssec_dm_gaia_source.html\n",
    "    job = Gaia.launch_job(\n",
    "        \"select * \"\n",
    "        \"from gaiadr3.gaia_source \"\n",
    "        f\"WHERE CONTAINS(POINT('ICRS', ra, dec), CIRCLE('ICRS', {tic_coord.ra.to(u.deg).value}, {tic_coord.dec.to(u.deg).value}, {cone_size.to(u.deg).value})) = 1\"\n",
    "    )\n",
    "    gaia_matches = job.get_results()\n",
    "\n",
    "    #add reference to the TIC ID for these matches\n",
    "    gaia_matches[\"TIC ID\"] = tic_object[\"ID\"]\n",
    "\n",
    "    #calculate distance between each match and the TIC coordinates\n",
    "    distances = [\n",
    "        tic_coord.separation(SkyCoord(\n",
    "            ra=gaia_object[\"ra\"] * u.deg,\n",
    "            dec=gaia_object[\"dec\"] * u.deg,\n",
    "            distance=gaia_object[\"parallax\"] * u.mas,\n",
    "        ))\n",
    "        for gaia_object in gaia_matches]\n",
    "    gaia_matches[\"TIC Distance\"] = distances\n",
    "\n",
    "    # store results for later use\n",
    "    gaia_from_tic[tic_object[\"ID\"]] = (tic_coord, gaia_matches)\n",
    "\n",
    "    # build a table of all matches\n",
    "    if gaia_neighbors is None:\n",
    "        gaia_neighbors = gaia_matches.copy()\n",
    "    else:\n",
    "        gaia_neighbors = vstack([gaia_neighbors, gaia_matches])\n",
    "    print(f\"{tic_object[\"ID\"]} ({len(gaia_neighbors)})\", end=\" \")\n",
    "\n",
    "# gaia_neighbors.write(\"GAIA Neighbors.csv\", format=\"ascii.csv\", overwrite=True)\n"
   ]
  },
  {
   "cell_type": "code",
   "execution_count": 38,
   "metadata": {},
   "outputs": [],
   "source": [
    "separation_threshold = 2 * u.arcsec\n",
    "\n",
    "match_results = {}\n",
    "with open(\"..\\\\django\\\\QuadEBdb\\\\Data Files\\\\Catalog Associations\\\\Gaia objects close to TESS objects.csv\", \"w\") as f:\n",
    "    f.write(\"Local ID,Catalog,Catalog ID,Association\\n\")\n",
    "    for tic_id, (tic_coord, gaia_matches) in gaia_from_tic.items():\n",
    "        distances = []\n",
    "        for gaia_object in gaia_matches:\n",
    "            gaia_coord = SkyCoord(\n",
    "                ra=gaia_object[\"ra\"] * u.deg,\n",
    "                dec=gaia_object[\"dec\"] * u.deg,\n",
    "                distance=gaia_object[\"parallax\"] * u.mas,\n",
    "            )\n",
    "            distance_to_tic = tic_coord.separation(gaia_coord)\n",
    "            # if distance_to_tic < separation_threshold:\n",
    "            #     f.write(f\"TIC {tic_id},GAIA DR3,{gaia_object[\"source_id\"]},GAIA object within {separation_threshold} of TIC object\\n\")\n",
    "            distances.append((distance_to_tic, gaia_object[\"DESIGNATION\"], gaia_object[\"parallax\"], gaia_object[\"phot_g_mean_mag\"], gaia_object[\"pmra\"], gaia_object[\"pmdec\"], gaia_object[\"source_id\"]))\n",
    "\n",
    "    close_enough = sorted(filter(lambda dist: dist[0] < separation_threshold, distances))\n",
    "    too_far = sorted(filter(lambda dist: dist[0] > separation_threshold, distances))\n",
    "    if len(close_enough) > 1:\n",
    "        print(f\"TIC {tic_id}\")\n",
    "        for dist in close_enough:\n",
    "            print(f\"    {dist[1]:<30s} {dist[0].to(u.arcsec):.3f} {dist[2]:6.4f} {dist[3]:.2f} {dist[4]:.3f} {dist[5]:.3f}\")\n",
    "        if len(too_far) > 0:\n",
    "            print(\"    ----------------------------\")\n",
    "            for dist in too_far:\n",
    "                print(f\"    {dist[1]:<30s} {dist[0].to(u.arcsec):.3f}\")\n",
    "        match_results[tic_id] = (len(close_enough), len(too_far))"
   ]
  },
  {
   "cell_type": "code",
   "execution_count": 25,
   "metadata": {},
   "outputs": [
    {
     "data": {
      "text/html": [
       "<div><i>Table length=585</i>\n",
       "<table id=\"table2238656391808\" class=\"table-striped table-bordered table-condensed\">\n",
       "<thead><tr><th>solution_id</th><th>DESIGNATION</th><th>source_id</th><th>random_index</th><th>ref_epoch</th><th>ra</th><th>ra_error</th><th>dec</th><th>dec_error</th><th>parallax</th><th>parallax_error</th><th>parallax_over_error</th><th>pm</th><th>pmra</th><th>pmra_error</th><th>pmdec</th><th>pmdec_error</th><th>ra_dec_corr</th><th>ra_parallax_corr</th><th>ra_pmra_corr</th><th>ra_pmdec_corr</th><th>dec_parallax_corr</th><th>dec_pmra_corr</th><th>dec_pmdec_corr</th><th>parallax_pmra_corr</th><th>parallax_pmdec_corr</th><th>pmra_pmdec_corr</th><th>astrometric_n_obs_al</th><th>astrometric_n_obs_ac</th><th>astrometric_n_good_obs_al</th><th>astrometric_n_bad_obs_al</th><th>astrometric_gof_al</th><th>astrometric_chi2_al</th><th>astrometric_excess_noise</th><th>astrometric_excess_noise_sig</th><th>astrometric_params_solved</th><th>astrometric_primary_flag</th><th>nu_eff_used_in_astrometry</th><th>pseudocolour</th><th>pseudocolour_error</th><th>ra_pseudocolour_corr</th><th>dec_pseudocolour_corr</th><th>parallax_pseudocolour_corr</th><th>pmra_pseudocolour_corr</th><th>pmdec_pseudocolour_corr</th><th>astrometric_matched_transits</th><th>visibility_periods_used</th><th>astrometric_sigma5d_max</th><th>matched_transits</th><th>new_matched_transits</th><th>matched_transits_removed</th><th>ipd_gof_harmonic_amplitude</th><th>ipd_gof_harmonic_phase</th><th>ipd_frac_multi_peak</th><th>ipd_frac_odd_win</th><th>ruwe</th><th>scan_direction_strength_k1</th><th>scan_direction_strength_k2</th><th>scan_direction_strength_k3</th><th>scan_direction_strength_k4</th><th>scan_direction_mean_k1</th><th>scan_direction_mean_k2</th><th>scan_direction_mean_k3</th><th>scan_direction_mean_k4</th><th>duplicated_source</th><th>phot_g_n_obs</th><th>phot_g_mean_flux</th><th>phot_g_mean_flux_error</th><th>phot_g_mean_flux_over_error</th><th>phot_g_mean_mag</th><th>phot_bp_n_obs</th><th>phot_bp_mean_flux</th><th>phot_bp_mean_flux_error</th><th>phot_bp_mean_flux_over_error</th><th>phot_bp_mean_mag</th><th>phot_rp_n_obs</th><th>phot_rp_mean_flux</th><th>phot_rp_mean_flux_error</th><th>phot_rp_mean_flux_over_error</th><th>phot_rp_mean_mag</th><th>phot_bp_rp_excess_factor</th><th>phot_bp_n_contaminated_transits</th><th>phot_bp_n_blended_transits</th><th>phot_rp_n_contaminated_transits</th><th>phot_rp_n_blended_transits</th><th>phot_proc_mode</th><th>bp_rp</th><th>bp_g</th><th>g_rp</th><th>radial_velocity</th><th>radial_velocity_error</th><th>rv_method_used</th><th>rv_nb_transits</th><th>rv_nb_deblended_transits</th><th>rv_visibility_periods_used</th><th>rv_expected_sig_to_noise</th><th>rv_renormalised_gof</th><th>rv_chisq_pvalue</th><th>rv_time_duration</th><th>rv_amplitude_robust</th><th>rv_template_teff</th><th>rv_template_logg</th><th>rv_template_fe_h</th><th>rv_atm_param_origin</th><th>vbroad</th><th>vbroad_error</th><th>vbroad_nb_transits</th><th>grvs_mag</th><th>grvs_mag_error</th><th>grvs_mag_nb_transits</th><th>rvs_spec_sig_to_noise</th><th>phot_variable_flag</th><th>l</th><th>b</th><th>ecl_lon</th><th>ecl_lat</th><th>in_qso_candidates</th><th>in_galaxy_candidates</th><th>non_single_star</th><th>has_xp_continuous</th><th>has_xp_sampled</th><th>has_rvs</th><th>has_epoch_photometry</th><th>has_epoch_rv</th><th>has_mcmc_gspphot</th><th>has_mcmc_msc</th><th>in_andromeda_survey</th><th>classprob_dsc_combmod_quasar</th><th>classprob_dsc_combmod_galaxy</th><th>classprob_dsc_combmod_star</th><th>teff_gspphot</th><th>teff_gspphot_lower</th><th>teff_gspphot_upper</th><th>logg_gspphot</th><th>logg_gspphot_lower</th><th>logg_gspphot_upper</th><th>mh_gspphot</th><th>mh_gspphot_lower</th><th>mh_gspphot_upper</th><th>distance_gspphot</th><th>distance_gspphot_lower</th><th>distance_gspphot_upper</th><th>azero_gspphot</th><th>azero_gspphot_lower</th><th>azero_gspphot_upper</th><th>ag_gspphot</th><th>ag_gspphot_lower</th><th>ag_gspphot_upper</th><th>ebpminrp_gspphot</th><th>ebpminrp_gspphot_lower</th><th>ebpminrp_gspphot_upper</th><th>libname_gspphot</th><th>TIC ID</th><th>TIC Distance</th></tr></thead>\n",
       "<thead><tr><th></th><th></th><th></th><th></th><th>yr</th><th>deg</th><th>mas</th><th>deg</th><th>mas</th><th>mas</th><th>mas</th><th></th><th>mas / yr</th><th>mas / yr</th><th>mas / yr</th><th>mas / yr</th><th>mas / yr</th><th></th><th></th><th></th><th></th><th></th><th></th><th></th><th></th><th></th><th></th><th></th><th></th><th></th><th></th><th></th><th></th><th>mas</th><th></th><th></th><th></th><th>1 / um</th><th>1 / um</th><th>1 / um</th><th></th><th></th><th></th><th></th><th></th><th></th><th></th><th>mas</th><th></th><th></th><th></th><th></th><th>deg</th><th></th><th></th><th></th><th></th><th></th><th></th><th></th><th>deg</th><th>deg</th><th>deg</th><th>deg</th><th></th><th></th><th>electron / s</th><th>electron / s</th><th></th><th>mag</th><th></th><th>electron / s</th><th>electron / s</th><th></th><th>mag</th><th></th><th>electron / s</th><th>electron / s</th><th></th><th>mag</th><th></th><th></th><th></th><th></th><th></th><th></th><th>mag</th><th>mag</th><th>mag</th><th>km / s</th><th>km / s</th><th></th><th></th><th></th><th></th><th></th><th></th><th></th><th>d</th><th>km / s</th><th>K</th><th>log(cm.s**-2)</th><th>dex</th><th></th><th>km / s</th><th>km / s</th><th></th><th>mag</th><th>mag</th><th></th><th></th><th></th><th>deg</th><th>deg</th><th>deg</th><th>deg</th><th></th><th></th><th></th><th></th><th></th><th></th><th></th><th></th><th></th><th></th><th></th><th></th><th></th><th></th><th>K</th><th>K</th><th>K</th><th>log(cm.s**-2)</th><th>log(cm.s**-2)</th><th>log(cm.s**-2)</th><th>dex</th><th>dex</th><th>dex</th><th>pc</th><th>pc</th><th>pc</th><th>mag</th><th>mag</th><th>mag</th><th>mag</th><th>mag</th><th>mag</th><th>mag</th><th>mag</th><th>mag</th><th></th><th></th><th>deg</th></tr></thead>\n",
       "<thead><tr><th>int64</th><th>object</th><th>int64</th><th>int64</th><th>float64</th><th>float64</th><th>float32</th><th>float64</th><th>float32</th><th>float64</th><th>float32</th><th>float32</th><th>float32</th><th>float64</th><th>float32</th><th>float64</th><th>float32</th><th>float32</th><th>float32</th><th>float32</th><th>float32</th><th>float32</th><th>float32</th><th>float32</th><th>float32</th><th>float32</th><th>float32</th><th>int16</th><th>int16</th><th>int16</th><th>int16</th><th>float32</th><th>float32</th><th>float32</th><th>float32</th><th>int16</th><th>bool</th><th>float32</th><th>float32</th><th>float32</th><th>float32</th><th>float32</th><th>float32</th><th>float32</th><th>float32</th><th>int16</th><th>int16</th><th>float32</th><th>int16</th><th>int16</th><th>int16</th><th>float32</th><th>float32</th><th>int16</th><th>int16</th><th>float32</th><th>float32</th><th>float32</th><th>float32</th><th>float32</th><th>float32</th><th>float32</th><th>float32</th><th>float32</th><th>bool</th><th>int16</th><th>float64</th><th>float32</th><th>float32</th><th>float32</th><th>int16</th><th>float64</th><th>float32</th><th>float32</th><th>float32</th><th>int16</th><th>float64</th><th>float32</th><th>float32</th><th>float32</th><th>float32</th><th>int16</th><th>int16</th><th>int16</th><th>int16</th><th>int16</th><th>float32</th><th>float32</th><th>float32</th><th>float32</th><th>float32</th><th>int16</th><th>int16</th><th>int16</th><th>int16</th><th>float32</th><th>float32</th><th>float32</th><th>float32</th><th>float32</th><th>float32</th><th>float32</th><th>float32</th><th>int16</th><th>float32</th><th>float32</th><th>int16</th><th>float32</th><th>float32</th><th>int16</th><th>float32</th><th>object</th><th>float64</th><th>float64</th><th>float64</th><th>float64</th><th>bool</th><th>bool</th><th>int16</th><th>bool</th><th>bool</th><th>bool</th><th>bool</th><th>bool</th><th>bool</th><th>bool</th><th>bool</th><th>float32</th><th>float32</th><th>float32</th><th>float32</th><th>float32</th><th>float32</th><th>float32</th><th>float32</th><th>float32</th><th>float32</th><th>float32</th><th>float32</th><th>float32</th><th>float32</th><th>float32</th><th>float32</th><th>float32</th><th>float32</th><th>float32</th><th>float32</th><th>float32</th><th>float32</th><th>float32</th><th>float32</th><th>object</th><th>str10</th><th>float64</th></tr></thead>\n",
       "<tr><td>1636148068921376768</td><td>Gaia DR3 3440757674454539008</td><td>3440757674454539008</td><td>975008124</td><td>2016.0</td><td>84.42064260665873</td><td>0.043630913</td><td>24.878510339858273</td><td>0.030658446</td><td>0.6211513706976766</td><td>0.053403426</td><td>11.631302</td><td>4.9297857</td><td>-0.07412704246074098</td><td>0.05620559</td><td>-4.929228561332226</td><td>0.030765735</td><td>-0.012339178</td><td>0.008271292</td><td>0.01826641</td><td>-0.09078858</td><td>-0.26945913</td><td>0.009553979</td><td>-0.728805</td><td>0.17774665</td><td>0.3856253</td><td>-0.18836609</td><td>398</td><td>0</td><td>377</td><td>21</td><td>49.569656</td><td>4023.8726</td><td>0.32325083</td><td>81.81854</td><td>31</td><td>False</td><td>1.4704527</td><td>--</td><td>--</td><td>--</td><td>--</td><td>--</td><td>--</td><td>--</td><td>46</td><td>16</td><td>0.07852621</td><td>48</td><td>32</td><td>0</td><td>0.08166283</td><td>172.26306</td><td>0</td><td>0</td><td>3.287506</td><td>0.4413934</td><td>0.655887</td><td>0.38787857</td><td>0.31160283</td><td>2.024541</td><td>4.6242824</td><td>3.7991776</td><td>17.927391</td><td>False</td><td>302</td><td>64996.88196775332</td><td>23.703014</td><td>2742.1357</td><td>13.655135</td><td>36</td><td>28953.034237303025</td><td>42.93812</td><td>674.2967</td><td>14.184307</td><td>35</td><td>52160.89401196924</td><td>86.0877</td><td>605.9041</td><td>12.954533</td><td>1.2479664</td><td>0</td><td>4</td><td>0</td><td>2</td><td>0</td><td>1.2297745</td><td>0.52917194</td><td>0.70060253</td><td>-59.753555</td><td>12.483451</td><td>2</td><td>19</td><td>4</td><td>12</td><td>10.618996</td><td>--</td><td>--</td><td>961.30035</td><td>--</td><td>6750.0</td><td>4.0</td><td>-0.25</td><td>222</td><td>--</td><td>--</td><td>--</td><td>12.624331</td><td>0.04890717</td><td>16</td><td>--</td><td>NOT_AVAILABLE</td><td>182.5157226533896</td><td>-3.6432323552033745</td><td>84.93800410138573</td><td>1.5372146641062348</td><td>False</td><td>False</td><td>0</td><td>True</td><td>True</td><td>False</td><td>False</td><td>False</td><td>True</td><td>True</td><td>False</td><td>1.0205361e-13</td><td>5.0975267e-13</td><td>0.99999696</td><td>7879.9634</td><td>7858.5747</td><td>7902.2734</td><td>4.0632</td><td>4.0461</td><td>4.0789</td><td>-0.3824</td><td>-0.3995</td><td>-0.362</td><td>964.1401</td><td>942.5609</td><td>990.0242</td><td>2.174</td><td>2.1668</td><td>2.1817</td><td>1.849</td><td>1.8422</td><td>1.8563</td><td>1.0043</td><td>1.0006</td><td>1.0082</td><td>A</td><td>74919381</td><td>4.087799111120793e-08</td></tr>\n",
       "<tr><td>1636148068921376768</td><td>Gaia DR3 3440757678750578944</td><td>3440757678750578944</td><td>896498287</td><td>2016.0</td><td>84.41966694957715</td><td>0.70451415</td><td>24.87884116649255</td><td>0.45770574</td><td>0.7374875788436966</td><td>0.7563296</td><td>0.9750875</td><td>3.44453</td><td>1.2210190016648432</td><td>0.9996316</td><td>-3.2208538554532</td><td>0.44166636</td><td>-0.079663604</td><td>0.008182793</td><td>0.110562235</td><td>-0.0912214</td><td>-0.038990803</td><td>0.029621344</td><td>-0.7163997</td><td>-0.019752549</td><td>0.16234614</td><td>-0.25657842</td><td>276</td><td>0</td><td>275</td><td>1</td><td>0.6169526</td><td>318.11154</td><td>1.4795588</td><td>1.5499666</td><td>95</td><td>False</td><td>--</td><td>1.1348974</td><td>0.1351456</td><td>-0.061382134</td><td>-0.022919737</td><td>-0.11694145</td><td>0.2376456</td><td>0.09870015</td><td>32</td><td>13</td><td>1.3958967</td><td>33</td><td>27</td><td>0</td><td>0.03466414</td><td>5.364106</td><td>3</td><td>0</td><td>1.0254664</td><td>0.48534343</td><td>0.6964518</td><td>0.40729514</td><td>0.3562978</td><td>2.7333653</td><td>7.0674915</td><td>4.6280074</td><td>14.214745</td><td>False</td><td>270</td><td>174.35774581613182</td><td>0.89563316</td><td>194.6754</td><td>20.083763</td><td>24</td><td>184.7164670397353</td><td>20.602919</td><td>8.9655485</td><td>19.672277</td><td>25</td><td>405.1600071132387</td><td>37.184982</td><td>10.895797</td><td>18.228828</td><td>3.383139</td><td>0</td><td>2</td><td>0</td><td>2</td><td>0</td><td>1.443449</td><td>-0.41148567</td><td>1.8549347</td><td>--</td><td>--</td><td>--</td><td>--</td><td>--</td><td>--</td><td>--</td><td>--</td><td>--</td><td>--</td><td>--</td><td>--</td><td>--</td><td>--</td><td>--</td><td>--</td><td>--</td><td>--</td><td>--</td><td>--</td><td>--</td><td>--</td><td>NOT_AVAILABLE</td><td>182.51496932800646</td><td>-3.6438047803702314</td><td>84.937132133453</td><td>1.537579488897277</td><td>False</td><td>False</td><td>0</td><td>False</td><td>False</td><td>False</td><td>False</td><td>False</td><td>False</td><td>False</td><td>False</td><td>9.3808815e-08</td><td>2.0831608e-06</td><td>0.9999894</td><td>--</td><td>--</td><td>--</td><td>--</td><td>--</td><td>--</td><td>--</td><td>--</td><td>--</td><td>--</td><td>--</td><td>--</td><td>--</td><td>--</td><td>--</td><td>--</td><td>--</td><td>--</td><td>--</td><td>--</td><td>--</td><td></td><td>74919381</td><td>0.0009448899502948374</td></tr>\n",
       "<tr><td>1636148068921376768</td><td>Gaia DR3 3440757678751585024</td><td>3440757678751585024</td><td>874513128</td><td>2016.0</td><td>84.41960745353582</td><td>1.8734274</td><td>24.878191489230915</td><td>1.0979097</td><td>--</td><td>--</td><td>--</td><td>--</td><td>--</td><td>--</td><td>--</td><td>--</td><td>-0.36556202</td><td>--</td><td>--</td><td>--</td><td>--</td><td>--</td><td>--</td><td>--</td><td>--</td><td>--</td><td>159</td><td>0</td><td>157</td><td>2</td><td>1.7378484</td><td>183.60126</td><td>2.3168027</td><td>0.87505645</td><td>3</td><td>False</td><td>--</td><td>--</td><td>--</td><td>--</td><td>--</td><td>--</td><td>--</td><td>--</td><td>19</td><td>10</td><td>4.938979</td><td>19</td><td>12</td><td>0</td><td>0.052612685</td><td>144.61276</td><td>0</td><td>0</td><td>--</td><td>0.5477588</td><td>0.7581734</td><td>0.4862959</td><td>0.51670074</td><td>10.4736395</td><td>12.549255</td><td>9.585402</td><td>16.988644</td><td>False</td><td>155</td><td>87.48119529215542</td><td>1.0079906</td><td>86.78771</td><td>20.83258</td><td>0</td><td>--</td><td>--</td><td>--</td><td>--</td><td>0</td><td>--</td><td>--</td><td>--</td><td>--</td><td>--</td><td>--</td><td>--</td><td>--</td><td>--</td><td>2</td><td>--</td><td>--</td><td>--</td><td>--</td><td>--</td><td>--</td><td>--</td><td>--</td><td>--</td><td>--</td><td>--</td><td>--</td><td>--</td><td>--</td><td>--</td><td>--</td><td>--</td><td>--</td><td>--</td><td>--</td><td>--</td><td>--</td><td>--</td><td>--</td><td>--</td><td>NOT_AVAILABLE</td><td>182.51549123402435</td><td>-3.6441968367988227</td><td>84.93705303163708</td><td>1.5369323867091964</td><td>False</td><td>False</td><td>0</td><td>False</td><td>False</td><td>False</td><td>False</td><td>False</td><td>False</td><td>False</td><td>False</td><td>--</td><td>--</td><td>--</td><td>--</td><td>--</td><td>--</td><td>--</td><td>--</td><td>--</td><td>--</td><td>--</td><td>--</td><td>--</td><td>--</td><td>--</td><td>--</td><td>--</td><td>--</td><td>--</td><td>--</td><td>--</td><td>--</td><td>--</td><td>--</td><td></td><td>74919381</td><td>0.0009917067662918275</td></tr>\n",
       "<tr><td>1636148068921376768</td><td>Gaia DR3 5522806675370395904</td><td>5522806675370395904</td><td>1159980810</td><td>2016.0</td><td>128.1904155492169</td><td>1.0622016</td><td>-44.571994157330614</td><td>1.7211133</td><td>--</td><td>--</td><td>--</td><td>--</td><td>--</td><td>--</td><td>--</td><td>--</td><td>0.16535598</td><td>--</td><td>--</td><td>--</td><td>--</td><td>--</td><td>--</td><td>--</td><td>--</td><td>--</td><td>103</td><td>0</td><td>103</td><td>0</td><td>0.29802084</td><td>101.54759</td><td>0.0</td><td>0.0</td><td>3</td><td>False</td><td>--</td><td>--</td><td>--</td><td>--</td><td>--</td><td>--</td><td>--</td><td>--</td><td>12</td><td>10</td><td>2.8016086</td><td>14</td><td>6</td><td>0</td><td>0.021112882</td><td>2.7729692</td><td>0</td><td>0</td><td>--</td><td>0.5538037</td><td>0.3136262</td><td>0.09258984</td><td>0.18160628</td><td>-73.1754</td><td>89.481346</td><td>36.67839</td><td>-2.225549</td><td>False</td><td>99</td><td>78.43205088120234</td><td>1.1539582</td><td>67.96785</td><td>20.951134</td><td>10</td><td>23.545367461604126</td><td>6.395788</td><td>3.6813865</td><td>21.90878</td><td>12</td><td>86.16844356886973</td><td>10.423576</td><td>8.266687</td><td>19.909525</td><td>1.398839</td><td>0</td><td>0</td><td>0</td><td>0</td><td>0</td><td>1.9992542</td><td>0.9576454</td><td>1.0416088</td><td>--</td><td>--</td><td>--</td><td>--</td><td>--</td><td>--</td><td>--</td><td>--</td><td>--</td><td>--</td><td>--</td><td>--</td><td>--</td><td>--</td><td>--</td><td>--</td><td>--</td><td>--</td><td>--</td><td>--</td><td>--</td><td>--</td><td>NOT_AVAILABLE</td><td>262.7930231361015</td><td>-2.7946959318180755</td><td>151.9651492886288</td><td>-60.06663932783812</td><td>False</td><td>False</td><td>0</td><td>False</td><td>False</td><td>False</td><td>False</td><td>False</td><td>False</td><td>False</td><td>False</td><td>6.152706e-05</td><td>1.2961411e-05</td><td>0.99969846</td><td>--</td><td>--</td><td>--</td><td>--</td><td>--</td><td>--</td><td>--</td><td>--</td><td>--</td><td>--</td><td>--</td><td>--</td><td>--</td><td>--</td><td>--</td><td>--</td><td>--</td><td>--</td><td>--</td><td>--</td><td>--</td><td></td><td>140593601</td><td>0.002385014914772574</td></tr>\n",
       "<tr><td>1636148068921376768</td><td>Gaia DR3 5522806675375094400</td><td>5522806675375094400</td><td>195311336</td><td>2016.0</td><td>128.19235237820087</td><td>0.013940811</td><td>-44.57337263676434</td><td>0.0179053</td><td>1.1132495969357825</td><td>0.017877843</td><td>62.26979</td><td>14.412042</td><td>-11.770433409132796</td><td>0.018706627</td><td>8.316479402177553</td><td>0.021040997</td><td>0.07310515</td><td>0.06211418</td><td>-0.27336103</td><td>0.07542033</td><td>0.3496964</td><td>0.112021066</td><td>-0.3885166</td><td>0.07950149</td><td>-0.047516994</td><td>0.034689333</td><td>342</td><td>0</td><td>340</td><td>2</td><td>-0.16891427</td><td>335.75107</td><td>0.0</td><td>0.0</td><td>31</td><td>False</td><td>1.484096</td><td>--</td><td>--</td><td>--</td><td>--</td><td>--</td><td>--</td><td>--</td><td>40</td><td>26</td><td>0.030289631</td><td>44</td><td>19</td><td>0</td><td>0.007990813</td><td>16.162025</td><td>0</td><td>0</td><td>0.9924887</td><td>0.121708065</td><td>0.20044833</td><td>0.061720695</td><td>0.049543127</td><td>-43.032078</td><td>-65.75853</td><td>28.250895</td><td>-10.333856</td><td>False</td><td>337</td><td>31003.09672052142</td><td>5.725315</td><td>5415.09</td><td>14.458854</td><td>40</td><td>14250.124527550115</td><td>13.953229</td><td>1021.2779</td><td>14.953996</td><td>33</td><td>24121.89958651615</td><td>18.499483</td><td>1303.9229</td><td>13.791866</td><td>1.2376835</td><td>0</td><td>0</td><td>0</td><td>1</td><td>0</td><td>1.1621294</td><td>0.49514198</td><td>0.6669874</td><td>43.768604</td><td>7.00435</td><td>2</td><td>5</td><td>1</td><td>4</td><td>2.9608212</td><td>--</td><td>--</td><td>733.4</td><td>--</td><td>5500.0</td><td>0.5</td><td>-1.0</td><td>111</td><td>--</td><td>--</td><td>--</td><td>13.88446</td><td>0.34144965</td><td>5</td><td>--</td><td>NOT_AVAILABLE</td><td>262.7949534789277</td><td>-2.7944018753308564</td><td>151.96891674370139</td><td>-60.06715870109388</td><td>False</td><td>False</td><td>0</td><td>True</td><td>True</td><td>False</td><td>False</td><td>False</td><td>True</td><td>True</td><td>False</td><td>1.02091736e-13</td><td>5.099431e-13</td><td>0.99999315</td><td>6028.6196</td><td>6000.7217</td><td>6048.8354</td><td>4.2206</td><td>4.21</td><td>4.2307</td><td>-0.8482</td><td>-0.8762</td><td>-0.8215</td><td>867.8656</td><td>854.0231</td><td>882.9895</td><td>1.0521</td><td>1.0358</td><td>1.0634</td><td>0.8673</td><td>0.8532</td><td>0.8769</td><td>0.475</td><td>0.4674</td><td>0.4802</td><td>MARCS</td><td>140593601</td><td>0.002521145408345892</td></tr>\n",
       "<tr><td>1636148068921376768</td><td>Gaia DR3 5522807049023318400</td><td>5522807049023318400</td><td>520971358</td><td>2016.0</td><td>128.1934395371829</td><td>0.02157465</td><td>-44.57097758982953</td><td>0.043663707</td><td>0.3323288524843083</td><td>0.03065049</td><td>10.842529</td><td>4.8687143</td><td>-2.8873137538154836</td><td>0.02890325</td><td>3.9201783313087617</td><td>0.048482187</td><td>0.11211108</td><td>0.06582153</td><td>-0.14777271</td><td>0.02423073</td><td>0.1914472</td><td>0.0958819</td><td>-0.60816884</td><td>0.02318092</td><td>0.036659073</td><td>0.004573597</td><td>347</td><td>0</td><td>287</td><td>60</td><td>14.927878</td><td>1109.3684</td><td>0.25748026</td><td>35.675266</td><td>95</td><td>False</td><td>--</td><td>1.43292</td><td>0.0068988064</td><td>0.0010648811</td><td>-0.11590787</td><td>-0.117065385</td><td>-0.07224551</td><td>0.14628264</td><td>34</td><td>22</td><td>0.07346605</td><td>45</td><td>19</td><td>0</td><td>0.04817675</td><td>1.2623761</td><td>71</td><td>0</td><td>1.690348</td><td>0.14306207</td><td>0.43290251</td><td>0.20288633</td><td>0.051040694</td><td>-69.0375</td><td>-79.55121</td><td>40.58669</td><td>40.54376</td><td>False</td><td>300</td><td>57196.72449625377</td><td>31.130327</td><td>1837.3313</td><td>13.793939</td><td>43</td><td>26009.1363044734</td><td>52.810143</td><td>492.5027</td><td>14.300728</td><td>42</td><td>59952.55695357003</td><td>93.443115</td><td>641.5942</td><td>12.803376</td><td>1.5029129</td><td>1</td><td>0</td><td>0</td><td>1</td><td>0</td><td>1.4973516</td><td>0.5067892</td><td>0.99056244</td><td>--</td><td>--</td><td>--</td><td>--</td><td>--</td><td>--</td><td>--</td><td>--</td><td>--</td><td>--</td><td>--</td><td>--</td><td>--</td><td>--</td><td>--</td><td>--</td><td>--</td><td>--</td><td>--</td><td>--</td><td>--</td><td>--</td><td>NOT_AVAILABLE</td><td>262.7934819501697</td><td>-2.7923584032526003</td><td>151.9679014682686</td><td>-60.064693064760284</td><td>False</td><td>False</td><td>0</td><td>True</td><td>True</td><td>False</td><td>False</td><td>False</td><td>False</td><td>True</td><td>False</td><td>1.00033405e-10</td><td>6.6881123e-10</td><td>0.9999988</td><td>--</td><td>--</td><td>--</td><td>--</td><td>--</td><td>--</td><td>--</td><td>--</td><td>--</td><td>--</td><td>--</td><td>--</td><td>--</td><td>--</td><td>--</td><td>--</td><td>--</td><td>--</td><td>--</td><td>--</td><td>--</td><td></td><td>140593601</td><td>4.012582612500251e-06</td></tr>\n",
       "<tr><td>1636148068921376768</td><td>Gaia DR3 5423787162136736384</td><td>5423787162136736384</td><td>439654378</td><td>2016.0</td><td>139.33073754000313</td><td>0.20654565</td><td>-45.03635593146755</td><td>0.24747033</td><td>-0.00019663866037902822</td><td>0.28356895</td><td>-0.0006934422</td><td>4.9012804</td><td>-3.9001566310443323</td><td>0.28503174</td><td>2.968387962244681</td><td>0.29783502</td><td>-0.07089883</td><td>-0.010340539</td><td>0.022394923</td><td>0.06731402</td><td>-0.041946877</td><td>0.056222204</td><td>-0.104689404</td><td>0.029120328</td><td>-0.054702826</td><td>0.064019546</td><td>402</td><td>0</td><td>402</td><td>0</td><td>-0.15792133</td><td>411.03366</td><td>0.0</td><td>0.0</td><td>31</td><td>False</td><td>1.4077978</td><td>--</td><td>--</td><td>--</td><td>--</td><td>--</td><td>--</td><td>--</td><td>46</td><td>25</td><td>0.41909596</td><td>49</td><td>20</td><td>0</td><td>0.0047272104</td><td>140.61755</td><td>0</td><td>0</td><td>0.9935629</td><td>0.21491921</td><td>0.17447032</td><td>0.10656515</td><td>0.23154902</td><td>-66.90355</td><td>89.38125</td><td>-2.4618294</td><td>-20.00764</td><td>False</td><td>406</td><td>245.80636139442703</td><td>0.7981248</td><td>307.97986</td><td>19.710884</td><td>44</td><td>99.15943833884134</td><td>5.487059</td><td>18.071508</td><td>20.347708</td><td>44</td><td>222.75649132429788</td><td>4.949694</td><td>45.004093</td><td>18.878319</td><td>1.3096322</td><td>0</td><td>0</td><td>0</td><td>0</td><td>0</td><td>1.469389</td><td>0.63682365</td><td>0.8325653</td><td>--</td><td>--</td><td>--</td><td>--</td><td>--</td><td>--</td><td>--</td><td>--</td><td>--</td><td>--</td><td>--</td><td>--</td><td>--</td><td>--</td><td>--</td><td>--</td><td>--</td><td>--</td><td>--</td><td>--</td><td>--</td><td>--</td><td>NOT_AVAILABLE</td><td>268.2507611313903</td><td>2.9352202527568156</td><td>165.25417815268463</td><td>-56.34139622918438</td><td>False</td><td>False</td><td>0</td><td>False</td><td>False</td><td>False</td><td>False</td><td>False</td><td>False</td><td>False</td><td>False</td><td>1.11922506e-10</td><td>2.0769578e-10</td><td>0.99999684</td><td>--</td><td>--</td><td>--</td><td>--</td><td>--</td><td>--</td><td>--</td><td>--</td><td>--</td><td>--</td><td>--</td><td>--</td><td>--</td><td>--</td><td>--</td><td>--</td><td>--</td><td>--</td><td>--</td><td>--</td><td>--</td><td></td><td>75740921</td><td>0.002527387257983531</td></tr>\n",
       "<tr><td>1636148068921376768</td><td>Gaia DR3 5423787166426863744</td><td>5423787166426863744</td><td>1388020246</td><td>2016.0</td><td>139.33127146496892</td><td>0.08289597</td><td>-45.03845169488019</td><td>0.09413658</td><td>0.2755109281812177</td><td>0.11305258</td><td>2.4370158</td><td>6.0348377</td><td>-3.772913496105006</td><td>0.12023225</td><td>4.710030522233937</td><td>0.11243198</td><td>-0.04721059</td><td>-0.056427374</td><td>-0.046441223</td><td>-0.009314437</td><td>0.1715557</td><td>0.014532208</td><td>-0.28252676</td><td>0.22478011</td><td>-0.14841674</td><td>0.0062372456</td><td>351</td><td>0</td><td>351</td><td>0</td><td>4.812808</td><td>510.88916</td><td>0.5997015</td><td>5.289362</td><td>95</td><td>False</td><td>--</td><td>1.4221883</td><td>0.028853431</td><td>-0.1038677</td><td>-0.2032759</td><td>-0.1746586</td><td>0.037120398</td><td>0.24008784</td><td>41</td><td>24</td><td>0.16751437</td><td>44</td><td>21</td><td>0</td><td>0.003484187</td><td>164.5475</td><td>10</td><td>2</td><td>1.1876831</td><td>0.17188196</td><td>0.09633194</td><td>0.15970974</td><td>0.2975471</td><td>-99.43262</td><td>83.0959</td><td>2.3285651</td><td>-13.621617</td><td>False</td><td>354</td><td>1471.273050745709</td><td>2.2913845</td><td>642.0892</td><td>17.768133</td><td>10</td><td>2071.84212395197</td><td>237.47282</td><td>8.724545</td><td>17.047651</td><td>10</td><td>2959.853799859853</td><td>245.75343</td><td>12.043998</td><td>16.06972</td><td>3.4199607</td><td>10</td><td>0</td><td>7</td><td>0</td><td>0</td><td>0.977932</td><td>-0.7204819</td><td>1.6984138</td><td>--</td><td>--</td><td>--</td><td>--</td><td>--</td><td>--</td><td>--</td><td>--</td><td>--</td><td>--</td><td>--</td><td>--</td><td>--</td><td>--</td><td>--</td><td>--</td><td>--</td><td>--</td><td>--</td><td>--</td><td>--</td><td>--</td><td>NOT_AVAILABLE</td><td>268.252528474909</td><td>2.9340289257878593</td><td>165.25680768074884</td><td>-56.34294885712284</td><td>False</td><td>False</td><td>0</td><td>False</td><td>False</td><td>False</td><td>False</td><td>False</td><td>False</td><td>True</td><td>False</td><td>1.8936083e-10</td><td>1.4235508e-06</td><td>0.9999969</td><td>--</td><td>--</td><td>--</td><td>--</td><td>--</td><td>--</td><td>--</td><td>--</td><td>--</td><td>--</td><td>--</td><td>--</td><td>--</td><td>--</td><td>--</td><td>--</td><td>--</td><td>--</td><td>--</td><td>--</td><td>--</td><td></td><td>75740921</td><td>0.0006795378208818612</td></tr>\n",
       "<tr><td>1636148068921376768</td><td>Gaia DR3 5423787166437660032</td><td>5423787166437660032</td><td>1063493513</td><td>2016.0</td><td>139.33052007348354</td><td>0.17323114</td><td>-45.03887570899464</td><td>0.21545403</td><td>1.2809961779541688</td><td>0.23344244</td><td>5.4874177</td><td>7.263879</td><td>-5.045293657426807</td><td>0.2461872</td><td>5.225796102649883</td><td>0.24799922</td><td>0.0060811793</td><td>-0.06290689</td><td>-0.03660622</td><td>-0.016302109</td><td>0.09278254</td><td>-0.033291638</td><td>-0.16473973</td><td>0.03772576</td><td>-0.06356168</td><td>0.14039691</td><td>413</td><td>90</td><td>385</td><td>28</td><td>184.08017</td><td>163064.03</td><td>2.5887907</td><td>6006.6577</td><td>95</td><td>False</td><td>--</td><td>1.624181</td><td>0.05655059</td><td>-0.11940119</td><td>-0.089055754</td><td>-0.030102126</td><td>0.080426045</td><td>0.08202223</td><td>47</td><td>26</td><td>0.36650002</td><td>52</td><td>52</td><td>0</td><td>0.21797717</td><td>6.8807387</td><td>81</td><td>0</td><td>12.747004</td><td>--</td><td>--</td><td>--</td><td>--</td><td>--</td><td>--</td><td>--</td><td>--</td><td>False</td><td>337</td><td>96611.38728145801</td><td>337.74854</td><td>286.04532</td><td>13.224796</td><td>48</td><td>86011.31378982215</td><td>374.5038</td><td>229.66739</td><td>13.002153</td><td>47</td><td>97555.03696611471</td><td>433.33038</td><td>225.12854</td><td>12.274772</td><td>1.9000489</td><td>0</td><td>0</td><td>0</td><td>0</td><td>0</td><td>0.7273817</td><td>-0.2226429</td><td>0.9500246</td><td>--</td><td>--</td><td>--</td><td>--</td><td>--</td><td>--</td><td>--</td><td>--</td><td>--</td><td>--</td><td>--</td><td>--</td><td>--</td><td>--</td><td>--</td><td>--</td><td>--</td><td>--</td><td>--</td><td>--</td><td>--</td><td>--</td><td>NOT_AVAILABLE</td><td>268.25246192858066</td><td>2.9333526974627033</td><td>165.25642054776617</td><td>-56.34359358000528</td><td>False</td><td>False</td><td>0</td><td>True</td><td>True</td><td>False</td><td>False</td><td>False</td><td>False</td><td>True</td><td>False</td><td>2.607363e-08</td><td>2.6424893e-09</td><td>0.9996707</td><td>--</td><td>--</td><td>--</td><td>--</td><td>--</td><td>--</td><td>--</td><td>--</td><td>--</td><td>--</td><td>--</td><td>--</td><td>--</td><td>--</td><td>--</td><td>--</td><td>--</td><td>--</td><td>--</td><td>--</td><td>--</td><td></td><td>75740921</td><td>3.90846087603622e-06</td></tr>\n",
       "<tr><td>...</td><td>...</td><td>...</td><td>...</td><td>...</td><td>...</td><td>...</td><td>...</td><td>...</td><td>...</td><td>...</td><td>...</td><td>...</td><td>...</td><td>...</td><td>...</td><td>...</td><td>...</td><td>...</td><td>...</td><td>...</td><td>...</td><td>...</td><td>...</td><td>...</td><td>...</td><td>...</td><td>...</td><td>...</td><td>...</td><td>...</td><td>...</td><td>...</td><td>...</td><td>...</td><td>...</td><td>...</td><td>...</td><td>...</td><td>...</td><td>...</td><td>...</td><td>...</td><td>...</td><td>...</td><td>...</td><td>...</td><td>...</td><td>...</td><td>...</td><td>...</td><td>...</td><td>...</td><td>...</td><td>...</td><td>...</td><td>...</td><td>...</td><td>...</td><td>...</td><td>...</td><td>...</td><td>...</td><td>...</td><td>...</td><td>...</td><td>...</td><td>...</td><td>...</td><td>...</td><td>...</td><td>...</td><td>...</td><td>...</td><td>...</td><td>...</td><td>...</td><td>...</td><td>...</td><td>...</td><td>...</td><td>...</td><td>...</td><td>...</td><td>...</td><td>...</td><td>...</td><td>...</td><td>...</td><td>...</td><td>...</td><td>...</td><td>...</td><td>...</td><td>...</td><td>...</td><td>...</td><td>...</td><td>...</td><td>...</td><td>...</td><td>...</td><td>...</td><td>...</td><td>...</td><td>...</td><td>...</td><td>...</td><td>...</td><td>...</td><td>...</td><td>...</td><td>...</td><td>...</td><td>...</td><td>...</td><td>...</td><td>...</td><td>...</td><td>...</td><td>...</td><td>...</td><td>...</td><td>...</td><td>...</td><td>...</td><td>...</td><td>...</td><td>...</td><td>...</td><td>...</td><td>...</td><td>...</td><td>...</td><td>...</td><td>...</td><td>...</td><td>...</td><td>...</td><td>...</td><td>...</td><td>...</td><td>...</td><td>...</td><td>...</td><td>...</td><td>...</td><td>...</td><td>...</td><td>...</td><td>...</td><td>...</td><td>...</td><td>...</td></tr>\n",
       "<tr><td>1636148068921376768</td><td>Gaia DR3 3445472762568327808</td><td>3445472762568327808</td><td>1215571471</td><td>2016.0</td><td>81.89399081626603</td><td>0.40584895</td><td>28.55115348478081</td><td>0.2560312</td><td>2.904304910190851</td><td>0.42494935</td><td>6.834473</td><td>10.302286</td><td>-10.30220130831087</td><td>0.5806735</td><td>0.04170269401339819</td><td>0.29910135</td><td>-0.5220416</td><td>0.042965017</td><td>-0.025188519</td><td>0.317786</td><td>-0.068564184</td><td>0.2821673</td><td>-0.58199</td><td>0.47197038</td><td>0.01505403</td><td>-0.49182573</td><td>209</td><td>0</td><td>208</td><td>1</td><td>1.1255585</td><td>262.78607</td><td>1.0022792</td><td>2.3801908</td><td>95</td><td>False</td><td>--</td><td>1.1760261</td><td>0.06836332</td><td>-0.018535739</td><td>-0.103084095</td><td>-0.15690754</td><td>-0.08524802</td><td>0.13482767</td><td>24</td><td>11</td><td>0.85006946</td><td>24</td><td>10</td><td>0</td><td>0.07356582</td><td>175.95557</td><td>0</td><td>0</td><td>1.0548378</td><td>0.110618435</td><td>0.6295546</td><td>0.2213669</td><td>0.36510167</td><td>-89.17073</td><td>18.278492</td><td>-27.598112</td><td>34.099613</td><td>False</td><td>208</td><td>438.43195066181147</td><td>1.3055745</td><td>335.81534</td><td>19.082611</td><td>19</td><td>74.05113398944931</td><td>8.95458</td><td>8.269638</td><td>20.664713</td><td>17</td><td>605.8778889350235</td><td>9.83809</td><td>61.58491</td><td>17.791933</td><td>1.55082</td><td>0</td><td>0</td><td>0</td><td>0</td><td>0</td><td>2.8727798</td><td>1.5821018</td><td>1.290678</td><td>--</td><td>--</td><td>--</td><td>--</td><td>--</td><td>--</td><td>--</td><td>--</td><td>--</td><td>--</td><td>--</td><td>--</td><td>--</td><td>--</td><td>--</td><td>--</td><td>--</td><td>--</td><td>--</td><td>--</td><td>--</td><td>--</td><td>NOT_AVAILABLE</td><td>178.19809701192764</td><td>-3.542148500338837</td><td>82.85437270491626</td><td>5.312718379521956</td><td>False</td><td>False</td><td>0</td><td>False</td><td>False</td><td>False</td><td>False</td><td>False</td><td>False</td><td>False</td><td>False</td><td>2.2400856e-13</td><td>5.129716e-13</td><td>0.9999629</td><td>--</td><td>--</td><td>--</td><td>--</td><td>--</td><td>--</td><td>--</td><td>--</td><td>--</td><td>--</td><td>--</td><td>--</td><td>--</td><td>--</td><td>--</td><td>--</td><td>--</td><td>--</td><td>--</td><td>--</td><td>--</td><td></td><td>285853156</td><td>0.001984907649821119</td></tr>\n",
       "<tr><td>1636148068921376768</td><td>Gaia DR3 5885035386659231488</td><td>5885035386659231488</td><td>89537148</td><td>2016.0</td><td>237.42595491283717</td><td>0.18777764</td><td>-53.50707711118218</td><td>0.17843191</td><td>0.07932566390864836</td><td>0.27119973</td><td>0.29249904</td><td>6.3907747</td><td>-4.3282652363957865</td><td>0.2570917</td><td>-4.7019272576182765</td><td>0.23650348</td><td>-0.101758294</td><td>0.0975431</td><td>-0.10620388</td><td>-0.30970252</td><td>-0.32651287</td><td>-0.32301903</td><td>0.36839417</td><td>-0.01297796</td><td>-0.21992354</td><td>-0.21140227</td><td>336</td><td>0</td><td>335</td><td>1</td><td>2.3657858</td><td>438.32532</td><td>0.8702158</td><td>2.979607</td><td>95</td><td>False</td><td>--</td><td>1.241419</td><td>0.051662825</td><td>0.049121603</td><td>0.30596086</td><td>-0.16602224</td><td>-0.07392011</td><td>0.016705409</td><td>39</td><td>18</td><td>0.38902155</td><td>43</td><td>17</td><td>0</td><td>0.012035102</td><td>21.783537</td><td>0</td><td>0</td><td>1.0925877</td><td>0.30943868</td><td>0.23620717</td><td>0.039872997</td><td>0.30603027</td><td>-19.307789</td><td>17.476212</td><td>-12.575222</td><td>-38.73946</td><td>False</td><td>301</td><td>531.7073375270556</td><td>2.9809067</td><td>178.371</td><td>18.873186</td><td>17</td><td>147.76682813167443</td><td>18.495138</td><td>7.9894958</td><td>19.9146</td><td>20</td><td>947.6825674984034</td><td>29.96463</td><td>31.626707</td><td>17.306238</td><td>2.0602489</td><td>0</td><td>0</td><td>0</td><td>1</td><td>0</td><td>2.6083622</td><td>1.0414143</td><td>1.5669479</td><td>--</td><td>--</td><td>--</td><td>--</td><td>--</td><td>--</td><td>--</td><td>--</td><td>--</td><td>--</td><td>--</td><td>--</td><td>--</td><td>--</td><td>--</td><td>--</td><td>--</td><td>--</td><td>--</td><td>--</td><td>--</td><td>--</td><td>NOT_AVAILABLE</td><td>327.6000790881701</td><td>0.6022660717609317</td><td>247.6713862350234</td><td>-32.56372148873974</td><td>False</td><td>False</td><td>0</td><td>False</td><td>False</td><td>False</td><td>False</td><td>False</td><td>True</td><td>False</td><td>False</td><td>2.6637026e-13</td><td>1.8609954e-10</td><td>0.9999979</td><td>4010.3635</td><td>3925.9697</td><td>4093.2334</td><td>4.2145</td><td>4.1462</td><td>4.2813</td><td>-1.7013</td><td>-1.9672</td><td>-1.5591</td><td>521.4314</td><td>445.9586</td><td>577.3753</td><td>4.1737</td><td>4.0207</td><td>4.305</td><td>2.7664</td><td>2.6538</td><td>2.8636</td><td>1.5406</td><td>1.4775</td><td>1.595</td><td>MARCS</td><td>274862252</td><td>0.0008571787278672045</td></tr>\n",
       "<tr><td>1636148068921376768</td><td>Gaia DR3 5885035386659233792</td><td>5885035386659233792</td><td>1769790780</td><td>2016.0</td><td>237.42800823438134</td><td>0.18789014</td><td>-53.504849726745235</td><td>0.18855879</td><td>0.2909046262790539</td><td>0.28395793</td><td>1.0244639</td><td>6.5315514</td><td>-4.9492083569552126</td><td>0.26509088</td><td>-4.2622174743491685</td><td>0.2704375</td><td>-0.13933653</td><td>0.10311482</td><td>-0.02582928</td><td>-0.2052139</td><td>-0.38001034</td><td>-0.18705308</td><td>0.5468514</td><td>-0.04641662</td><td>-0.29490393</td><td>-0.19025084</td><td>326</td><td>0</td><td>325</td><td>1</td><td>-0.084633574</td><td>348.6166</td><td>0.0</td><td>0.0</td><td>95</td><td>False</td><td>--</td><td>1.2426778</td><td>0.052436464</td><td>-0.025792552</td><td>0.25775588</td><td>-0.18133415</td><td>0.016759433</td><td>0.09404349</td><td>38</td><td>19</td><td>0.4209745</td><td>42</td><td>14</td><td>0</td><td>0.008179702</td><td>16.956228</td><td>0</td><td>0</td><td>0.9956076</td><td>0.28874704</td><td>0.23325387</td><td>0.14000817</td><td>0.23856618</td><td>-43.94671</td><td>16.203629</td><td>-25.104261</td><td>-33.071636</td><td>False</td><td>331</td><td>424.70126062317036</td><td>0.98903316</td><td>429.41055</td><td>19.117159</td><td>37</td><td>102.50232371603168</td><td>5.948045</td><td>17.232944</td><td>20.311708</td><td>40</td><td>475.7538420567698</td><td>6.6551476</td><td>71.486595</td><td>18.05444</td><td>1.3615597</td><td>0</td><td>0</td><td>0</td><td>0</td><td>0</td><td>2.257269</td><td>1.1945496</td><td>1.0627193</td><td>--</td><td>--</td><td>--</td><td>--</td><td>--</td><td>--</td><td>--</td><td>--</td><td>--</td><td>--</td><td>--</td><td>--</td><td>--</td><td>--</td><td>--</td><td>--</td><td>--</td><td>--</td><td>--</td><td>--</td><td>--</td><td>--</td><td>NOT_AVAILABLE</td><td>327.60242410336633</td><td>0.6032428318712143</td><td>247.67211611028875</td><td>-32.56125691012639</td><td>False</td><td>False</td><td>0</td><td>False</td><td>False</td><td>False</td><td>False</td><td>False</td><td>False</td><td>False</td><td>False</td><td>1.0250114e-13</td><td>5.098194e-13</td><td>0.99999666</td><td>--</td><td>--</td><td>--</td><td>--</td><td>--</td><td>--</td><td>--</td><td>--</td><td>--</td><td>--</td><td>--</td><td>--</td><td>--</td><td>--</td><td>--</td><td>--</td><td>--</td><td>--</td><td>--</td><td>--</td><td>--</td><td></td><td>274862252</td><td>0.0016892246324454942</td></tr>\n",
       "<tr><td>1636148068921376768</td><td>Gaia DR3 5885035386661044096</td><td>5885035386661044096</td><td>1511260466</td><td>2016.0</td><td>237.4278427012711</td><td>3.7571409</td><td>-53.50885564923351</td><td>2.694984</td><td>--</td><td>--</td><td>--</td><td>--</td><td>--</td><td>--</td><td>--</td><td>--</td><td>0.4247208</td><td>--</td><td>--</td><td>--</td><td>--</td><td>--</td><td>--</td><td>--</td><td>--</td><td>--</td><td>43</td><td>0</td><td>43</td><td>0</td><td>1.8111734</td><td>55.217613</td><td>4.568666</td><td>1.001139</td><td>3</td><td>False</td><td>--</td><td>--</td><td>--</td><td>--</td><td>--</td><td>--</td><td>--</td><td>--</td><td>5</td><td>5</td><td>11.838507</td><td>6</td><td>1</td><td>0</td><td>0.3909198</td><td>70.814705</td><td>0</td><td>0</td><td>--</td><td>0.335138</td><td>0.6183575</td><td>0.52130365</td><td>0.24358737</td><td>-57.653877</td><td>-5.3402944</td><td>-39.446693</td><td>27.324978</td><td>False</td><td>50</td><td>75.3933744302028</td><td>2.0769506</td><td>36.300034</td><td>20.994034</td><td>3</td><td>48.544604345728835</td><td>26.403086</td><td>1.8385959</td><td>21.12319</td><td>6</td><td>69.36548647562715</td><td>10.258761</td><td>6.7615848</td><td>20.145037</td><td>1.5639317</td><td>0</td><td>0</td><td>0</td><td>0</td><td>1</td><td>0.9781532</td><td>0.12915611</td><td>0.8489971</td><td>--</td><td>--</td><td>--</td><td>--</td><td>--</td><td>--</td><td>--</td><td>--</td><td>--</td><td>--</td><td>--</td><td>--</td><td>--</td><td>--</td><td>--</td><td>--</td><td>--</td><td>--</td><td>--</td><td>--</td><td>--</td><td>--</td><td>NOT_AVAILABLE</td><td>327.59984500700557</td><td>0.6001758949094099</td><td>247.67321085829454</td><td>-32.56515637428361</td><td>False</td><td>False</td><td>0</td><td>False</td><td>False</td><td>False</td><td>False</td><td>False</td><td>False</td><td>False</td><td>False</td><td>6.1004237e-05</td><td>1.0828387e-05</td><td>0.99923414</td><td>--</td><td>--</td><td>--</td><td>--</td><td>--</td><td>--</td><td>--</td><td>--</td><td>--</td><td>--</td><td>--</td><td>--</td><td>--</td><td>--</td><td>--</td><td>--</td><td>--</td><td>--</td><td>--</td><td>--</td><td>--</td><td></td><td>274862252</td><td>0.0026846446036659067</td></tr>\n",
       "<tr><td>1636148068921376768</td><td>Gaia DR3 5885035386669240960</td><td>5885035386669240960</td><td>316526434</td><td>2016.0</td><td>237.426520705239</td><td>0.019131048</td><td>-53.50628879549225</td><td>0.016738405</td><td>0.2312393841780429</td><td>0.026368072</td><td>8.769673</td><td>3.9003377</td><td>-2.747405375872517</td><td>0.025539864</td><td>-2.768464970106929</td><td>0.02463162</td><td>-0.2562413</td><td>0.052571226</td><td>-0.038228903</td><td>-0.32425067</td><td>-0.24287686</td><td>-0.34484264</td><td>0.40425128</td><td>0.06990848</td><td>-0.28118426</td><td>-0.34601733</td><td>363</td><td>0</td><td>362</td><td>1</td><td>2.1522555</td><td>417.86295</td><td>0.054860365</td><td>0.98922086</td><td>31</td><td>False</td><td>1.2508109</td><td>--</td><td>--</td><td>--</td><td>--</td><td>--</td><td>--</td><td>--</td><td>42</td><td>19</td><td>0.041503076</td><td>46</td><td>17</td><td>0</td><td>0.016016828</td><td>42.9937</td><td>0</td><td>0</td><td>1.0806596</td><td>0.24535345</td><td>0.26009026</td><td>0.0388287</td><td>0.2531937</td><td>-30.273405</td><td>19.327576</td><td>-20.84862</td><td>-37.932663</td><td>False</td><td>340</td><td>26560.708763480685</td><td>42.616665</td><td>623.247</td><td>14.626768</td><td>36</td><td>4445.484406360619</td><td>31.036743</td><td>143.23296</td><td>16.218744</td><td>33</td><td>34461.025618934254</td><td>115.6932</td><td>297.8656</td><td>13.404575</td><td>1.4648144</td><td>1</td><td>1</td><td>0</td><td>1</td><td>0</td><td>2.814169</td><td>1.5919762</td><td>1.2221928</td><td>--</td><td>--</td><td>--</td><td>--</td><td>--</td><td>--</td><td>--</td><td>--</td><td>--</td><td>--</td><td>--</td><td>--</td><td>--</td><td>--</td><td>--</td><td>--</td><td>--</td><td>--</td><td>--</td><td>--</td><td>--</td><td>--</td><td>NOT_AVAILABLE</td><td>327.60083428131685</td><td>0.6026715537473503</td><td>247.67153471130268</td><td>-32.562873543928674</td><td>False</td><td>False</td><td>0</td><td>True</td><td>True</td><td>False</td><td>False</td><td>False</td><td>False</td><td>True</td><td>False</td><td>1.0202233e-13</td><td>5.2743183e-13</td><td>1.0</td><td>7286.625</td><td>7198.9917</td><td>7315.7524</td><td>2.2548</td><td>2.2394</td><td>2.2652</td><td>-0.9906</td><td>-1.0416</td><td>-0.8242</td><td>4826.6147</td><td>4769.3</td><td>4905.0566</td><td>6.0489</td><td>6.0027</td><td>6.0651</td><td>4.5008</td><td>4.4574</td><td>4.5153</td><td>2.5519</td><td>2.5241</td><td>2.5607</td><td>MARCS</td><td>274862252</td><td>8.599792003663678e-08</td></tr>\n",
       "<tr><td>1636148068921376768</td><td>Gaia DR3 5885035455388718592</td><td>5885035455388718592</td><td>672727965</td><td>2016.0</td><td>237.42323817253077</td><td>0.06935356</td><td>-53.505542223779265</td><td>0.06178266</td><td>0.45259918483674805</td><td>0.09947931</td><td>4.5496817</td><td>2.4417477</td><td>-1.063582943564153</td><td>0.09731693</td><td>-2.1979360829489463</td><td>0.08714418</td><td>-0.1928639</td><td>0.116182186</td><td>-0.0050896816</td><td>-0.3178305</td><td>-0.28965697</td><td>-0.34326524</td><td>0.3874834</td><td>0.100548744</td><td>-0.23674844</td><td>-0.2795731</td><td>338</td><td>0</td><td>337</td><td>1</td><td>2.3926182</td><td>415.96814</td><td>0.3154565</td><td>2.7862256</td><td>31</td><td>False</td><td>1.3279122</td><td>--</td><td>--</td><td>--</td><td>--</td><td>--</td><td>--</td><td>--</td><td>40</td><td>19</td><td>0.149926</td><td>43</td><td>17</td><td>0</td><td>0.0156617</td><td>30.729908</td><td>0</td><td>0</td><td>1.0932395</td><td>0.28398114</td><td>0.22405499</td><td>0.046407387</td><td>0.31505954</td><td>-24.796219</td><td>20.054094</td><td>-17.680391</td><td>-37.804245</td><td>False</td><td>332</td><td>2454.009949193826</td><td>1.9207435</td><td>1277.6355</td><td>17.212677</td><td>38</td><td>669.3629938868015</td><td>8.483269</td><td>78.9039</td><td>18.274387</td><td>36</td><td>2643.261533440256</td><td>10.257438</td><td>257.6922</td><td>16.192545</td><td>1.3498822</td><td>0</td><td>1</td><td>0</td><td>1</td><td>0</td><td>2.0818424</td><td>1.0617104</td><td>1.0201321</td><td>--</td><td>--</td><td>--</td><td>--</td><td>--</td><td>--</td><td>--</td><td>--</td><td>--</td><td>--</td><td>--</td><td>--</td><td>--</td><td>--</td><td>--</td><td>--</td><td>--</td><td>--</td><td>--</td><td>--</td><td>--</td><td>--</td><td>NOT_AVAILABLE</td><td>327.59977583653637</td><td>0.6044739075765205</td><td>247.66906926716902</td><td>-32.56264756638053</td><td>False</td><td>False</td><td>0</td><td>True</td><td>False</td><td>False</td><td>False</td><td>False</td><td>False</td><td>True</td><td>False</td><td>1.0203505e-13</td><td>5.0972215e-13</td><td>0.9999989</td><td>--</td><td>--</td><td>--</td><td>--</td><td>--</td><td>--</td><td>--</td><td>--</td><td>--</td><td>--</td><td>--</td><td>--</td><td>--</td><td>--</td><td>--</td><td>--</td><td>--</td><td>--</td><td>--</td><td>--</td><td>--</td><td></td><td>274862252</td><td>0.002090066211442058</td></tr>\n",
       "<tr><td>1636148068921376768</td><td>Gaia DR3 5207982411469901824</td><td>5207982411469901824</td><td>859751546</td><td>2016.0</td><td>108.55852863999647</td><td>0.044605713</td><td>-80.05860189444361</td><td>0.04954064</td><td>1.05518732722103</td><td>0.046268765</td><td>22.805607</td><td>11.277557</td><td>-8.095027086332857</td><td>0.061258607</td><td>7.851996035807013</td><td>0.061718322</td><td>-0.21792312</td><td>-0.16638003</td><td>0.011911388</td><td>0.13019481</td><td>0.28172514</td><td>0.18271142</td><td>-0.5428231</td><td>0.2660831</td><td>-0.24218914</td><td>-0.271665</td><td>339</td><td>0</td><td>320</td><td>19</td><td>62.50604</td><td>6136.1377</td><td>0.5018886</td><td>181.41246</td><td>95</td><td>False</td><td>--</td><td>1.5067866</td><td>0.011675517</td><td>0.035101034</td><td>-0.023841286</td><td>-0.08847083</td><td>-0.046169385</td><td>0.075444646</td><td>37</td><td>25</td><td>0.100041114</td><td>43</td><td>43</td><td>0</td><td>0.016387917</td><td>160.87503</td><td>90</td><td>0</td><td>4.34355</td><td>0.03677917</td><td>0.14626996</td><td>0.060828704</td><td>0.07795053</td><td>-135.74707</td><td>36.78077</td><td>-23.91682</td><td>-25.288853</td><td>False</td><td>338</td><td>82764.43105171704</td><td>61.729134</td><td>1340.7677</td><td>13.392757</td><td>39</td><td>48442.57621585375</td><td>67.883354</td><td>713.6149</td><td>13.625474</td><td>38</td><td>74791.86691858115</td><td>101.11188</td><td>739.69415</td><td>12.563259</td><td>1.4889783</td><td>0</td><td>0</td><td>0</td><td>0</td><td>0</td><td>1.0622149</td><td>0.23271656</td><td>0.8294983</td><td>45.56838</td><td>6.942574</td><td>2</td><td>3</td><td>1</td><td>3</td><td>5.0611796</td><td>--</td><td>--</td><td>281.62347</td><td>--</td><td>5500.0</td><td>4.5</td><td>0.0</td><td>0</td><td>--</td><td>--</td><td>--</td><td>12.34968</td><td>0.08777559</td><td>2</td><td>--</td><td>NOT_AVAILABLE</td><td>291.9400738876205</td><td>-25.714005871177868</td><td>257.1895517043238</td><td>-75.65177692224161</td><td>False</td><td>False</td><td>0</td><td>True</td><td>True</td><td>False</td><td>False</td><td>False</td><td>False</td><td>True</td><td>False</td><td>9.181865e-10</td><td>1.099921e-09</td><td>0.99999344</td><td>--</td><td>--</td><td>--</td><td>--</td><td>--</td><td>--</td><td>--</td><td>--</td><td>--</td><td>--</td><td>--</td><td>--</td><td>--</td><td>--</td><td>--</td><td>--</td><td>--</td><td>--</td><td>--</td><td>--</td><td>--</td><td></td><td>278142612</td><td>8.386244372326009e-07</td></tr>\n",
       "<tr><td>1636148068921376768</td><td>Gaia DR3 3345256224768675584</td><td>3345256224768675584</td><td>1025625577</td><td>2016.0</td><td>92.39060770425472</td><td>0.15865599</td><td>14.628942641452136</td><td>0.13878265</td><td>0.43698079126379563</td><td>0.19176045</td><td>2.2787848</td><td>9.705074</td><td>-1.6159611869120971</td><td>0.20121244</td><td>-9.56959408852282</td><td>0.1433312</td><td>-0.0049197567</td><td>-0.13065813</td><td>0.109131195</td><td>0.06229621</td><td>-0.4736012</td><td>0.13558075</td><td>-0.27821934</td><td>-0.16361643</td><td>0.17606649</td><td>-0.018515723</td><td>195</td><td>195</td><td>195</td><td>0</td><td>120.99041</td><td>58805.406</td><td>1.3064482</td><td>2700.3042</td><td>31</td><td>False</td><td>1.552687</td><td>--</td><td>--</td><td>--</td><td>--</td><td>--</td><td>--</td><td>--</td><td>22</td><td>15</td><td>0.2814258</td><td>23</td><td>10</td><td>0</td><td>0.06101767</td><td>40.819267</td><td>45</td><td>0</td><td>11.641677</td><td>--</td><td>--</td><td>--</td><td>--</td><td>--</td><td>--</td><td>--</td><td>--</td><td>False</td><td>202</td><td>336860.88230429596</td><td>1284.3691</td><td>262.2773</td><td>11.86874</td><td>22</td><td>197899.38691669222</td><td>509.3385</td><td>388.54196</td><td>12.097431</td><td>23</td><td>246507.57452658642</td><td>561.7468</td><td>438.82327</td><td>11.26832</td><td>1.3192596</td><td>0</td><td>22</td><td>0</td><td>23</td><td>0</td><td>0.8291111</td><td>0.2286911</td><td>0.60042</td><td>56.70199</td><td>15.738993</td><td>1</td><td>8</td><td>1</td><td>8</td><td>22.307669</td><td>27.992008</td><td>0.0</td><td>949.61163</td><td>92.44637</td><td>6000.0</td><td>4.0</td><td>0.25</td><td>222</td><td>--</td><td>--</td><td>--</td><td>11.116349</td><td>0.0125235645</td><td>6</td><td>--</td><td>NOT_AVAILABLE</td><td>195.16165414707575</td><td>-2.3673993279205683</td><td>92.34059120785466</td><td>-8.790916935757666</td><td>False</td><td>False</td><td>0</td><td>True</td><td>True</td><td>False</td><td>False</td><td>False</td><td>True</td><td>True</td><td>False</td><td>1.118278e-13</td><td>5.5857424e-13</td><td>0.9990294</td><td>6003.4434</td><td>6000.86</td><td>6009.943</td><td>4.0073</td><td>3.9741</td><td>4.0384</td><td>-0.3591</td><td>-0.3886</td><td>-0.3339</td><td>423.771</td><td>404.2998</td><td>444.7334</td><td>0.2426</td><td>0.2382</td><td>0.2484</td><td>0.2055</td><td>0.2017</td><td>0.2104</td><td>0.1108</td><td>0.1087</td><td>0.1135</td><td>A</td><td>336882813</td><td>3.0439420509223795e-06</td></tr>\n",
       "<tr><td>1636148068921376768</td><td>Gaia DR3 3451961801022167552</td><td>3451961801022167552</td><td>488446593</td><td>2016.0</td><td>89.42458908495132</td><td>0.020795923</td><td>34.98848185882449</td><td>0.018172847</td><td>0.26931337138758255</td><td>0.022998068</td><td>11.71026</td><td>1.9569938</td><td>0.17308631345414832</td><td>0.025855819</td><td>-1.9493244321262924</td><td>0.017821284</td><td>0.08348491</td><td>0.025164898</td><td>-0.36028376</td><td>-0.11864029</td><td>-0.34814298</td><td>-0.18481311</td><td>-0.7219474</td><td>0.23096478</td><td>0.29345167</td><td>0.062262304</td><td>326</td><td>0</td><td>326</td><td>0</td><td>14.027054</td><td>834.79126</td><td>0.13701215</td><td>16.250515</td><td>31</td><td>False</td><td>1.5902328</td><td>--</td><td>--</td><td>--</td><td>--</td><td>--</td><td>--</td><td>--</td><td>38</td><td>18</td><td>0.03752723</td><td>39</td><td>23</td><td>0</td><td>0.031570643</td><td>179.453</td><td>0</td><td>0</td><td>1.6006949</td><td>0.3855305</td><td>0.41800442</td><td>0.17732485</td><td>0.4319661</td><td>-15.385789</td><td>3.1879015</td><td>-13.368637</td><td>38.999252</td><td>False</td><td>294</td><td>86277.62088187183</td><td>28.498903</td><td>3027.4014</td><td>13.347622</td><td>33</td><td>49593.249886722544</td><td>42.181618</td><td>1175.7076</td><td>13.599986</td><td>33</td><td>53416.890533169935</td><td>55.396446</td><td>964.2656</td><td>12.928699</td><td>1.1939381</td><td>0</td><td>0</td><td>0</td><td>0</td><td>0</td><td>0.67128754</td><td>0.25236416</td><td>0.41892338</td><td>--</td><td>--</td><td>--</td><td>--</td><td>--</td><td>--</td><td>--</td><td>--</td><td>--</td><td>--</td><td>--</td><td>--</td><td>--</td><td>--</td><td>--</td><td>--</td><td>--</td><td>--</td><td>--</td><td>--</td><td>--</td><td>--</td><td>NOT_AVAILABLE</td><td>176.08550885252453</td><td>5.2820316202247835</td><td>89.51885636685917</td><td>11.550162031386249</td><td>False</td><td>False</td><td>0</td><td>True</td><td>True</td><td>False</td><td>False</td><td>False</td><td>True</td><td>True</td><td>False</td><td>2.3644134e-10</td><td>5.1040503e-13</td><td>0.99998444</td><td>10758.25</td><td>10733.391</td><td>10786.222</td><td>3.8174</td><td>3.8056</td><td>3.8302</td><td>-0.931</td><td>-0.966</td><td>-0.8945</td><td>2468.3335</td><td>2420.9097</td><td>2514.1758</td><td>1.5176</td><td>1.5155</td><td>1.5199</td><td>1.3936</td><td>1.3915</td><td>1.3958</td><td>0.7526</td><td>0.7514</td><td>0.7538</td><td>A</td><td>309262405</td><td>8.804586662786384e-08</td></tr>\n",
       "<tr><td>1636148068921376768</td><td>Gaia DR3 3451961805317384064</td><td>3451961805317384064</td><td>1218614641</td><td>2016.0</td><td>89.4220274068602</td><td>3.623549</td><td>34.988134943851776</td><td>4.6144543</td><td>--</td><td>--</td><td>--</td><td>--</td><td>--</td><td>--</td><td>--</td><td>--</td><td>-0.40527952</td><td>--</td><td>--</td><td>--</td><td>--</td><td>--</td><td>--</td><td>--</td><td>--</td><td>--</td><td>53</td><td>0</td><td>53</td><td>0</td><td>0.94211257</td><td>57.083546</td><td>3.1902766</td><td>0.85967815</td><td>3</td><td>False</td><td>--</td><td>--</td><td>--</td><td>--</td><td>--</td><td>--</td><td>--</td><td>--</td><td>6</td><td>5</td><td>39.03819</td><td>6</td><td>4</td><td>0</td><td>0.066697985</td><td>40.52762</td><td>0</td><td>0</td><td>--</td><td>0.6182722</td><td>0.6369898</td><td>0.40205878</td><td>0.54744524</td><td>-1.1847608</td><td>19.59931</td><td>13.010425</td><td>29.049623</td><td>False</td><td>47</td><td>79.92747609364591</td><td>2.1742187</td><td>36.76147</td><td>20.930626</td><td>5</td><td>31.600512243975352</td><td>13.31539</td><td>2.3732324</td><td>21.589308</td><td>6</td><td>113.59801761048935</td><td>16.223728</td><td>7.0019674</td><td>19.609468</td><td>1.8166285</td><td>0</td><td>0</td><td>0</td><td>0</td><td>0</td><td>1.9798393</td><td>0.65868187</td><td>1.3211575</td><td>--</td><td>--</td><td>--</td><td>--</td><td>--</td><td>--</td><td>--</td><td>--</td><td>--</td><td>--</td><td>--</td><td>--</td><td>--</td><td>--</td><td>--</td><td>--</td><td>--</td><td>--</td><td>--</td><td>--</td><td>--</td><td>--</td><td>NOT_AVAILABLE</td><td>176.0847700072872</td><td>5.280035714622896</td><td>89.51671285791683</td><td>11.54982369516659</td><td>False</td><td>False</td><td>0</td><td>False</td><td>False</td><td>False</td><td>False</td><td>False</td><td>False</td><td>False</td><td>False</td><td>8.426885e-05</td><td>6.410532e-05</td><td>0.99917436</td><td>--</td><td>--</td><td>--</td><td>--</td><td>--</td><td>--</td><td>--</td><td>--</td><td>--</td><td>--</td><td>--</td><td>--</td><td>--</td><td>--</td><td>--</td><td>--</td><td>--</td><td>--</td><td>--</td><td>--</td><td>--</td><td></td><td>309262405</td><td>0.002127140018564098</td></tr>\n",
       "</table></div>"
      ],
      "text/plain": [
       "<Table length=585>\n",
       "    solution_id             DESIGNATION          ...      TIC Distance     \n",
       "                                                 ...          deg          \n",
       "       int64                   object            ...        float64        \n",
       "------------------- ---------------------------- ... ----------------------\n",
       "1636148068921376768 Gaia DR3 3440757674454539008 ...  4.087799111120793e-08\n",
       "1636148068921376768 Gaia DR3 3440757678750578944 ...  0.0009448899502948374\n",
       "1636148068921376768 Gaia DR3 3440757678751585024 ...  0.0009917067662918275\n",
       "1636148068921376768 Gaia DR3 5522806675370395904 ...   0.002385014914772574\n",
       "1636148068921376768 Gaia DR3 5522806675375094400 ...   0.002521145408345892\n",
       "1636148068921376768 Gaia DR3 5522807049023318400 ...  4.012582612500251e-06\n",
       "1636148068921376768 Gaia DR3 5423787162136736384 ...   0.002527387257983531\n",
       "1636148068921376768 Gaia DR3 5423787166426863744 ...  0.0006795378208818612\n",
       "1636148068921376768 Gaia DR3 5423787166437660032 ...   3.90846087603622e-06\n",
       "                ...                          ... ...                    ...\n",
       "1636148068921376768 Gaia DR3 3445472762568327808 ...   0.001984907649821119\n",
       "1636148068921376768 Gaia DR3 5885035386659231488 ...  0.0008571787278672045\n",
       "1636148068921376768 Gaia DR3 5885035386659233792 ...  0.0016892246324454942\n",
       "1636148068921376768 Gaia DR3 5885035386661044096 ...  0.0026846446036659067\n",
       "1636148068921376768 Gaia DR3 5885035386669240960 ...  8.599792003663678e-08\n",
       "1636148068921376768 Gaia DR3 5885035455388718592 ...   0.002090066211442058\n",
       "1636148068921376768 Gaia DR3 5207982411469901824 ...  8.386244372326009e-07\n",
       "1636148068921376768 Gaia DR3 3345256224768675584 ... 3.0439420509223795e-06\n",
       "1636148068921376768 Gaia DR3 3451961801022167552 ...  8.804586662786384e-08\n",
       "1636148068921376768 Gaia DR3 3451961805317384064 ...   0.002127140018564098"
      ]
     },
     "execution_count": 25,
     "metadata": {},
     "output_type": "execute_result"
    }
   ],
   "source": [
    "gaia_neighbors"
   ]
  }
 ],
 "metadata": {
  "kernelspec": {
   "display_name": "Astro",
   "language": "python",
   "name": "python3"
  },
  "language_info": {
   "codemirror_mode": {
    "name": "ipython",
    "version": 3
   },
   "file_extension": ".py",
   "mimetype": "text/x-python",
   "name": "python",
   "nbconvert_exporter": "python",
   "pygments_lexer": "ipython3",
   "version": "3.12.0"
  }
 },
 "nbformat": 4,
 "nbformat_minor": 2
}
