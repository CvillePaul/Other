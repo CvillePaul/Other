{
 "cells": [
  {
   "cell_type": "markdown",
   "metadata": {},
   "source": [
    "## Check if Gaia resolves any of our TESS targets into more than one GAIA object\n",
    "(From 2024-01-07 Meeting)"
   ]
  },
  {
   "cell_type": "code",
   "execution_count": 37,
   "metadata": {},
   "outputs": [],
   "source": [
    "from sqlite3 import connect\n",
    "from astropy.coordinates import SkyCoord\n",
    "from astropy.table import Table, vstack\n",
    "from astropy.time import Time\n",
    "import astropy.units as u\n",
    "from astroquery.gaia import Gaia\n",
    "from astroquery.mast import Catalogs\n",
    "import numpy as np\n",
    "import pandas as pd"
   ]
  },
  {
   "cell_type": "code",
   "execution_count": 39,
   "metadata": {},
   "outputs": [],
   "source": [
    "conn = connect(\"../django/QuadEBdb/db.sqlite3\")\n",
    "\n",
    "# read base list of targets\n",
    "targets = pd.read_sql(\"select * from tom_target;\", conn, index_col=\"id\")\n",
    "\n",
    "# retrieve all objects by TIC ID from the TIC catalog, which (among other things) gives us the GAIA ID\n",
    "# TIC fields: https://mast.stsci.edu/api/v0/_t_i_cfields.html\n",
    "tic_table = Catalogs.query_criteria(\n",
    "    catalog=\"Tic\", ID=targets[\"local_id\"].str.replace(\"TIC \", \"\")\n",
    ")\n",
    "\n",
    "# replace NaN values with a stand-ins\n",
    "tic_table[\"pmRA\"][np.isnan(tic_table[\"pmRA\"])] = 0\n",
    "tic_table[\"pmDEC\"][np.isnan(tic_table[\"pmDEC\"])] = 0\n",
    "tic_table[\"plx\"][np.isnan(tic_table[\"plx\"])] = 1e-3\n",
    "\n",
    "# write to a csv file in case we want to do other analysis\n",
    "tic_table.write(\"TICv8 Targets.csv\", format=\"ascii.csv\", overwrite=True)"
   ]
  },
  {
   "cell_type": "code",
   "execution_count": 44,
   "metadata": {},
   "outputs": [
    {
     "name": "stdout",
     "output_type": "stream",
     "text": [
      "74919381 (3) "
     ]
    },
    {
     "name": "stderr",
     "output_type": "stream",
     "text": [
      "c:\\Users\\User\\Anaconda3\\envs\\Astro\\Lib\\site-packages\\erfa\\core.py:154: ErfaWarning: ERFA function \"pmsafe\" yielded 1 of \"distance overridden (Note 6)\"\n",
      "  warnings.warn('ERFA function \"{}\" yielded {}'.format(func_name, wmsg),\n"
     ]
    },
    {
     "name": "stdout",
     "output_type": "stream",
     "text": [
      "140593601 (6) "
     ]
    },
    {
     "name": "stderr",
     "output_type": "stream",
     "text": [
      "c:\\Users\\User\\Anaconda3\\envs\\Astro\\Lib\\site-packages\\erfa\\core.py:154: ErfaWarning: ERFA function \"pmsafe\" yielded 1 of \"distance overridden (Note 6)\"\n",
      "  warnings.warn('ERFA function \"{}\" yielded {}'.format(func_name, wmsg),\n"
     ]
    },
    {
     "name": "stdout",
     "output_type": "stream",
     "text": [
      "75740921 (9) "
     ]
    },
    {
     "name": "stderr",
     "output_type": "stream",
     "text": [
      "c:\\Users\\User\\Anaconda3\\envs\\Astro\\Lib\\site-packages\\erfa\\core.py:154: ErfaWarning: ERFA function \"pmsafe\" yielded 1 of \"distance overridden (Note 6)\"\n",
      "  warnings.warn('ERFA function \"{}\" yielded {}'.format(func_name, wmsg),\n"
     ]
    },
    {
     "name": "stdout",
     "output_type": "stream",
     "text": [
      "322727163 (12) 283940788 (13) 191283915 (15) 59453672 (16) 38542448 (17) 414475823 (22) "
     ]
    },
    {
     "name": "stderr",
     "output_type": "stream",
     "text": [
      "c:\\Users\\User\\Anaconda3\\envs\\Astro\\Lib\\site-packages\\erfa\\core.py:154: ErfaWarning: ERFA function \"pmsafe\" yielded 1 of \"distance overridden (Note 6)\"\n",
      "  warnings.warn('ERFA function \"{}\" yielded {}'.format(func_name, wmsg),\n"
     ]
    },
    {
     "name": "stdout",
     "output_type": "stream",
     "text": [
      "348651800 (24) "
     ]
    },
    {
     "name": "stderr",
     "output_type": "stream",
     "text": [
      "c:\\Users\\User\\Anaconda3\\envs\\Astro\\Lib\\site-packages\\erfa\\core.py:154: ErfaWarning: ERFA function \"pmsafe\" yielded 1 of \"distance overridden (Note 6)\"\n",
      "  warnings.warn('ERFA function \"{}\" yielded {}'.format(func_name, wmsg),\n"
     ]
    },
    {
     "name": "stdout",
     "output_type": "stream",
     "text": [
      "78568780 (27) 36439758 (31) 33721975 (34) 329089161 (42) 54577663 (44) 282005870 (48) 161043618 (49) "
     ]
    },
    {
     "name": "stderr",
     "output_type": "stream",
     "text": [
      "c:\\Users\\User\\Anaconda3\\envs\\Astro\\Lib\\site-packages\\erfa\\core.py:154: ErfaWarning: ERFA function \"pmsafe\" yielded 1 of \"distance overridden (Note 6)\"\n",
      "  warnings.warn('ERFA function \"{}\" yielded {}'.format(func_name, wmsg),\n"
     ]
    },
    {
     "name": "stdout",
     "output_type": "stream",
     "text": [
      "50198590 (51) 418699570 (53) 141733685 (57) 140328928 (59) 293442412 (67) 219006972 (68) "
     ]
    },
    {
     "name": "stderr",
     "output_type": "stream",
     "text": [
      "c:\\Users\\User\\Anaconda3\\envs\\Astro\\Lib\\site-packages\\erfa\\core.py:154: ErfaWarning: ERFA function \"pmsafe\" yielded 1 of \"distance overridden (Note 6)\"\n",
      "  warnings.warn('ERFA function \"{}\" yielded {}'.format(func_name, wmsg),\n"
     ]
    },
    {
     "name": "stdout",
     "output_type": "stream",
     "text": [
      "304713857 (72) 95928255 (73) 367448265 (75) 93373156 (76) 153406662 (78) 274791367 (83) 9493888 (84) 407060024 (87) 265684107 (91) 399492452 (96) "
     ]
    },
    {
     "name": "stderr",
     "output_type": "stream",
     "text": [
      "c:\\Users\\User\\Anaconda3\\envs\\Astro\\Lib\\site-packages\\erfa\\core.py:154: ErfaWarning: ERFA function \"pmsafe\" yielded 1 of \"distance overridden (Note 6)\"\n",
      "  warnings.warn('ERFA function \"{}\" yielded {}'.format(func_name, wmsg),\n"
     ]
    },
    {
     "name": "stdout",
     "output_type": "stream",
     "text": [
      "311838200 (101) 370440624 (102) "
     ]
    },
    {
     "name": "stderr",
     "output_type": "stream",
     "text": [
      "c:\\Users\\User\\Anaconda3\\envs\\Astro\\Lib\\site-packages\\erfa\\core.py:154: ErfaWarning: ERFA function \"pmsafe\" yielded 1 of \"distance overridden (Note 6)\"\n",
      "  warnings.warn('ERFA function \"{}\" yielded {}'.format(func_name, wmsg),\n"
     ]
    },
    {
     "name": "stdout",
     "output_type": "stream",
     "text": [
      "80893927 (104) 270360534 (106) 139914081 (107) 320233974 (114) "
     ]
    },
    {
     "name": "stderr",
     "output_type": "stream",
     "text": [
      "c:\\Users\\User\\Anaconda3\\envs\\Astro\\Lib\\site-packages\\erfa\\core.py:154: ErfaWarning: ERFA function \"pmsafe\" yielded 1 of \"distance overridden (Note 6)\"\n",
      "  warnings.warn('ERFA function \"{}\" yielded {}'.format(func_name, wmsg),\n"
     ]
    },
    {
     "name": "stdout",
     "output_type": "stream",
     "text": [
      "146435300 (116) 244279814 (117) 89278612 (123) 386414884 (125) 231595025 (127) 144686626 (132) 456737763 (135) "
     ]
    },
    {
     "name": "stderr",
     "output_type": "stream",
     "text": [
      "c:\\Users\\User\\Anaconda3\\envs\\Astro\\Lib\\site-packages\\erfa\\core.py:154: ErfaWarning: ERFA function \"pmsafe\" yielded 1 of \"distance overridden (Note 6)\"\n",
      "  warnings.warn('ERFA function \"{}\" yielded {}'.format(func_name, wmsg),\n"
     ]
    },
    {
     "name": "stdout",
     "output_type": "stream",
     "text": [
      "255532033 (136) 140241924 (138) "
     ]
    },
    {
     "name": "stderr",
     "output_type": "stream",
     "text": [
      "c:\\Users\\User\\Anaconda3\\envs\\Astro\\Lib\\site-packages\\erfa\\core.py:154: ErfaWarning: ERFA function \"pmsafe\" yielded 1 of \"distance overridden (Note 6)\"\n",
      "  warnings.warn('ERFA function \"{}\" yielded {}'.format(func_name, wmsg),\n"
     ]
    },
    {
     "name": "stdout",
     "output_type": "stream",
     "text": [
      "470710327 (143) 13021681 (144) 60584909 (145) "
     ]
    },
    {
     "name": "stderr",
     "output_type": "stream",
     "text": [
      "c:\\Users\\User\\Anaconda3\\envs\\Astro\\Lib\\site-packages\\erfa\\core.py:154: ErfaWarning: ERFA function \"pmsafe\" yielded 1 of \"distance overridden (Note 6)\"\n",
      "  warnings.warn('ERFA function \"{}\" yielded {}'.format(func_name, wmsg),\n"
     ]
    },
    {
     "name": "stdout",
     "output_type": "stream",
     "text": [
      "239872462 (147) 130533284 (150) 73296637 (151) 63459761 (155) 167800999 (156) 250119205 (159) 328181241 (161) 375325607 (165) 454140642 (166) 439511833 (169) 356318101 (170) 200094011 (172) 321471064 (177) "
     ]
    },
    {
     "name": "stderr",
     "output_type": "stream",
     "text": [
      "c:\\Users\\User\\Anaconda3\\envs\\Astro\\Lib\\site-packages\\erfa\\core.py:154: ErfaWarning: ERFA function \"pmsafe\" yielded 1 of \"distance overridden (Note 6)\"\n",
      "  warnings.warn('ERFA function \"{}\" yielded {}'.format(func_name, wmsg),\n"
     ]
    },
    {
     "name": "stdout",
     "output_type": "stream",
     "text": [
      "168789840 (179) 78333248 (180) 286470992 (182) 391620600 (184) "
     ]
    },
    {
     "name": "stderr",
     "output_type": "stream",
     "text": [
      "c:\\Users\\User\\Anaconda3\\envs\\Astro\\Lib\\site-packages\\erfa\\core.py:154: ErfaWarning: ERFA function \"pmsafe\" yielded 1 of \"distance overridden (Note 6)\"\n",
      "  warnings.warn('ERFA function \"{}\" yielded {}'.format(func_name, wmsg),\n"
     ]
    },
    {
     "name": "stdout",
     "output_type": "stream",
     "text": [
      "458108996 (197) 284814380 (200) 309025182 (201) "
     ]
    },
    {
     "name": "stderr",
     "output_type": "stream",
     "text": [
      "c:\\Users\\User\\Anaconda3\\envs\\Astro\\Lib\\site-packages\\erfa\\core.py:154: ErfaWarning: ERFA function \"pmsafe\" yielded 1 of \"distance overridden (Note 6)\"\n",
      "  warnings.warn('ERFA function \"{}\" yielded {}'.format(func_name, wmsg),\n"
     ]
    },
    {
     "name": "stdout",
     "output_type": "stream",
     "text": [
      "201310151 (202) 278352276 (205) 265274458 (207) 202664216 (210) 144475902 (214) 178953404 (215) 357810643 (221) 779824 (222) 264402353 (223) 430745185 (226) 292318612 (227) "
     ]
    },
    {
     "name": "stderr",
     "output_type": "stream",
     "text": [
      "c:\\Users\\User\\Anaconda3\\envs\\Astro\\Lib\\site-packages\\erfa\\core.py:154: ErfaWarning: ERFA function \"pmsafe\" yielded 1 of \"distance overridden (Note 6)\"\n",
      "  warnings.warn('ERFA function \"{}\" yielded {}'.format(func_name, wmsg),\n"
     ]
    },
    {
     "name": "stdout",
     "output_type": "stream",
     "text": [
      "314802266 (230) 125952257 (234) 346000664 (238) 121511673 (246) 459959916 (247) "
     ]
    },
    {
     "name": "stderr",
     "output_type": "stream",
     "text": [
      "c:\\Users\\User\\Anaconda3\\envs\\Astro\\Lib\\site-packages\\erfa\\core.py:154: ErfaWarning: ERFA function \"pmsafe\" yielded 1 of \"distance overridden (Note 6)\"\n",
      "  warnings.warn('ERFA function \"{}\" yielded {}'.format(func_name, wmsg),\n"
     ]
    },
    {
     "name": "stdout",
     "output_type": "stream",
     "text": [
      "1337279468 (251) 429901945 (253) 53158069 (255) 462322817 (260) 344541836 (262) 285655079 (267) "
     ]
    },
    {
     "name": "stderr",
     "output_type": "stream",
     "text": [
      "c:\\Users\\User\\Anaconda3\\envs\\Astro\\Lib\\site-packages\\erfa\\core.py:154: ErfaWarning: ERFA function \"pmsafe\" yielded 1 of \"distance overridden (Note 6)\"\n",
      "  warnings.warn('ERFA function \"{}\" yielded {}'.format(func_name, wmsg),\n"
     ]
    },
    {
     "name": "stdout",
     "output_type": "stream",
     "text": [
      "47279366 (269) 25818450 (270) 260056937 (273) 266395331 (277) 125583594 (283) 414969157 (284) 269811101 (289) 461614217 (293) 146810480 (294) 232087348 (295) 384735219 (296) "
     ]
    },
    {
     "name": "stderr",
     "output_type": "stream",
     "text": [
      "c:\\Users\\User\\Anaconda3\\envs\\Astro\\Lib\\site-packages\\erfa\\core.py:154: ErfaWarning: ERFA function \"pmsafe\" yielded 1 of \"distance overridden (Note 6)\"\n",
      "  warnings.warn('ERFA function \"{}\" yielded {}'.format(func_name, wmsg),\n"
     ]
    },
    {
     "name": "stdout",
     "output_type": "stream",
     "text": [
      "405114468 (302) 444816203 (315) 29046597 (320) 128802666 (325) "
     ]
    },
    {
     "name": "stderr",
     "output_type": "stream",
     "text": [
      "c:\\Users\\User\\Anaconda3\\envs\\Astro\\Lib\\site-packages\\erfa\\core.py:154: ErfaWarning: ERFA function \"pmsafe\" yielded 1 of \"distance overridden (Note 6)\"\n",
      "  warnings.warn('ERFA function \"{}\" yielded {}'.format(func_name, wmsg),\n"
     ]
    },
    {
     "name": "stdout",
     "output_type": "stream",
     "text": [
      "438226195 (328) 97356407 (330) "
     ]
    },
    {
     "name": "stderr",
     "output_type": "stream",
     "text": [
      "c:\\Users\\User\\Anaconda3\\envs\\Astro\\Lib\\site-packages\\erfa\\core.py:154: ErfaWarning: ERFA function \"pmsafe\" yielded 1 of \"distance overridden (Note 6)\"\n",
      "  warnings.warn('ERFA function \"{}\" yielded {}'.format(func_name, wmsg),\n"
     ]
    },
    {
     "name": "stdout",
     "output_type": "stream",
     "text": [
      "470397849 (333) 20212631 (334) 370274336 (337) 256158466 (339) 384410712 (346) 261940513 (348) 32945664 (349) 125787704 (351) "
     ]
    },
    {
     "name": "stderr",
     "output_type": "stream",
     "text": [
      "c:\\Users\\User\\Anaconda3\\envs\\Astro\\Lib\\site-packages\\erfa\\core.py:154: ErfaWarning: ERFA function \"pmsafe\" yielded 1 of \"distance overridden (Note 6)\"\n",
      "  warnings.warn('ERFA function \"{}\" yielded {}'.format(func_name, wmsg),\n"
     ]
    },
    {
     "name": "stdout",
     "output_type": "stream",
     "text": [
      "358422952 (352) 238558210 (353) 80914862 (355) 441794509 (357) 308731030 (359) 427092089 (360) 219469945 (362) 52856877 (364) 139944266 (366) 190895730 (368) "
     ]
    },
    {
     "name": "stderr",
     "output_type": "stream",
     "text": [
      "c:\\Users\\User\\Anaconda3\\envs\\Astro\\Lib\\site-packages\\erfa\\core.py:154: ErfaWarning: ERFA function \"pmsafe\" yielded 1 of \"distance overridden (Note 6)\"\n",
      "  warnings.warn('ERFA function \"{}\" yielded {}'.format(func_name, wmsg),\n"
     ]
    },
    {
     "name": "stdout",
     "output_type": "stream",
     "text": [
      "306903715 (369) 273919067 (370) 387288959 (374) 79140936 (375) 134744873 (380) 327885074 (382) 307119043 (385) 382182610 (386) 139621206 (391) 466187603 (398) 459333241 (409) 43472931 (411) 443862276 (412) "
     ]
    },
    {
     "name": "stderr",
     "output_type": "stream",
     "text": [
      "c:\\Users\\User\\Anaconda3\\envs\\Astro\\Lib\\site-packages\\erfa\\core.py:154: ErfaWarning: ERFA function \"pmsafe\" yielded 1 of \"distance overridden (Note 6)\"\n",
      "  warnings.warn('ERFA function \"{}\" yielded {}'.format(func_name, wmsg),\n"
     ]
    },
    {
     "name": "stdout",
     "output_type": "stream",
     "text": [
      "37376063 (414) 434452777 (416) 375036945 (417) 387096013 (422) 24700485 (423) 414026507 (427) 266771301 (429) 130276377 (434) "
     ]
    },
    {
     "name": "stderr",
     "output_type": "stream",
     "text": [
      "c:\\Users\\User\\Anaconda3\\envs\\Astro\\Lib\\site-packages\\erfa\\core.py:154: ErfaWarning: ERFA function \"pmsafe\" yielded 1 of \"distance overridden (Note 6)\"\n",
      "  warnings.warn('ERFA function \"{}\" yielded {}'.format(func_name, wmsg),\n"
     ]
    },
    {
     "name": "stdout",
     "output_type": "stream",
     "text": [
      "371583423 (437) "
     ]
    },
    {
     "name": "stderr",
     "output_type": "stream",
     "text": [
      "c:\\Users\\User\\Anaconda3\\envs\\Astro\\Lib\\site-packages\\erfa\\core.py:154: ErfaWarning: ERFA function \"pmsafe\" yielded 1 of \"distance overridden (Note 6)\"\n",
      "  warnings.warn('ERFA function \"{}\" yielded {}'.format(func_name, wmsg),\n"
     ]
    },
    {
     "name": "stdout",
     "output_type": "stream",
     "text": [
      "240256832 (441) 392229331 (445) "
     ]
    },
    {
     "name": "stderr",
     "output_type": "stream",
     "text": [
      "c:\\Users\\User\\Anaconda3\\envs\\Astro\\Lib\\site-packages\\erfa\\core.py:154: ErfaWarning: ERFA function \"pmsafe\" yielded 1 of \"distance overridden (Note 6)\"\n",
      "  warnings.warn('ERFA function \"{}\" yielded {}'.format(func_name, wmsg),\n"
     ]
    },
    {
     "name": "stdout",
     "output_type": "stream",
     "text": [
      "389836747 (448) 284806955 (451) 458606169 (458) 266657256 (459) 58539786 (461) 337346017 (467) "
     ]
    },
    {
     "name": "stderr",
     "output_type": "stream",
     "text": [
      "c:\\Users\\User\\Anaconda3\\envs\\Astro\\Lib\\site-packages\\erfa\\core.py:154: ErfaWarning: ERFA function \"pmsafe\" yielded 1 of \"distance overridden (Note 6)\"\n",
      "  warnings.warn('ERFA function \"{}\" yielded {}'.format(func_name, wmsg),\n"
     ]
    },
    {
     "name": "stdout",
     "output_type": "stream",
     "text": [
      "45160946 (470) 271186951 (479) "
     ]
    },
    {
     "name": "stderr",
     "output_type": "stream",
     "text": [
      "c:\\Users\\User\\Anaconda3\\envs\\Astro\\Lib\\site-packages\\erfa\\core.py:154: ErfaWarning: ERFA function \"pmsafe\" yielded 1 of \"distance overridden (Note 6)\"\n",
      "  warnings.warn('ERFA function \"{}\" yielded {}'.format(func_name, wmsg),\n"
     ]
    },
    {
     "name": "stdout",
     "output_type": "stream",
     "text": [
      "300987891 (483) 207137124 (484) 251757935 (487) 417752064 (488) 257776944 (491) 459400252 (499) 285681367 (503) 442333487 (510) 123098844 (512) 262755078 (514) 160514618 (516) "
     ]
    },
    {
     "name": "stderr",
     "output_type": "stream",
     "text": [
      "c:\\Users\\User\\Anaconda3\\envs\\Astro\\Lib\\site-packages\\erfa\\core.py:154: ErfaWarning: ERFA function \"pmsafe\" yielded 1 of \"distance overridden (Note 6)\"\n",
      "  warnings.warn('ERFA function \"{}\" yielded {}'.format(func_name, wmsg),\n"
     ]
    },
    {
     "name": "stdout",
     "output_type": "stream",
     "text": [
      "120911334 (517) 458740670 (527) "
     ]
    },
    {
     "name": "stderr",
     "output_type": "stream",
     "text": [
      "c:\\Users\\User\\Anaconda3\\envs\\Astro\\Lib\\site-packages\\erfa\\core.py:154: ErfaWarning: ERFA function \"pmsafe\" yielded 1 of \"distance overridden (Note 6)\"\n",
      "  warnings.warn('ERFA function \"{}\" yielded {}'.format(func_name, wmsg),\n"
     ]
    },
    {
     "name": "stdout",
     "output_type": "stream",
     "text": [
      "274481742 (530) "
     ]
    },
    {
     "name": "stderr",
     "output_type": "stream",
     "text": [
      "c:\\Users\\User\\Anaconda3\\envs\\Astro\\Lib\\site-packages\\erfa\\core.py:154: ErfaWarning: ERFA function \"pmsafe\" yielded 1 of \"distance overridden (Note 6)\"\n",
      "  warnings.warn('ERFA function \"{}\" yielded {}'.format(func_name, wmsg),\n"
     ]
    },
    {
     "name": "stdout",
     "output_type": "stream",
     "text": [
      "321474625 (537) 91600053 (540) "
     ]
    },
    {
     "name": "stderr",
     "output_type": "stream",
     "text": [
      "c:\\Users\\User\\Anaconda3\\envs\\Astro\\Lib\\site-packages\\erfa\\core.py:154: ErfaWarning: ERFA function \"pmsafe\" yielded 1 of \"distance overridden (Note 6)\"\n",
      "  warnings.warn('ERFA function \"{}\" yielded {}'.format(func_name, wmsg),\n"
     ]
    },
    {
     "name": "stdout",
     "output_type": "stream",
     "text": [
      "177810207 (541) 139650665 (542) "
     ]
    },
    {
     "name": "stderr",
     "output_type": "stream",
     "text": [
      "c:\\Users\\User\\Anaconda3\\envs\\Astro\\Lib\\site-packages\\erfa\\core.py:154: ErfaWarning: ERFA function \"pmsafe\" yielded 1 of \"distance overridden (Note 6)\"\n",
      "  warnings.warn('ERFA function \"{}\" yielded {}'.format(func_name, wmsg),\n"
     ]
    },
    {
     "name": "stdout",
     "output_type": "stream",
     "text": [
      "31928452 (543) 386202029 (544) 317863971 (546) 408147984 (550) 459705607 (554) 82818966 (556) "
     ]
    },
    {
     "name": "stderr",
     "output_type": "stream",
     "text": [
      "c:\\Users\\User\\Anaconda3\\envs\\Astro\\Lib\\site-packages\\erfa\\core.py:154: ErfaWarning: ERFA function \"pmsafe\" yielded 1 of \"distance overridden (Note 6)\"\n",
      "  warnings.warn('ERFA function \"{}\" yielded {}'.format(func_name, wmsg),\n"
     ]
    },
    {
     "name": "stdout",
     "output_type": "stream",
     "text": [
      "409682934 (557) "
     ]
    },
    {
     "name": "stderr",
     "output_type": "stream",
     "text": [
      "c:\\Users\\User\\Anaconda3\\envs\\Astro\\Lib\\site-packages\\erfa\\core.py:154: ErfaWarning: ERFA function \"pmsafe\" yielded 1 of \"distance overridden (Note 6)\"\n",
      "  warnings.warn('ERFA function \"{}\" yielded {}'.format(func_name, wmsg),\n"
     ]
    },
    {
     "name": "stdout",
     "output_type": "stream",
     "text": [
      "300446218 (558) 170146066 (564) 204698586 (565) 27543409 (566) 354314226 (568) "
     ]
    },
    {
     "name": "stderr",
     "output_type": "stream",
     "text": [
      "c:\\Users\\User\\Anaconda3\\envs\\Astro\\Lib\\site-packages\\erfa\\core.py:154: ErfaWarning: ERFA function \"pmsafe\" yielded 1 of \"distance overridden (Note 6)\"\n",
      "  warnings.warn('ERFA function \"{}\" yielded {}'.format(func_name, wmsg),\n"
     ]
    },
    {
     "name": "stdout",
     "output_type": "stream",
     "text": [
      "278465736 (571) 150055835 (572) 127011022 (574) 285853156 (576) 274862252 (581) "
     ]
    },
    {
     "name": "stderr",
     "output_type": "stream",
     "text": [
      "c:\\Users\\User\\Anaconda3\\envs\\Astro\\Lib\\site-packages\\erfa\\core.py:154: ErfaWarning: ERFA function \"pmsafe\" yielded 1 of \"distance overridden (Note 6)\"\n",
      "  warnings.warn('ERFA function \"{}\" yielded {}'.format(func_name, wmsg),\n"
     ]
    },
    {
     "name": "stdout",
     "output_type": "stream",
     "text": [
      "278142612 (582) "
     ]
    },
    {
     "name": "stderr",
     "output_type": "stream",
     "text": [
      "c:\\Users\\User\\Anaconda3\\envs\\Astro\\Lib\\site-packages\\erfa\\core.py:154: ErfaWarning: ERFA function \"pmsafe\" yielded 1 of \"distance overridden (Note 6)\"\n",
      "  warnings.warn('ERFA function \"{}\" yielded {}'.format(func_name, wmsg),\n"
     ]
    },
    {
     "name": "stdout",
     "output_type": "stream",
     "text": [
      "336882813 (583) 309262405 (585) "
     ]
    }
   ],
   "source": [
    "tic_epoch = Time(2000.0, format=\"jyear\", scale=\"tdb\")\n",
    "gaia_dr3_epoch = Time(2016.0, format=\"jyear\", scale=\"tdb\")\n",
    "cone_size = 10 * u.arcsec\n",
    "\n",
    "gaia_neighbors = None\n",
    "gaia_from_tic = {}\n",
    "for tic_object in tic_table:\n",
    "    tic_coord = SkyCoord(\n",
    "        ra=tic_object[\"ra\"] * u.deg,\n",
    "        dec=tic_object[\"dec\"] * u.deg,\n",
    "        distance=tic_object[\"plx\"] * u.mas,\n",
    "        pm_ra_cosdec=tic_object[\"pmRA\"] * u.mas / u.yr,\n",
    "        pm_dec=tic_object[\"pmDEC\"] * u.mas / u.yr,\n",
    "        obstime=tic_epoch,\n",
    "    )\n",
    "    # evolve coord to gaia epoch\n",
    "    tic_coord = tic_coord.apply_space_motion(gaia_dr3_epoch)\n",
    "\n",
    "    # GAIA fields: https://gea.esac.esa.int/archive/documentation/GDR3/Gaia_archive/chap_datamodel/sec_dm_main_source_catalogue/ssec_dm_gaia_source.html\n",
    "    job = Gaia.launch_job(\n",
    "        \"select * \"\n",
    "        \"from gaiadr3.gaia_source \"\n",
    "        f\"WHERE CONTAINS(POINT('ICRS', ra, dec), CIRCLE('ICRS', {tic_coord.ra.to(u.deg).value}, {tic_coord.dec.to(u.deg).value}, {cone_size.to(u.deg).value})) = 1\"\n",
    "    )\n",
    "    gaia_matches = job.get_results()\n",
    "\n",
    "    #add reference to the TIC ID for these matches\n",
    "    gaia_matches[\"TIC ID\"] = tic_object[\"ID\"]\n",
    "\n",
    "    #calculate distance between each match and the TIC coordinates\n",
    "    distances = [\n",
    "        tic_coord.separation(SkyCoord(\n",
    "            ra=gaia_object[\"ra\"] * u.deg,\n",
    "            dec=gaia_object[\"dec\"] * u.deg,\n",
    "            distance=gaia_object[\"parallax\"] * u.mas,\n",
    "        ))\n",
    "        for gaia_object in gaia_matches]\n",
    "    gaia_matches[\"TIC Distance\"] = distances\n",
    "\n",
    "    # store results for later use\n",
    "    gaia_from_tic[tic_object[\"ID\"]] = (tic_coord, gaia_matches)\n",
    "\n",
    "    # build a table of all matches\n",
    "    if gaia_neighbors is None:\n",
    "        gaia_neighbors = gaia_matches.copy()\n",
    "    else:\n",
    "        gaia_neighbors = vstack([gaia_neighbors, gaia_matches])\n",
    "    print(f\"{tic_object[\"ID\"]} ({len(gaia_neighbors)})\", end=\" \")\n",
    "\n",
    "gaia_neighbors.write(\"GAIA Neighbors.csv\", format=\"ascii.csv\", overwrite=True)\n"
   ]
  },
  {
   "cell_type": "code",
   "execution_count": 20,
   "metadata": {},
   "outputs": [
    {
     "name": "stdout",
     "output_type": "stream",
     "text": [
      "TIC 191283915\n",
      "    Gaia DR3 381463980026217344    0.000 arcsec 0.8075 10.76 2.054 -0.218\n",
      "    Gaia DR3 381463984320361344    1.214 arcsec -- 14.52 -- --\n"
     ]
    },
    {
     "name": "stderr",
     "output_type": "stream",
     "text": [
      "C:\\Users\\User\\AppData\\Local\\Temp\\ipykernel_30388\\3296498967.py:22: FutureWarning: Format strings passed to MaskedConstant are ignored, but in future may error or produce different behavior\n",
      "  print(f\"    {dist[1]:<30s} {dist[0].to(u.arcsec):.3f} {dist[2]:6.4f} {dist[3]:.2f} {dist[4]:.3f} {dist[5]:.3f}\")\n"
     ]
    },
    {
     "name": "stdout",
     "output_type": "stream",
     "text": [
      "TIC 239872462\n",
      "    Gaia DR3 3454503601324455040   0.003 arcsec 0.5154 11.29 0.304 -2.412\n",
      "    Gaia DR3 3454503601320433536   1.636 arcsec 0.5769 12.51 -0.071 -1.949\n",
      "TIC 375325607\n",
      "    Gaia DR3 2188911081472114304   0.020 arcsec 0.7358 13.14 -3.491 -3.207\n",
      "    Gaia DR3 2188911085772945152   0.462 arcsec -- 13.25 -- --\n",
      "    ----------------------------\n",
      "    Gaia DR3 2188911085766555008   4.520 arcsec\n",
      "    Gaia DR3 2188911150191794304   9.634 arcsec\n",
      "TIC 200094011\n",
      "    Gaia DR3 3219205978378160512   0.013 arcsec 2.0537 9.71 -0.837 -1.509\n",
      "    Gaia DR3 3219205982673618432   0.684 arcsec -- 10.58 -- --\n",
      "TIC 168789840\n",
      "    Gaia DR3 4882954370431549696   0.019 arcsec 1.6861 11.67 12.082 9.513\n",
      "    Gaia DR3 4882954370433742336   0.358 arcsec -- 12.01 -- --\n",
      "TIC 286470992\n",
      "    Gaia DR3 463122720055223168    0.000 arcsec 0.4474 10.11 0.103 -0.168\n",
      "    Gaia DR3 463122720050182656    1.634 arcsec 0.4958 11.78 0.132 -0.074\n",
      "TIC 387288959\n",
      "    Gaia DR3 2271305257339379584   0.001 arcsec 1.5992 13.04 3.593 8.283\n",
      "    Gaia DR3 2271305257336749696   1.056 arcsec 1.4243 13.66 4.198 7.505\n",
      "    ----------------------------\n",
      "    Gaia DR3 2271305257336748672   4.156 arcsec\n",
      "    Gaia DR3 2271305257339379968   7.884 arcsec\n",
      "TIC 307119043\n",
      "    Gaia DR3 404537094094988800    0.001 arcsec 2.1364 10.01 7.336 -3.831\n",
      "    Gaia DR3 404537098394992640    0.833 arcsec 2.0547 -- 7.679 -4.013\n",
      "    ----------------------------\n",
      "    Gaia DR3 404537201474208896    6.467 arcsec\n",
      "TIC 266771301\n",
      "    Gaia DR3 251000293962850944    0.044 arcsec 4.7185 12.26 8.142 -7.199\n",
      "    Gaia DR3 251000298260535296    0.472 arcsec 0.1901 12.88 -0.033 -3.353\n",
      "TIC 123098844\n",
      "    Gaia DR3 2117607962866960256   0.000 arcsec 1.2844 11.11 3.689 -9.121\n",
      "    Gaia DR3 2117607962866960128   1.613 arcsec 1.8006 16.90 2.153 -7.545\n",
      "TIC 274481742\n",
      "    Gaia DR3 258651146842614528    0.016 arcsec -5.4053 13.71 0.117 2.286\n",
      "    Gaia DR3 258651146838327552    0.342 arcsec -- 13.81 -- --\n",
      "    ----------------------------\n",
      "    Gaia DR3 258651146839816832    4.661 arcsec\n"
     ]
    }
   ],
   "source": [
    "separation_threshold = 2 * u.arcsec\n",
    "\n",
    "match_results = {}\n",
    "for tic_id, (tic_coord, gaia_matches) in gaia_from_tic.items():\n",
    "    distances = []\n",
    "    for gaia_object in gaia_matches:\n",
    "        gaia_coord = SkyCoord(\n",
    "            ra=gaia_object[\"RA\"] * u.deg,\n",
    "            dec=gaia_object[\"DEC\"] * u.deg,\n",
    "            distance=gaia_object[\"PARALLAX\"] * u.mas,\n",
    "        )\n",
    "        distance_to_tic = tic_coord.separation(gaia_coord)\n",
    "        distances.append((distance_to_tic, gaia_object[\"DESIGNATION\"], gaia_object[\"PARALLAX\"], gaia_object[\"phot_g_mean_mag\"], gaia_object[\"PMRA\"], gaia_object[\"PMDEC\"]))\n",
    "\n",
    "    close_enough = sorted(\n",
    "        filter(lambda dist: dist[0] < separation_threshold, distances)\n",
    "    )\n",
    "    too_far = sorted(filter(lambda dist: dist[0] > separation_threshold, distances))\n",
    "    if len(close_enough) > 1:\n",
    "        print(f\"TIC {tic_id}\")\n",
    "        for dist in close_enough:\n",
    "            print(f\"    {dist[1]:<30s} {dist[0].to(u.arcsec):.3f} {dist[2]:6.4f} {dist[3]:.2f} {dist[4]:.3f} {dist[5]:.3f}\")\n",
    "        if len(too_far) > 0:\n",
    "            print(\"    ----------------------------\")\n",
    "            for dist in too_far:\n",
    "                print(f\"    {dist[1]:<30s} {dist[0].to(u.arcsec):.3f}\")\n",
    "        match_results[tic_id] = (len(close_enough), len(too_far))"
   ]
  },
  {
   "cell_type": "code",
   "execution_count": 12,
   "metadata": {},
   "outputs": [
    {
     "data": {
      "text/html": [
       "<div><i>Table length=585</i>\n",
       "<table id=\"table1742414232752\" class=\"table-striped table-bordered table-condensed\">\n",
       "<thead><tr><th>DESIGNATION</th><th>REF_EPOCH</th><th>RA</th><th>DEC</th><th>PARALLAX</th><th>PMRA</th><th>PMDEC</th><th>phot_g_mean_mag</th><th>phot_variable_flag</th><th>non_single_star</th><th>TIC ID</th><th>TIC Distance</th></tr></thead>\n",
       "<thead><tr><th></th><th>yr</th><th>deg</th><th>deg</th><th>mas</th><th>mas / yr</th><th>mas / yr</th><th>mag</th><th></th><th></th><th></th><th>deg</th></tr></thead>\n",
       "<thead><tr><th>object</th><th>float64</th><th>float64</th><th>float64</th><th>float64</th><th>float64</th><th>float64</th><th>float32</th><th>object</th><th>int16</th><th>str10</th><th>float64</th></tr></thead>\n",
       "<tr><td>Gaia DR3 3440757674454539008</td><td>2016.0</td><td>84.42064260665873</td><td>24.878510339858273</td><td>0.6211513706976766</td><td>-0.07412704246074098</td><td>-4.929228561332226</td><td>13.655135</td><td>NOT_AVAILABLE</td><td>0</td><td>74919381</td><td>4.087799111120793e-08</td></tr>\n",
       "<tr><td>Gaia DR3 3440757678750578944</td><td>2016.0</td><td>84.41966694957715</td><td>24.87884116649255</td><td>0.7374875788436966</td><td>1.2210190016648432</td><td>-3.2208538554532</td><td>20.083763</td><td>NOT_AVAILABLE</td><td>0</td><td>74919381</td><td>0.0009448899502948374</td></tr>\n",
       "<tr><td>Gaia DR3 3440757678751585024</td><td>2016.0</td><td>84.41960745353582</td><td>24.878191489230915</td><td>--</td><td>--</td><td>--</td><td>20.83258</td><td>NOT_AVAILABLE</td><td>0</td><td>74919381</td><td>0.0009917067662918275</td></tr>\n",
       "<tr><td>Gaia DR3 5522806675370395904</td><td>2016.0</td><td>128.1904155492169</td><td>-44.571994157330614</td><td>--</td><td>--</td><td>--</td><td>20.951134</td><td>NOT_AVAILABLE</td><td>0</td><td>140593601</td><td>0.002385014914772574</td></tr>\n",
       "<tr><td>Gaia DR3 5522806675375094400</td><td>2016.0</td><td>128.19235237820087</td><td>-44.57337263676434</td><td>1.1132495969357825</td><td>-11.770433409132796</td><td>8.316479402177553</td><td>14.458854</td><td>NOT_AVAILABLE</td><td>0</td><td>140593601</td><td>0.002521145408345892</td></tr>\n",
       "<tr><td>Gaia DR3 5522807049023318400</td><td>2016.0</td><td>128.1934395371829</td><td>-44.57097758982953</td><td>0.3323288524843083</td><td>-2.8873137538154836</td><td>3.9201783313087617</td><td>13.793939</td><td>NOT_AVAILABLE</td><td>0</td><td>140593601</td><td>4.012582612500251e-06</td></tr>\n",
       "<tr><td>Gaia DR3 5423787162136736384</td><td>2016.0</td><td>139.33073754000313</td><td>-45.03635593146755</td><td>-0.00019663866037902822</td><td>-3.9001566310443323</td><td>2.968387962244681</td><td>19.710884</td><td>NOT_AVAILABLE</td><td>0</td><td>75740921</td><td>0.002527387257983531</td></tr>\n",
       "<tr><td>Gaia DR3 5423787166426863744</td><td>2016.0</td><td>139.33127146496892</td><td>-45.03845169488019</td><td>0.2755109281812177</td><td>-3.772913496105006</td><td>4.710030522233937</td><td>17.768133</td><td>NOT_AVAILABLE</td><td>0</td><td>75740921</td><td>0.0006795378208818612</td></tr>\n",
       "<tr><td>Gaia DR3 5423787166437660032</td><td>2016.0</td><td>139.33052007348354</td><td>-45.03887570899464</td><td>1.2809961779541688</td><td>-5.045293657426807</td><td>5.225796102649883</td><td>13.224796</td><td>NOT_AVAILABLE</td><td>0</td><td>75740921</td><td>3.90846087603622e-06</td></tr>\n",
       "<tr><td>...</td><td>...</td><td>...</td><td>...</td><td>...</td><td>...</td><td>...</td><td>...</td><td>...</td><td>...</td><td>...</td><td>...</td></tr>\n",
       "<tr><td>Gaia DR3 3445472762568327808</td><td>2016.0</td><td>81.89399081626603</td><td>28.55115348478081</td><td>2.904304910190851</td><td>-10.30220130831087</td><td>0.04170269401339819</td><td>19.082611</td><td>NOT_AVAILABLE</td><td>0</td><td>285853156</td><td>0.001984907649821119</td></tr>\n",
       "<tr><td>Gaia DR3 5885035386659231488</td><td>2016.0</td><td>237.42595491283717</td><td>-53.50707711118218</td><td>0.07932566390864836</td><td>-4.3282652363957865</td><td>-4.7019272576182765</td><td>18.873186</td><td>NOT_AVAILABLE</td><td>0</td><td>274862252</td><td>0.0008571787278672045</td></tr>\n",
       "<tr><td>Gaia DR3 5885035386659233792</td><td>2016.0</td><td>237.42800823438134</td><td>-53.504849726745235</td><td>0.2909046262790539</td><td>-4.9492083569552126</td><td>-4.2622174743491685</td><td>19.117159</td><td>NOT_AVAILABLE</td><td>0</td><td>274862252</td><td>0.0016892246324454942</td></tr>\n",
       "<tr><td>Gaia DR3 5885035386661044096</td><td>2016.0</td><td>237.4278427012711</td><td>-53.50885564923351</td><td>--</td><td>--</td><td>--</td><td>20.994034</td><td>NOT_AVAILABLE</td><td>0</td><td>274862252</td><td>0.0026846446036659067</td></tr>\n",
       "<tr><td>Gaia DR3 5885035386669240960</td><td>2016.0</td><td>237.426520705239</td><td>-53.50628879549225</td><td>0.2312393841780429</td><td>-2.747405375872517</td><td>-2.768464970106929</td><td>14.626768</td><td>NOT_AVAILABLE</td><td>0</td><td>274862252</td><td>8.599792003663678e-08</td></tr>\n",
       "<tr><td>Gaia DR3 5885035455388718592</td><td>2016.0</td><td>237.42323817253077</td><td>-53.505542223779265</td><td>0.45259918483674805</td><td>-1.063582943564153</td><td>-2.1979360829489463</td><td>17.212677</td><td>NOT_AVAILABLE</td><td>0</td><td>274862252</td><td>0.002090066211442058</td></tr>\n",
       "<tr><td>Gaia DR3 5207982411469901824</td><td>2016.0</td><td>108.55852863999647</td><td>-80.05860189444361</td><td>1.05518732722103</td><td>-8.095027086332857</td><td>7.851996035807013</td><td>13.392757</td><td>NOT_AVAILABLE</td><td>0</td><td>278142612</td><td>8.386244372326009e-07</td></tr>\n",
       "<tr><td>Gaia DR3 3345256224768675584</td><td>2016.0</td><td>92.39060770425472</td><td>14.628942641452136</td><td>0.43698079126379563</td><td>-1.6159611869120971</td><td>-9.56959408852282</td><td>11.86874</td><td>NOT_AVAILABLE</td><td>0</td><td>336882813</td><td>3.0439420509223795e-06</td></tr>\n",
       "<tr><td>Gaia DR3 3451961801022167552</td><td>2016.0</td><td>89.42458908495132</td><td>34.98848185882449</td><td>0.26931337138758255</td><td>0.17308631345414832</td><td>-1.9493244321262924</td><td>13.347622</td><td>NOT_AVAILABLE</td><td>0</td><td>309262405</td><td>8.804586662786384e-08</td></tr>\n",
       "<tr><td>Gaia DR3 3451961805317384064</td><td>2016.0</td><td>89.4220274068602</td><td>34.988134943851776</td><td>--</td><td>--</td><td>--</td><td>20.930626</td><td>NOT_AVAILABLE</td><td>0</td><td>309262405</td><td>0.002127140018564098</td></tr>\n",
       "</table></div>"
      ],
      "text/plain": [
       "<Table length=585>\n",
       "        DESIGNATION          REF_EPOCH ...   TIC ID       TIC Distance     \n",
       "                                 yr    ...                    deg          \n",
       "           object             float64  ...   str10          float64        \n",
       "---------------------------- --------- ... --------- ----------------------\n",
       "Gaia DR3 3440757674454539008    2016.0 ...  74919381  4.087799111120793e-08\n",
       "Gaia DR3 3440757678750578944    2016.0 ...  74919381  0.0009448899502948374\n",
       "Gaia DR3 3440757678751585024    2016.0 ...  74919381  0.0009917067662918275\n",
       "Gaia DR3 5522806675370395904    2016.0 ... 140593601   0.002385014914772574\n",
       "Gaia DR3 5522806675375094400    2016.0 ... 140593601   0.002521145408345892\n",
       "Gaia DR3 5522807049023318400    2016.0 ... 140593601  4.012582612500251e-06\n",
       "Gaia DR3 5423787162136736384    2016.0 ...  75740921   0.002527387257983531\n",
       "Gaia DR3 5423787166426863744    2016.0 ...  75740921  0.0006795378208818612\n",
       "Gaia DR3 5423787166437660032    2016.0 ...  75740921   3.90846087603622e-06\n",
       "                         ...       ... ...       ...                    ...\n",
       "Gaia DR3 3445472762568327808    2016.0 ... 285853156   0.001984907649821119\n",
       "Gaia DR3 5885035386659231488    2016.0 ... 274862252  0.0008571787278672045\n",
       "Gaia DR3 5885035386659233792    2016.0 ... 274862252  0.0016892246324454942\n",
       "Gaia DR3 5885035386661044096    2016.0 ... 274862252  0.0026846446036659067\n",
       "Gaia DR3 5885035386669240960    2016.0 ... 274862252  8.599792003663678e-08\n",
       "Gaia DR3 5885035455388718592    2016.0 ... 274862252   0.002090066211442058\n",
       "Gaia DR3 5207982411469901824    2016.0 ... 278142612  8.386244372326009e-07\n",
       "Gaia DR3 3345256224768675584    2016.0 ... 336882813 3.0439420509223795e-06\n",
       "Gaia DR3 3451961801022167552    2016.0 ... 309262405  8.804586662786384e-08\n",
       "Gaia DR3 3451961805317384064    2016.0 ... 309262405   0.002127140018564098"
      ]
     },
     "execution_count": 12,
     "metadata": {},
     "output_type": "execute_result"
    }
   ],
   "source": [
    "gaia_neighbors"
   ]
  }
 ],
 "metadata": {
  "kernelspec": {
   "display_name": "Astro",
   "language": "python",
   "name": "python3"
  },
  "language_info": {
   "codemirror_mode": {
    "name": "ipython",
    "version": 3
   },
   "file_extension": ".py",
   "mimetype": "text/x-python",
   "name": "python",
   "nbconvert_exporter": "python",
   "pygments_lexer": "ipython3",
   "version": "3.12.0"
  }
 },
 "nbformat": 4,
 "nbformat_minor": 2
}
