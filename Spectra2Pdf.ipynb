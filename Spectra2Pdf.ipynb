{
 "cells": [
  {
   "cell_type": "code",
   "execution_count": 14,
   "metadata": {},
   "outputs": [
    {
     "data": {
      "text/plain": [
       "'c:\\\\Users\\\\User\\\\Dropbox\\\\School\\\\Astronomy\\\\QuadEB\\\\Observation Planning\\\\TIC 336882813_B_2023-12-06 08h26m24s.html'"
      ]
     },
     "execution_count": 14,
     "metadata": {},
     "output_type": "execute_result"
    },
    {
     "ename": "",
     "evalue": "",
     "output_type": "error",
     "traceback": [
      "\u001b[1;31mThe Kernel crashed while executing code in the the current cell or a previous cell. Please review the code in the cell(s) to identify a possible cause of the failure. Click <a href='https://aka.ms/vscodeJupyterKernelCrash'>here</a> for more info. View Jupyter <a href='command:jupyter.viewOutput'>log</a> for further details."
     ]
    }
   ],
   "source": [
    "from glob import glob\n",
    "import pandas as pd\n",
    "from sqlite3 import connect\n",
    "import os\n",
    "from astropy.io import fits\n",
    "from bokeh.io import output_notebook, output_file\n",
    "from bokeh.layouts import column\n",
    "from bokeh.plotting import figure, show, output_file, save\n",
    "from bokeh.models import Label\n",
    "from bokeh.models.tools import BoxZoomTool, PanTool, ResetTool\n",
    "import numpy as np\n",
    "\n",
    "conn = connect(\"../django/QuadEBdb/db.sqlite3\")\n",
    "\n",
    "spectra = []\n",
    "for path in glob(\"../Files/2023??/pepsi*.*\"):\n",
    "    filename = os.path.basename(path)\n",
    "    target, _, _, _, cd, arm, exposure, _, datetime, _ = conn.execute(\n",
    "        \"\"\"\n",
    "        select t.local_id, srd.*\n",
    "        from tom_spectrumrawdata srd\n",
    "        join tom_target t on t.id = srd.target_id\n",
    "        where uri = ?;\n",
    "        \"\"\",\n",
    "        (filename,),\n",
    "    ).fetchone()\n",
    "    spectra.append((target, cd, arm, exposure, datetime, path, filename))\n",
    "spectra.sort(key=lambda x: x[4])\n",
    "\n",
    "# output_notebook()\n",
    "output_file(\"combined spectra.html\")\n",
    "plots = []\n",
    "for target, cd, arm, exposure, datetime, path, filename in spectra:\n",
    "    data = fits.getdata(path)\n",
    "    quality = conn.execute(\n",
    "        \"\"\"\n",
    "        select se.quality\n",
    "        from tom_spectrumrawdata srd\n",
    "        join tom_spectrumevaluation se on se.spectrum_id = srd.id\n",
    "        where srd.uri=?;\n",
    "        \"\"\",\n",
    "        (filename,),\n",
    "    ).fetchone()\n",
    "\n",
    "    p = figure(\n",
    "        title=f\"{target:<14s}: {arm:>4s}, {cd:<14s}, {exposure:>4.0f}sec, {datetime[:19]}  File: {filename:<30s}\",\n",
    "        sizing_mode=\"stretch_width\",\n",
    "        tools = [BoxZoomTool(), PanTool(), ResetTool()],\n",
    "    )\n",
    "    p.line(data[\"Arg\"], np.clip(data[\"Fun\"], a_min=None, a_max=1.3), line_width=0.2)\n",
    "    p.xaxis.ticker.num_minor_ticks = 25\n",
    "    p.add_layout(Label(x=np.min(data[\"Arg\"]), y=1.2, x_units=\"data\", y_units=\"data\", text=f\"Quality={quality}\"))\n",
    "\n",
    "    # output_file(filename=f\"{target}_{arm}.html\", title=p.title)\n",
    "    f = f\"{target}_{arm[:1]}_{datetime[:13]}h{datetime[14:16]}m{datetime[17:19]}s.html\"\n",
    "    output_file(filename=f, title=p.title)\n",
    "    plots.append(p)\n",
    "    # save(p)\n",
    "\n",
    "save(column(plots, sizing_mode=\"scale_width\"))\n"
   ]
  },
  {
   "cell_type": "code",
   "execution_count": 4,
   "metadata": {},
   "outputs": [],
   "source": [
    "quality = conn.execute(\n",
    "        \"\"\"\n",
    "        select se.quality\n",
    "        from tom_spectrumrawdata srd\n",
    "        join tom_spectrumevaluation se on se.spectrum_id = srd.id\n",
    "        where srd.uri=?;\n",
    "        \"\"\",\n",
    "        (filename,),\n",
    "    ).fetchone()"
   ]
  },
  {
   "cell_type": "code",
   "execution_count": 1,
   "metadata": {},
   "outputs": [
    {
     "data": {
      "text/html": [
       "<div><i>Table length=99</i>\n",
       "<table id=\"table1377022220272\" class=\"table-striped table-bordered table-condensed\">\n",
       "<thead><tr><th>Target</th><th>Datetime_utc</th><th>Rating</th></tr></thead>\n",
       "<thead><tr><th>str13</th><th>str24</th><th>float64</th></tr></thead>\n",
       "<tr><td>TIC 204698586</td><td>2023-05-01T04:10:47.945Z</td><td>1.0</td></tr>\n",
       "<tr><td>TIC 161043618</td><td>2023-05-01T02:51:34.100Z</td><td>1.0</td></tr>\n",
       "<tr><td>TIC 123098844</td><td>2023-05-01T14:23:26.864Z</td><td>2.0</td></tr>\n",
       "<tr><td>TIC 89278612</td><td>2023-05-01T12:47:20.368Z</td><td>2.0</td></tr>\n",
       "<tr><td>TIC 278352276</td><td>2023-05-01T22:33:43.886Z</td><td>3.0</td></tr>\n",
       "<tr><td>TIC 322727163</td><td>2023-05-02T10:04:49.666Z</td><td>3.0</td></tr>\n",
       "<tr><td>TIC 375325607</td><td>2023-05-02T10:22:49.471Z</td><td>1.0</td></tr>\n",
       "<tr><td>TIC 123098844</td><td>2023-06-14T10:56:41.427Z</td><td>1.0</td></tr>\n",
       "<tr><td>TIC 89278612</td><td>2023-06-14T10:52:55.719Z</td><td>1.0</td></tr>\n",
       "<tr><td>TIC 278352276</td><td>2023-06-14T10:32:57.428Z</td><td>1.0</td></tr>\n",
       "<tr><td>...</td><td>...</td><td>...</td></tr>\n",
       "<tr><td>TIC 78568780</td><td>2023-11-02T10:50:58.292Z</td><td>2.5</td></tr>\n",
       "<tr><td>TIC 200094011</td><td>2023-11-02T11:16:00.941Z</td><td>4.0</td></tr>\n",
       "<tr><td>TIC 336882813</td><td>2023-11-02T11:10:34.923Z</td><td>3.0</td></tr>\n",
       "<tr><td>TIC 348651800</td><td>2023-11-02T11:54:23.211Z</td><td>2.5</td></tr>\n",
       "<tr><td>TIC 454140642</td><td>2023-12-06T05:17:12.738Z</td><td>3.0</td></tr>\n",
       "<tr><td>TIC 391620600</td><td>2023-12-06T05:43:31.257Z</td><td>3.0</td></tr>\n",
       "<tr><td>TIC 78568780</td><td>2023-12-06T07:12:08.559Z</td><td>2.0</td></tr>\n",
       "<tr><td>TIC 348651800</td><td>2023-12-06T07:31:16.173Z</td><td>2.0</td></tr>\n",
       "<tr><td>TIC 200094011</td><td>2023-12-06T07:54:57.252Z</td><td>3.5</td></tr>\n",
       "<tr><td>TIC 239872462</td><td>2023-12-06T08:15:12.760Z</td><td>2.5</td></tr>\n",
       "</table></div>"
      ],
      "text/plain": [
       "<Table length=99>\n",
       "    Target          Datetime_utc        Rating\n",
       "    str13              str24           float64\n",
       "------------- ------------------------ -------\n",
       "TIC 204698586 2023-05-01T04:10:47.945Z     1.0\n",
       "TIC 161043618 2023-05-01T02:51:34.100Z     1.0\n",
       "TIC 123098844 2023-05-01T14:23:26.864Z     2.0\n",
       " TIC 89278612 2023-05-01T12:47:20.368Z     2.0\n",
       "TIC 278352276 2023-05-01T22:33:43.886Z     3.0\n",
       "TIC 322727163 2023-05-02T10:04:49.666Z     3.0\n",
       "TIC 375325607 2023-05-02T10:22:49.471Z     1.0\n",
       "TIC 123098844 2023-06-14T10:56:41.427Z     1.0\n",
       " TIC 89278612 2023-06-14T10:52:55.719Z     1.0\n",
       "TIC 278352276 2023-06-14T10:32:57.428Z     1.0\n",
       "          ...                      ...     ...\n",
       " TIC 78568780 2023-11-02T10:50:58.292Z     2.5\n",
       "TIC 200094011 2023-11-02T11:16:00.941Z     4.0\n",
       "TIC 336882813 2023-11-02T11:10:34.923Z     3.0\n",
       "TIC 348651800 2023-11-02T11:54:23.211Z     2.5\n",
       "TIC 454140642 2023-12-06T05:17:12.738Z     3.0\n",
       "TIC 391620600 2023-12-06T05:43:31.257Z     3.0\n",
       " TIC 78568780 2023-12-06T07:12:08.559Z     2.0\n",
       "TIC 348651800 2023-12-06T07:31:16.173Z     2.0\n",
       "TIC 200094011 2023-12-06T07:54:57.252Z     3.5\n",
       "TIC 239872462 2023-12-06T08:15:12.760Z     2.5"
      ]
     },
     "execution_count": 1,
     "metadata": {},
     "output_type": "execute_result"
    }
   ],
   "source": [
    "from astropy.table import Table\n",
    "\n",
    "t = Table.read('../django/QuadEBdb/Data Files/SpectrumEvaluations.csv', format=\"ascii.csv\")\n",
    "t"
   ]
  }
 ],
 "metadata": {
  "kernelspec": {
   "display_name": "TOM",
   "language": "python",
   "name": "python3"
  },
  "language_info": {
   "codemirror_mode": {
    "name": "ipython",
    "version": 3
   },
   "file_extension": ".py",
   "mimetype": "text/x-python",
   "name": "python",
   "nbconvert_exporter": "python",
   "pygments_lexer": "ipython3",
   "version": "3.12.0"
  }
 },
 "nbformat": 4,
 "nbformat_minor": 2
}
