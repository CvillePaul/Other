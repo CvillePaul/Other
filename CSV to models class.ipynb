{
 "cells": [
  {
   "cell_type": "markdown",
   "metadata": {},
   "source": [
    "## Read in a CSV and write out python code defining a data class for each row"
   ]
  },
  {
   "cell_type": "code",
   "execution_count": 50,
   "metadata": {},
   "outputs": [],
   "source": [
    "import csv\n",
    "\n",
    "def python_from_csv(filename, class_name):\n",
    "    source_file = f\"..\\\\django\\\\QuadEBdb\\\\tom\\\\generated_code\\\\{class_name}.py\"\n",
    "    indent = \"    \"\n",
    "\n",
    "    header, first_row = list(csv.reader(open(filename)))[:2]\n",
    "\n",
    "    with open(source_file, \"w\") as f:\n",
    "        f.write(\"from django.db import models\\n\")\n",
    "        f.write(\"\\n\")\n",
    "        f.write(f\"class {class_name}(models.Model):\\n\")\n",
    "        for column_name, example_data in zip(header, first_row):\n",
    "            try:\n",
    "                _ = float(example_data)\n",
    "                if example_data.count(\".\") > 0:\n",
    "                    field_type = \"FloatField(null=True)\"\n",
    "                else:\n",
    "                    if len(example_data) > 8:\n",
    "                        field_type = \"BigIntegerField(null=True)\"\n",
    "                    else:\n",
    "                        field_type = \"IntegerField(null=True)\"\n",
    "            except:\n",
    "                field_type = 'CharField(max_length=100, null=True)'\n",
    "            if column_name.lower() == \"id\":\n",
    "                #django creates a column named id as the primary key, so we can't also use it here\n",
    "                column_name = \"Identifier\"\n",
    "            f.write(f\"{indent}{column_name.replace(\" \", \"_\")} = models.{field_type}\\n\")\n",
    "\n",
    "# python_from_csv(\"TICv8 Targets.csv\", \"Tess_TICv8\")\n",
    "# python_from_csv(\"GAIA DR2 Example.csv\", \"Gaia_DR2\")\n",
    "# python_from_csv(\"GAIA Neighbors.csv\", \"Gaia_DR3\")\n",
    "python_from_csv(\"2MASS.csv\", \"TwoMass\")\n"
   ]
  }
 ],
 "metadata": {
  "kernelspec": {
   "display_name": "Astro",
   "language": "python",
   "name": "python3"
  },
  "language_info": {
   "codemirror_mode": {
    "name": "ipython",
    "version": 3
   },
   "file_extension": ".py",
   "mimetype": "text/x-python",
   "name": "python",
   "nbconvert_exporter": "python",
   "pygments_lexer": "ipython3",
   "version": "3.12.0"
  }
 },
 "nbformat": 4,
 "nbformat_minor": 2
}
