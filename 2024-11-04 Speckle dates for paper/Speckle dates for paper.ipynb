{
 "cells": [
  {
   "cell_type": "code",
   "execution_count": 8,
   "metadata": {},
   "outputs": [],
   "source": [
    "from astropy.table import Table\n",
    "from astropy.time import Time"
   ]
  },
  {
   "cell_type": "code",
   "execution_count": 32,
   "metadata": {},
   "outputs": [
    {
     "name": "stdout",
     "output_type": "stream",
     "text": [
      "89\n"
     ]
    },
    {
     "data": {
      "text/html": [
       "<div><i>Table length=106</i>\n",
       "<table id=\"table2230498119600\" class=\"table-striped table-bordered table-condensed\">\n",
       "<thead><tr><th>TIC ID</th><th>Mag</th><th>Byear</th><th>UTC</th><th>Chisq</th><th>Seeing</th><th>Theta</th><th>Rho</th><th>Delta m</th><th>Lambda</th><th>Delta lambda</th><th>Notes</th><th>Eclipse</th><th>col12</th><th>_1</th><th>_2</th><th>_3</th><th>_4</th><th>_5</th></tr></thead>\n",
       "<thead><tr><th>str13</th><th>float64</th><th>float64</th><th>str16</th><th>float64</th><th>float64</th><th>float64</th><th>float64</th><th>str5</th><th>int64</th><th>int64</th><th>str70</th><th>str2</th><th>int64</th><th>int64</th><th>str2</th><th>str2</th><th>str2</th><th>str24</th></tr></thead>\n",
       "<tr><td>TIC 25818450</td><td>11.45</td><td>2022.7447</td><td>2022-09-29 08:32</td><td>6.19</td><td>0.93</td><td>181.0</td><td>0.0633</td><td>1.51</td><td>692</td><td>40</td><td>0.06\\\\</td><td>--</td><td>--</td><td>--</td><td>--</td><td>--</td><td>--</td><td>--</td></tr>\n",
       "<tr><td>TIC 25818450</td><td>11.45</td><td>2022.7447</td><td>2022-09-29 08:32</td><td>0.67</td><td>1.22</td><td>181.2</td><td>0.0639</td><td>1.33</td><td>880</td><td>50</td><td>0.08\\\\</td><td>--</td><td>--</td><td>--</td><td>--</td><td>--</td><td>--</td><td>--</td></tr>\n",
       "<tr><td>TIC 45160946</td><td>13.7</td><td>2023.9106</td><td>xxxx-xx-xx xx:xx</td><td>--</td><td>--</td><td>163.1</td><td>0.1869</td><td>1.8</td><td>824</td><td>170</td><td>$\\cdots$ \\textcolor{red}{Noisy} \\\\</td><td>--</td><td>--</td><td>--</td><td>--</td><td>--</td><td>--</td><td>--</td></tr>\n",
       "<tr><td>TIC 75740921</td><td>13.22</td><td>2023.9106</td><td>xxxx-xx-xx xx:xx</td><td>--</td><td>--</td><td>95.9</td><td>0.3986</td><td>0.4</td><td>824</td><td>170</td><td>$\\cdots$ \\textcolor{red}{Noisy} \\\\</td><td>--</td><td>--</td><td>--</td><td>--</td><td>--</td><td>--</td><td>--</td></tr>\n",
       "<tr><td>TIC 78568780</td><td>11.51</td><td>2022.7479</td><td>2022-09-30 12:03</td><td>3.79</td><td>0.96</td><td>246.9</td><td>0.2632</td><td>1.26</td><td>692</td><td>40</td><td>0.25 \\textcolor{violet}{Aa Eclipse (4\\%)}\\\\</td><td>Aa</td><td>--</td><td>--</td><td>--</td><td>--</td><td>--</td><td>--</td></tr>\n",
       "<tr><td>TIC 78568780</td><td>11.51</td><td>2022.7479</td><td>2022-09-30 12:03</td><td>0.19</td><td>0.89</td><td>247.0</td><td>0.2631</td><td>1.2</td><td>880</td><td>50</td><td>0.23\\\\</td><td>--</td><td>--</td><td>--</td><td>--</td><td>--</td><td>--</td><td>--</td></tr>\n",
       "<tr><td>TIC 89278612</td><td>11.12</td><td>2022.7443</td><td>2022-09-29 05:19</td><td>3.41</td><td>0.82</td><td>184.7</td><td>0.0894</td><td>0.61</td><td>692</td><td>40</td><td>0.07\\\\</td><td>--</td><td>--</td><td>--</td><td>--</td><td>--</td><td>--</td><td>--</td></tr>\n",
       "<tr><td>TIC 89278612</td><td>11.12</td><td>2022.7443</td><td>2022-09-29 05:19</td><td>0.12</td><td>0.83</td><td>186.2</td><td>0.0894</td><td>0.55</td><td>880</td><td>50</td><td>0.07\\\\</td><td>--</td><td>--</td><td>--</td><td>--</td><td>--</td><td>--</td><td>--</td></tr>\n",
       "<tr><td>TIC 97356407</td><td>6.31</td><td>2022.8655</td><td>2022-11-12 11:20</td><td>93.14</td><td>1.22</td><td>228.9</td><td>0.1103</td><td>4.33</td><td>692</td><td>40</td><td>0.13\\\\</td><td>--</td><td>--</td><td>--</td><td>--</td><td>--</td><td>--</td><td>--</td></tr>\n",
       "<tr><td>...</td><td>...</td><td>...</td><td>...</td><td>...</td><td>...</td><td>...</td><td>...</td><td>...</td><td>...</td><td>...</td><td>...</td><td>...</td><td>...</td><td>...</td><td>...</td><td>...</td><td>...</td><td>...</td></tr>\n",
       "<tr><td>TIC 470710327</td><td>9.79</td><td>2023.7986</td><td>2023-10-19 06:30</td><td>0.95</td><td>1.14</td><td>305.2</td><td>0.5065</td><td>1.23</td><td>692</td><td>40</td><td>0.58\\\\</td><td>--</td><td>--</td><td>--</td><td>--</td><td>--</td><td>--</td><td>--</td></tr>\n",
       "<tr><td>TIC 470710327</td><td>9.79</td><td>2023.7986</td><td>2023-10-19 06:30</td><td>0.12</td><td>1.1</td><td>305.2</td><td>0.5045</td><td>1.16</td><td>880</td><td>50</td><td>0.55\\\\</td><td>--</td><td>--</td><td>--</td><td>--</td><td>--</td><td>--</td><td>--</td></tr>\n",
       "<tr><td>TIC 470710327</td><td>9.79</td><td>2023.8008</td><td>2023-10-20 01:58</td><td>1.78</td><td>0.88</td><td>305.2</td><td>0.5079</td><td>1.26</td><td>692</td><td>40</td><td>0.45 \\textcolor{violet}{Aa Eclipse ($&lt;1$\\%)}\\\\</td><td>Aa</td><td>--</td><td>--</td><td>--</td><td>--</td><td>--</td><td>--</td></tr>\n",
       "<tr><td>TIC 470710327</td><td>9.79</td><td>2023.8008</td><td>2023-10-20 01:58</td><td>0.25</td><td>0.87</td><td>305.2</td><td>0.5073</td><td>1.13</td><td>880</td><td>50</td><td>0.44\\\\</td><td>--</td><td>--</td><td>--</td><td>--</td><td>--</td><td>--</td><td>--</td></tr>\n",
       "<tr><td>TIC 470710327</td><td>9.79</td><td>2023.8012</td><td>2023-10-20 05:19</td><td>1.77</td><td>0.94</td><td>305.2</td><td>0.5082</td><td>1.08</td><td>692</td><td>40</td><td>0.48 \\textcolor{violet}{Aa Eclipse (7\\%)}\\\\</td><td>Aa</td><td>--</td><td>--</td><td>--</td><td>--</td><td>--</td><td>--</td></tr>\n",
       "<tr><td>TIC 470710327</td><td>9.79</td><td>2023.8012</td><td>2023-10-20 05:19</td><td>0.25</td><td>0.9</td><td>305.1</td><td>0.5074</td><td>1.02</td><td>880</td><td>50</td><td>0.46\\\\</td><td>--</td><td>--</td><td>--</td><td>--</td><td>--</td><td>--</td><td>--</td></tr>\n",
       "<tr><td>TIC 470710327</td><td>9.79</td><td>2023.8013</td><td>2023-10-20 06:49</td><td>7.03</td><td>0.73</td><td>305.2</td><td>0.5068</td><td>1.09</td><td>692</td><td>40</td><td>0.37 \\textcolor{violet}{Aa Eclipse (6\\%)}\\\\</td><td>Aa</td><td>--</td><td>--</td><td>--</td><td>--</td><td>--</td><td>--</td></tr>\n",
       "<tr><td>TIC 470710327</td><td>9.79</td><td>2023.8013</td><td>2023-10-20 06:49</td><td>0.38</td><td>0.76</td><td>305.1</td><td>0.5065</td><td>1.07</td><td>880</td><td>50</td><td>0.38\\\\</td><td>--</td><td>--</td><td>--</td><td>--</td><td>--</td><td>--</td><td>--</td></tr>\n",
       "<tr><td>TIC 470710327</td><td>9.79</td><td>2023.8015</td><td>2023-10-20 08:47</td><td>62.43</td><td>0.78</td><td>305.2</td><td>0.5064</td><td>1.22</td><td>692</td><td>40</td><td>0.39 \\textcolor{violet}{Aa Eclipse (1\\%)}\\\\</td><td>Aa</td><td>--</td><td>--</td><td>--</td><td>--</td><td>--</td><td>--</td></tr>\n",
       "<tr><td>TIC 470710327</td><td>9.79</td><td>2023.8015</td><td>2023-10-20 08:47</td><td>1.04</td><td>0.76</td><td>305.2</td><td>0.5069</td><td>1.12</td><td>880</td><td>50</td><td>0.39\\\\</td><td>--</td><td>--</td><td>--</td><td>--</td><td>--</td><td>--</td><td>--</td></tr>\n",
       "</table></div>"
      ],
      "text/plain": [
       "<Table length=106>\n",
       "    TIC ID      Mag     Byear         UTC        ...  _2   _3   _4    _5 \n",
       "    str13     float64  float64       str16       ... str2 str2 str2 str24\n",
       "------------- ------- --------- ---------------- ... ---- ---- ---- -----\n",
       " TIC 25818450   11.45 2022.7447 2022-09-29 08:32 ...   --   --   --    --\n",
       " TIC 25818450   11.45 2022.7447 2022-09-29 08:32 ...   --   --   --    --\n",
       " TIC 45160946    13.7 2023.9106 xxxx-xx-xx xx:xx ...   --   --   --    --\n",
       " TIC 75740921   13.22 2023.9106 xxxx-xx-xx xx:xx ...   --   --   --    --\n",
       " TIC 78568780   11.51 2022.7479 2022-09-30 12:03 ...   --   --   --    --\n",
       " TIC 78568780   11.51 2022.7479 2022-09-30 12:03 ...   --   --   --    --\n",
       " TIC 89278612   11.12 2022.7443 2022-09-29 05:19 ...   --   --   --    --\n",
       " TIC 89278612   11.12 2022.7443 2022-09-29 05:19 ...   --   --   --    --\n",
       " TIC 97356407    6.31 2022.8655 2022-11-12 11:20 ...   --   --   --    --\n",
       "          ...     ...       ...              ... ...  ...  ...  ...   ...\n",
       "TIC 470710327    9.79 2023.7986 2023-10-19 06:30 ...   --   --   --    --\n",
       "TIC 470710327    9.79 2023.7986 2023-10-19 06:30 ...   --   --   --    --\n",
       "TIC 470710327    9.79 2023.8008 2023-10-20 01:58 ...   --   --   --    --\n",
       "TIC 470710327    9.79 2023.8008 2023-10-20 01:58 ...   --   --   --    --\n",
       "TIC 470710327    9.79 2023.8012 2023-10-20 05:19 ...   --   --   --    --\n",
       "TIC 470710327    9.79 2023.8012 2023-10-20 05:19 ...   --   --   --    --\n",
       "TIC 470710327    9.79 2023.8013 2023-10-20 06:49 ...   --   --   --    --\n",
       "TIC 470710327    9.79 2023.8013 2023-10-20 06:49 ...   --   --   --    --\n",
       "TIC 470710327    9.79 2023.8015 2023-10-20 08:47 ...   --   --   --    --\n",
       "TIC 470710327    9.79 2023.8015 2023-10-20 08:47 ...   --   --   --    --"
      ]
     },
     "execution_count": 32,
     "metadata": {},
     "output_type": "execute_result"
    }
   ],
   "source": [
    "# Jimmy needs the times in Table 1 of the paper converted from byear to utc\n",
    "table_1 = Table.read(\"../2024-07-09 Verify eclipses in paper/Eclipses from Table 1.csv\")\n",
    "dssi_sessions = Table.read(\"../2024-07-08 Process DSSI olist logs/DSSI sessions.csv\")\n",
    "dssi_sessions[\"MidTime Byear\"] = Time(dssi_sessions[\"MidTime JD\"], format=\"jd\").byear\n",
    "\n",
    "tolerance = 0.0001\n",
    "matches = 0\n",
    "table_1.add_column(\"xxxx-xx-xx xx:xx\", name=\"UTC\", index=3)\n",
    "for row in table_1:\n",
    "    for session in dssi_sessions[dssi_sessions[\"TIC ID\"] == row[\"TIC ID\"]]:\n",
    "        if row[\"Byear\"] - session[\"MidTime Byear\"] < tolerance:\n",
    "            row[\"UTC\"] = session[\"MidTime UTC\"][:16]\n",
    "            matches += 1\n",
    "            break\n",
    "print(matches)\n",
    "table_1"
   ]
  },
  {
   "cell_type": "code",
   "execution_count": 39,
   "metadata": {},
   "outputs": [
    {
     "data": {
      "text/html": [
       "<div><i>Table length=22</i>\n",
       "<table id=\"table2230471221536\" class=\"table-striped table-bordered table-condensed\">\n",
       "<thead><tr><th>TIC ID</th><th>Mag</th><th>Byear</th><th>UTC</th><th>Chisq</th><th>Seeing</th><th>Theta</th><th>Rho</th><th>Delta m</th><th>Lambda</th><th>Delta lambda</th><th>Notes</th><th>Eclipse</th><th>col12</th><th>_1</th><th>_2</th><th>_3</th><th>_4</th><th>_5</th></tr></thead>\n",
       "<thead><tr><th>str13</th><th>float64</th><th>float64</th><th>str16</th><th>float64</th><th>float64</th><th>float64</th><th>float64</th><th>str5</th><th>int64</th><th>int64</th><th>str70</th><th>str2</th><th>int64</th><th>int64</th><th>str2</th><th>str2</th><th>str2</th><th>str24</th></tr></thead>\n",
       "<tr><td>TIC 45160946</td><td>13.7</td><td>2023.9106</td><td>2023-11-29 04:38</td><td>--</td><td>--</td><td>163.1</td><td>0.1869</td><td>1.8</td><td>824</td><td>170</td><td>$\\cdots$ \\textcolor{red}{Noisy} \\\\</td><td>--</td><td>--</td><td>--</td><td>--</td><td>--</td><td>--</td><td>--</td></tr>\n",
       "<tr><td>TIC 75740921</td><td>13.22</td><td>2023.9106</td><td>2023-11-29 04:38</td><td>--</td><td>--</td><td>95.9</td><td>0.3986</td><td>0.4</td><td>824</td><td>170</td><td>$\\cdots$ \\textcolor{red}{Noisy} \\\\</td><td>--</td><td>--</td><td>--</td><td>--</td><td>--</td><td>--</td><td>--</td></tr>\n",
       "<tr><td>TIC 97356407</td><td>6.31</td><td>2023.3237</td><td>2023-04-28 19:59</td><td>--</td><td>--</td><td>50.2</td><td>0.105</td><td>3.4</td><td>824</td><td>170</td><td>$\\cdots$ \\textcolor{red}{Noisy} \\\\</td><td>--</td><td>--</td><td>--</td><td>--</td><td>--</td><td>--</td><td>--</td></tr>\n",
       "<tr><td>TIC 97356407</td><td>6.31</td><td>2023.9104</td><td>2023-11-29 02:53</td><td>--</td><td>--</td><td>56.0</td><td>0.1001</td><td>4</td><td>824</td><td>170</td><td>$\\cdots$ \\textcolor{red}{Noisy UNRESOLVED in \\citep{Tokovinin2024}} \\\\</td><td>--</td><td>--</td><td>--</td><td>--</td><td>--</td><td>--</td><td>--</td></tr>\n",
       "<tr><td>TIC 146810480</td><td>8.96</td><td>2020.2004</td><td>2020-03-14 01:43</td><td>--</td><td>--</td><td>130.0</td><td>0.0882</td><td>0.9</td><td>824</td><td>170</td><td>--</td><td>--</td><td>--</td><td>--</td><td>--</td><td>--</td><td>--</td><td>--</td></tr>\n",
       "<tr><td>TIC 146810480</td><td>8.96</td><td>2022.1951</td><td>2022-03-12 14:53</td><td>--</td><td>--</td><td>129.7</td><td>0.0992</td><td>0.9</td><td>824</td><td>170</td><td>--</td><td>--</td><td>--</td><td>--</td><td>--</td><td>--</td><td>--</td><td>--</td></tr>\n",
       "<tr><td>TIC 168789840</td><td>11.67</td><td>2020.8236</td><td>2022-09-27 10:21</td><td>--</td><td>--</td><td>257.7</td><td>0.423</td><td>0.3</td><td>824</td><td>170</td><td>--</td><td>--</td><td>--</td><td>--</td><td>--</td><td>--</td><td>--</td><td>--</td></tr>\n",
       "<tr><td>TIC 168789840</td><td>11.67</td><td>2020.8368</td><td>2022-09-27 10:21</td><td>--</td><td>--</td><td>257.6</td><td>0.4233</td><td>0.3</td><td>824</td><td>170</td><td>--</td><td>--</td><td>--</td><td>--</td><td>--</td><td>--</td><td>--</td><td>--</td></tr>\n",
       "<tr><td>TIC 168789840</td><td>11.67</td><td>2020.9243</td><td>2022-09-27 10:21</td><td>--</td><td>--</td><td>257.6</td><td>0.4235</td><td>0.3</td><td>824</td><td>170</td><td>--</td><td>--</td><td>--</td><td>--</td><td>--</td><td>--</td><td>--</td><td>--</td></tr>\n",
       "<tr><td>...</td><td>...</td><td>...</td><td>...</td><td>...</td><td>...</td><td>...</td><td>...</td><td>...</td><td>...</td><td>...</td><td>...</td><td>...</td><td>...</td><td>...</td><td>...</td><td>...</td><td>...</td><td>...</td></tr>\n",
       "<tr><td>TIC 168789840</td><td>11.67</td><td>2023.5713</td><td>2023-07-28 06:24</td><td>--</td><td>--</td><td>258.4</td><td>0.4234</td><td>0.3</td><td>824</td><td>170</td><td>--</td><td>--</td><td>--</td><td>--</td><td>Â·</td><td>Â·</td><td>Â·</td><td>2021AJ....162...41TNoisy</td></tr>\n",
       "<tr><td>TIC 200094011</td><td>9.71</td><td>2023.8967</td><td>2023-11-24 02:47</td><td>--</td><td>--</td><td>208.4</td><td>0.5435</td><td>1</td><td>824</td><td>170</td><td>$\\cdots$ \\\\</td><td>--</td><td>--</td><td>--</td><td>--</td><td>--</td><td>--</td><td>--</td></tr>\n",
       "<tr><td>TIC 201310151</td><td>14.88</td><td>2023.5709</td><td>2023-07-28 02:53</td><td>--</td><td>--</td><td>138.4</td><td>0.1157</td><td>1.7</td><td>824</td><td>170</td><td>$\\cdots$ \\textcolor{red}{Noisy} \\\\</td><td>--</td><td>--</td><td>--</td><td>--</td><td>--</td><td>--</td><td>--</td></tr>\n",
       "<tr><td>TIC 255532033</td><td>10.74</td><td>2023.6632</td><td>2023-08-30 19:58</td><td>--</td><td>--</td><td>191.3</td><td>0.1124</td><td>0.8</td><td>824</td><td>170</td><td>$\\cdots$ \\textcolor{red}{Noisy} \\\\</td><td>--</td><td>--</td><td>--</td><td>--</td><td>--</td><td>--</td><td>--</td></tr>\n",
       "<tr><td>TIC 257776944</td><td>9.51</td><td>2023.4879</td><td>2023-06-27 19:20</td><td>--</td><td>--</td><td>229.3</td><td>0.1099</td><td>1.5</td><td>824</td><td>170</td><td>$\\cdots$ \\\\</td><td>--</td><td>--</td><td>--</td><td>--</td><td>--</td><td>--</td><td>--</td></tr>\n",
       "<tr><td>TIC 300446218</td><td>14.4</td><td>2023.9105</td><td>2023-11-29 03:46</td><td>--</td><td>--</td><td>99.0</td><td>0.0932</td><td>0.1</td><td>824</td><td>170</td><td>$\\cdots$ \\textcolor{red}{Noisy} \\\\</td><td>--</td><td>--</td><td>--</td><td>--</td><td>--</td><td>--</td><td>--</td></tr>\n",
       "<tr><td>TIC 348651800</td><td>11.66</td><td>2023.897</td><td>2023-11-24 05:25</td><td>--</td><td>--</td><td>56.9</td><td>0.4127</td><td>1.2</td><td>824</td><td>170</td><td>$\\cdots$ \\\\</td><td>--</td><td>--</td><td>--</td><td>--</td><td>--</td><td>--</td><td>--</td></tr>\n",
       "<tr><td>TIC 357810643</td><td>7.01</td><td>2023.3239</td><td>2023-04-28 21:44</td><td>--</td><td>--</td><td>108.3</td><td>0.4419</td><td>2.7</td><td>824</td><td>170</td><td>$\\cdots$ \\\\</td><td>--</td><td>--</td><td>--</td><td>--</td><td>--</td><td>--</td><td>--</td></tr>\n",
       "<tr><td>TIC 399492452</td><td>10.83</td><td>2023.4114</td><td>2023-05-30 20:45</td><td>--</td><td>--</td><td>333.6</td><td>0.0325</td><td>0</td><td>824</td><td>170</td><td>$\\cdots$ \\textcolor{red}{Noisy} \\\\</td><td>--</td><td>--</td><td>--</td><td>--</td><td>--</td><td>--</td><td>--</td></tr>\n",
       "<tr><td>TIC 461614217</td><td>10.44</td><td>2023.3237</td><td>2023-04-28 19:59</td><td>--</td><td>--</td><td>107.5</td><td>0.0644</td><td>1</td><td>824</td><td>170</td><td>$\\cdots$ \\textcolor{red}{Noisy} \\\\</td><td>--</td><td>--</td><td>--</td><td>--</td><td>--</td><td>--</td><td>--</td></tr>\n",
       "</table></div>"
      ],
      "text/plain": [
       "<Table length=22>\n",
       "    TIC ID      Mag     Byear   ...  _3   _4             _5           \n",
       "    str13     float64  float64  ... str2 str2          str24          \n",
       "------------- ------- --------- ... ---- ---- ------------------------\n",
       " TIC 45160946    13.7 2023.9106 ...   --   --                       --\n",
       " TIC 75740921   13.22 2023.9106 ...   --   --                       --\n",
       " TIC 97356407    6.31 2023.3237 ...   --   --                       --\n",
       " TIC 97356407    6.31 2023.9104 ...   --   --                       --\n",
       "TIC 146810480    8.96 2020.2004 ...   --   --                       --\n",
       "TIC 146810480    8.96 2022.1951 ...   --   --                       --\n",
       "TIC 168789840   11.67 2020.8236 ...   --   --                       --\n",
       "TIC 168789840   11.67 2020.8368 ...   --   --                       --\n",
       "TIC 168789840   11.67 2020.9243 ...   --   --                       --\n",
       "          ...     ...       ... ...  ...  ...                      ...\n",
       "TIC 168789840   11.67 2023.5713 ...   Â·   Â· 2021AJ....162...41TNoisy\n",
       "TIC 200094011    9.71 2023.8967 ...   --   --                       --\n",
       "TIC 201310151   14.88 2023.5709 ...   --   --                       --\n",
       "TIC 255532033   10.74 2023.6632 ...   --   --                       --\n",
       "TIC 257776944    9.51 2023.4879 ...   --   --                       --\n",
       "TIC 300446218    14.4 2023.9105 ...   --   --                       --\n",
       "TIC 348651800   11.66  2023.897 ...   --   --                       --\n",
       "TIC 357810643    7.01 2023.3239 ...   --   --                       --\n",
       "TIC 399492452   10.83 2023.4114 ...   --   --                       --\n",
       "TIC 461614217   10.44 2023.3237 ...   --   --                       --"
      ]
     },
     "execution_count": 39,
     "metadata": {},
     "output_type": "execute_result"
    }
   ],
   "source": [
    "for row in table_1:\n",
    "    if row[\"UTC\"] == \"xxxx-xx-xx xx:xx\":\n",
    "        row[\"UTC\"] = Time(row[\"Byear\"], format=\"byear\").iso[:16]\n",
    "\n",
    "table_1.write(\"Table 1 with UTC.csv\", overwrite=True)\n",
    "table_1[table_1[\"Lambda\"] == 824]"
   ]
  }
 ],
 "metadata": {
  "kernelspec": {
   "display_name": "Python 3",
   "language": "python",
   "name": "python3"
  },
  "language_info": {
   "codemirror_mode": {
    "name": "ipython",
    "version": 3
   },
   "file_extension": ".py",
   "mimetype": "text/x-python",
   "name": "python",
   "nbconvert_exporter": "python",
   "pygments_lexer": "ipython3",
   "version": "3.12.6"
  }
 },
 "nbformat": 4,
 "nbformat_minor": 2
}
