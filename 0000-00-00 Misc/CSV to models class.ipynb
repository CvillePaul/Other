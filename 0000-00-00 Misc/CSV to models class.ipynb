{
 "cells": [
  {
   "cell_type": "markdown",
   "metadata": {},
   "source": [
    "## Read in a CSV and write out python code defining a data class for each row"
   ]
  },
  {
   "cell_type": "code",
   "execution_count": 50,
   "metadata": {},
   "outputs": [],
   "source": [
    "import csv\n",
    "\n",
    "def python_from_csv(filename, class_name):\n",
    "    source_file = f\"..\\\\django\\\\QuadEBdb\\\\tom\\\\generated_code\\\\{class_name}.py\"\n",
    "    indent = \"    \"\n",
    "\n",
    "    header, first_row = list(csv.reader(open(filename)))[:2]\n",
    "\n",
    "    with open(source_file, \"w\") as f:\n",
    "        f.write(\"from django.db import models\\n\")\n",
    "        f.write(\"\\n\")\n",
    "        f.write(f\"class {class_name}(models.Model):\\n\")\n",
    "        for column_name, example_data in zip(header, first_row):\n",
    "            try:\n",
    "                _ = float(example_data)\n",
    "                if example_data.count(\".\") > 0:\n",
    "                    field_type = \"FloatField(null=True)\"\n",
    "                else:\n",
    "                    if len(example_data) > 8:\n",
    "                        field_type = \"BigIntegerField(null=True)\"\n",
    "                    else:\n",
    "                        field_type = \"IntegerField(null=True)\"\n",
    "            except:\n",
    "                field_type = 'CharField(max_length=100, null=True)'\n",
    "            if column_name.lower() == \"id\":\n",
    "                #django creates a column named id as the primary key, so we can't also use it here\n",
    "                column_name = \"Identifier\"\n",
    "            f.write(f\"{indent}{column_name.replace(\" \", \"_\")} = models.{field_type}\\n\")\n",
    "\n",
    "# python_from_csv(\"TICv8 Targets.csv\", \"Tess_TICv8\")\n",
    "# python_from_csv(\"GAIA DR2 Example.csv\", \"Gaia_DR2\")\n",
    "# python_from_csv(\"GAIA Neighbors.csv\", \"Gaia_DR3\")\n",
    "python_from_csv(\"2MASS.csv\", \"TwoMass\")\n"
   ]
  },
  {
   "cell_type": "code",
   "execution_count": 7,
   "metadata": {},
   "outputs": [],
   "source": [
    "# 2024-10-10 do a quickie look to find TICs that might be good for light curves w/ the TV-85\n",
    "\n",
    "from functools import partial\n",
    "from sqlite3 import connect\n",
    "import sys\n",
    "\n",
    "from astropy.table import Table\n",
    "\n",
    "sys.path.append(\"../../\")\n",
    "import astropaul.targetlistcreator as tlc\n",
    "\n",
    "conn = connect(\"../../django/TargetDB/db.sqlite3\")\n",
    "\n",
    "creator = tlc.TargetListCreator(connection=conn)\n",
    "creator.steps = [\n",
    "    tlc.add_targets,\n",
    "    tlc.add_tess,\n",
    "    tlc.add_coords,\n",
    "    partial(tlc.hide_cols, prefix=\"tess\"),\n",
    "    tlc.add_lists,\n",
    "]\n",
    "\n",
    "targets = Table.from_pandas(creator.calculate())\n",
    "\n",
    "#TODO: add a function to targetlistcreator that takes an astroplan observer and (start, end) time and outputs observability\n"
   ]
  },
  {
   "cell_type": "code",
   "execution_count": 6,
   "metadata": {},
   "outputs": [
    {
     "data": {
      "text/html": [
       "<div><i>Table length=214</i>\n",
       "<table id=\"table2304374744960\" class=\"table-striped table-bordered table-condensed\">\n",
       "<thead><tr><th>target_name</th><th>target_source</th><th>target_type</th><th>ra</th><th>dec</th><th>pmra</th><th>pmdec</th><th>parallax</th><th>Vmag</th><th>Teff</th><th>list_Featured_targets</th><th>list_Gemini_2024B_Proposal</th><th>list_Gemini_2025A_Proposal</th><th>list_HQND</th><th>list_Kostov_2022</th><th>list_Kostov_2023</th><th>list_LBT_2023-12-06</th><th>list_LBT_2023B</th><th>list_Speckle_Resolved</th></tr></thead>\n",
       "<thead><tr><th>str18</th><th>str28</th><th>str18</th><th>float64</th><th>float64</th><th>float64</th><th>float64</th><th>float64</th><th>float64</th><th>float64</th><th>bool</th><th>bool</th><th>bool</th><th>bool</th><th>bool</th><th>bool</th><th>bool</th><th>bool</th><th>bool</th></tr></thead>\n",
       "<tr><td>TIC 270360534</td><td>Kostov 2023 arXiv:2309.14200</td><td>QuadEB</td><td>263.430502039255</td><td>43.860752149892</td><td>-11.9616</td><td>-23.9874</td><td>1.74434</td><td>12.041</td><td>5048.88</td><td>False</td><td>False</td><td>False</td><td>False</td><td>False</td><td>True</td><td>False</td><td>False</td><td>False</td></tr>\n",
       "<tr><td>TIC 219469945</td><td>Kostov 2022 arXiv:2202.05790</td><td>QuadEB</td><td>241.047907546962</td><td>43.0303006747434</td><td>-0.866116</td><td>-13.0913</td><td>1.08328</td><td>12.507</td><td>6322.79</td><td>False</td><td>False</td><td>False</td><td>False</td><td>True</td><td>False</td><td>False</td><td>True</td><td>False</td></tr>\n",
       "<tr><td>TIC 20212631</td><td>Kostov 2023 arXiv:2309.14200</td><td>QuadEB</td><td>227.038060401645</td><td>39.97024000055</td><td>-82.8253</td><td>60.7128</td><td>5.36793</td><td>10.58</td><td>5665.4</td><td>False</td><td>False</td><td>False</td><td>False</td><td>False</td><td>True</td><td>False</td><td>False</td><td>False</td></tr>\n",
       "<tr><td>TIC 150055835</td><td>Kostov 2023 arXiv:2309.14200</td><td>QuadEB</td><td>69.9253097979945</td><td>29.1345840372292</td><td>1.09215</td><td>-1.99413</td><td>0.347484</td><td>15.116</td><td>6445.0</td><td>False</td><td>True</td><td>True</td><td>False</td><td>False</td><td>True</td><td>False</td><td>False</td><td>False</td></tr>\n",
       "<tr><td>TIC 161043618</td><td>Kostov 2022 arXiv:2202.05790</td><td>QuadEB</td><td>223.425163143389</td><td>52.7158479482434</td><td>2.17801</td><td>-3.59429</td><td>2.02761</td><td>12.497</td><td>5860.0</td><td>False</td><td>False</td><td>False</td><td>False</td><td>True</td><td>False</td><td>False</td><td>True</td><td>True</td></tr>\n",
       "<tr><td>TIC 58539786</td><td>Kostov 2023 arXiv:2309.14200</td><td>QuadEB</td><td>65.8340211217007</td><td>29.1427494807598</td><td>5.51137</td><td>-5.3655</td><td>0.83413</td><td>15.266</td><td>5597.0</td><td>False</td><td>True</td><td>True</td><td>False</td><td>False</td><td>True</td><td>False</td><td>False</td><td>False</td></tr>\n",
       "<tr><td>TIC 441794509</td><td>Kostov 2022 arXiv:2202.05790</td><td>QuadEB</td><td>263.598848681812</td><td>74.4722587998312</td><td>3.44165</td><td>-21.2733</td><td>1.10894</td><td>12.819</td><td>6221.0</td><td>False</td><td>False</td><td>False</td><td>False</td><td>True</td><td>False</td><td>True</td><td>True</td><td>False</td></tr>\n",
       "<tr><td>TIC 219006972</td><td>Kostov 2023 arXiv:2309.14200</td><td>QuadEB</td><td>221.202871081398</td><td>66.3786726710139</td><td>6.64058</td><td>-3.44764</td><td>0.703547</td><td>14.312</td><td>5878.0</td><td>False</td><td>True</td><td>False</td><td>False</td><td>False</td><td>True</td><td>False</td><td>False</td><td>False</td></tr>\n",
       "<tr><td>TIC 304713857</td><td>Kostov 2023 arXiv:2309.14200</td><td>QuadEB</td><td>304.203363762097</td><td>18.5761932727513</td><td>-13.8</td><td>-4.6</td><td>--</td><td>12.211</td><td>5866.0</td><td>False</td><td>False</td><td>False</td><td>False</td><td>False</td><td>True</td><td>False</td><td>False</td><td>False</td></tr>\n",
       "<tr><td>...</td><td>...</td><td>...</td><td>...</td><td>...</td><td>...</td><td>...</td><td>...</td><td>...</td><td>...</td><td>...</td><td>...</td><td>...</td><td>...</td><td>...</td><td>...</td><td>...</td><td>...</td><td>...</td></tr>\n",
       "<tr><td>2M18470628+4340344</td><td>Steve</td><td>White Dwarf Binary</td><td>--</td><td>--</td><td>--</td><td>--</td><td>--</td><td>--</td><td>--</td><td>False</td><td>False</td><td>False</td><td>False</td><td>False</td><td>False</td><td>False</td><td>False</td><td>False</td></tr>\n",
       "<tr><td>2M13375756+4352427</td><td>Steve</td><td>White Dwarf Binary</td><td>--</td><td>--</td><td>--</td><td>--</td><td>--</td><td>--</td><td>--</td><td>False</td><td>False</td><td>False</td><td>False</td><td>False</td><td>False</td><td>False</td><td>False</td><td>False</td></tr>\n",
       "<tr><td>2M09510536+3223587</td><td>Steve</td><td>White Dwarf Binary</td><td>--</td><td>--</td><td>--</td><td>--</td><td>--</td><td>--</td><td>--</td><td>False</td><td>False</td><td>False</td><td>False</td><td>False</td><td>False</td><td>False</td><td>False</td><td>False</td></tr>\n",
       "<tr><td>2M09390266+0404117</td><td>Steve</td><td>White Dwarf Binary</td><td>--</td><td>--</td><td>--</td><td>--</td><td>--</td><td>--</td><td>--</td><td>False</td><td>False</td><td>False</td><td>False</td><td>False</td><td>False</td><td>False</td><td>False</td><td>False</td></tr>\n",
       "<tr><td>2M16512311+2355411</td><td>Steve</td><td>White Dwarf Binary</td><td>--</td><td>--</td><td>--</td><td>--</td><td>--</td><td>--</td><td>--</td><td>False</td><td>False</td><td>False</td><td>False</td><td>False</td><td>False</td><td>False</td><td>False</td><td>False</td></tr>\n",
       "<tr><td>2M00584164+0630574</td><td>Steve</td><td>White Dwarf Binary</td><td>--</td><td>--</td><td>--</td><td>--</td><td>--</td><td>--</td><td>--</td><td>False</td><td>False</td><td>False</td><td>False</td><td>False</td><td>False</td><td>False</td><td>False</td><td>False</td></tr>\n",
       "<tr><td>2M16505009+3915237</td><td>Steve</td><td>White Dwarf Binary</td><td>--</td><td>--</td><td>--</td><td>--</td><td>--</td><td>--</td><td>--</td><td>False</td><td>False</td><td>False</td><td>False</td><td>False</td><td>False</td><td>False</td><td>False</td><td>False</td></tr>\n",
       "<tr><td>2M08064233+5005395</td><td>Steve</td><td>White Dwarf Binary</td><td>--</td><td>--</td><td>--</td><td>--</td><td>--</td><td>--</td><td>--</td><td>False</td><td>False</td><td>False</td><td>False</td><td>False</td><td>False</td><td>False</td><td>False</td><td>False</td></tr>\n",
       "<tr><td>2M07532019+1453166</td><td>Steve</td><td>White Dwarf Binary</td><td>--</td><td>--</td><td>--</td><td>--</td><td>--</td><td>--</td><td>--</td><td>False</td><td>False</td><td>False</td><td>False</td><td>False</td><td>False</td><td>False</td><td>False</td><td>False</td></tr>\n",
       "<tr><td>2M16050185+2833060</td><td>Steve</td><td>White Dwarf Binary</td><td>--</td><td>--</td><td>--</td><td>--</td><td>--</td><td>--</td><td>--</td><td>False</td><td>False</td><td>False</td><td>False</td><td>False</td><td>False</td><td>False</td><td>False</td><td>False</td></tr>\n",
       "</table></div>"
      ],
      "text/plain": [
       "<Table length=214>\n",
       "   target_name            target_source         ... list_Speckle_Resolved\n",
       "      str18                   str28             ...          bool        \n",
       "------------------ ---------------------------- ... ---------------------\n",
       "     TIC 270360534 Kostov 2023 arXiv:2309.14200 ...                 False\n",
       "     TIC 219469945 Kostov 2022 arXiv:2202.05790 ...                 False\n",
       "      TIC 20212631 Kostov 2023 arXiv:2309.14200 ...                 False\n",
       "     TIC 150055835 Kostov 2023 arXiv:2309.14200 ...                 False\n",
       "     TIC 161043618 Kostov 2022 arXiv:2202.05790 ...                  True\n",
       "      TIC 58539786 Kostov 2023 arXiv:2309.14200 ...                 False\n",
       "     TIC 441794509 Kostov 2022 arXiv:2202.05790 ...                 False\n",
       "     TIC 219006972 Kostov 2023 arXiv:2309.14200 ...                 False\n",
       "     TIC 304713857 Kostov 2023 arXiv:2309.14200 ...                 False\n",
       "               ...                          ... ...                   ...\n",
       "2M18470628+4340344                        Steve ...                 False\n",
       "2M13375756+4352427                        Steve ...                 False\n",
       "2M09510536+3223587                        Steve ...                 False\n",
       "2M09390266+0404117                        Steve ...                 False\n",
       "2M16512311+2355411                        Steve ...                 False\n",
       "2M00584164+0630574                        Steve ...                 False\n",
       "2M16505009+3915237                        Steve ...                 False\n",
       "2M08064233+5005395                        Steve ...                 False\n",
       "2M07532019+1453166                        Steve ...                 False\n",
       "2M16050185+2833060                        Steve ...                 False"
      ]
     },
     "execution_count": 6,
     "metadata": {},
     "output_type": "execute_result"
    }
   ],
   "source": [
    "targets"
   ]
  }
 ],
 "metadata": {
  "kernelspec": {
   "display_name": "Python 3",
   "language": "python",
   "name": "python3"
  },
  "language_info": {
   "codemirror_mode": {
    "name": "ipython",
    "version": 3
   },
   "file_extension": ".py",
   "mimetype": "text/x-python",
   "name": "python",
   "nbconvert_exporter": "python",
   "pygments_lexer": "ipython3",
   "version": "3.12.6"
  }
 },
 "nbformat": 4,
 "nbformat_minor": 2
}
