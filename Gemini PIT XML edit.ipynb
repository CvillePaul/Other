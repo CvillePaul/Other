{
 "cells": [
  {
   "cell_type": "code",
   "execution_count": 33,
   "metadata": {},
   "outputs": [],
   "source": [
    "import glob\n",
    "import xml.etree.ElementTree as ET\n",
    "import pandas as pd"
   ]
  },
  {
   "cell_type": "code",
   "execution_count": 56,
   "metadata": {},
   "outputs": [],
   "source": [
    "filename = \"../Observation Planner/exportall\"\n",
    "\n",
    "# first, get observation times for all targets\n",
    "target_times = {}\n",
    "for file in glob.glob(\"../Files/2024-04-01 Gemini Speckle Proposal/*.csv\"):\n",
    "    df = pd.read_csv(file)\n",
    "    target_times = {\n",
    "        **target_times,\n",
    "        **{name: time for _, (name, time) in df[[\"Name\", \"Hours\"]].iterrows()},\n",
    "    }\n",
    "\n",
    "# next, get the mapping of the nickname used in xml file to the TIC name\n",
    "tree = ET.parse(f\"{filename}.xml\")\n",
    "root = tree.getroot()\n",
    "target_map = {}\n",
    "for target in root.findall(\"targets/sidereal\"):\n",
    "    designator = target.attrib[\"id\"]\n",
    "    name = target.find(\"name\").text\n",
    "    target_map[designator] = name\n",
    "\n",
    "#finally, walk through each observation entry and add observing time to it\n",
    "for observation in root.findall(\"observations/observation\"):\n",
    "    target_name = target_map[observation.attrib[\"target\"]]\n",
    "    target_time = target_times[target_name]\n",
    "    progTime = ET.Element(\"progTime\")\n",
    "    progTime.attrib[\"units\"] = \"hr\"\n",
    "    progTime.text = str(target_time)\n",
    "    observation.append(progTime)\n",
    "    partTime = ET.Element(\"partTime\")\n",
    "    partTime.attrib[\"units\"] = \"hr\"\n",
    "    partTime.text = \"0.0\"\n",
    "    observation.append(partTime)\n",
    "    time = ET.Element(\"time\")\n",
    "    time.attrib[\"units\"] = \"hr\"\n",
    "    time.text = str(target_time)\n",
    "    observation.append(time)\n",
    "\n",
    "tree.write(f\"{filename}_new.xml\")\n"
   ]
  }
 ],
 "metadata": {
  "kernelspec": {
   "display_name": "Astro",
   "language": "python",
   "name": "python3"
  },
  "language_info": {
   "codemirror_mode": {
    "name": "ipython",
    "version": 3
   },
   "file_extension": ".py",
   "mimetype": "text/x-python",
   "name": "python",
   "nbconvert_exporter": "python",
   "pygments_lexer": "ipython3",
   "version": "3.12.0"
  }
 },
 "nbformat": 4,
 "nbformat_minor": 2
}
