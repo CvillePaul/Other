{
 "cells": [
  {
   "cell_type": "code",
   "execution_count": null,
   "id": "74565745",
   "metadata": {},
   "outputs": [],
   "source": [
    "import astropaul.lbt as lbt\n",
    "\n",
    "spectra = [\n",
    "    # HD 102870\n",
    "    (\"../../Files/PEPSI Spectra/202504/\", \"pepsib.20250408.068.dxt.bwl\", \"RV 7350\"),\n",
    "    (\"../../Files/PEPSI Spectra/202504/\", \"pepsir.20250408.056.dxt.bwl\", \"RV 7350\"),\n",
    "    # BD +28 3402\n",
    "    (\"../../Files/PEPSI Spectra/202411b/\", \"pepsib.20241124.007.sxt.nor\", \"RV 6900\"),\n",
    "    (\"../../Files/PEPSI Spectra/202411b/\", \"pepsir.20241124.003.sxt.nor\", \"RV 6900\"),\n",
    "    # TIC 3674\n",
    "    (\"../../Files/PEPSI Spectra/202310/\", \"pepsib.20231102.043.dxt.bwl\", \"TIC 3674\"),\n",
    "    (\"../../Files/PEPSI Spectra/202310/\", \"pepsir.20231102.045.dxt.bwl\", \"TIC 3674\"),\n",
    "    (\"../../Files/PEPSI Spectra/202402/\", \"pepsib.20240221.033.sxt.bwl\", \"TIC 3674\"),\n",
    "    (\"../../Files/PEPSI Spectra/202402/\", \"pepsir.20240221.020.sxt.bwl\", \"TIC 3674\"),\n",
    "    (\"../../Files/PEPSI Spectra/202409/\", \"pepsib.20240920.072.dxt.bwl\", \"TIC 3674\"),\n",
    "    (\"../../Files/PEPSI Spectra/202409/\", \"pepsir.20240920.015.dxt.bwl\", \"TIC 3674\"),\n",
    "    (\"../../Files/PEPSI Spectra/202412/\", \"pepsib.20241222.004.dxt.bwl\", \"TIC 3674\"),\n",
    "    (\"../../Files/PEPSI Spectra/202412/\", \"pepsib.20241223.027.dxt.bwl\", \"TIC 3674\"),\n",
    "    (\"../../Files/PEPSI Spectra/202412/\", \"pepsib.20241224.025.dxt.bwl\", \"TIC 3674\"),\n",
    "    (\"../../Files/PEPSI Spectra/202412/\", \"pepsir.20241222.000.dxt.bwl\", \"TIC 3674\"),\n",
    "    (\"../../Files/PEPSI Spectra/202412/\", \"pepsir.20241223.023.dxt.bwl\", \"TIC 3674\"),\n",
    "    (\"../../Files/PEPSI Spectra/202412/\", \"pepsir.20241224.021.dxt.bwl\", \"TIC 3674\"),\n",
    "    # HIP 104548\n",
    "    (\"../../Files/PEPSI Spectra/202412/\", \"pepsib.20241223.011.dxt.bwl\", \"Telluric\"),\n",
    "    (\"../../Files/PEPSI Spectra/202412/\", \"pepsir.20241223.007.dxt.bwl\", \"Telluric\"),\n",
    "]\n",
    "\n",
    "for dir, file, name in spectra:\n",
    "    lbt.pepsi2iraf(\n",
    "        f\"{dir}{file}\",\n",
    "        f\"iraf_spectra/{name.replace(\" \", \"_\")}_{file.replace(\"bwl\", \"fits\").replace(\"nor\", \"fits\").replace(\" \", \"_\")}\",\n",
    "    )\n"
   ]
  }
 ],
 "metadata": {
  "language_info": {
   "name": "python"
  }
 },
 "nbformat": 4,
 "nbformat_minor": 5
}
