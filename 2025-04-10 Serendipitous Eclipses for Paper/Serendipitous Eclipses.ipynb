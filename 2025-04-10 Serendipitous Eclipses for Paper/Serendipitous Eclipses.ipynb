{
 "cells": [
  {
   "cell_type": "code",
   "execution_count": 53,
   "metadata": {},
   "outputs": [
    {
     "name": "stdout",
     "output_type": "stream",
     "text": [
      "The autoreload extension is already loaded. To reload it, use:\n",
      "  %reload_ext autoreload\n"
     ]
    }
   ],
   "source": [
    "from functools import partial\n",
    "from sqlite3 import connect\n",
    "\n",
    "import astropy.units as u\n",
    "from icecream import ic, install\n",
    "import matplotlib.pyplot as plt\n",
    "import numpy as np\n",
    "import pandas as pd\n",
    "\n",
    "import astropaul.targetlistcreator as tlc\n",
    "import astropaul.phase as ph\n",
    "\n",
    "install() # icecream will now work in imported packages\n",
    "\n",
    "%load_ext autoreload\n",
    "%autoreload 2\n"
   ]
  },
  {
   "cell_type": "code",
   "execution_count": 212,
   "metadata": {},
   "outputs": [],
   "source": [
    "conn = connect(\"../../django/TargetDB/db.sqlite3\")"
   ]
  },
  {
   "cell_type": "code",
   "execution_count": 18,
   "metadata": {},
   "outputs": [
    {
     "data": {
      "image/png": "[encoded data removed]",
      "text/plain": [
       "<Figure size 640x480 with 1 Axes>"
      ]
     },
     "metadata": {},
     "output_type": "display_data"
    },
    {
     "data": {
      "text/plain": [
       "np.float64(0.04987849598378351)"
      ]
     },
     "execution_count": 18,
     "metadata": {},
     "output_type": "execute_result"
    }
   ],
   "source": [
    "# first, look at what percent the duration of an eclipse is of the system's period\n",
    "percent_eclipse = pd.read_sql(\"\"\"\n",
    "select duration/period\n",
    "from tom_binaryparameters\n",
    "where duration = duration\n",
    ";\n",
    "\"\"\",\n",
    "conn)\n",
    "\n",
    "fig, ax = plt.subplots()\n",
    "ax.hist(percent_eclipse[\"duration/period\"], 40)\n",
    "plt.show()\n",
    "\n",
    "median_phase_percent = np.median(percent_eclipse[\"duration/period\"])\n",
    "median_phase_percent"
   ]
  },
  {
   "cell_type": "markdown",
   "metadata": {},
   "source": [
    "Create a TargetList based on the targets in Table 1.\n",
    "Next, break targets into categories depending on the fullness of their ephemeris data.\n",
    "A given System/component ephemeris entry may be:\n",
    "* Full: t0, period, and duration are present\n",
    "* Partial: duration is missing but t0 and period are present\n",
    "* Zero: no ephemeris data exists\n",
    "\n",
    "Characterize each row of the ephemeris table.  \n",
    "Then, for each QuadEB, collect the 4 categories (F, P, or Z) for its ephemerides.\n",
    "Since there is system symmetry and component symmetry, sort these letters alphabetically.\n",
    "Use this sorted 4 letter sequence as the label for that target.\n",
    "Determine if a speckle observation captured a target during eclipse based on their 4-letter label.\n",
    "  * Category F: Use the ephemeris data directly\n",
    "  * Category P: Use the median phase percent calculated above in lieu of duration\n",
    "  * Category Z: Assume system was not in eclipse\n"
   ]
  },
  {
   "cell_type": "code",
   "execution_count": 215,
   "metadata": {},
   "outputs": [
    {
     "data": {
      "text/plain": [
       "33"
      ]
     },
     "execution_count": 215,
     "metadata": {},
     "output_type": "execute_result"
    }
   ],
   "source": [
    "phase_event_defs = [\n",
    "    ph.PhaseEventDef(\n",
    "        \"Not in Eclipse\", partial(ph.calc_time_of_gress, ingress=False, synthetic_phase_percent=median_phase_percent)\n",
    "    ),\n",
    "    ph.PhaseEventDef(\"Eclipse\", partial(ph.calc_time_of_gress, ingress=True, synthetic_phase_percent=median_phase_percent)),\n",
    "]\n",
    "\n",
    "creator = tlc.TargetListCreator(name=\"All Targets\", connection=conn)\n",
    "creator.steps = [\n",
    "    tlc.add_targets,\n",
    "    tlc.add_lists,\n",
    "    partial(tlc.filter_targets, criteria=lambda df: df[\"List Table 1 Targets\"]),\n",
    "    partial(tlc.hide_cols, prefix=\"List \"),\n",
    "    partial(tlc.filter_targets, inverse=True, criteria=lambda df: df[\"Target Name\"] == \"TIC 168789840\"),  # exclude Sextuple EB\n",
    "    tlc.add_ephemerides,\n",
    "    tlc.add_speckle,\n",
    "    partial(tlc.add_speckle_phase, phase_event_defs=phase_event_defs),\n",
    "    partial(tlc.add_side_status, phase_event_defs=phase_event_defs, side_state=\"Eclipse\"),\n",
    "]\n",
    "tl = creator.calculate(verbose=False)\n",
    "len(tl.target_list)"
   ]
  },
  {
   "cell_type": "code",
   "execution_count": 218,
   "metadata": {},
   "outputs": [
    {
     "data": {
      "text/plain": [
       "np.float64(2460310.5)"
      ]
     },
     "execution_count": 218,
     "metadata": {},
     "output_type": "execute_result"
    }
   ],
   "source": [
    "Time(\"2024-01-01\", format=\"iso\").jd"
   ]
  },
  {
   "cell_type": "code",
   "execution_count": 220,
   "metadata": {},
   "outputs": [
    {
     "data": {
      "text/plain": [
       "50"
      ]
     },
     "execution_count": 220,
     "metadata": {},
     "output_type": "execute_result"
    }
   ],
   "source": [
    "foo = tl.other_lists[\"Speckle Observations\"]\n",
    "len(foo[foo[\"Speckle Mid\"] < 2460310])"
   ]
  },
  {
   "cell_type": "code",
   "execution_count": null,
   "metadata": {},
   "outputs": [
    {
     "name": "stdout",
     "output_type": "stream",
     "text": [
      "33\n"
     ]
    },
    {
     "data": {
      "text/plain": [
       "Category\n",
       "FFFF    16\n",
       "FFPZ    12\n",
       "FFZZ     1\n",
       "PPPZ     3\n",
       "PPZZ     1\n",
       "dtype: int64"
      ]
     },
     "execution_count": 183,
     "metadata": {},
     "output_type": "execute_result"
    }
   ],
   "source": [
    "ephem = tl.other_lists[\"Ephemerides\"]\n",
    "\n",
    "# set category for each row of ephemerides table - these will be either M or P\n",
    "ephem[\"Category\"] = [\"F\" if duration == duration else \"P\" for duration in ephem[\"Duration\"]]\n",
    "\n",
    "# detect missing system/component combinations and create NaN rows for them with category M\n",
    "blank_row_data = {column: float(\"NaN\") for column in ephem.columns}\n",
    "blank_row_data[\"Category\"] = \"Z\"\n",
    "for _, row in tl.target_list.iterrows():\n",
    "    target_name = row[\"Target Name\"]\n",
    "    for system in [\"A\", \"B\"]:\n",
    "        for member in [\"a\", \"b\"]:\n",
    "            target_ephem = tl.other_lists[\"Ephemerides\"].loc[target_name]\n",
    "            ephemeris = target_ephem[(target_ephem[\"System\"] == system) & (target_ephem[\"Member\"] == member)]\n",
    "            if len(ephemeris) == 0:\n",
    "                new_row = blank_row_data.copy()\n",
    "                new_row[\"System\"] = system\n",
    "                new_row[\"Member\"] = member\n",
    "                ephem = pd.concat([ephem, pd.DataFrame([new_row], index=pd.Index([target_name], name=ephem.index.name))])\n",
    "\n",
    "# make new table listing target name and concatenated system/member categories\n",
    "target_categories = ephem.reset_index().groupby(\"Target Name\")[\"Category\"].apply(lambda x: \"\".join(sorted(x))).to_frame(name=\"Category\")\n",
    "\n",
    "targets_by_category = {category: list(target_name) for category, target_name in target_categories.groupby(\"Category\").groups.items()}\n",
    "\n",
    "target_categories.pivot_table(index=\"Category\", aggfunc=\"size\")\n"
   ]
  },
  {
   "cell_type": "code",
   "execution_count": 225,
   "metadata": {},
   "outputs": [
    {
     "name": "stdout",
     "output_type": "stream",
     "text": [
      "23 eclipses out of 50 observations\n"
     ]
    },
    {
     "data": {
      "text/html": [
       "<div>\n",
       "<style scoped>\n",
       "    .dataframe tbody tr th:only-of-type {\n",
       "        vertical-align: middle;\n",
       "    }\n",
       "\n",
       "    .dataframe tbody tr th {\n",
       "        vertical-align: top;\n",
       "    }\n",
       "\n",
       "    .dataframe thead th {\n",
       "        text-align: right;\n",
       "    }\n",
       "</style>\n",
       "<table border=\"1\" class=\"dataframe\">\n",
       "  <thead>\n",
       "    <tr style=\"text-align: right;\">\n",
       "      <th></th>\n",
       "      <th>Target Name</th>\n",
       "      <th>UTC Mid</th>\n",
       "      <th>System</th>\n",
       "      <th>Member</th>\n",
       "      <th>SIDE Type</th>\n",
       "    </tr>\n",
       "  </thead>\n",
       "  <tbody>\n",
       "    <tr>\n",
       "      <th>0</th>\n",
       "      <td>TIC 161043618</td>\n",
       "      <td>2022-05-11 08:39:00</td>\n",
       "      <td>A</td>\n",
       "      <td>b</td>\n",
       "      <td>Exact</td>\n",
       "    </tr>\n",
       "    <tr>\n",
       "      <th>1</th>\n",
       "      <td>TIC 161043618</td>\n",
       "      <td>2024-02-23 08:34:00</td>\n",
       "      <td>B</td>\n",
       "      <td>b</td>\n",
       "      <td>Exact</td>\n",
       "    </tr>\n",
       "    <tr>\n",
       "      <th>2</th>\n",
       "      <td>TIC 161043618</td>\n",
       "      <td>2024-02-23 08:55:00</td>\n",
       "      <td>B</td>\n",
       "      <td>b</td>\n",
       "      <td>Exact</td>\n",
       "    </tr>\n",
       "    <tr>\n",
       "      <th>3</th>\n",
       "      <td>TIC 283940788</td>\n",
       "      <td>2022-11-15 04:13:30</td>\n",
       "      <td>A</td>\n",
       "      <td>a</td>\n",
       "      <td>Exact</td>\n",
       "    </tr>\n",
       "    <tr>\n",
       "      <th>4</th>\n",
       "      <td>TIC 283940788</td>\n",
       "      <td>2022-09-28 08:25:00</td>\n",
       "      <td>A</td>\n",
       "      <td>b</td>\n",
       "      <td>Exact</td>\n",
       "    </tr>\n",
       "    <tr>\n",
       "      <th>5</th>\n",
       "      <td>TIC 283940788</td>\n",
       "      <td>2023-09-04 09:52:30</td>\n",
       "      <td>A</td>\n",
       "      <td>b</td>\n",
       "      <td>Exact</td>\n",
       "    </tr>\n",
       "    <tr>\n",
       "      <th>6</th>\n",
       "      <td>TIC 286470992</td>\n",
       "      <td>2022-09-28 11:19:30</td>\n",
       "      <td>B</td>\n",
       "      <td>a</td>\n",
       "      <td>Exact</td>\n",
       "    </tr>\n",
       "    <tr>\n",
       "      <th>7</th>\n",
       "      <td>TIC 317863971</td>\n",
       "      <td>2022-11-15 10:01:30</td>\n",
       "      <td>A</td>\n",
       "      <td>b</td>\n",
       "      <td>Exact</td>\n",
       "    </tr>\n",
       "    <tr>\n",
       "      <th>8</th>\n",
       "      <td>TIC 317863971</td>\n",
       "      <td>2023-03-08 04:08:00</td>\n",
       "      <td>B</td>\n",
       "      <td>a</td>\n",
       "      <td>Exact</td>\n",
       "    </tr>\n",
       "    <tr>\n",
       "      <th>9</th>\n",
       "      <td>TIC 336882813</td>\n",
       "      <td>2022-09-29 11:21:30</td>\n",
       "      <td>B</td>\n",
       "      <td>a</td>\n",
       "      <td>Exact</td>\n",
       "    </tr>\n",
       "    <tr>\n",
       "      <th>10</th>\n",
       "      <td>TIC 344541836</td>\n",
       "      <td>2022-11-15 03:56:00</td>\n",
       "      <td>A</td>\n",
       "      <td>b</td>\n",
       "      <td>Exact</td>\n",
       "    </tr>\n",
       "    <tr>\n",
       "      <th>11</th>\n",
       "      <td>TIC 344541836</td>\n",
       "      <td>2024-05-27 07:12:00</td>\n",
       "      <td>A</td>\n",
       "      <td>b</td>\n",
       "      <td>Exact</td>\n",
       "    </tr>\n",
       "    <tr>\n",
       "      <th>12</th>\n",
       "      <td>TIC 344541836</td>\n",
       "      <td>2024-05-27 07:23:30</td>\n",
       "      <td>A</td>\n",
       "      <td>b</td>\n",
       "      <td>Exact</td>\n",
       "    </tr>\n",
       "    <tr>\n",
       "      <th>13</th>\n",
       "      <td>TIC 367448265</td>\n",
       "      <td>2024-02-24 02:38:30</td>\n",
       "      <td>A</td>\n",
       "      <td>a</td>\n",
       "      <td>Synthetic Duration</td>\n",
       "    </tr>\n",
       "    <tr>\n",
       "      <th>14</th>\n",
       "      <td>TIC 367448265</td>\n",
       "      <td>2024-02-24 02:46:30</td>\n",
       "      <td>A</td>\n",
       "      <td>a</td>\n",
       "      <td>Synthetic Duration</td>\n",
       "    </tr>\n",
       "    <tr>\n",
       "      <th>15</th>\n",
       "      <td>TIC 367448265</td>\n",
       "      <td>2024-11-15 06:46:30</td>\n",
       "      <td>A</td>\n",
       "      <td>a</td>\n",
       "      <td>Synthetic Duration</td>\n",
       "    </tr>\n",
       "    <tr>\n",
       "      <th>16</th>\n",
       "      <td>TIC 367448265</td>\n",
       "      <td>2023-03-09 02:31:00</td>\n",
       "      <td>B</td>\n",
       "      <td>a</td>\n",
       "      <td>Exact</td>\n",
       "    </tr>\n",
       "    <tr>\n",
       "      <th>17</th>\n",
       "      <td>TIC 375325607</td>\n",
       "      <td>2022-11-15 02:05:30</td>\n",
       "      <td>A</td>\n",
       "      <td>b</td>\n",
       "      <td>Exact</td>\n",
       "    </tr>\n",
       "    <tr>\n",
       "      <th>18</th>\n",
       "      <td>TIC 470710327</td>\n",
       "      <td>2023-10-19 02:36:00</td>\n",
       "      <td>A</td>\n",
       "      <td>a</td>\n",
       "      <td>Exact</td>\n",
       "    </tr>\n",
       "    <tr>\n",
       "      <th>19</th>\n",
       "      <td>TIC 470710327</td>\n",
       "      <td>2023-10-19 04:32:30</td>\n",
       "      <td>A</td>\n",
       "      <td>a</td>\n",
       "      <td>Exact</td>\n",
       "    </tr>\n",
       "    <tr>\n",
       "      <th>20</th>\n",
       "      <td>TIC 470710327</td>\n",
       "      <td>2023-10-20 05:19:30</td>\n",
       "      <td>A</td>\n",
       "      <td>a</td>\n",
       "      <td>Exact</td>\n",
       "    </tr>\n",
       "    <tr>\n",
       "      <th>21</th>\n",
       "      <td>TIC 470710327</td>\n",
       "      <td>2023-10-20 06:49:00</td>\n",
       "      <td>A</td>\n",
       "      <td>a</td>\n",
       "      <td>Exact</td>\n",
       "    </tr>\n",
       "    <tr>\n",
       "      <th>22</th>\n",
       "      <td>TIC 89278612</td>\n",
       "      <td>2023-09-04 02:41:00</td>\n",
       "      <td>A</td>\n",
       "      <td>b</td>\n",
       "      <td>Exact</td>\n",
       "    </tr>\n",
       "  </tbody>\n",
       "</table>\n",
       "</div>"
      ],
      "text/plain": [
       "      Target Name              UTC Mid System Member           SIDE Type\n",
       "0   TIC 161043618  2022-05-11 08:39:00      A      b               Exact\n",
       "1   TIC 161043618  2024-02-23 08:34:00      B      b               Exact\n",
       "2   TIC 161043618  2024-02-23 08:55:00      B      b               Exact\n",
       "3   TIC 283940788  2022-11-15 04:13:30      A      a               Exact\n",
       "4   TIC 283940788  2022-09-28 08:25:00      A      b               Exact\n",
       "5   TIC 283940788  2023-09-04 09:52:30      A      b               Exact\n",
       "6   TIC 286470992  2022-09-28 11:19:30      B      a               Exact\n",
       "7   TIC 317863971  2022-11-15 10:01:30      A      b               Exact\n",
       "8   TIC 317863971  2023-03-08 04:08:00      B      a               Exact\n",
       "9   TIC 336882813  2022-09-29 11:21:30      B      a               Exact\n",
       "10  TIC 344541836  2022-11-15 03:56:00      A      b               Exact\n",
       "11  TIC 344541836  2024-05-27 07:12:00      A      b               Exact\n",
       "12  TIC 344541836  2024-05-27 07:23:30      A      b               Exact\n",
       "13  TIC 367448265  2024-02-24 02:38:30      A      a  Synthetic Duration\n",
       "14  TIC 367448265  2024-02-24 02:46:30      A      a  Synthetic Duration\n",
       "15  TIC 367448265  2024-11-15 06:46:30      A      a  Synthetic Duration\n",
       "16  TIC 367448265  2023-03-09 02:31:00      B      a               Exact\n",
       "17  TIC 375325607  2022-11-15 02:05:30      A      b               Exact\n",
       "18  TIC 470710327  2023-10-19 02:36:00      A      a               Exact\n",
       "19  TIC 470710327  2023-10-19 04:32:30      A      a               Exact\n",
       "20  TIC 470710327  2023-10-20 05:19:30      A      a               Exact\n",
       "21  TIC 470710327  2023-10-20 06:49:00      A      a               Exact\n",
       "22   TIC 89278612  2023-09-04 02:41:00      A      b               Exact"
      ]
     },
     "execution_count": 225,
     "metadata": {},
     "output_type": "execute_result"
    }
   ],
   "source": [
    "side = tl.other_lists[\"SIDE Observations\"]\n",
    "serrendipitous_eclipses = side.reset_index()[[\"Target Name\", \"UTC Mid\", \"System\", \"Member\", \"SIDE Type\"]]\n",
    "serrendipitous_eclipses.to_csv(\"Serendipitous Eclipses.csv\", index=False)\n",
    "speckle = tl.other_lists[\"Speckle Observations\"]\n",
    "speckle = speckle[speckle[\"Speckle Mid\"] < 2460310.5]  # paper only includes speckle before 2024\n",
    "print(f\"{len(serrendipitous_eclipses)} eclipses out of {len(speckle)} observations\")\n",
    "serrendipitous_eclipses"
   ]
  },
  {
   "cell_type": "code",
   "execution_count": 200,
   "metadata": {},
   "outputs": [],
   "source": [
    "from glob import glob\n",
    "observation_files = list(glob(\"../../astropaul/test/asd/DSSI Observations/*.csv\"))\n",
    "dssi_observations = pd.concat([pd.read_csv(file) for file in observation_files])\n"
   ]
  },
  {
   "cell_type": "code",
   "execution_count": 211,
   "metadata": {},
   "outputs": [
    {
     "data": {
      "text/plain": [
       "190"
      ]
     },
     "execution_count": 211,
     "metadata": {},
     "output_type": "execute_result"
    }
   ],
   "source": [
    "\n",
    "dssi_observations[\"TIC ID\"] = [target_name if target_name.startswith(\"TIC\") else \"\" for target_name in dssi_observations[\"Target Name\"]]\n",
    "len(dssi_observations[dssi_observations[\"TIC ID\"] != \"\"])\n",
    "len(dssi_observations[dssi_observations[\"Target Name\"].str.startswith(\"H3\")])"
   ]
  }
 ],
 "metadata": {
  "kernelspec": {
   "display_name": "Python 3",
   "language": "python",
   "name": "python3"
  },
  "language_info": {
   "codemirror_mode": {
    "name": "ipython",
    "version": 3
   },
   "file_extension": ".py",
   "mimetype": "text/x-python",
   "name": "python",
   "nbconvert_exporter": "python",
   "pygments_lexer": "ipython3",
   "version": "3.12.6"
  }
 },
 "nbformat": 4,
 "nbformat_minor": 2
}
