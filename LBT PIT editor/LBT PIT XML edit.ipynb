{
 "cells": [
  {
   "cell_type": "markdown",
   "metadata": {},
   "source": [
    "# LBT PIT XML Editor\n",
    "The LBT PIT proposal tool allows you to load targets from a csv file, but requires you to input manually the observing time for those targets.  This code takes the XML file the PIT tool creates and edits it to add to the XML file the observing times that are present, but unused, in the target csv files.\n",
    "\n",
    "This code was copied from the Gemini PIT XML editor, the main difference being that proposal was for speckle observing and needed exposure times for two different seeing conditions, whereas this proposal is for spectrometry and only requires one exposure time.\n",
    "\n",
    "Another difference is that this code creates a `<time>` node for each `<observation>` whereas the Gemini version finds an existing `<time>` node and edits its value."
   ]
  },
  {
   "cell_type": "code",
   "execution_count": 2,
   "metadata": {},
   "outputs": [],
   "source": [
    "import glob\n",
    "import xml.etree.ElementTree as ET\n",
    "import pandas as pd"
   ]
  },
  {
   "cell_type": "code",
   "execution_count": 3,
   "metadata": {},
   "outputs": [],
   "source": [
    "base_dir = \"../../Proposals/LBT 2024B/\"\n",
    "filename = base_dir + \"proposal template\"\n",
    "# filename = origin_dir + \"LBT QuadEB 2024B\"\n",
    "# target_files = glob.glob(\"*.csv\")\n",
    "target_files = [base_dir + \"LBT 2024B.csv\"]\n",
    "\n",
    "# first, get observation times for all targets\n",
    "target_snr025_times = {}\n",
    "target_snr100_times = {}\n",
    "for file in target_files:\n",
    "    df = pd.read_csv(file)\n",
    "    target_snr025_times = {\n",
    "        **target_snr025_times,\n",
    "        **{name: exptime for _, (name, exptime) in df[[\"Name\", \"pepsi_snr025_hrs\"]].iterrows()},\n",
    "    }\n",
    "    target_snr100_times = {\n",
    "        **target_snr100_times,\n",
    "        **{name: exptime for _, (name, exptime) in df[[\"Name\", \"pepsi_snr100_hrs\"]].iterrows()},\n",
    "    }\n",
    "\n",
    "# next, get the mapping of the nickname used in xml file to the TIC name\n",
    "tree = ET.parse(f\"{filename}.xml\")\n",
    "root = tree.getroot()\n",
    "target_map = {}\n",
    "for target in root.findall(\"targets/sidereal\"):\n",
    "    designator = target.attrib[\"id\"]\n",
    "    name = target.find(\"name\").text\n",
    "    target_map[name] = designator\n",
    "\n",
    "#finally, walk through each observation entry and add observing times to it\n",
    "observations = root.find(\"observations\")\n",
    "for target_name in target_map.keys():\n",
    "    for snr_specific_time in [target_snr025_times[target_name], target_snr100_times[target_name]]:\n",
    "        observation = ET.SubElement(observations, \"observation\")\n",
    "        observation.attrib = {\"band\": \"Band 1\", \"enabled\": \"true\", \"target\": target_map[target_name], \"condition\": \"condition-0\", \"blueprint\": \"blueprint-0\"}\n",
    "        meta = ET.SubElement(observation, \"meta\")\n",
    "        meta.attrib = {\"ck\": \"\"}\n",
    "        visibility = ET.SubElement(meta, \"visibility\")\n",
    "        visibility.text = \"Good\"\n",
    "        aorefstars = ET.SubElement(meta, \"aorefstars\")\n",
    "        aorefstars.text = \"0\"\n",
    "        time_element = ET.SubElement(observation, \"time\")\n",
    "        time_element.attrib = {\"units\": \"hr\", \"bino\": \"false\", \"too\": \"None\", \"Run\": \"\"}\n",
    "        time_element.text = str(snr_specific_time)\n",
    "tree.write(f\"{filename}_times.xml\")\n"
   ]
  }
 ],
 "metadata": {
  "kernelspec": {
   "display_name": "Astro",
   "language": "python",
   "name": "python3"
  },
  "language_info": {
   "codemirror_mode": {
    "name": "ipython",
    "version": 3
   },
   "file_extension": ".py",
   "mimetype": "text/x-python",
   "name": "python",
   "nbconvert_exporter": "python",
   "pygments_lexer": "ipython3",
   "version": "3.12.2"
  }
 },
 "nbformat": 4,
 "nbformat_minor": 2
}
