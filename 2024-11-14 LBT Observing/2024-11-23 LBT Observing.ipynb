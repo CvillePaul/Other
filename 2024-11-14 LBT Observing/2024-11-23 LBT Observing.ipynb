{
 "cells": [
  {
   "cell_type": "markdown",
   "metadata": {},
   "source": [
    "# Create observing files for session starting on 2024-11-23 UTC"
   ]
  }
 ],
 "metadata": {
  "language_info": {
   "name": "python"
  }
 },
 "nbformat": 4,
 "nbformat_minor": 2
}
