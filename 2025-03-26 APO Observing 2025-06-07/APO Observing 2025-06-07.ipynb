{
 "cells": [
  {
   "cell_type": "code",
   "execution_count": 1,
   "metadata": {},
   "outputs": [],
   "source": [
    "from functools import partial\n",
    "from sqlite3 import connect\n",
    "\n",
    "import astroplan as ap\n",
    "import astropy.units as u\n",
    "from icecream import ic, install\n",
    "\n",
    "import astropaul.targetlistcreator as tlc\n",
    "import astropaul.html as html\n",
    "import astropaul.phase as ph\n",
    "import astropaul.priority as pr\n",
    "\n",
    "install() # icecream will now work in imported packages\n",
    "\n",
    "%load_ext autoreload\n",
    "%autoreload 2\n"
   ]
  },
  {
   "cell_type": "code",
   "execution_count": 2,
   "metadata": {},
   "outputs": [
    {
     "name": "stderr",
     "output_type": "stream",
     "text": [
      "WARNING: NonRotationTransformationWarning: transforming other coordinates from <ICRS Frame> to <GCRS Frame (obstime=2460833.586688041, obsgeoloc=(-5361042.20631324, -74256.41601946, 3448268.96150588) m, obsgeovel=(5.42355177, -391.5541447, 0.00013993) m / s)>. Angular separation can depend on the direction of the transformation. [astropy.coordinates.baseframe]\n",
      "WARNING: NonRotationTransformationWarning: transforming other coordinates from <ICRS Frame> to <GCRS Frame (obstime=2460834.587019423, obsgeoloc=(-5358607.66661189, -177816.01106835, 3448267.93123922) m, obsgeovel=(12.97514894, -391.3766836, -0.0186494) m / s)>. Angular separation can depend on the direction of the transformation. [astropy.coordinates.baseframe]\n",
      "WARNING: NonRotationTransformationWarning: transforming other coordinates from <ICRS Frame> to <GCRS Frame (obstime=2460836.587652055, obsgeoloc=(-5347821.11598774, -383681.40760874, 3448252.35052886) m, obsgeovel=(27.986919, -390.59031338, -0.05602978) m / s)>. Angular separation can depend on the direction of the transformation. [astropy.coordinates.baseframe]\n",
      "WARNING: NonRotationTransformationWarning: transforming other coordinates from <ICRS Frame> to <GCRS Frame (obstime=2460837.5879514534, obsgeoloc=(-5339517.86281173, -485850.74476109, 3448237.87326314) m, obsgeovel=(35.43715864, -389.98495628, -0.07457139) m / s)>. Angular separation can depend on the direction of the transformation. [astropy.coordinates.baseframe]\n",
      "WARNING: NonRotationTransformationWarning: transforming other coordinates from <ICRS Frame> to <GCRS Frame (obstime=2460838.7938305335, obsgeoloc=(-878077.10299575, -5296262.80900322, 3437357.59606717) m, obsgeovel=(386.21682195, -64.65075799, -0.95400518) m / s)>. Angular separation can depend on the direction of the transformation. [astropy.coordinates.baseframe]\n"
     ]
    },
    {
     "name": "stdout",
     "output_type": "stream",
     "text": [
      "APO Observing List 2025-06-07 to -12\n",
      "Criteria\n",
      "    lambda df: (df[\"Target Type\"].isin([\"QuadEB\", \"SextEB\"]))),\n",
      "    Observability threshold: (<Quantity 35. deg>, <Quantity 80. deg>)\n",
      "    AltitudeConstraint: {'min': np.float64(35.0), 'max': np.float64(80.0), 'boolean_constraint': True}\n",
      "    lambda df: (df[\"Observable Any Night\"])),\n",
      "    lambda df: (df[\"Vmag\"] < 13)),\n",
      "35 targets:\n",
      "      35 QuadEB\n",
      "Column Count (primary, secondary):\n",
      "    Target: (1, 2)\n",
      "    Coordinates: (6, 3)\n",
      "    Observable: (5, 20)\n",
      "    Count: (1, 0)\n",
      "Associated tables:\n",
      "       5 rows,  2 columns: Lunar Phases\n",
      "     117 rows,  7 columns: Ephemerides\n",
      "     752 rows, 10 columns: Phase Events\n",
      "      76 rows,  6 columns: Speckle Observations\n",
      "      29 rows,  6 columns: SIDE Observations\n",
      "\n"
     ]
    }
   ],
   "source": [
    "conn = connect(\"../../django/TargetDB/db.sqlite3\")\n",
    "\n",
    "session = tlc.ObservingSession(ap.Observer.at_site(\"APO\"))\n",
    "session.add_full_day(\"2025-06-07\")\n",
    "session.add_full_day(\"2025-06-08\")\n",
    "session.add_full_day(\"2025-06-10\")\n",
    "session.add_full_day(\"2025-06-11\")\n",
    "session.add_half_day(\"2025-06-12\", first_half=False)\n",
    "\n",
    "phase_event_defs = [\n",
    "    ph.PhaseEventDef(\"Not in Eclipse\", partial(ph.calc_time_of_gress, ingress=False)),\n",
    "    ph.PhaseEventDef(\"Eclipse\", partial(ph.calc_time_of_gress, ingress=True)),\n",
    "]\n",
    "\n",
    "min_altitude = 35 * u.deg\n",
    "max_magnitude = 13\n",
    "\n",
    "name = \"APO Observing List 2025-06-07 to -12\"\n",
    "creator = tlc.TargetListCreator(name=name, connection=conn)\n",
    "creator.steps = [\n",
    "    tlc.add_targets,\n",
    "    partial(tlc.filter_targets, criteria=lambda df: (df[\"Target Type\"].isin([\"QuadEB\", \"SextEB\"]))),\n",
    "    tlc.add_tess,\n",
    "    tlc.add_coords,\n",
    "    partial(tlc.hide_cols, prefix=\"TESS \"),\n",
    "    partial(\n",
    "        tlc.add_observability,\n",
    "        observing_session=session,\n",
    "        calc_moon_distance=True,\n",
    "        observability_threshold=(min_altitude, 80 * u.deg),\n",
    "    ),\n",
    "    partial(tlc.filter_targets, criteria=lambda df: (df[\"Observable Any Night\"])),\n",
    "    partial(tlc.filter_targets, criteria=lambda df: (df[\"Vmag\"] < max_magnitude)),\n",
    "    tlc.add_ephemerides,\n",
    "    partial(tlc.add_phase_events, observing_session=session, phase_event_defs=phase_event_defs),\n",
    "    tlc.add_speckle,\n",
    "    # partial(tlc.add_speckle_phase, phase_event_defs=phase_event_defs),\n",
    "    partial(tlc.add_side_status, phase_event_defs=phase_event_defs),\n",
    "]\n",
    "tl = creator.calculate(verbose=False)\n",
    "\n",
    "# html.render_observing_pages(tl, None, {}, \"html\")\n",
    "print(tl.summarize())"
   ]
  },
  {
   "cell_type": "code",
   "execution_count": 4,
   "metadata": {},
   "outputs": [],
   "source": [
    "altitude_categories = [\n",
    "    ((-90, min_altitude.value), 0),\n",
    "    ((min_altitude.value, 90), 1),\n",
    "]\n",
    "\n",
    "pl = pr.PriorityList(tl, session, interval=30 * u.min)\n",
    "pr.calculate_altitude_priority(pl, altitude_categories=altitude_categories)\n",
    "pr.prioritize_phase_sequence(pl, [\"Eclipse\"], \"Eclipse\", True, True, True)\n",
    "pr.prioritize_side_observation(pl, side_state=\"Eclipse\")\n",
    "pr.calculate_overall_priority(pl)\n",
    "pr.aggregate_target_priorities(pl, skip_column_threshold=0.1)\n",
    "pl.categorize_priorities(bins=[0.00, 0.20, 0.40, 0.6, 1.00], labels=[\"\", \"*\", \"* *\", \"* * *\"])\n",
    "\n",
    "html.render_observing_pages(tl, pl, {}, \"../../Observing Files/APO Observing 2025-06-07 to -12\")\n",
    "# pl.categorical_priorities[0]"
   ]
  }
 ],
 "metadata": {
  "kernelspec": {
   "display_name": "Python 3",
   "language": "python",
   "name": "python3"
  },
  "language_info": {
   "codemirror_mode": {
    "name": "ipython",
    "version": 3
   },
   "file_extension": ".py",
   "mimetype": "text/x-python",
   "name": "python",
   "nbconvert_exporter": "python",
   "pygments_lexer": "ipython3",
   "version": "3.12.6"
  }
 },
 "nbformat": 4,
 "nbformat_minor": 2
}
