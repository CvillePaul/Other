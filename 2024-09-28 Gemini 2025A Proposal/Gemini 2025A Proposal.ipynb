{
 "cells": [
  {
   "cell_type": "code",
   "execution_count": 80,
   "metadata": {},
   "outputs": [
    {
     "data": {
      "text/plain": [
       "136"
      ]
     },
     "execution_count": 80,
     "metadata": {},
     "output_type": "execute_result"
    }
   ],
   "source": [
    "# housekeeping: extract list of 2024B targets from xml file, since no easy list was left\n",
    "\n",
    "import xml.etree.ElementTree as ET\n",
    "\n",
    "tree = ET.parse(\"../../Proposals/Gemini/Gemini 2024B/Gemini_QEB.speckle_iq70.xml\")\n",
    "root = tree.getroot()\n",
    "targets = set()\n",
    "for target in root.findall(\"targets/sidereal\"):\n",
    "    name = target.find(\"name\").text\n",
    "    targets.add(name)\n",
    "\n",
    "with open(\"../../Proposals/Gemini/Gemini 2024B/Gemini 2024B targets.csv\", \"w\") as f:\n",
    "    f.write(\"Gemini 2024B Proposal\\n\")\n",
    "    f.write(\"All targets included in Gemini 2024B Proposal\\n\")\n",
    "    for target in targets:\n",
    "        f.write(f\"{target}\\n\")\n",
    "\n",
    "len(targets)"
   ]
  },
  {
   "cell_type": "code",
   "execution_count": 81,
   "metadata": {},
   "outputs": [
    {
     "data": {
      "text/html": [
       "<div><i>Table length=136</i>\n",
       "<table id=\"table2284901636992\" class=\"table-striped table-bordered table-condensed\">\n",
       "<thead><tr><th>Name</th><th>target_source</th><th>target_type</th><th>RAJ2000</th><th>DecJ2000</th><th>pmRA</th><th>pmDec</th><th>parallax</th><th>V</th><th>Teff</th><th>list_Featured_targets</th><th>list_Gemini_2024B_Proposal</th><th>list_HQND</th><th>list_Kostov_2022</th><th>list_Kostov_2023</th><th>list_LBT_2023-12-06</th><th>list_LBT_2023B</th><th>list_Speckle_Resolved</th><th>speckle_count</th><th>gemini_iq70_speckle_sequences</th><th>gemini_iq85_speckle_sequences</th><th>gemini_iq70_speckle_exposure</th><th>gemini_iq85_speckle_exposure</th><th>IQ70 Program Time</th><th>IQ85 Program Time</th></tr></thead>\n",
       "<thead><tr><th>str14</th><th>str28</th><th>str6</th><th>float64</th><th>float64</th><th>float64</th><th>float64</th><th>float64</th><th>float64</th><th>float64</th><th>bool</th><th>bool</th><th>bool</th><th>bool</th><th>bool</th><th>bool</th><th>bool</th><th>bool</th><th>int64</th><th>int64</th><th>int64</th><th>float64</th><th>float64</th><th>float64</th><th>float64</th></tr></thead>\n",
       "<tr><td>TIC 150055835</td><td>Kostov 2023 arXiv:2309.14200</td><td>QuadEB</td><td>69.9253097979945</td><td>29.1345840372292</td><td>1.09215</td><td>-1.99413</td><td>0.347484</td><td>15.116</td><td>6445.0</td><td>False</td><td>True</td><td>False</td><td>False</td><td>True</td><td>False</td><td>False</td><td>False</td><td>0</td><td>11</td><td>22</td><td>704.0</td><td>1408.0</td><td>1190.414688</td><td>2025.127776</td></tr>\n",
       "<tr><td>TIC 58539786</td><td>Kostov 2023 arXiv:2309.14200</td><td>QuadEB</td><td>65.8340211217007</td><td>29.1427494807598</td><td>5.51137</td><td>-5.3655</td><td>0.83413</td><td>15.266</td><td>5597.0</td><td>False</td><td>True</td><td>False</td><td>False</td><td>True</td><td>False</td><td>False</td><td>False</td><td>0</td><td>11</td><td>22</td><td>704.0</td><td>1408.0</td><td>1190.414688</td><td>2025.127776</td></tr>\n",
       "<tr><td>TIC 219006972</td><td>Kostov 2023 arXiv:2309.14200</td><td>QuadEB</td><td>221.202871081398</td><td>66.3786726710139</td><td>6.64058</td><td>-3.44764</td><td>0.703547</td><td>14.312</td><td>5878.0</td><td>False</td><td>True</td><td>False</td><td>False</td><td>True</td><td>False</td><td>False</td><td>False</td><td>0</td><td>11</td><td>22</td><td>704.0</td><td>1408.0</td><td>1190.414688</td><td>2025.127776</td></tr>\n",
       "<tr><td>TIC 240256832</td><td>Kostov 2023 arXiv:2309.14200</td><td>QuadEB</td><td>322.296886956971</td><td>44.0333268274813</td><td>-16.4191</td><td>-17.5365</td><td>--</td><td>13.242</td><td>--</td><td>False</td><td>True</td><td>False</td><td>False</td><td>True</td><td>False</td><td>False</td><td>False</td><td>0</td><td>7</td><td>14</td><td>448.0</td><td>896.0</td><td>886.882656</td><td>1418.0637120000001</td></tr>\n",
       "<tr><td>TIC 120911334</td><td>Kostov 2023 arXiv:2309.14200</td><td>QuadEB</td><td>73.8621033608711</td><td>38.3129564434802</td><td>-4.61153</td><td>0.315877</td><td>--</td><td>15.2</td><td>--</td><td>False</td><td>True</td><td>False</td><td>False</td><td>True</td><td>False</td><td>False</td><td>False</td><td>0</td><td>11</td><td>22</td><td>704.0</td><td>1408.0</td><td>1190.414688</td><td>2025.127776</td></tr>\n",
       "<tr><td>TIC 430745185</td><td>Kostov 2023 arXiv:2309.14200</td><td>QuadEB</td><td>333.69028679781</td><td>49.2559110614137</td><td>-8.45255</td><td>-3.75994</td><td>0.561646</td><td>13.204</td><td>6282.0</td><td>False</td><td>True</td><td>False</td><td>False</td><td>True</td><td>False</td><td>False</td><td>False</td><td>0</td><td>7</td><td>14</td><td>448.0</td><td>896.0</td><td>886.882656</td><td>1418.0637120000001</td></tr>\n",
       "<tr><td>TIC 371583423</td><td>Kostov 2023 arXiv:2309.14200</td><td>QuadEB</td><td>343.115417912764</td><td>55.4330449713393</td><td>-6.12292</td><td>-8.73148</td><td>--</td><td>13.881</td><td>--</td><td>False</td><td>True</td><td>False</td><td>False</td><td>True</td><td>False</td><td>False</td><td>False</td><td>0</td><td>7</td><td>14</td><td>448.0</td><td>896.0</td><td>886.882656</td><td>1418.0637120000001</td></tr>\n",
       "<tr><td>TIC 414026507</td><td>Kostov 2022 arXiv:2202.05790</td><td>QuadEB</td><td>336.837716720964</td><td>56.7403620051295</td><td>-3.66449</td><td>-2.95647</td><td>0.242427</td><td>10.899</td><td>9187.0</td><td>False</td><td>True</td><td>True</td><td>True</td><td>False</td><td>True</td><td>True</td><td>False</td><td>5</td><td>5</td><td>10</td><td>320.0</td><td>640.0</td><td>735.1166400000001</td><td>1114.53168</td></tr>\n",
       "<tr><td>TIC 121511673</td><td>Kostov 2023 arXiv:2309.14200</td><td>QuadEB</td><td>74.9719483022246</td><td>40.4020715331373</td><td>0.987281</td><td>-2.48414</td><td>0.306497</td><td>14.208</td><td>9336.0</td><td>False</td><td>True</td><td>False</td><td>False</td><td>True</td><td>False</td><td>False</td><td>False</td><td>0</td><td>11</td><td>22</td><td>704.0</td><td>1408.0</td><td>1190.414688</td><td>2025.127776</td></tr>\n",
       "<tr><td>...</td><td>...</td><td>...</td><td>...</td><td>...</td><td>...</td><td>...</td><td>...</td><td>...</td><td>...</td><td>...</td><td>...</td><td>...</td><td>...</td><td>...</td><td>...</td><td>...</td><td>...</td><td>...</td><td>...</td><td>...</td><td>...</td><td>...</td><td>...</td><td>...</td></tr>\n",
       "<tr><td>TIC 250119205</td><td>Kostov 2022 arXiv:2202.05790</td><td>QuadEB</td><td>221.669507410673</td><td>-53.1952180165586</td><td>-9.333</td><td>-4.90429</td><td>1.37363</td><td>10.426</td><td>9090.0</td><td>False</td><td>True</td><td>False</td><td>True</td><td>False</td><td>False</td><td>False</td><td>False</td><td>0</td><td>5</td><td>10</td><td>320.0</td><td>640.0</td><td>735.1166400000001</td><td>1114.53168</td></tr>\n",
       "<tr><td>TIC 308731030</td><td>Kostov 2023 arXiv:2309.14200</td><td>QuadEB</td><td>222.829876738801</td><td>-49.723451289421</td><td>-10.7226</td><td>-4.34332</td><td>1.38059</td><td>12.834</td><td>6338.0</td><td>False</td><td>True</td><td>False</td><td>False</td><td>True</td><td>False</td><td>False</td><td>False</td><td>0</td><td>7</td><td>14</td><td>448.0</td><td>896.0</td><td>886.882656</td><td>1418.0637120000001</td></tr>\n",
       "<tr><td>TIC 170146066</td><td>Kostov 2023 arXiv:2309.14200</td><td>QuadEB</td><td>252.630188804509</td><td>-55.3206326612513</td><td>-2.90486</td><td>-6.2811</td><td>1.43428</td><td>13.514</td><td>5652.0</td><td>False</td><td>True</td><td>False</td><td>False</td><td>True</td><td>False</td><td>False</td><td>False</td><td>0</td><td>7</td><td>14</td><td>448.0</td><td>896.0</td><td>886.882656</td><td>1418.0637120000001</td></tr>\n",
       "<tr><td>TIC 1337279468</td><td>Kostov 2022 arXiv:2202.05790</td><td>SextEB</td><td>252.51438920552</td><td>-44.0348980596125</td><td>-14.3544</td><td>-1.69297</td><td>-3.22832</td><td>13.0524</td><td>--</td><td>False</td><td>True</td><td>False</td><td>True</td><td>False</td><td>False</td><td>False</td><td>False</td><td>0</td><td>7</td><td>14</td><td>448.0</td><td>896.0</td><td>886.882656</td><td>1418.0637120000001</td></tr>\n",
       "<tr><td>TIC 255532033</td><td>Kostov 2022 arXiv:2202.05790</td><td>QuadEB</td><td>240.549599356024</td><td>-44.7129932605548</td><td>-6.7</td><td>-7.4</td><td>--</td><td>10.998</td><td>8685.0</td><td>False</td><td>True</td><td>False</td><td>True</td><td>False</td><td>False</td><td>False</td><td>False</td><td>0</td><td>5</td><td>10</td><td>320.0</td><td>640.0</td><td>735.1166400000001</td><td>1114.53168</td></tr>\n",
       "<tr><td>TIC 414969157</td><td>Kostov 2022 arXiv:2202.05790</td><td>QuadEB</td><td>141.17616172526</td><td>22.2007571593269</td><td>-0.138778</td><td>-0.35021</td><td>1.27485</td><td>14.508</td><td>5358.36</td><td>False</td><td>True</td><td>False</td><td>True</td><td>False</td><td>False</td><td>False</td><td>False</td><td>15</td><td>11</td><td>22</td><td>704.0</td><td>1408.0</td><td>1190.414688</td><td>2025.127776</td></tr>\n",
       "<tr><td>TIC 27543409</td><td>Kostov 2022 arXiv:2202.05790</td><td>QuadEB</td><td>122.702003761872</td><td>13.5672172981478</td><td>-3.26666</td><td>0.942613</td><td>0.518392</td><td>13.663</td><td>6421.0</td><td>False</td><td>True</td><td>False</td><td>True</td><td>False</td><td>False</td><td>False</td><td>False</td><td>15</td><td>7</td><td>14</td><td>448.0</td><td>896.0</td><td>886.882656</td><td>1418.0637120000001</td></tr>\n",
       "<tr><td>TIC 139914081</td><td>Kostov 2023 arXiv:2309.14200</td><td>QuadEB</td><td>326.971651313212</td><td>-49.0378324180058</td><td>-4.70688</td><td>-3.40727</td><td>1.21499</td><td>14.534</td><td>5229.0</td><td>False</td><td>True</td><td>False</td><td>False</td><td>True</td><td>False</td><td>False</td><td>False</td><td>0</td><td>11</td><td>22</td><td>704.0</td><td>1408.0</td><td>1190.414688</td><td>2025.127776</td></tr>\n",
       "<tr><td>TIC 382182610</td><td>Kostov 2023 arXiv:2309.14200</td><td>QuadEB</td><td>304.472082301266</td><td>-36.2046574985401</td><td>4.58496</td><td>-5.93205</td><td>1.11394</td><td>12.609</td><td>6256.14</td><td>False</td><td>True</td><td>False</td><td>False</td><td>True</td><td>False</td><td>False</td><td>False</td><td>0</td><td>7</td><td>14</td><td>448.0</td><td>896.0</td><td>886.882656</td><td>1418.0637120000001</td></tr>\n",
       "<tr><td>TIC 337346017</td><td>Kostov 2023 arXiv:2309.14200</td><td>QuadEB</td><td>270.458748426681</td><td>-50.9437825682567</td><td>-13.0511</td><td>2.10174</td><td>1.80815</td><td>15.324</td><td>4149.0</td><td>False</td><td>True</td><td>False</td><td>False</td><td>True</td><td>False</td><td>False</td><td>False</td><td>0</td><td>11</td><td>22</td><td>704.0</td><td>1408.0</td><td>1190.414688</td><td>2025.127776</td></tr>\n",
       "</table></div>"
      ],
      "text/plain": [
       "<Table length=136>\n",
       "     Name             target_source         ... IQ85 Program Time \n",
       "    str14                 str28             ...      float64      \n",
       "-------------- ---------------------------- ... ------------------\n",
       " TIC 150055835 Kostov 2023 arXiv:2309.14200 ...        2025.127776\n",
       "  TIC 58539786 Kostov 2023 arXiv:2309.14200 ...        2025.127776\n",
       " TIC 219006972 Kostov 2023 arXiv:2309.14200 ...        2025.127776\n",
       " TIC 240256832 Kostov 2023 arXiv:2309.14200 ... 1418.0637120000001\n",
       " TIC 120911334 Kostov 2023 arXiv:2309.14200 ...        2025.127776\n",
       " TIC 430745185 Kostov 2023 arXiv:2309.14200 ... 1418.0637120000001\n",
       " TIC 371583423 Kostov 2023 arXiv:2309.14200 ... 1418.0637120000001\n",
       " TIC 414026507 Kostov 2022 arXiv:2202.05790 ...         1114.53168\n",
       " TIC 121511673 Kostov 2023 arXiv:2309.14200 ...        2025.127776\n",
       "           ...                          ... ...                ...\n",
       " TIC 250119205 Kostov 2022 arXiv:2202.05790 ...         1114.53168\n",
       " TIC 308731030 Kostov 2023 arXiv:2309.14200 ... 1418.0637120000001\n",
       " TIC 170146066 Kostov 2023 arXiv:2309.14200 ... 1418.0637120000001\n",
       "TIC 1337279468 Kostov 2022 arXiv:2202.05790 ... 1418.0637120000001\n",
       " TIC 255532033 Kostov 2022 arXiv:2202.05790 ...         1114.53168\n",
       " TIC 414969157 Kostov 2022 arXiv:2202.05790 ...        2025.127776\n",
       "  TIC 27543409 Kostov 2022 arXiv:2202.05790 ... 1418.0637120000001\n",
       " TIC 139914081 Kostov 2023 arXiv:2309.14200 ...        2025.127776\n",
       " TIC 382182610 Kostov 2023 arXiv:2309.14200 ... 1418.0637120000001\n",
       " TIC 337346017 Kostov 2023 arXiv:2309.14200 ...        2025.127776"
      ]
     },
     "execution_count": 81,
     "metadata": {},
     "output_type": "execute_result"
    }
   ],
   "source": [
    "# use the target list creator to make a file that can be imported into the PIT\n",
    "# we decided to use the same target list as the 2024B proposal\n",
    "\n",
    "from functools import partial\n",
    "from sqlite3 import connect\n",
    "import sys\n",
    "\n",
    "from astropy.table import Table\n",
    "\n",
    "sys.path.append(\"../../\")\n",
    "import astropaul.targetlistcreator as tlc\n",
    "import astropaul.gemini as gemini\n",
    "\n",
    "conn = connect(\"../../django/TargetDB/db.sqlite3\")\n",
    "\n",
    "creator = tlc.TargetListCreator(connection=conn)\n",
    "creator.steps = [\n",
    "    tlc.add_targets,\n",
    "    tlc.add_tess,\n",
    "    tlc.add_coords,\n",
    "    partial(tlc.hide_cols, prefix=\"tess\"),\n",
    "    tlc.add_lists,\n",
    "    tlc.add_speckle,\n",
    "    gemini.add_gemini_speckle_params,\n",
    "]\n",
    "\n",
    "targets = Table.from_pandas(creator.calculate())\n",
    "gemini_targets = targets[targets[\"list_Gemini_2024B_Proposal\"]]\n",
    "gemini_targets.rename_column(\"target_name\", \"Name\")\n",
    "gemini_targets.rename_column(\"ra\", \"RAJ2000\")\n",
    "gemini_targets.rename_column(\"dec\", \"DecJ2000\")\n",
    "gemini_targets.rename_column(\"pmra\", \"pmRA\")\n",
    "gemini_targets.rename_column(\"pmdec\", \"pmDec\")\n",
    "gemini_targets.rename_column(\"Vmag\", \"V\")\n",
    "gemini_targets.rename_column(\"gemini_iq70_speckle_program_time\", \"IQ70 Program Time\")\n",
    "gemini_targets.rename_column(\"gemini_iq85_speckle_program_time\", \"IQ85 Program Time\")\n",
    "\n",
    "# # break list into north & south and write to file\n",
    "# cutpoint = 25\n",
    "# lists = {\n",
    "#     \"North\": gemini_targets[gemini_targets[\"DecJ2000\"] > -cutpoint],\n",
    "#     \"South\": gemini_targets[gemini_targets[\"DecJ2000\"] < cutpoint],\n",
    "# }\n",
    "# for name, list in lists.items():\n",
    "#     list[[\"Name\", \"RAJ2000\", \"DecJ2000\", \"pmRA\", \"pmDec\", \"V\"]].write(f\"Gemini 2025A Proposal {name}.csv\", overwrite=True)\n",
    "\n",
    "gemini_targets\n"
   ]
  },
  {
   "cell_type": "code",
   "execution_count": 82,
   "metadata": {},
   "outputs": [
    {
     "name": "stdout",
     "output_type": "stream",
     "text": [
      "North: 45 targets, 36 observable (0.80)\n",
      "South: 91 targets, 62 observable (0.68)\n",
      "136 98 0.7205882352941176\n"
     ]
    }
   ],
   "source": [
    "# filter out unobservable targets\n",
    "import astroplan as ap\n",
    "from astropy.coordinates import SkyCoord\n",
    "from astropy.table import vstack\n",
    "from astropy.time import Time\n",
    "import astropy.units as u\n",
    "\n",
    "constraints = [\n",
    "    ap.AltitudeConstraint(30 * u.deg, 80 * u.deg),\n",
    "    ap.AirmassConstraint(2),\n",
    "    # ap.AtNightConstraint.twilight_civil(),\n",
    "]\n",
    "\n",
    "segments = [\n",
    "    (\"North\", ap.Observer.at_site(\"Gemini North\"), gemini_targets[gemini_targets[\"DecJ2000\"] > 0]),\n",
    "    (\"South\", ap.Observer.at_site(\"Gemini South\"), gemini_targets[gemini_targets[\"DecJ2000\"] < 0]),\n",
    "]\n",
    "\n",
    "semester = (Time(\"2025-01-01\"), Time(\"2025-06-30\"))\n",
    "\n",
    "for name, observer, list in segments:\n",
    "    target = ap.FixedTarget(\n",
    "        coord=SkyCoord(\n",
    "            frame=\"icrs\",\n",
    "            obstime=Time(\"2000.0\", format=\"jyear\", scale=\"tdb\"),\n",
    "            ra=list[\"RAJ2000\"] * u.deg,\n",
    "            dec=list[\"DecJ2000\"] * u.deg,\n",
    "        ),\n",
    "        name=list[\"Name\"],\n",
    "    )\n",
    "    list[\"Observable\"] = ap.is_observable(constraints, observer, target, semester)\n",
    "    num_targets = len(list)\n",
    "    num_observable = len(list[list[\"Observable\"]])\n",
    "    print(f\"{name}: {num_targets} targets, {num_observable} observable ({(num_observable / num_targets):.2f})\")\n",
    "\n",
    "proposal_targets = vstack([list[list[\"Observable\"]] for _, _, list in segments])\n",
    "proposal_targets[[\"Name\", \"RAJ2000\", \"DecJ2000\", \"pmRA\", \"pmDec\", \"V\"]].write(\"Gemini 2025A Proposal targets.csv\", overwrite=True)\n",
    "\n",
    "print(len(gemini_targets), len(proposal_targets), len(proposal_targets) / len(gemini_targets))"
   ]
  },
  {
   "cell_type": "markdown",
   "metadata": {},
   "source": [
    "After going through the entire proposal process, the PIT software had problems with specific targets.  Remove them. "
   ]
  },
  {
   "cell_type": "code",
   "execution_count": 83,
   "metadata": {},
   "outputs": [
    {
     "data": {
      "text/plain": [
       "81"
      ]
     },
     "execution_count": 83,
     "metadata": {},
     "output_type": "execute_result"
    }
   ],
   "source": [
    "import numpy as np\n",
    "\n",
    "problem_targets = [\n",
    "    \"TIC 200094011\",  # no guide star under any weather condition\n",
    "    \"TIC 265684107\",  # PIT claimed was unobservable\n",
    "    \"TIC 244279814\",  # PIT claimed was unobservable\n",
    "    \"TIC 31928452\",  # PIT claimed was unobservable\n",
    "    \"TIC 232087348\",  # PIT claimed was unobservable\n",
    "    \"TIC 207137124\",  # PIT claimed was unobservable\n",
    "    \"TIC 168789840\",  # PIT claimed was unobservable\n",
    "    \"TIC 178953404\",  # PIT claimed was unobservable\n",
    "    \"TIC 43472931\",  # PIT claimed was unobservable\n",
    "    \"TIC 38542448\",  # PIT claimed was unobservable\n",
    "    \"TIC 207137124\",  # Already observed in 2024B according to Jimmy\n",
    "    \"TIC 31928452\",  # Already observed in 2024B according to Jimmy\n",
    "    \"TIC 168789840\",  # Already observed in 2024B according to Jimmy\n",
    "    \"TIC 123098844\",  # Already observed in 2024B according to Jimmy\n",
    "    \"TIC 414026507\",  # Already observed in 2024B according to Jimmy\n",
    "    \"TIC 384735219\",  # Already observed in 2024B according to Jimmy\n",
    "    \"TIC 384410712\",  # Already observed in 2024B according to Jimmy\n",
    "    \"TIC 370274336\",  # Already observed in 2024B according to Jimmy\n",
    "    \"TIC 327885074\",  # Already observed in 2024B according to Jimmy\n",
    "    \"TIC 202664216\",  # Already observed in 2024B according to Jimmy\n",
    "    \"TIC 45160946\",  # PIT claimed prior Gemini data available for this target\n",
    "    \"TIC 1337279468\",  # PIT claimed prior Gemini data available for this target\n",
    "]\n",
    "\n",
    "proposal_targets = proposal_targets[~np.isin(proposal_targets[\"Name\"], problem_targets)]\n",
    "proposal_targets[[\"Name\", \"RAJ2000\", \"DecJ2000\", \"pmRA\", \"pmDec\", \"V\"]].write(\n",
    "    \"Gemini 2025A Proposal targets.csv\", overwrite=True\n",
    ")\n",
    "len(proposal_targets)"
   ]
  },
  {
   "cell_type": "markdown",
   "metadata": {},
   "source": [
    "* Start the PIT and open the file `Gemini 2025A Proposal Base.xml`\n",
    "  * This base file has investigators, title, and other fields already populated\n",
    "* Import the target list created above into the PIT\n",
    "* In targets tab, sort by Dec\n",
    "* Select & Copy all targets Dec < 0\n",
    "* Switch to Observations tab and Paste\n",
    "* Specify weather conditions and Zorro speckle (South)\n",
    "* Select & Copy all targets Dec > 0\n",
    "* Switch to Observations tab and Paste\n",
    "* Specify weather conditions and `Alopeke speckle (North)\n",
    "* Do a Save As in the PIT, to the file `Gemini 2025A Proposal.xml` (without the word base in it)\n",
    "* The below code will add observing times for each target to the xml file"
   ]
  },
  {
   "cell_type": "code",
   "execution_count": 84,
   "metadata": {},
   "outputs": [],
   "source": [
    "# edit the xml file saved by the PIT and add observation times\n",
    "import xml.etree.ElementTree as ET\n",
    "\n",
    "filename = \"Gemini 2025A Proposal\"\n",
    "# filename = \"north\"\n",
    "# filename = \"south\"\n",
    "\n",
    "# first, get observation times for all targets (in hours, because that's all PIT accepts)\n",
    "target_times = {\n",
    "    str(name): (f\"{iq70 / 3600:.2f}\", f\"{iq85 / 3600:.2f}\")\n",
    "    for name, iq70, iq85 in gemini_targets[\n",
    "        [\"Name\", \"IQ70 Program Time\", \"IQ85 Program Time\"]\n",
    "    ]\n",
    "}\n",
    "\n",
    "# next, get the mapping of the nickname used in xml file to the TIC name\n",
    "tree = ET.parse(f\"{filename}.xml\")\n",
    "root = tree.getroot()\n",
    "target_map = {}\n",
    "for target in root.findall(\"targets/sidereal\"):\n",
    "    designator = target.attrib[\"id\"]\n",
    "    name = target.find(\"name\").text\n",
    "    target_map[designator] = name\n",
    "\n",
    "# finally, for each weather condition:\n",
    "#   walk through each observation entry and add observing time to it for the appropriate conditions\n",
    "for index, name in enumerate([\"iq70\", \"iq85\"]):\n",
    "    for observation in root.findall(\"observations/observation\"):\n",
    "        target_name = target_map[observation.attrib[\"target\"]]\n",
    "        target_time = target_times[target_name][index]\n",
    "        progTime = ET.Element(\"progTime\")\n",
    "        progTime.set(\"units\", \"s\")\n",
    "        progTime.text = target_time\n",
    "        observation.append(progTime)\n",
    "        time = ET.Element(\"time\")\n",
    "        time.set(\"units\", \"s\")\n",
    "        time.text = target_time\n",
    "        observation.append(time)\n",
    "    tree.write(f\"{filename}_{name}.xml\")\n"
   ]
  },
  {
   "cell_type": "markdown",
   "metadata": {},
   "source": [
    "* Load new xml file into PIT\n",
    "* Finish rest of proposal\n"
   ]
  },
  {
   "cell_type": "code",
   "execution_count": 90,
   "metadata": {},
   "outputs": [
    {
     "name": "stdout",
     "output_type": "stream",
     "text": [
      " Faint (V$>$13) &  3 &  25 &  0.82 &  0 &   0 &  0.00 &  5 &  43 &  1.40 \\\\\n",
      "Bright (V$<$13) &  0 &   0 &  0.00 &  2 &   8 &  0.37 &  0 &   0 &  0.00 \\\\\n",
      "           HQUS &  4 &  26 &  0.94 &  1 &   7 &  0.25 &  3 &  17 &  0.65 \\\\\n",
      "  First Speckle & 11 &  93 &  3.05 & 45 & 345 & 11.72 &  7 &  69 &  2.15 \\\\\n",
      "          TOTAL & 18 & 144 &  4.81 & 48 & 360 & 12.33 & 15 & 129 &  4.20 \\\\\n",
      "7.82 north, 13.53 south\n"
     ]
    }
   ],
   "source": [
    "# calculate observing time by group and by north/south/equatorial\n",
    "\n",
    "groups = [\n",
    "    (\n",
    "        \"Faint (V$>$13)\",\n",
    "        (proposal_targets[\"V\"] >= 13)\n",
    "        & (proposal_targets[\"list_HQND\"] == False)\n",
    "        & (proposal_targets[\"speckle_count\"] > 0),\n",
    "    ),\n",
    "    (\n",
    "        \"Bright (V$<$13)\",\n",
    "        (proposal_targets[\"V\"] < 13) \n",
    "        & (proposal_targets[\"list_HQND\"] == False)\n",
    "        & (proposal_targets[\"speckle_count\"] > 0),\n",
    "    ),\n",
    "    (\"HQUS\", (proposal_targets[\"list_HQND\"])),\n",
    "    (\"First Speckle\", (proposal_targets[\"speckle_count\"] == 0)),\n",
    "]\n",
    "\n",
    "regions = [\n",
    "    (\"North\", (proposal_targets[\"DecJ2000\"] > 25)),\n",
    "    (\"South\", (proposal_targets[\"DecJ2000\"] < -25)),\n",
    "    (\"Equatorial\", (proposal_targets[\"DecJ2000\"] > -25) & (proposal_targets[\"DecJ2000\"] < 25)),\n",
    "]\n",
    "\n",
    "tot_count = {name: 0 for name, _ in regions}\n",
    "tot_time = {name: 0 for name, _ in regions}\n",
    "tot_seq = {name: 0 for name, _ in regions}\n",
    "for name, group_criteria in groups:\n",
    "    print(f\"{name:>15s}\", end=\" \")\n",
    "    for region, region_criteria in regions:\n",
    "        group = proposal_targets[group_criteria & region_criteria]\n",
    "        count = len(group)\n",
    "        obs_time = np.sum(group[\"IQ70 Program Time\"]) / 3600\n",
    "        num_seq = np.sum(group[\"gemini_iq70_speckle_sequences\"])\n",
    "        print(f\"& {count:2d} & {num_seq:3d} & {obs_time:5.2f}\", end=\" \")\n",
    "        tot_count[region] += count\n",
    "        tot_time[region] += obs_time\n",
    "        tot_seq[region] += num_seq\n",
    "    print(r\"\\\\\")\n",
    "print(\"          TOTAL\", end=\" \")\n",
    "for region, _ in regions:\n",
    "    print(f\"& {tot_count[region]:2d} & {tot_seq[region]:3d} & {tot_time[region]:5.2f}\", end = \" \")\n",
    "print(r\"\\\\\")\n",
    "\n",
    "time_north = np.sum(proposal_targets[proposal_targets[\"DecJ2000\"] > 0][\"IQ70 Program Time\"]) / 3600\n",
    "time_south = (np.sum(proposal_targets[proposal_targets[\"DecJ2000\"] < 0][\"IQ70 Program Time\"]) / 3600\n",
    ")\n",
    "print(f\"{time_north:.2f} north, {time_south:.2f} south\")"
   ]
  },
  {
   "cell_type": "markdown",
   "metadata": {},
   "source": [
    "* Paste the above table into the Overleaf for the experimental design\n",
    "* For Phase 3, I just added the HQUS targets and their IQ85 exposure times, manually.\n",
    "  * Ideally, my code could create separate Phase 1/2 and Phase 3 lists using different IQ70/85 exposure times, but I didn't have time for that this time."
   ]
  },
  {
   "cell_type": "code",
   "execution_count": 91,
   "metadata": {},
   "outputs": [
    {
     "data": {
      "text/html": [
       "<div><i>Table length=8</i>\n",
       "<table id=\"table2284233921824\" class=\"table-striped table-bordered table-condensed\">\n",
       "<thead><tr><th>Name</th><th>target_source</th><th>target_type</th><th>RAJ2000</th><th>DecJ2000</th><th>pmRA</th><th>pmDec</th><th>parallax</th><th>V</th><th>Teff</th><th>list_Featured_targets</th><th>list_Gemini_2024B_Proposal</th><th>list_HQND</th><th>list_Kostov_2022</th><th>list_Kostov_2023</th><th>list_LBT_2023-12-06</th><th>list_LBT_2023B</th><th>list_Speckle_Resolved</th><th>speckle_count</th><th>gemini_iq70_speckle_sequences</th><th>gemini_iq85_speckle_sequences</th><th>gemini_iq70_speckle_exposure</th><th>gemini_iq85_speckle_exposure</th><th>IQ70 Program Time</th><th>IQ85 Program Time</th><th>Observable</th></tr></thead>\n",
       "<thead><tr><th>str14</th><th>str28</th><th>str6</th><th>float64</th><th>float64</th><th>float64</th><th>float64</th><th>float64</th><th>float64</th><th>float64</th><th>bool</th><th>bool</th><th>bool</th><th>bool</th><th>bool</th><th>bool</th><th>bool</th><th>bool</th><th>int64</th><th>int64</th><th>int64</th><th>float64</th><th>float64</th><th>float64</th><th>float64</th><th>bool</th></tr></thead>\n",
       "<tr><td>TIC 391620600</td><td>Kostov 2022 arXiv:2202.05790</td><td>QuadEB</td><td>71.6403891258743</td><td>44.7536621987808</td><td>-7.75529</td><td>2.23094</td><td>2.07298</td><td>12.772</td><td>5949.71</td><td>False</td><td>True</td><td>True</td><td>True</td><td>False</td><td>True</td><td>True</td><td>False</td><td>9</td><td>7</td><td>14</td><td>448.0</td><td>896.0</td><td>886.882656</td><td>1418.0637120000001</td><td>True</td></tr>\n",
       "<tr><td>TIC 63459761</td><td>Kostov 2022 arXiv:2202.05790</td><td>QuadEB</td><td>308.525065221094</td><td>41.1358690935082</td><td>-1.85814</td><td>-4.47149</td><td>0.469204</td><td>13.277</td><td>3960.0</td><td>False</td><td>True</td><td>True</td><td>True</td><td>False</td><td>False</td><td>False</td><td>False</td><td>10</td><td>7</td><td>14</td><td>448.0</td><td>896.0</td><td>886.882656</td><td>1418.0637120000001</td><td>True</td></tr>\n",
       "<tr><td>TIC 278352276</td><td>Kostov 2022 arXiv:2202.05790</td><td>QuadEB</td><td>307.503640407431</td><td>48.6070563353721</td><td>1.85387</td><td>6.57664</td><td>1.36265</td><td>10.387</td><td>7156.0</td><td>False</td><td>True</td><td>True</td><td>True</td><td>False</td><td>True</td><td>True</td><td>False</td><td>5</td><td>5</td><td>10</td><td>320.0</td><td>640.0</td><td>735.1166400000001</td><td>1114.53168</td><td>True</td></tr>\n",
       "<tr><td>TIC 264402353</td><td>Kostov 2022 arXiv:2202.05790</td><td>QuadEB</td><td>323.090421291026</td><td>78.695150742343</td><td>2.19147</td><td>-0.747179</td><td>0.963037</td><td>12.46</td><td>6358.0</td><td>False</td><td>True</td><td>True</td><td>True</td><td>False</td><td>True</td><td>True</td><td>False</td><td>9</td><td>7</td><td>14</td><td>448.0</td><td>896.0</td><td>886.882656</td><td>1418.0637120000001</td><td>True</td></tr>\n",
       "<tr><td>TIC 454140642</td><td>Kostov 2022 arXiv:2202.05790</td><td>QuadEB</td><td>64.7734730427625</td><td>0.900042404712982</td><td>2.82736</td><td>-10.8466</td><td>2.71215</td><td>10.409</td><td>6592.0</td><td>False</td><td>True</td><td>True</td><td>True</td><td>False</td><td>True</td><td>True</td><td>False</td><td>3</td><td>5</td><td>10</td><td>320.0</td><td>640.0</td><td>735.1166400000001</td><td>1114.53168</td><td>True</td></tr>\n",
       "<tr><td>TIC 459959916</td><td>Kostov 2022 arXiv:2202.05790</td><td>QuadEB</td><td>71.4896654350755</td><td>4.82961853921165</td><td>2.91745</td><td>5.87658</td><td>0.94933</td><td>13.323</td><td>6197.0</td><td>False</td><td>True</td><td>True</td><td>True</td><td>False</td><td>True</td><td>False</td><td>False</td><td>9</td><td>7</td><td>14</td><td>448.0</td><td>896.0</td><td>886.882656</td><td>1418.0637120000001</td><td>True</td></tr>\n",
       "<tr><td>TIC 204698586</td><td>Kostov 2022 arXiv:2202.05790</td><td>QuadEB</td><td>185.551846252</td><td>-24.2248455504102</td><td>1.15779</td><td>5.32292</td><td>2.29163</td><td>11.506</td><td>6392.0</td><td>False</td><td>True</td><td>True</td><td>True</td><td>False</td><td>False</td><td>True</td><td>False</td><td>6</td><td>5</td><td>10</td><td>320.0</td><td>640.0</td><td>735.1166400000001</td><td>1114.53168</td><td>True</td></tr>\n",
       "<tr><td>TIC 271186951</td><td>Kostov 2022 arXiv:2202.05790</td><td>QuadEB</td><td>132.355841821942</td><td>-46.8680404812717</td><td>-4.99193</td><td>5.06608</td><td>0.455852</td><td>12.049</td><td>9933.0</td><td>False</td><td>True</td><td>True</td><td>True</td><td>False</td><td>False</td><td>False</td><td>False</td><td>1</td><td>7</td><td>14</td><td>448.0</td><td>896.0</td><td>886.882656</td><td>1418.0637120000001</td><td>True</td></tr>\n",
       "</table></div>"
      ],
      "text/plain": [
       "<Table length=8>\n",
       "     Name            target_source         ... IQ85 Program Time  Observable\n",
       "    str14                str28             ...      float64          bool   \n",
       "------------- ---------------------------- ... ------------------ ----------\n",
       "TIC 391620600 Kostov 2022 arXiv:2202.05790 ... 1418.0637120000001       True\n",
       " TIC 63459761 Kostov 2022 arXiv:2202.05790 ... 1418.0637120000001       True\n",
       "TIC 278352276 Kostov 2022 arXiv:2202.05790 ...         1114.53168       True\n",
       "TIC 264402353 Kostov 2022 arXiv:2202.05790 ... 1418.0637120000001       True\n",
       "TIC 454140642 Kostov 2022 arXiv:2202.05790 ...         1114.53168       True\n",
       "TIC 459959916 Kostov 2022 arXiv:2202.05790 ... 1418.0637120000001       True\n",
       "TIC 204698586 Kostov 2022 arXiv:2202.05790 ...         1114.53168       True\n",
       "TIC 271186951 Kostov 2022 arXiv:2202.05790 ... 1418.0637120000001       True"
      ]
     },
     "execution_count": 91,
     "metadata": {},
     "output_type": "execute_result"
    }
   ],
   "source": [
    "proposal_targets[proposal_targets[\"list_HQND\"]]"
   ]
  }
 ],
 "metadata": {
  "kernelspec": {
   "display_name": "Python 3",
   "language": "python",
   "name": "python3"
  },
  "language_info": {
   "codemirror_mode": {
    "name": "ipython",
    "version": 3
   },
   "file_extension": ".py",
   "mimetype": "text/x-python",
   "name": "python",
   "nbconvert_exporter": "python",
   "pygments_lexer": "ipython3",
   "version": "3.12.6"
  }
 },
 "nbformat": 4,
 "nbformat_minor": 2
}
