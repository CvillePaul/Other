{
 "cells": [
  {
   "cell_type": "code",
   "execution_count": 3,
   "metadata": {},
   "outputs": [
    {
     "data": {
      "text/plain": [
       "136"
      ]
     },
     "execution_count": 3,
     "metadata": {},
     "output_type": "execute_result"
    }
   ],
   "source": [
    "# housekeeping: extract list of 2024B targets from xml file, since no easy list was left\n",
    "\n",
    "import xml.etree.ElementTree as ET\n",
    "\n",
    "tree = ET.parse(\"../../Proposals/Gemini/Gemini 2024B/Gemini_QEB.speckle_iq70.xml\")\n",
    "root = tree.getroot()\n",
    "targets = set()\n",
    "for target in root.findall(\"targets/sidereal\"):\n",
    "    name = target.find(\"name\").text\n",
    "    targets.add(name)\n",
    "\n",
    "with open(\"../../Proposals/Gemini/Gemini 2024B/Gemini 2024B targets.csv\", \"w\") as f:\n",
    "    f.write(\"Gemini 2024B Proposal\\n\")\n",
    "    f.write(\"All targets included in Gemini 2024B Proposal\\n\")\n",
    "    for target in targets:\n",
    "        f.write(f\"{target}\\n\")\n",
    "\n",
    "len(targets)"
   ]
  },
  {
   "cell_type": "code",
   "execution_count": 35,
   "metadata": {},
   "outputs": [
    {
     "data": {
      "text/html": [
       "<div><i>Table length=136</i>\n",
       "<table id=\"table2366868531120\" class=\"table-striped table-bordered table-condensed\">\n",
       "<thead><tr><th>Name</th><th>target_source</th><th>target_type</th><th>RAJ2000</th><th>DecJ2000</th><th>pmRA</th><th>pmDec</th><th>parallax</th><th>V</th><th>Teff</th><th>list_Featured_targets</th><th>list_Gemini_2024B_Proposal</th><th>list_HQND</th><th>list_Kostov_2022</th><th>list_Kostov_2023</th><th>list_LBT_2023-12-06</th><th>list_LBT_2023B</th><th>list_Speckle_Resolved</th><th>gemini_iq70_speckle_sequences</th><th>gemini_iq85_speckle_sequences</th><th>gemini_iq70_speckle_exposure</th><th>gemini_iq85_speckle_exposure</th><th>IQ70 Speckle Program Time</th><th>IQ85 Speckle Program Time</th></tr></thead>\n",
       "<thead><tr><th>str14</th><th>str28</th><th>str6</th><th>float64</th><th>float64</th><th>float64</th><th>float64</th><th>float64</th><th>float64</th><th>float64</th><th>bool</th><th>bool</th><th>bool</th><th>bool</th><th>bool</th><th>bool</th><th>bool</th><th>bool</th><th>int64</th><th>int64</th><th>float64</th><th>float64</th><th>float64</th><th>float64</th></tr></thead>\n",
       "<tr><td>TIC 150055835</td><td>Kostov 2023 arXiv:2309.14200</td><td>QuadEB</td><td>69.9253097979945</td><td>29.1345840372292</td><td>1.09215</td><td>-1.99413</td><td>0.347484</td><td>15.116</td><td>6445.0</td><td>False</td><td>True</td><td>False</td><td>False</td><td>True</td><td>False</td><td>False</td><td>False</td><td>11</td><td>22</td><td>704.0</td><td>1408.0</td><td>1190.414688</td><td>2025.127776</td></tr>\n",
       "<tr><td>TIC 58539786</td><td>Kostov 2023 arXiv:2309.14200</td><td>QuadEB</td><td>65.8340211217007</td><td>29.1427494807598</td><td>5.51137</td><td>-5.3655</td><td>0.83413</td><td>15.266</td><td>5597.0</td><td>False</td><td>True</td><td>False</td><td>False</td><td>True</td><td>False</td><td>False</td><td>False</td><td>11</td><td>22</td><td>704.0</td><td>1408.0</td><td>1190.414688</td><td>2025.127776</td></tr>\n",
       "<tr><td>TIC 219006972</td><td>Kostov 2023 arXiv:2309.14200</td><td>QuadEB</td><td>221.202871081398</td><td>66.3786726710139</td><td>6.64058</td><td>-3.44764</td><td>0.703547</td><td>14.312</td><td>5878.0</td><td>False</td><td>True</td><td>False</td><td>False</td><td>True</td><td>False</td><td>False</td><td>False</td><td>11</td><td>22</td><td>704.0</td><td>1408.0</td><td>1190.414688</td><td>2025.127776</td></tr>\n",
       "<tr><td>TIC 240256832</td><td>Kostov 2023 arXiv:2309.14200</td><td>QuadEB</td><td>322.296886956971</td><td>44.0333268274813</td><td>-16.4191</td><td>-17.5365</td><td>--</td><td>13.242</td><td>--</td><td>False</td><td>True</td><td>False</td><td>False</td><td>True</td><td>False</td><td>False</td><td>False</td><td>7</td><td>14</td><td>448.0</td><td>896.0</td><td>886.882656</td><td>1418.0637120000001</td></tr>\n",
       "<tr><td>TIC 120911334</td><td>Kostov 2023 arXiv:2309.14200</td><td>QuadEB</td><td>73.8621033608711</td><td>38.3129564434802</td><td>-4.61153</td><td>0.315877</td><td>--</td><td>15.2</td><td>--</td><td>False</td><td>True</td><td>False</td><td>False</td><td>True</td><td>False</td><td>False</td><td>False</td><td>11</td><td>22</td><td>704.0</td><td>1408.0</td><td>1190.414688</td><td>2025.127776</td></tr>\n",
       "<tr><td>TIC 430745185</td><td>Kostov 2023 arXiv:2309.14200</td><td>QuadEB</td><td>333.69028679781</td><td>49.2559110614137</td><td>-8.45255</td><td>-3.75994</td><td>0.561646</td><td>13.204</td><td>6282.0</td><td>False</td><td>True</td><td>False</td><td>False</td><td>True</td><td>False</td><td>False</td><td>False</td><td>7</td><td>14</td><td>448.0</td><td>896.0</td><td>886.882656</td><td>1418.0637120000001</td></tr>\n",
       "<tr><td>TIC 371583423</td><td>Kostov 2023 arXiv:2309.14200</td><td>QuadEB</td><td>343.115417912764</td><td>55.4330449713393</td><td>-6.12292</td><td>-8.73148</td><td>--</td><td>13.881</td><td>--</td><td>False</td><td>True</td><td>False</td><td>False</td><td>True</td><td>False</td><td>False</td><td>False</td><td>7</td><td>14</td><td>448.0</td><td>896.0</td><td>886.882656</td><td>1418.0637120000001</td></tr>\n",
       "<tr><td>TIC 414026507</td><td>Kostov 2022 arXiv:2202.05790</td><td>QuadEB</td><td>336.837716720964</td><td>56.7403620051295</td><td>-3.66449</td><td>-2.95647</td><td>0.242427</td><td>10.899</td><td>9187.0</td><td>False</td><td>True</td><td>True</td><td>True</td><td>False</td><td>True</td><td>True</td><td>False</td><td>5</td><td>10</td><td>320.0</td><td>640.0</td><td>735.1166400000001</td><td>1114.53168</td></tr>\n",
       "<tr><td>TIC 121511673</td><td>Kostov 2023 arXiv:2309.14200</td><td>QuadEB</td><td>74.9719483022246</td><td>40.4020715331373</td><td>0.987281</td><td>-2.48414</td><td>0.306497</td><td>14.208</td><td>9336.0</td><td>False</td><td>True</td><td>False</td><td>False</td><td>True</td><td>False</td><td>False</td><td>False</td><td>11</td><td>22</td><td>704.0</td><td>1408.0</td><td>1190.414688</td><td>2025.127776</td></tr>\n",
       "<tr><td>...</td><td>...</td><td>...</td><td>...</td><td>...</td><td>...</td><td>...</td><td>...</td><td>...</td><td>...</td><td>...</td><td>...</td><td>...</td><td>...</td><td>...</td><td>...</td><td>...</td><td>...</td><td>...</td><td>...</td><td>...</td><td>...</td><td>...</td><td>...</td></tr>\n",
       "<tr><td>TIC 250119205</td><td>Kostov 2022 arXiv:2202.05790</td><td>QuadEB</td><td>221.669507410673</td><td>-53.1952180165586</td><td>-9.333</td><td>-4.90429</td><td>1.37363</td><td>10.426</td><td>9090.0</td><td>False</td><td>True</td><td>False</td><td>True</td><td>False</td><td>False</td><td>False</td><td>False</td><td>5</td><td>10</td><td>320.0</td><td>640.0</td><td>735.1166400000001</td><td>1114.53168</td></tr>\n",
       "<tr><td>TIC 308731030</td><td>Kostov 2023 arXiv:2309.14200</td><td>QuadEB</td><td>222.829876738801</td><td>-49.723451289421</td><td>-10.7226</td><td>-4.34332</td><td>1.38059</td><td>12.834</td><td>6338.0</td><td>False</td><td>True</td><td>False</td><td>False</td><td>True</td><td>False</td><td>False</td><td>False</td><td>7</td><td>14</td><td>448.0</td><td>896.0</td><td>886.882656</td><td>1418.0637120000001</td></tr>\n",
       "<tr><td>TIC 170146066</td><td>Kostov 2023 arXiv:2309.14200</td><td>QuadEB</td><td>252.630188804509</td><td>-55.3206326612513</td><td>-2.90486</td><td>-6.2811</td><td>1.43428</td><td>13.514</td><td>5652.0</td><td>False</td><td>True</td><td>False</td><td>False</td><td>True</td><td>False</td><td>False</td><td>False</td><td>7</td><td>14</td><td>448.0</td><td>896.0</td><td>886.882656</td><td>1418.0637120000001</td></tr>\n",
       "<tr><td>TIC 1337279468</td><td>Kostov 2022 arXiv:2202.05790</td><td>SextEB</td><td>252.51438920552</td><td>-44.0348980596125</td><td>-14.3544</td><td>-1.69297</td><td>-3.22832</td><td>13.0524</td><td>--</td><td>False</td><td>True</td><td>False</td><td>True</td><td>False</td><td>False</td><td>False</td><td>False</td><td>7</td><td>14</td><td>448.0</td><td>896.0</td><td>886.882656</td><td>1418.0637120000001</td></tr>\n",
       "<tr><td>TIC 255532033</td><td>Kostov 2022 arXiv:2202.05790</td><td>QuadEB</td><td>240.549599356024</td><td>-44.7129932605548</td><td>-6.7</td><td>-7.4</td><td>--</td><td>10.998</td><td>8685.0</td><td>False</td><td>True</td><td>False</td><td>True</td><td>False</td><td>False</td><td>False</td><td>False</td><td>5</td><td>10</td><td>320.0</td><td>640.0</td><td>735.1166400000001</td><td>1114.53168</td></tr>\n",
       "<tr><td>TIC 414969157</td><td>Kostov 2022 arXiv:2202.05790</td><td>QuadEB</td><td>141.17616172526</td><td>22.2007571593269</td><td>-0.138778</td><td>-0.35021</td><td>1.27485</td><td>14.508</td><td>5358.36</td><td>False</td><td>True</td><td>False</td><td>True</td><td>False</td><td>False</td><td>False</td><td>False</td><td>11</td><td>22</td><td>704.0</td><td>1408.0</td><td>1190.414688</td><td>2025.127776</td></tr>\n",
       "<tr><td>TIC 27543409</td><td>Kostov 2022 arXiv:2202.05790</td><td>QuadEB</td><td>122.702003761872</td><td>13.5672172981478</td><td>-3.26666</td><td>0.942613</td><td>0.518392</td><td>13.663</td><td>6421.0</td><td>False</td><td>True</td><td>False</td><td>True</td><td>False</td><td>False</td><td>False</td><td>False</td><td>7</td><td>14</td><td>448.0</td><td>896.0</td><td>886.882656</td><td>1418.0637120000001</td></tr>\n",
       "<tr><td>TIC 139914081</td><td>Kostov 2023 arXiv:2309.14200</td><td>QuadEB</td><td>326.971651313212</td><td>-49.0378324180058</td><td>-4.70688</td><td>-3.40727</td><td>1.21499</td><td>14.534</td><td>5229.0</td><td>False</td><td>True</td><td>False</td><td>False</td><td>True</td><td>False</td><td>False</td><td>False</td><td>11</td><td>22</td><td>704.0</td><td>1408.0</td><td>1190.414688</td><td>2025.127776</td></tr>\n",
       "<tr><td>TIC 382182610</td><td>Kostov 2023 arXiv:2309.14200</td><td>QuadEB</td><td>304.472082301266</td><td>-36.2046574985401</td><td>4.58496</td><td>-5.93205</td><td>1.11394</td><td>12.609</td><td>6256.14</td><td>False</td><td>True</td><td>False</td><td>False</td><td>True</td><td>False</td><td>False</td><td>False</td><td>7</td><td>14</td><td>448.0</td><td>896.0</td><td>886.882656</td><td>1418.0637120000001</td></tr>\n",
       "<tr><td>TIC 337346017</td><td>Kostov 2023 arXiv:2309.14200</td><td>QuadEB</td><td>270.458748426681</td><td>-50.9437825682567</td><td>-13.0511</td><td>2.10174</td><td>1.80815</td><td>15.324</td><td>4149.0</td><td>False</td><td>True</td><td>False</td><td>False</td><td>True</td><td>False</td><td>False</td><td>False</td><td>11</td><td>22</td><td>704.0</td><td>1408.0</td><td>1190.414688</td><td>2025.127776</td></tr>\n",
       "</table></div>"
      ],
      "text/plain": [
       "<Table length=136>\n",
       "     Name             target_source         ... IQ85 Speckle Program Time\n",
       "    str14                 str28             ...          float64         \n",
       "-------------- ---------------------------- ... -------------------------\n",
       " TIC 150055835 Kostov 2023 arXiv:2309.14200 ...               2025.127776\n",
       "  TIC 58539786 Kostov 2023 arXiv:2309.14200 ...               2025.127776\n",
       " TIC 219006972 Kostov 2023 arXiv:2309.14200 ...               2025.127776\n",
       " TIC 240256832 Kostov 2023 arXiv:2309.14200 ...        1418.0637120000001\n",
       " TIC 120911334 Kostov 2023 arXiv:2309.14200 ...               2025.127776\n",
       " TIC 430745185 Kostov 2023 arXiv:2309.14200 ...        1418.0637120000001\n",
       " TIC 371583423 Kostov 2023 arXiv:2309.14200 ...        1418.0637120000001\n",
       " TIC 414026507 Kostov 2022 arXiv:2202.05790 ...                1114.53168\n",
       " TIC 121511673 Kostov 2023 arXiv:2309.14200 ...               2025.127776\n",
       "           ...                          ... ...                       ...\n",
       " TIC 250119205 Kostov 2022 arXiv:2202.05790 ...                1114.53168\n",
       " TIC 308731030 Kostov 2023 arXiv:2309.14200 ...        1418.0637120000001\n",
       " TIC 170146066 Kostov 2023 arXiv:2309.14200 ...        1418.0637120000001\n",
       "TIC 1337279468 Kostov 2022 arXiv:2202.05790 ...        1418.0637120000001\n",
       " TIC 255532033 Kostov 2022 arXiv:2202.05790 ...                1114.53168\n",
       " TIC 414969157 Kostov 2022 arXiv:2202.05790 ...               2025.127776\n",
       "  TIC 27543409 Kostov 2022 arXiv:2202.05790 ...        1418.0637120000001\n",
       " TIC 139914081 Kostov 2023 arXiv:2309.14200 ...               2025.127776\n",
       " TIC 382182610 Kostov 2023 arXiv:2309.14200 ...        1418.0637120000001\n",
       " TIC 337346017 Kostov 2023 arXiv:2309.14200 ...               2025.127776"
      ]
     },
     "execution_count": 35,
     "metadata": {},
     "output_type": "execute_result"
    }
   ],
   "source": [
    "# use the target list creator to make a file that can be imported into the PIT\n",
    "# we decided to use the same target list as the 2024B proposal\n",
    "\n",
    "from functools import partial\n",
    "from sqlite3 import connect\n",
    "import sys\n",
    "\n",
    "from astropy.table import Table\n",
    "\n",
    "sys.path.append(\"../../\")\n",
    "import astropaul.targetlistcreator as tlc\n",
    "import astropaul.gemini as gemini\n",
    "\n",
    "conn = connect(\"../../django/TargetDB/db.sqlite3\")\n",
    "\n",
    "creator = tlc.TargetListCreator(connection=conn)\n",
    "creator.steps = [\n",
    "    tlc.add_targets,\n",
    "    tlc.add_tess,\n",
    "    tlc.add_coords,\n",
    "    partial(tlc.hide_cols, prefix=\"tess\"),\n",
    "    tlc.add_lists,\n",
    "    gemini.add_gemini_speckle_params,\n",
    "]\n",
    "\n",
    "targets = Table.from_pandas(creator.calculate())\n",
    "gemini_targets = targets[targets[\"list_Gemini_2024B_Proposal\"]]\n",
    "gemini_targets.rename_column(\"target_name\", \"Name\")\n",
    "gemini_targets.rename_column(\"ra\", \"RAJ2000\")\n",
    "gemini_targets.rename_column(\"dec\", \"DecJ2000\")\n",
    "gemini_targets.rename_column(\"pmra\", \"pmRA\")\n",
    "gemini_targets.rename_column(\"pmdec\", \"pmDec\")\n",
    "gemini_targets.rename_column(\"Vmag\", \"V\")\n",
    "gemini_targets.rename_column(\"gemini_iq70_speckle_program_time\", \"IQ70 Program Time\")\n",
    "gemini_targets.rename_column(\"gemini_iq85_speckle_program_time\", \"IQ85 Program Time\")\n",
    "\n",
    "gemini_targets[[\"Name\", \"RAJ2000\", \"DecJ2000\", \"pmRA\", \"pmDec\", \"V\"]].write(\"Gemini 2025A Proposal.csv\", overwrite=True)\n",
    "\n",
    "# # break list into north & south and write to file\n",
    "# cutpoint = 25\n",
    "# lists = {\n",
    "#     \"North\": gemini_targets[gemini_targets[\"DecJ2000\"] > -cutpoint],\n",
    "#     \"South\": gemini_targets[gemini_targets[\"DecJ2000\"] < cutpoint],\n",
    "# }\n",
    "# for name, list in lists.items():\n",
    "#     list[[\"Name\", \"RAJ2000\", \"DecJ2000\", \"pmRA\", \"pmDec\", \"V\"]].write(f\"Gemini 2025A Proposal {name}.csv\", overwrite=True)\n",
    "\n",
    "gemini_targets\n"
   ]
  },
  {
   "cell_type": "markdown",
   "metadata": {},
   "source": [
    "* Import the target list created above into the PIT\n",
    "* In targets tab, sort by Dec\n",
    "* Select & Copy all targets -90 < Dec < 25\n",
    "* Switch to Observations tab and Paste\n",
    "* Specify weather conditions and Zorro speckle (South)\n",
    "* Select & Copy all targets -25 < Dec < 90\n",
    "* Switch to Observations tab and Paste\n",
    "* Specify weather conditions and `Alopeke speckle (North)\n",
    "* Save PIT, which creates the .xml file"
   ]
  },
  {
   "cell_type": "code",
   "execution_count": 36,
   "metadata": {},
   "outputs": [
    {
     "ename": "KeyError",
     "evalue": "'IQ70 Program Time'",
     "output_type": "error",
     "traceback": [
      "\u001b[1;31m---------------------------------------------------------------------------\u001b[0m",
      "\u001b[1;31mKeyError\u001b[0m                                  Traceback (most recent call last)",
      "Cell \u001b[1;32mIn[36], line 6\u001b[0m\n\u001b[0;32m      3\u001b[0m filename \u001b[38;5;241m=\u001b[39m \u001b[38;5;124m\"\u001b[39m\u001b[38;5;124mGemini 2025A Proposal\u001b[39m\u001b[38;5;124m\"\u001b[39m\n\u001b[0;32m      5\u001b[0m \u001b[38;5;66;03m# first, get observation times for all targets\u001b[39;00m\n\u001b[1;32m----> 6\u001b[0m target_times \u001b[38;5;241m=\u001b[39m {name: (iq70, iq85) \u001b[38;5;28;01mfor\u001b[39;00m name, iq70, iq85 \u001b[38;5;129;01min\u001b[39;00m \u001b[43mgemini_targets\u001b[49m\u001b[43m[\u001b[49m\u001b[43m[\u001b[49m\u001b[38;5;124;43m\"\u001b[39;49m\u001b[38;5;124;43mName\u001b[39;49m\u001b[38;5;124;43m\"\u001b[39;49m\u001b[43m,\u001b[49m\u001b[43m \u001b[49m\u001b[38;5;124;43m\"\u001b[39;49m\u001b[38;5;124;43mIQ70 Program Time\u001b[39;49m\u001b[38;5;124;43m\"\u001b[39;49m\u001b[43m,\u001b[49m\u001b[43m \u001b[49m\u001b[38;5;124;43m\"\u001b[39;49m\u001b[38;5;124;43mIQ85 Program Time\u001b[39;49m\u001b[38;5;124;43m\"\u001b[39;49m\u001b[43m]\u001b[49m\u001b[43m]\u001b[49m},\n\u001b[0;32m      8\u001b[0m \u001b[38;5;66;03m# next, get the mapping of the nickname used in xml file to the TIC name\u001b[39;00m\n\u001b[0;32m      9\u001b[0m tree \u001b[38;5;241m=\u001b[39m ET\u001b[38;5;241m.\u001b[39mparse(\u001b[38;5;124mf\u001b[39m\u001b[38;5;124m\"\u001b[39m\u001b[38;5;132;01m{\u001b[39;00mfilename\u001b[38;5;132;01m}\u001b[39;00m\u001b[38;5;124m.xml\u001b[39m\u001b[38;5;124m\"\u001b[39m)\n",
      "File \u001b[1;32mc:\\Users\\User\\AppData\\Local\\Programs\\Python\\Python312\\Lib\\site-packages\\astropy\\table\\table.py:2102\u001b[0m, in \u001b[0;36mTable.__getitem__\u001b[1;34m(self, item)\u001b[0m\n\u001b[0;32m   2099\u001b[0m     \u001b[38;5;28;01mreturn\u001b[39;00m \u001b[38;5;28mself\u001b[39m\u001b[38;5;241m.\u001b[39mRow(\u001b[38;5;28mself\u001b[39m, item\u001b[38;5;241m.\u001b[39mitem())\n\u001b[0;32m   2100\u001b[0m \u001b[38;5;28;01melif\u001b[39;00m \u001b[38;5;28mself\u001b[39m\u001b[38;5;241m.\u001b[39m_is_list_or_tuple_of_str(item):\n\u001b[0;32m   2101\u001b[0m     out \u001b[38;5;241m=\u001b[39m \u001b[38;5;28mself\u001b[39m\u001b[38;5;241m.\u001b[39m\u001b[38;5;18m__class__\u001b[39m(\n\u001b[1;32m-> 2102\u001b[0m         [\u001b[38;5;28;43mself\u001b[39;49m\u001b[43m[\u001b[49m\u001b[43mx\u001b[49m\u001b[43m]\u001b[49m \u001b[38;5;28;01mfor\u001b[39;00m x \u001b[38;5;129;01min\u001b[39;00m item], copy_indices\u001b[38;5;241m=\u001b[39m\u001b[38;5;28mself\u001b[39m\u001b[38;5;241m.\u001b[39m_copy_indices\n\u001b[0;32m   2103\u001b[0m     )\n\u001b[0;32m   2104\u001b[0m     out\u001b[38;5;241m.\u001b[39m_groups \u001b[38;5;241m=\u001b[39m groups\u001b[38;5;241m.\u001b[39mTableGroups(\n\u001b[0;32m   2105\u001b[0m         out, indices\u001b[38;5;241m=\u001b[39m\u001b[38;5;28mself\u001b[39m\u001b[38;5;241m.\u001b[39mgroups\u001b[38;5;241m.\u001b[39m_indices, keys\u001b[38;5;241m=\u001b[39m\u001b[38;5;28mself\u001b[39m\u001b[38;5;241m.\u001b[39mgroups\u001b[38;5;241m.\u001b[39m_keys\n\u001b[0;32m   2106\u001b[0m     )\n\u001b[0;32m   2107\u001b[0m     out\u001b[38;5;241m.\u001b[39mmeta \u001b[38;5;241m=\u001b[39m \u001b[38;5;28mself\u001b[39m\u001b[38;5;241m.\u001b[39mmeta\u001b[38;5;241m.\u001b[39mcopy()  \u001b[38;5;66;03m# Shallow copy for meta\u001b[39;00m\n",
      "File \u001b[1;32mc:\\Users\\User\\AppData\\Local\\Programs\\Python\\Python312\\Lib\\site-packages\\astropy\\table\\table.py:2093\u001b[0m, in \u001b[0;36mTable.__getitem__\u001b[1;34m(self, item)\u001b[0m\n\u001b[0;32m   2091\u001b[0m \u001b[38;5;28;01mdef\u001b[39;00m \u001b[38;5;21m__getitem__\u001b[39m(\u001b[38;5;28mself\u001b[39m, item):\n\u001b[0;32m   2092\u001b[0m     \u001b[38;5;28;01mif\u001b[39;00m \u001b[38;5;28misinstance\u001b[39m(item, \u001b[38;5;28mstr\u001b[39m):\n\u001b[1;32m-> 2093\u001b[0m         \u001b[38;5;28;01mreturn\u001b[39;00m \u001b[38;5;28;43mself\u001b[39;49m\u001b[38;5;241;43m.\u001b[39;49m\u001b[43mcolumns\u001b[49m\u001b[43m[\u001b[49m\u001b[43mitem\u001b[49m\u001b[43m]\u001b[49m\n\u001b[0;32m   2094\u001b[0m     \u001b[38;5;28;01melif\u001b[39;00m \u001b[38;5;28misinstance\u001b[39m(item, (\u001b[38;5;28mint\u001b[39m, np\u001b[38;5;241m.\u001b[39minteger)):\n\u001b[0;32m   2095\u001b[0m         \u001b[38;5;28;01mreturn\u001b[39;00m \u001b[38;5;28mself\u001b[39m\u001b[38;5;241m.\u001b[39mRow(\u001b[38;5;28mself\u001b[39m, item)\n",
      "File \u001b[1;32mc:\\Users\\User\\AppData\\Local\\Programs\\Python\\Python312\\Lib\\site-packages\\astropy\\table\\table.py:267\u001b[0m, in \u001b[0;36mTableColumns.__getitem__\u001b[1;34m(self, item)\u001b[0m\n\u001b[0;32m    256\u001b[0m \u001b[38;5;250m\u001b[39m\u001b[38;5;124;03m\"\"\"Get items from a TableColumns object.\u001b[39;00m\n\u001b[0;32m    257\u001b[0m \n\u001b[0;32m    258\u001b[0m \u001b[38;5;124;03m::\u001b[39;00m\n\u001b[1;32m   (...)\u001b[0m\n\u001b[0;32m    264\u001b[0m \u001b[38;5;124;03m  tc[1:3] # <TableColumns names=('b', 'c')>\u001b[39;00m\n\u001b[0;32m    265\u001b[0m \u001b[38;5;124;03m\"\"\"\u001b[39;00m\n\u001b[0;32m    266\u001b[0m \u001b[38;5;28;01mif\u001b[39;00m \u001b[38;5;28misinstance\u001b[39m(item, \u001b[38;5;28mstr\u001b[39m):\n\u001b[1;32m--> 267\u001b[0m     \u001b[38;5;28;01mreturn\u001b[39;00m \u001b[43mOrderedDict\u001b[49m\u001b[38;5;241;43m.\u001b[39;49m\u001b[38;5;21;43m__getitem__\u001b[39;49m\u001b[43m(\u001b[49m\u001b[38;5;28;43mself\u001b[39;49m\u001b[43m,\u001b[49m\u001b[43m \u001b[49m\u001b[43mitem\u001b[49m\u001b[43m)\u001b[49m\n\u001b[0;32m    268\u001b[0m \u001b[38;5;28;01melif\u001b[39;00m \u001b[38;5;28misinstance\u001b[39m(item, (\u001b[38;5;28mint\u001b[39m, np\u001b[38;5;241m.\u001b[39minteger)):\n\u001b[0;32m    269\u001b[0m     \u001b[38;5;28;01mreturn\u001b[39;00m \u001b[38;5;28mlist\u001b[39m(\u001b[38;5;28mself\u001b[39m\u001b[38;5;241m.\u001b[39mvalues())[item]\n",
      "\u001b[1;31mKeyError\u001b[0m: 'IQ70 Program Time'"
     ]
    }
   ],
   "source": [
    "import xml.etree.ElementTree as ET\n",
    "\n",
    "filename = \"Gemini 2025A Proposal\"\n",
    "\n",
    "# first, get observation times for all targets\n",
    "target_times = {name: (iq70, iq85) for name, iq70, iq85 in gemini_targets[[\"Name\", \"IQ70 Program Time\", \"IQ85 Program Time\"]]},\n",
    "\n",
    "# next, get the mapping of the nickname used in xml file to the TIC name\n",
    "tree = ET.parse(f\"{filename}.xml\")\n",
    "root = tree.getroot()\n",
    "target_map = {}\n",
    "for target in root.findall(\"targets/sidereal\"):\n",
    "    designator = target.attrib[\"id\"]\n",
    "    name = target.find(\"name\").text\n",
    "    target_map[designator] = name\n",
    "\n",
    "#finally, walk through each observation entry and add observing time to it for iq70 conditions\n",
    "for observation in root.findall(\"observations/observation\"):\n",
    "    target_name = target_map[observation.attrib[\"target\"]]\n",
    "    target_time = target_times[target_name]\n",
    "    progTime = observation.find(\"progTime\")\n",
    "    progTime.text = str(target_time[0])\n",
    "    time = observation.find(\"time\")\n",
    "    time.text = str(target_time[0])\n",
    "tree.write(f\"{filename}_iq70.xml\")\n",
    "\n",
    "#repeat for iq85\n",
    "for observation in root.findall(\"observations/observation\"):\n",
    "    target_name = target_map[observation.attrib[\"target\"]]\n",
    "    target_time = target_times[target_name]\n",
    "    progTime = observation.find(\"progTime\")\n",
    "    progTime.text = str(target_time[1])\n",
    "    time = observation.find(\"time\")\n",
    "    time.text = str(target_time[1])\n",
    "tree.write(f\"{filename}_iq85.xml\")\n"
   ]
  }
 ],
 "metadata": {
  "kernelspec": {
   "display_name": "Python 3",
   "language": "python",
   "name": "python3"
  },
  "language_info": {
   "codemirror_mode": {
    "name": "ipython",
    "version": 3
   },
   "file_extension": ".py",
   "mimetype": "text/x-python",
   "name": "python",
   "nbconvert_exporter": "python",
   "pygments_lexer": "ipython3",
   "version": "3.12.6"
  }
 },
 "nbformat": 4,
 "nbformat_minor": 2
}
