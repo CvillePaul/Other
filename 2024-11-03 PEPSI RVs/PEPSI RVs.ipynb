{
 "cells": [
  {
   "cell_type": "code",
   "execution_count": 35,
   "metadata": {},
   "outputs": [
    {
     "name": "stdout",
     "output_type": "stream",
     "text": [
      "pepsib.20240920.072.dxt.bwl\n",
      "[ 8.43775856e-01  7.68288114e-01  7.50497890e-01 ...  1.00572389e-04\n",
      "  6.89451752e-05 -5.73391702e-05]\n"
     ]
    }
   ],
   "source": [
    "# use autocorrelation to search for double line spectra\n",
    "\n",
    "from glob import glob\n",
    "import os\n",
    "from astropy.io import fits\n",
    "from bokeh.plotting import figure, show, output_file, save\n",
    "import numpy as np\n",
    "from scipy.signal import correlate\n",
    "\n",
    "filenames = glob(\"../../Files/PEPSI Spectra/202409/pepsi*.bwl\")\n",
    "# filenames = [\"../../Files/PEPSI Spectra/202409/pepsib.20240920.063.dxt.bwl\",]\n",
    "\n",
    "# for path in filenames:\n",
    "path = filenames[2]\n",
    "filename = os.path.basename(path)\n",
    "print(filename)\n",
    "hdul = fits.open(path)\n",
    "data = hdul[1].data\n",
    "wavelength, spectrum = data[\"Arg\"], data[\"Fun\"]\n",
    "autocorr = correlate(spectrum[3000:] - 1, spectrum[3000:] - 1, mode=\"full\", method=\"direct\")\n",
    "autocorr = autocorr[autocorr.size // 2 :]\n",
    "wavelength = wavelength[wavelength.size // 2 :]\n",
    "print(autocorr)\n",
    "\n",
    "p = figure()\n",
    "# p.line(wavelength, spectrum, line_width=0.2)\n",
    "p.line(list(range(len(autocorr))), autocorr, line_width=0.2)\n",
    "show(p)\n",
    "\n",
    "# for i in autocorr:\n",
    "#     print(i)\n"
   ]
  },
  {
   "cell_type": "code",
   "execution_count": 20,
   "metadata": {},
   "outputs": [],
   "source": [
    "foo = [1, 1, 1, 5, 1, 1, 1, 5, 1, 1, 1]\n",
    "bar = correlate(foo, foo)\n",
    "p = figure()\n",
    "p.line(list(range(len(bar))), bar)\n",
    "show(p)"
   ]
  }
 ],
 "metadata": {
  "kernelspec": {
   "display_name": "Python 3",
   "language": "python",
   "name": "python3"
  },
  "language_info": {
   "codemirror_mode": {
    "name": "ipython",
    "version": 3
   },
   "file_extension": ".py",
   "mimetype": "text/x-python",
   "name": "python",
   "nbconvert_exporter": "python",
   "pygments_lexer": "ipython3",
   "version": "3.12.6"
  }
 },
 "nbformat": 4,
 "nbformat_minor": 2
}
