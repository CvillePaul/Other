{
 "cells": [
  {
   "cell_type": "markdown",
   "metadata": {},
   "source": [
    "# LBT 2025A Proposal\n",
    "* Prioritize targets that already have PEPSI spectra\n",
    "  * Hope is to obtain enough measurements to characterize the orbits of some systems"
   ]
  },
  {
   "cell_type": "code",
   "execution_count": 1,
   "metadata": {},
   "outputs": [],
   "source": [
    "from functools import partial\n",
    "from sqlite3 import connect\n",
    "import sys\n",
    "import xml.etree.ElementTree as ET\n",
    "\n",
    "import astroplan as ap\n",
    "from astropy.coordinates import SkyCoord\n",
    "from astropy.table import Table\n",
    "from astropy.time import Time\n",
    "import astropy.units as u\n",
    "import numpy as np\n",
    "import pandas as pd\n",
    "\n",
    "sys.path.append(\"../../\")\n",
    "import astropaul.targetlistcreator as tlc\n",
    "import astropaul.lbt as lbt"
   ]
  },
  {
   "cell_type": "code",
   "execution_count": 2,
   "metadata": {},
   "outputs": [
    {
     "name": "stderr",
     "output_type": "stream",
     "text": [
      "c:\\Users\\User\\AppData\\Local\\Programs\\Python\\Python312\\Lib\\site-packages\\erfa\\core.py:4620: RuntimeWarning: invalid value encountered in ld\n",
      "  p1 = ufunc.ld(bm, p, q, e, em, dlim)\n",
      "c:\\Users\\User\\AppData\\Local\\Programs\\Python\\Python312\\Lib\\site-packages\\erfa\\core.py:19004: RuntimeWarning: invalid value encountered in anp\n",
      "  c_retval = ufunc.anp(a)\n",
      "c:\\Users\\User\\AppData\\Local\\Programs\\Python\\Python312\\Lib\\site-packages\\erfa\\core.py:4036: RuntimeWarning: invalid value encountered in atioq\n",
      "  aob, zob, hob, dob, rob = ufunc.atioq(ri, di, astrom)\n"
     ]
    }
   ],
   "source": [
    "# prepare list of all targets\n",
    "conn = connect(\"../../django/TargetDB/db.sqlite3\")\n",
    "\n",
    "observer = ap.Observer.at_site(\"LBT\", timezone=\"US/Arizona\")\n",
    "semester = (Time(\"2025-01-01\"), Time(\"2025-06-30\"))\n",
    "\n",
    "creator = tlc.TargetListCreator(connection=conn)\n",
    "creator.steps = [\n",
    "    tlc.add_targets,\n",
    "    tlc.add_tess,\n",
    "    tlc.add_coords,\n",
    "    partial(tlc.hide_cols, prefix=\"tess\"),\n",
    "    tlc.add_lists,\n",
    "    tlc.add_speckle,\n",
    "    tlc.add_spectra,\n",
    "    partial(tlc.add_observability, observer=observer, time_segment=semester),\n",
    "    partial(lbt.add_pepsi_params, fiber=\"300\", cd_blue=3, cd_red=6, snr=100, binocular=True),\n",
    "]\n",
    "\n",
    "targets = creator.calculate()"
   ]
  },
  {
   "cell_type": "code",
   "execution_count": 3,
   "metadata": {},
   "outputs": [
    {
     "name": "stdout",
     "output_type": "stream",
     "text": [
      "2.69 hours observing time\n"
     ]
    },
    {
     "data": {
      "text/html": [
       "<div><i>Table length=26</i>\n",
       "<table id=\"table1907192087472\" class=\"table-striped table-bordered table-condensed\">\n",
       "<thead><tr><th>target_name</th><th>target_source</th><th>target_type</th><th>ra</th><th>dec</th><th>pmra</th><th>pmdec</th><th>parallax</th><th>Vmag</th><th>Teff</th><th>RA</th><th>Dec</th><th>list_Featured_targets</th><th>list_Gemini_2024B_Proposal</th><th>list_Gemini_2025A_Proposal</th><th>list_HQND</th><th>list_Kostov_2022</th><th>list_Kostov_2023</th><th>list_LBT_2023-12-06</th><th>list_LBT_2023B</th><th>list_LBT_2024B</th><th>list_Speckle_Resolved</th><th>speckle_count</th><th>pepsi_count</th><th>observable</th><th>pepsi_fiber</th><th>pepsi_cd_blue</th><th>pepsi_cd_blue_num_exp</th><th>pepsi_cd_red</th><th>pepsi_cd_red_num_exp</th><th>pepsi_snr</th><th>pepsi_exp_time</th><th>pepsi_priority</th><th>pepsi_notes</th></tr></thead>\n",
       "<thead><tr><th>str13</th><th>str28</th><th>str6</th><th>float64</th><th>float64</th><th>float64</th><th>float64</th><th>float64</th><th>float64</th><th>float64</th><th>str11</th><th>str12</th><th>bool</th><th>bool</th><th>bool</th><th>bool</th><th>bool</th><th>bool</th><th>bool</th><th>bool</th><th>bool</th><th>bool</th><th>int64</th><th>int64</th><th>bool</th><th>str3</th><th>int64</th><th>int64</th><th>int64</th><th>int64</th><th>int64</th><th>float64</th><th>str1</th><th>str1</th></tr></thead>\n",
       "<tr><td>TIC 161043618</td><td>Kostov 2022 arXiv:2202.05790</td><td>QuadEB</td><td>223.425163143389</td><td>52.7158479482434</td><td>2.17801</td><td>-3.59429</td><td>2.02761</td><td>12.497</td><td>5860.0</td><td>14:53:42.04</td><td>+52:42:57.05</td><td>False</td><td>False</td><td>False</td><td>False</td><td>True</td><td>False</td><td>False</td><td>True</td><td>True</td><td>True</td><td>18</td><td>2</td><td>True</td><td>300</td><td>3</td><td>1</td><td>6</td><td>1</td><td>100</td><td>565.0</td><td></td><td></td></tr>\n",
       "<tr><td>TIC 367448265</td><td>Kostov 2022 arXiv:2202.05790</td><td>QuadEB</td><td>78.3824380721019</td><td>35.6530529938371</td><td>-5.85675</td><td>-3.43287</td><td>3.26415</td><td>7.9</td><td>9212.0</td><td>5:13:31.79</td><td>+35:39:10.99</td><td>False</td><td>False</td><td>False</td><td>False</td><td>True</td><td>False</td><td>True</td><td>True</td><td>True</td><td>True</td><td>3</td><td>2</td><td>True</td><td>300</td><td>3</td><td>1</td><td>6</td><td>1</td><td>100</td><td>132.8</td><td></td><td></td></tr>\n",
       "<tr><td>TIC 25818450</td><td>Kostov 2022 arXiv:2202.05790</td><td>QuadEB</td><td>352.743443672117</td><td>53.0691499118143</td><td>3.5736</td><td>-1.17213</td><td>1.06521</td><td>11.782</td><td>7172.0</td><td>23:30:58.43</td><td>+53:04:08.94</td><td>False</td><td>False</td><td>False</td><td>False</td><td>True</td><td>False</td><td>True</td><td>True</td><td>True</td><td>True</td><td>9</td><td>4</td><td>True</td><td>300</td><td>3</td><td>1</td><td>6</td><td>1</td><td>100</td><td>416.2</td><td></td><td></td></tr>\n",
       "<tr><td>TIC 414026507</td><td>Kostov 2022 arXiv:2202.05790</td><td>QuadEB</td><td>336.837716720964</td><td>56.7403620051295</td><td>-3.66449</td><td>-2.95647</td><td>0.242427</td><td>10.899</td><td>9187.0</td><td>22:27:21.05</td><td>+56:44:25.30</td><td>False</td><td>True</td><td>False</td><td>True</td><td>True</td><td>False</td><td>True</td><td>True</td><td>True</td><td>False</td><td>5</td><td>2</td><td>True</td><td>300</td><td>3</td><td>1</td><td>6</td><td>1</td><td>100</td><td>322.0</td><td></td><td></td></tr>\n",
       "<tr><td>TIC 470710327</td><td>Kostov 2022 arXiv:2202.05790</td><td>QuadEB</td><td>357.329052373724</td><td>61.9627867228284</td><td>0.6</td><td>-2.5</td><td>--</td><td>9.65</td><td>8986.0</td><td>23:49:18.97</td><td>+61:57:46.03</td><td>True</td><td>False</td><td>False</td><td>False</td><td>True</td><td>False</td><td>True</td><td>True</td><td>True</td><td>True</td><td>52</td><td>8</td><td>True</td><td>300</td><td>3</td><td>1</td><td>6</td><td>1</td><td>100</td><td>184.0</td><td></td><td></td></tr>\n",
       "<tr><td>TIC 391620600</td><td>Kostov 2022 arXiv:2202.05790</td><td>QuadEB</td><td>71.6403891258743</td><td>44.7536621987808</td><td>-7.75529</td><td>2.23094</td><td>2.07298</td><td>12.772</td><td>5949.71</td><td>4:46:33.69</td><td>+44:45:13.18</td><td>False</td><td>True</td><td>True</td><td>True</td><td>True</td><td>False</td><td>True</td><td>True</td><td>True</td><td>False</td><td>9</td><td>2</td><td>True</td><td>300</td><td>3</td><td>1</td><td>6</td><td>1</td><td>100</td><td>724.8</td><td></td><td></td></tr>\n",
       "<tr><td>TIC 89278612</td><td>Kostov 2022 arXiv:2202.05790</td><td>QuadEB</td><td>301.21949809707</td><td>32.6430514778645</td><td>-0.48521</td><td>-1.50692</td><td>0.663315</td><td>11.235</td><td>8740.0</td><td>20:04:52.68</td><td>+32:38:34.99</td><td>True</td><td>False</td><td>False</td><td>False</td><td>True</td><td>False</td><td>True</td><td>True</td><td>True</td><td>True</td><td>19</td><td>6</td><td>True</td><td>300</td><td>3</td><td>1</td><td>6</td><td>1</td><td>100</td><td>395.2</td><td></td><td></td></tr>\n",
       "<tr><td>TIC 278352276</td><td>Kostov 2022 arXiv:2202.05790</td><td>QuadEB</td><td>307.503640407431</td><td>48.6070563353721</td><td>1.85387</td><td>6.57664</td><td>1.36265</td><td>10.387</td><td>7156.0</td><td>20:30:00.87</td><td>+48:36:25.40</td><td>False</td><td>True</td><td>True</td><td>True</td><td>True</td><td>False</td><td>True</td><td>True</td><td>True</td><td>False</td><td>5</td><td>4</td><td>True</td><td>300</td><td>3</td><td>1</td><td>6</td><td>1</td><td>100</td><td>202.0</td><td></td><td></td></tr>\n",
       "<tr><td>TIC 123098844</td><td>Kostov 2022 arXiv:2202.05790</td><td>QuadEB</td><td>279.57284311725</td><td>44.6986003104844</td><td>3.4825</td><td>-9.10427</td><td>1.30925</td><td>11.136</td><td>6761.0</td><td>18:38:17.48</td><td>+44:41:54.96</td><td>False</td><td>True</td><td>False</td><td>True</td><td>True</td><td>False</td><td>True</td><td>True</td><td>True</td><td>False</td><td>15</td><td>4</td><td>True</td><td>300</td><td>3</td><td>1</td><td>6</td><td>1</td><td>100</td><td>275.0</td><td></td><td></td></tr>\n",
       "<tr><td>...</td><td>...</td><td>...</td><td>...</td><td>...</td><td>...</td><td>...</td><td>...</td><td>...</td><td>...</td><td>...</td><td>...</td><td>...</td><td>...</td><td>...</td><td>...</td><td>...</td><td>...</td><td>...</td><td>...</td><td>...</td><td>...</td><td>...</td><td>...</td><td>...</td><td>...</td><td>...</td><td>...</td><td>...</td><td>...</td><td>...</td><td>...</td><td>...</td><td>...</td></tr>\n",
       "<tr><td>TIC 336882813</td><td>Kostov 2022 arXiv:2202.05790</td><td>QuadEB</td><td>92.3906148268903</td><td>14.6289861647118</td><td>-1.0</td><td>-10.2</td><td>--</td><td>11.788</td><td>6121.22</td><td>6:09:33.75</td><td>+14:37:44.35</td><td>False</td><td>False</td><td>False</td><td>False</td><td>True</td><td>False</td><td>True</td><td>True</td><td>True</td><td>True</td><td>18</td><td>4</td><td>True</td><td>300</td><td>3</td><td>1</td><td>6</td><td>1</td><td>100</td><td>364.4</td><td></td><td></td></tr>\n",
       "<tr><td>TIC 438226195</td><td>Kostov 2022 arXiv:2202.05790</td><td>QuadEB</td><td>96.5027510240541</td><td>15.2163670964857</td><td>1.17118</td><td>-5.00375</td><td>--</td><td>12.88</td><td>--</td><td>6:26:00.66</td><td>+15:12:58.92</td><td>False</td><td>False</td><td>False</td><td>False</td><td>True</td><td>False</td><td>False</td><td>True</td><td>True</td><td>True</td><td>15</td><td>2</td><td>True</td><td>300</td><td>3</td><td>1</td><td>6</td><td>1</td><td>100</td><td>753.2</td><td></td><td></td></tr>\n",
       "<tr><td>TIC 239872462</td><td>Kostov 2022 arXiv:2202.05790</td><td>QuadEB</td><td>87.5141773544367</td><td>34.417595700446</td><td>-1.2</td><td>-7.5</td><td>--</td><td>11.33</td><td>--</td><td>5:50:03.40</td><td>+34:25:03.34</td><td>False</td><td>False</td><td>False</td><td>False</td><td>True</td><td>False</td><td>False</td><td>True</td><td>True</td><td>True</td><td>9</td><td>2</td><td>True</td><td>300</td><td>3</td><td>1</td><td>6</td><td>1</td><td>100</td><td>272.0</td><td></td><td></td></tr>\n",
       "<tr><td>TIC 204698586</td><td>Kostov 2022 arXiv:2202.05790</td><td>QuadEB</td><td>185.551846252</td><td>-24.2248455504102</td><td>1.15779</td><td>5.32292</td><td>2.29163</td><td>11.506</td><td>6392.0</td><td>12:22:12.44</td><td>-24:13:29.44</td><td>False</td><td>True</td><td>True</td><td>True</td><td>True</td><td>False</td><td>False</td><td>True</td><td>True</td><td>False</td><td>6</td><td>3</td><td>True</td><td>300</td><td>3</td><td>1</td><td>6</td><td>1</td><td>100</td><td>317.2</td><td></td><td></td></tr>\n",
       "<tr><td>TIC 307119043</td><td>Kostov 2022 arXiv:2202.05790</td><td>QuadEB</td><td>14.8275237070873</td><td>51.2216426597246</td><td>7.56019</td><td>-4.10877</td><td>2.1988</td><td>9.94</td><td>7815.0</td><td>0:59:18.61</td><td>+51:13:17.91</td><td>True</td><td>False</td><td>False</td><td>False</td><td>True</td><td>False</td><td>True</td><td>True</td><td>True</td><td>True</td><td>5</td><td>6</td><td>True</td><td>300</td><td>3</td><td>1</td><td>6</td><td>1</td><td>100</td><td>179.4</td><td></td><td></td></tr>\n",
       "<tr><td>TIC 283940788</td><td>Kostov 2022 arXiv:2202.05790</td><td>QuadEB</td><td>8.85143612777593</td><td>62.9015955605648</td><td>-2.72664</td><td>-0.153866</td><td>0.076539</td><td>11.774</td><td>7384.0</td><td>0:35:24.34</td><td>+62:54:05.74</td><td>False</td><td>False</td><td>False</td><td>False</td><td>True</td><td>False</td><td>True</td><td>True</td><td>True</td><td>True</td><td>8</td><td>6</td><td>True</td><td>300</td><td>3</td><td>1</td><td>6</td><td>1</td><td>100</td><td>441.8</td><td></td><td></td></tr>\n",
       "<tr><td>TIC 328181241</td><td>Kostov 2022 arXiv:2202.05790</td><td>QuadEB</td><td>43.1539575161289</td><td>3.34788225162867</td><td>-4.66787</td><td>-9.87312</td><td>1.97408</td><td>11.636</td><td>5183.0</td><td>2:52:36.95</td><td>+3:20:52.38</td><td>False</td><td>False</td><td>False</td><td>False</td><td>True</td><td>False</td><td>True</td><td>True</td><td>True</td><td>False</td><td>12</td><td>2</td><td>True</td><td>300</td><td>3</td><td>1</td><td>6</td><td>1</td><td>100</td><td>294.0</td><td></td><td></td></tr>\n",
       "<tr><td>TIC 389836747</td><td>Kostov 2022 arXiv:2202.05790</td><td>QuadEB</td><td>23.2954696490378</td><td>61.585307417502</td><td>-6.6</td><td>-2.4</td><td>--</td><td>10.718</td><td>8874.0</td><td>1:33:10.91</td><td>+61:35:07.11</td><td>False</td><td>False</td><td>False</td><td>False</td><td>True</td><td>False</td><td>True</td><td>True</td><td>True</td><td>True</td><td>15</td><td>6</td><td>True</td><td>300</td><td>3</td><td>1</td><td>6</td><td>1</td><td>100</td><td>291.0</td><td></td><td></td></tr>\n",
       "<tr><td>TIC 52856877</td><td>Kostov 2022 arXiv:2202.05790</td><td>QuadEB</td><td>17.3342875541794</td><td>61.0412445618326</td><td>3.21705</td><td>-1.71955</td><td>1.07133</td><td>10.969</td><td>8886.0</td><td>1:09:20.23</td><td>+61:02:28.48</td><td>False</td><td>True</td><td>False</td><td>True</td><td>True</td><td>False</td><td>True</td><td>True</td><td>True</td><td>False</td><td>5</td><td>2</td><td>True</td><td>300</td><td>3</td><td>1</td><td>6</td><td>1</td><td>100</td><td>335.4</td><td></td><td></td></tr>\n",
       "<tr><td>TIC 348651800</td><td>Kostov 2022 arXiv:2202.05790</td><td>QuadEB</td><td>121.724336428185</td><td>-12.4356777804486</td><td>-29.824</td><td>-15.3057</td><td>-7.88449</td><td>11.405</td><td>--</td><td>8:06:53.84</td><td>-12:26:08.44</td><td>False</td><td>True</td><td>False</td><td>False</td><td>True</td><td>False</td><td>False</td><td>True</td><td>True</td><td>True</td><td>18</td><td>4</td><td>True</td><td>300</td><td>3</td><td>1</td><td>6</td><td>1</td><td>100</td><td>282.8</td><td></td><td></td></tr>\n",
       "</table></div>"
      ],
      "text/plain": [
       "<Table length=26>\n",
       " target_name         target_source         ... pepsi_priority pepsi_notes\n",
       "    str13                str28             ...      str1          str1   \n",
       "------------- ---------------------------- ... -------------- -----------\n",
       "TIC 161043618 Kostov 2022 arXiv:2202.05790 ...                           \n",
       "TIC 367448265 Kostov 2022 arXiv:2202.05790 ...                           \n",
       " TIC 25818450 Kostov 2022 arXiv:2202.05790 ...                           \n",
       "TIC 414026507 Kostov 2022 arXiv:2202.05790 ...                           \n",
       "TIC 470710327 Kostov 2022 arXiv:2202.05790 ...                           \n",
       "TIC 391620600 Kostov 2022 arXiv:2202.05790 ...                           \n",
       " TIC 89278612 Kostov 2022 arXiv:2202.05790 ...                           \n",
       "TIC 278352276 Kostov 2022 arXiv:2202.05790 ...                           \n",
       "TIC 123098844 Kostov 2022 arXiv:2202.05790 ...                           \n",
       "          ...                          ... ...            ...         ...\n",
       "TIC 336882813 Kostov 2022 arXiv:2202.05790 ...                           \n",
       "TIC 438226195 Kostov 2022 arXiv:2202.05790 ...                           \n",
       "TIC 239872462 Kostov 2022 arXiv:2202.05790 ...                           \n",
       "TIC 204698586 Kostov 2022 arXiv:2202.05790 ...                           \n",
       "TIC 307119043 Kostov 2022 arXiv:2202.05790 ...                           \n",
       "TIC 283940788 Kostov 2022 arXiv:2202.05790 ...                           \n",
       "TIC 328181241 Kostov 2022 arXiv:2202.05790 ...                           \n",
       "TIC 389836747 Kostov 2022 arXiv:2202.05790 ...                           \n",
       " TIC 52856877 Kostov 2022 arXiv:2202.05790 ...                           \n",
       "TIC 348651800 Kostov 2022 arXiv:2202.05790 ...                           "
      ]
     },
     "execution_count": 3,
     "metadata": {},
     "output_type": "execute_result"
    }
   ],
   "source": [
    "# filter all targets into ones we want for this proposal\n",
    "criteria = (\n",
    "    True\n",
    "    # & (targets[\"list_LBT_2024B\"])\n",
    "    & (targets[\"pepsi_count\"] > 0)\n",
    "    & (targets[\"observable\"])\n",
    ")\n",
    "lbt_targets = targets[criteria]\n",
    "\n",
    "# double the exposure time as a safety factor on the snr\n",
    "lbt_targets.loc[:, \"pepsi_exp_time\"] *= 2\n",
    "\n",
    "# add in overhead to each target\n",
    "lbt_targets.loc[:, \"pepsi_exp_time\"] += 120\n",
    "\n",
    "# pare down to only what we need, and rename to match PIT expectations\n",
    "columns = {\n",
    "    \"target_name\": \"Name\",\n",
    "    \"ra\": \"RAJ2000\",\n",
    "    \"dec\": \"DecJ2000\",\n",
    "    \"pmra\": \"pmRA\",\n",
    "    \"pmdec\": \"pmDec\",\n",
    "    \"Vmag\": \"V\",\n",
    "}\n",
    "pit_list = lbt_targets[list(columns.keys())]\n",
    "pit_list = pit_list.rename(columns=columns)\n",
    "\n",
    "pit_list.to_csv(\"LBT 2025A.csv\")\n",
    "print(f\"{np.sum(lbt_targets[\"pepsi_exp_time\"]) / 3600:.2f} hours observing time\")\n",
    "Table.from_pandas(lbt_targets)#.pprint_all()"
   ]
  },
  {
   "cell_type": "markdown",
   "metadata": {},
   "source": [
    "* Open PIT\n",
    "* Enter Title, Abstract, PIs, etc.\n",
    "* Import target list from csv\n",
    "* Select all targets, paste into observation tab\n",
    "* Choose observing conditions\n",
    "* Save XML file"
   ]
  },
  {
   "cell_type": "code",
   "execution_count": 4,
   "metadata": {},
   "outputs": [],
   "source": [
    "# edit xml file to add observing times for all targets\n",
    "exposure_times = {name: time / 3600 for _, (name, time) in lbt_targets[[\"target_name\", \"pepsi_exp_time\"]].iterrows()}\n",
    "\n",
    "# next, get the mapping of the nickname used in xml file to the TIC name\n",
    "dir = r\"..\\..\\Proposals\\LBT\\LBT 2025A\"\n",
    "filename = \"LBT QuadEB 2025A\"\n",
    "tree = ET.parse(f\"{dir}\\\\{filename}.xml\")\n",
    "root = tree.getroot()\n",
    "target_map = {}\n",
    "for target in root.findall(\"targets/sidereal\"):\n",
    "    designator = target.attrib[\"id\"]\n",
    "    name = target.find(\"name\").text\n",
    "    target_map[designator] = name\n",
    "\n",
    "# finally, walk through each observation entry and add observing times to it\n",
    "for observation in root.findall(\"observations/observation\"):\n",
    "    target_name = target_map[observation.attrib[\"target\"]]\n",
    "    target_time = exposure_times[target_name]\n",
    "    time_element = ET.SubElement(observation, \"time\")\n",
    "    time_element.attrib = {\"units\": \"hr\", \"bino\": \"false\", \"too\": \"None\", \"Run\": \"\"}\n",
    "    time_element.text = f\"{target_time:.3f}\"\n",
    "\n",
    "tree.write(f\"{dir}\\\\{filename}_times.xml\")"
   ]
  }
 ],
 "metadata": {
  "kernelspec": {
   "display_name": "Python 3",
   "language": "python",
   "name": "python3"
  },
  "language_info": {
   "codemirror_mode": {
    "name": "ipython",
    "version": 3
   },
   "file_extension": ".py",
   "mimetype": "text/x-python",
   "name": "python",
   "nbconvert_exporter": "python",
   "pygments_lexer": "ipython3",
   "version": "3.12.6"
  }
 },
 "nbformat": 4,
 "nbformat_minor": 2
}
