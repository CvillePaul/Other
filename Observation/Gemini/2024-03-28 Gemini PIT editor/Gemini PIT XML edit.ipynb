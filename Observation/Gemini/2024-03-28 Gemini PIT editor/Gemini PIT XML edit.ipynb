{
 "cells": [
  {
   "cell_type": "markdown",
   "metadata": {},
   "source": [
    "# Gemini PIT XML Editor\n",
    "The Gemini PIT proposal tool allows you to load targets from a csv file, but requires you to input manually the observing time for those targets.  This code takes the XML file the PIT tool creates and edits it to add to the XML file the observing times that are present, but unused, in the target csv files."
   ]
  },
  {
   "cell_type": "code",
   "execution_count": 2,
   "metadata": {},
   "outputs": [],
   "source": [
    "import glob\n",
    "import xml.etree.ElementTree as ET\n",
    "import pandas as pd"
   ]
  },
  {
   "cell_type": "code",
   "execution_count": 6,
   "metadata": {},
   "outputs": [],
   "source": [
    "filename = \"Gemini_QEB.speckle\"\n",
    "\n",
    "# first, get observation times for all targets\n",
    "target_times = {}\n",
    "for file in glob.glob(\"*.csv\"):\n",
    "    df = pd.read_csv(file)\n",
    "    target_times = {\n",
    "        **target_times,\n",
    "        **{name: (iq70, iq85) for _, (name, iq70, iq85) in df[[\"Name\", \"IQ70 Program Time\", \"IQ85 Program Time\"]].iterrows()},\n",
    "    }\n",
    "\n",
    "# next, get the mapping of the nickname used in xml file to the TIC name\n",
    "tree = ET.parse(f\"{filename}.xml\")\n",
    "root = tree.getroot()\n",
    "target_map = {}\n",
    "for target in root.findall(\"targets/sidereal\"):\n",
    "    designator = target.attrib[\"id\"]\n",
    "    name = target.find(\"name\").text\n",
    "    target_map[designator] = name\n",
    "\n",
    "#finally, walk through each observation entry and add observing time to it for iq70 conditions\n",
    "for observation in root.findall(\"observations/observation\"):\n",
    "    target_name = target_map[observation.attrib[\"target\"]]\n",
    "    target_time = target_times[target_name]\n",
    "    progTime = observation.find(\"progTime\")\n",
    "    progTime.text = str(target_time[0])\n",
    "    time = observation.find(\"time\")\n",
    "    time.text = str(target_time[0])\n",
    "tree.write(f\"{filename}_iq70.xml\")\n",
    "\n",
    "#repeat for iq85\n",
    "for observation in root.findall(\"observations/observation\"):\n",
    "    target_name = target_map[observation.attrib[\"target\"]]\n",
    "    target_time = target_times[target_name]\n",
    "    progTime = observation.find(\"progTime\")\n",
    "    progTime.text = str(target_time[1])\n",
    "    time = observation.find(\"time\")\n",
    "    time.text = str(target_time[1])\n",
    "tree.write(f\"{filename}_iq85.xml\")\n"
   ]
  }
 ],
 "metadata": {
  "kernelspec": {
   "display_name": "Astro",
   "language": "python",
   "name": "python3"
  },
  "language_info": {
   "codemirror_mode": {
    "name": "ipython",
    "version": 3
   },
   "file_extension": ".py",
   "mimetype": "text/x-python",
   "name": "python",
   "nbconvert_exporter": "python",
   "pygments_lexer": "ipython3",
   "version": "3.12.2"
  }
 },
 "nbformat": 4,
 "nbformat_minor": 2
}
