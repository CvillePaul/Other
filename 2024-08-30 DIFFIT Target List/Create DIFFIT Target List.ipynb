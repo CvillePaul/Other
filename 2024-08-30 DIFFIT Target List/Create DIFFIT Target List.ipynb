{
 "cells": [
  {
   "cell_type": "code",
   "execution_count": 177,
   "metadata": {},
   "outputs": [],
   "source": [
    "from astropy.coordinates import Angle\n",
    "from astropy.table import QTable, vstack\n",
    "import astropy.units as u"
   ]
  },
  {
   "cell_type": "code",
   "execution_count": 135,
   "metadata": {},
   "outputs": [],
   "source": [
    "with open(\"wdsweb_summ2.txt\", \"r\", newline=\"\\n\") as f:\n",
    "    for _ in range(5):\n",
    "        f.readline()\n",
    "    rows=[]\n",
    "    for line in f.readlines():\n",
    "        try:\n",
    "            row = {}\n",
    "            row[\"ID\"] = line[0:10]\n",
    "            row[\"Separation\"] = (float(line[46:51]) + float(line[51:57])) / 2 * u.arcsec\n",
    "            row[\"Mag A\"] = float(line[58:63])\n",
    "            row[\"Mag B\"] = float(line[63:69])\n",
    "            row[\"Mag Avg\"] = (row[\"Mag A\"] + row[\"Mag B\"]) / 2\n",
    "            row[\"Spectral Type\"] = line[70:79]\n",
    "            row[\"RA\"] = Angle(f\"{line[112:114]}h{line[114:116]}m{line[116:121]}s\")\n",
    "            row[\"Dec\"] = Angle(f\"{line[121:124]}d{line[124:126]}m{line[126:130]}s\")\n",
    "            rows.append(row)\n",
    "        except:\n",
    "            continue\n",
    "wds = QTable(rows)\n",
    "wds.write(\"wdsweb_summ2.ecsv\", overwrite=True)\n",
    "wds"
   ]
  },
  {
   "cell_type": "code",
   "execution_count": 180,
   "metadata": {},
   "outputs": [
    {
     "data": {
      "text/html": [
       "<div><i>QTable length=100</i>\n",
       "<table id=\"table1846969905232\" class=\"table-striped table-bordered table-condensed\">\n",
       "<thead><tr><th>ID</th><th>Separation</th><th>Mag A</th><th>Mag B</th><th>Mag Avg</th><th>Spectral Type</th><th>RA</th><th>Dec</th><th>Sep Category</th></tr></thead>\n",
       "<thead><tr><th></th><th>arcsec</th><th></th><th></th><th></th><th></th><th>hourangle</th><th>deg</th><th></th></tr></thead>\n",
       "<thead><tr><th>str10</th><th>float64</th><th>float64</th><th>float64</th><th>float64</th><th>str9</th><th>float64</th><th>float64</th><th>int32</th></tr></thead>\n",
       "<tr><td>18501+3322</td><td>46.75</td><td>3.63</td><td>6.69</td><td>5.16</td><td>B7Ve+A8p</td><td>18.834663888888887</td><td>33.36266666666667</td><td>40</td></tr>\n",
       "<tr><td>05354-0555</td><td>48.8</td><td>2.77</td><td>9.81</td><td>6.29</td><td>+A0V</td><td>5.5905499999999995</td><td>-5.909888888888889</td><td>40</td></tr>\n",
       "<tr><td>01144-0755</td><td>48.7</td><td>5.19</td><td>7.85</td><td>6.52</td><td>F6V+G9V</td><td>1.2400111111111112</td><td>-7.922833333333334</td><td>40</td></tr>\n",
       "<tr><td>18138-2104</td><td>45.1</td><td>3.85</td><td>9.22</td><td>6.535</td><td>B8Iape</td><td>18.229391666666665</td><td>-21.058833333333332</td><td>40</td></tr>\n",
       "<tr><td>10314-5343</td><td>47.95</td><td>4.95</td><td>8.58</td><td>6.765000000000001</td><td>F6V</td><td>10.522727777777778</td><td>-53.715472222222225</td><td>40</td></tr>\n",
       "<tr><td>05320-0018</td><td>50.9</td><td>2.41</td><td>6.83</td><td>4.62</td><td>O9.5II+</td><td>5.533444444444444</td><td>-0.2990833333333333</td><td>50</td></tr>\n",
       "<tr><td>10393-5536</td><td>52.55</td><td>4.38</td><td>6.06</td><td>5.22</td><td>G2-3Ib</td><td>10.655108333333335</td><td>-55.60325</td><td>50</td></tr>\n",
       "<tr><td>05354-0525</td><td>52.55</td><td>5.03</td><td>6.19</td><td>5.61</td><td>O9.5IV+B3</td><td>5.5896888888888885</td><td>-5.416027777777778</td><td>50</td></tr>\n",
       "<tr><td>05407-0157</td><td>56.8</td><td>1.88</td><td>9.55</td><td>5.715</td><td>+A?</td><td>5.679311111111112</td><td>-1.9425833333333333</td><td>50</td></tr>\n",
       "<tr><td>...</td><td>...</td><td>...</td><td>...</td><td>...</td><td>...</td><td>...</td><td>...</td><td>...</td></tr>\n",
       "<tr><td>14509-1603</td><td>229.9</td><td>2.74</td><td>5.19</td><td>3.9650000000000003</td><td>A3IV+F4IV</td><td>14.847994444444446</td><td>-16.041611111111113</td><td>220</td></tr>\n",
       "<tr><td>09205-0933</td><td>229.05</td><td>4.91</td><td>7.03</td><td>5.970000000000001</td><td>G8III+F4V</td><td>9.341397222222223</td><td>-9.55563888888889</td><td>220</td></tr>\n",
       "<tr><td>20210-1447</td><td>226.75</td><td>3.15</td><td>8.83</td><td>5.99</td><td>F8V+A0</td><td>20.350186111111114</td><td>-14.78138888888889</td><td>220</td></tr>\n",
       "<tr><td>18369+3846</td><td>220.9</td><td>0.09</td><td>12.0</td><td>6.045</td><td>A0Va</td><td>18.615647222222222</td><td>38.78366666666666</td><td>220</td></tr>\n",
       "<tr><td>18369+3846</td><td>221.65</td><td>0.09</td><td>12.0</td><td>6.045</td><td>A0Va</td><td>18.615647222222222</td><td>38.78366666666666</td><td>220</td></tr>\n",
       "<tr><td>20256-5644</td><td>235.05</td><td>1.9</td><td>9.7</td><td>5.8</td><td>B2IV</td><td>20.427458333333334</td><td>-56.735083333333336</td><td>230</td></tr>\n",
       "<tr><td>17153-2636</td><td>233.0</td><td>5.12</td><td>7.8</td><td>6.46</td><td>K1V</td><td>17.255827777777778</td><td>-26.602833333333336</td><td>230</td></tr>\n",
       "<tr><td>17153-2636</td><td>238.1</td><td>5.12</td><td>7.8</td><td>6.46</td><td>K5Ve</td><td>17.255772222222223</td><td>-26.601694444444448</td><td>230</td></tr>\n",
       "<tr><td>18545+3654</td><td>230.0</td><td>4.46</td><td>8.67</td><td>6.5649999999999995</td><td>+A0</td><td>18.908413888888887</td><td>36.89861111111111</td><td>230</td></tr>\n",
       "<tr><td>22039+5949</td><td>236.89999999999998</td><td>6.66</td><td>6.96</td><td>6.8100000000000005</td><td>B1V</td><td>22.064961111111113</td><td>59.81458333333333</td><td>230</td></tr>\n",
       "</table></div>"
      ],
      "text/plain": [
       "<QTable length=100>\n",
       "    ID         Separation      Mag A  ...         Dec         Sep Category\n",
       "                 arcsec               ...         deg                     \n",
       "  str10         float64       float64 ...       float64          int32    \n",
       "---------- ------------------ ------- ... ------------------- ------------\n",
       "18501+3322              46.75    3.63 ...   33.36266666666667           40\n",
       "05354-0555               48.8    2.77 ...  -5.909888888888889           40\n",
       "01144-0755               48.7    5.19 ...  -7.922833333333334           40\n",
       "18138-2104               45.1    3.85 ... -21.058833333333332           40\n",
       "10314-5343              47.95    4.95 ... -53.715472222222225           40\n",
       "05320-0018               50.9    2.41 ... -0.2990833333333333           50\n",
       "10393-5536              52.55    4.38 ...           -55.60325           50\n",
       "05354-0525              52.55    5.03 ...  -5.416027777777778           50\n",
       "05407-0157               56.8    1.88 ... -1.9425833333333333           50\n",
       "       ...                ...     ... ...                 ...          ...\n",
       "14509-1603              229.9    2.74 ... -16.041611111111113          220\n",
       "09205-0933             229.05    4.91 ...   -9.55563888888889          220\n",
       "20210-1447             226.75    3.15 ...  -14.78138888888889          220\n",
       "18369+3846              220.9    0.09 ...   38.78366666666666          220\n",
       "18369+3846             221.65    0.09 ...   38.78366666666666          220\n",
       "20256-5644             235.05     1.9 ... -56.735083333333336          230\n",
       "17153-2636              233.0    5.12 ... -26.602833333333336          230\n",
       "17153-2636              238.1    5.12 ... -26.601694444444448          230\n",
       "18545+3654              230.0    4.46 ...   36.89861111111111          230\n",
       "22039+5949 236.89999999999998    6.66 ...   59.81458333333333          230"
      ]
     },
     "execution_count": 180,
     "metadata": {},
     "output_type": "execute_result"
    }
   ],
   "source": [
    "# wds[\"Sep Category\"] = (wds[\"Separation\"].value / 10).astype(int) * 10\n",
    "\n",
    "criteria = (wds[\"Separation\"] > 45 * u.arcsec) & (wds[\"Separation\"] < 4 * u.arcmin) & (wds[\"Mag Avg\"] < 9)\n",
    "\n",
    "filtered = wds[criteria]\n",
    "filtered[\"Sep Category\"] = (filtered[\"Separation\"].value / 10).astype(int) * 10\n",
    "filtered.sort([\"Mag Avg\"])\n",
    "# filtered.sort([\"Sep Category\", \"Mag Avg\"])\n",
    "filtered\n",
    "\n",
    "target_list = vstack([group[0:5] for group in filtered.group_by(\"Sep Category\").groups])\n",
    "target_list\n"
   ]
  },
  {
   "cell_type": "code",
   "execution_count": null,
   "metadata": {},
   "outputs": [],
   "source": []
  }
 ],
 "metadata": {
  "kernelspec": {
   "display_name": "Astro",
   "language": "python",
   "name": "python3"
  },
  "language_info": {
   "codemirror_mode": {
    "name": "ipython",
    "version": 3
   },
   "file_extension": ".py",
   "mimetype": "text/x-python",
   "name": "python",
   "nbconvert_exporter": "python",
   "pygments_lexer": "ipython3",
   "version": "3.12.2"
  }
 },
 "nbformat": 4,
 "nbformat_minor": 2
}
