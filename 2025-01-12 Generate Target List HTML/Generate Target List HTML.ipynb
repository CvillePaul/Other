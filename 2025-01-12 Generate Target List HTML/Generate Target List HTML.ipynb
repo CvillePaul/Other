{
 "cells": [
  {
   "cell_type": "code",
   "execution_count": 2,
   "metadata": {},
   "outputs": [],
   "source": [
    "from functools import partial\n",
    "from sqlite3 import connect\n",
    "\n",
    "import astroplan as ap\n",
    "from astropy.coordinates import EarthLocation\n",
    "from astropy.table import Table\n",
    "from astropy.time import Time\n",
    "import astropy.units as u\n",
    "from icecream import ic, install\n",
    "import numpy as np\n",
    "import pandas as pd\n",
    "\n",
    "import astropaul.targetlistcreator as tlc\n",
    "import astropaul.lbt as lbt\n",
    "import astropaul.html as html\n",
    "import astropaul.phase as ph\n",
    "import astropaul.priority as pr\n",
    "\n",
    "install() # icecream will now work in imported packages\n",
    "\n",
    "%load_ext autoreload\n",
    "%autoreload 2\n"
   ]
  },
  {
   "cell_type": "code",
   "execution_count": 3,
   "metadata": {},
   "outputs": [],
   "source": [
    "conn = connect(\"../../django/TargetDB/db.sqlite3\")\n",
    "html_dir = \"html\"\n",
    "\n",
    "phase_event_defs = [\n",
    "    ph.PhaseEventDef(\"Not in Eclipse\", partial(ph.calc_time_of_gress, ingress=False)),\n",
    "    ph.PhaseEventDef(\"Eclipse\", partial(ph.calc_time_of_gress, ingress=True)),\n",
    "]\n",
    "\n",
    "name = \"All Targets\"\n",
    "creator = tlc.TargetListCreator(name=name, connection=conn)\n",
    "creator.steps = [\n",
    "    tlc.add_targets,\n",
    "    tlc.add_tess,\n",
    "    tlc.add_coords,\n",
    "    partial(tlc.hide_cols, prefix=\"TESS \"),\n",
    "    tlc.add_ephemerides,\n",
    "    tlc.add_speckle,\n",
    "    tlc.add_pepsi,\n",
    "    tlc.add_lists,\n",
    "    partial(tlc.add_speckle_phase, phase_event_defs=phase_event_defs),\n",
    "    partial(tlc.add_side_status, phase_event_defs=phase_event_defs),\n",
    "]\n",
    "tl = creator.calculate(verbose=False)\n",
    "html.render_observing_pages(tl, None, {}, \"../../Observing Files/All Targets\")"
   ]
  }
 ],
 "metadata": {
  "kernelspec": {
   "display_name": "Python 3",
   "language": "python",
   "name": "python3"
  },
  "language_info": {
   "codemirror_mode": {
    "name": "ipython",
    "version": 3
   },
   "file_extension": ".py",
   "mimetype": "text/x-python",
   "name": "python",
   "nbconvert_exporter": "python",
   "pygments_lexer": "ipython3",
   "version": "3.12.6"
  }
 },
 "nbformat": 4,
 "nbformat_minor": 2
}
