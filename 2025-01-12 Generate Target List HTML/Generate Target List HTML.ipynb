{
 "cells": [
  {
   "cell_type": "code",
   "execution_count": 1,
   "metadata": {},
   "outputs": [],
   "source": [
    "from functools import partial\n",
    "from sqlite3 import connect\n",
    "\n",
    "import astroplan as ap\n",
    "from astropy.coordinates import EarthLocation\n",
    "from astropy.table import Table\n",
    "from astropy.time import Time\n",
    "import astropy.units as u\n",
    "from icecream import ic, install\n",
    "import numpy as np\n",
    "import pandas as pd\n",
    "\n",
    "import astropaul.targetlistcreator as tlc\n",
    "import astropaul.lbt as lbt\n",
    "import astropaul.html as html\n",
    "import astropaul.phase as ph\n",
    "import astropaul.priority as pr\n",
    "\n",
    "install() # icecream will now work in imported packages\n",
    "\n",
    "%load_ext autoreload\n",
    "%autoreload 2\n"
   ]
  },
  {
   "cell_type": "code",
   "execution_count": 37,
   "metadata": {},
   "outputs": [
    {
     "ename": "",
     "evalue": "",
     "output_type": "error",
     "traceback": [
      "\u001b[1;31mThe Kernel crashed while executing code in the current cell or a previous cell. \n",
      "\u001b[1;31mPlease review the code in the cell(s) to identify a possible cause of the failure. \n",
      "\u001b[1;31mClick <a href='https://aka.ms/vscodeJupyterKernelCrash'>here</a> for more info. \n",
      "\u001b[1;31mView Jupyter <a href='command:jupyter.viewOutput'>log</a> for further details."
     ]
    }
   ],
   "source": [
    "conn = connect(\"../../django/TargetDB/db.sqlite3\")\n",
    "html_dir = \"html\"\n",
    "\n",
    "# session = tlc.ObservingSession(ap.Observer.at_site(\"APO\"))\n",
    "# session.add_full_day(\"2025-03-15\")\n",
    "# session.add_full_day(\"2025-03-16\")\n",
    "# session.add_half_day(\"2025-03-18\", first_half=False)\n",
    "# session.add_full_day(\"2025-03-19\")\n",
    "\n",
    "name = \"All Targets\"\n",
    "creator = tlc.TargetListCreator(name=name, connection=conn)\n",
    "creator.steps = [\n",
    "    tlc.add_targets,\n",
    "    tlc.add_tess,\n",
    "    tlc.add_coords,\n",
    "    partial(tlc.hide_cols, prefix=\"TESS \"),\n",
    "    tlc.add_ephemerides,\n",
    "    tlc.add_speckle,\n",
    "    tlc.add_pepsi,\n",
    "    tlc.add_lists,\n",
    "    # partial(tlc.filter_targets, criteria=lambda df: (df[\"Num Speckle\"] > 0)),\n",
    "    # partial(tlc.filter_targets, criteria=lambda df: (df[\"List Speckle Resolved\"])),\n",
    "    # partial(tlc.add_observability, observing_session=session, calc_max_altitude=True, calc_moon_distance=True),\n",
    "    # partial(tlc.filter_targets, criteria=lambda df: (df[\"Observable Every Night\"])),\n",
    "    # partial(tlc.filter_targets, criteria=lambda df: (df[\"Observable Max Alt\"] > 40)),\n",
    "    # partial(tlc.add_phase_events, observing_session=session, phase_event_defs=phase_event_defs),\n",
    "]\n",
    "tl = creator.calculate(verbose=False)\n",
    "html.render_observing_pages(tl, None, {}, \"html\")"
   ]
  }
 ],
 "metadata": {
  "kernelspec": {
   "display_name": "Python 3",
   "language": "python",
   "name": "python3"
  },
  "language_info": {
   "codemirror_mode": {
    "name": "ipython",
    "version": 3
   },
   "file_extension": ".py",
   "mimetype": "text/x-python",
   "name": "python",
   "nbconvert_exporter": "python",
   "pygments_lexer": "ipython3",
   "version": "3.12.6"
  }
 },
 "nbformat": 4,
 "nbformat_minor": 2
}
