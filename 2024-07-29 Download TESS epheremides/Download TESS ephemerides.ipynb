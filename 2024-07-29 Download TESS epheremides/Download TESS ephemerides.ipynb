{
 "cells": [
  {
   "cell_type": "code",
   "execution_count": 1,
   "metadata": {},
   "outputs": [],
   "source": [
    "import requests\n",
    "\n",
    "import astropy.table as tb\n"
   ]
  },
  {
   "cell_type": "code",
   "execution_count": 2,
   "metadata": {},
   "outputs": [
    {
     "data": {
      "text/html": [
       "<div><i>Table length=2</i>\n",
       "<table id=\"table1995973790272\" class=\"table-striped table-bordered table-condensed\">\n",
       "<thead><tr><th>TICID</th><th>EXTNAME</th><th>EXTVER</th><th>SIMDATA</th><th>RADESYS</th><th>RA_OBJ</th><th>DEC_OBJ</th><th>EQUINOX</th><th>EXPOSURE</th><th>TIMEREF</th><th>TASSIGN</th><th>TIMESYS</th><th>BJDREFI</th><th>BJDREFF</th><th>TIMEUNIT</th><th>TELAPSE</th><th>LIVETIME</th><th>TSTART</th><th>TSTOP</th><th>DATE_OBS</th><th>DATE_END</th><th>DEADC</th><th>TIMEPIXR</th><th>TIERRELA</th><th>INT_TIME</th><th>READTIME</th><th>FRAMETIM</th><th>NUM_FRM</th><th>TIMEDEL</th><th>TPERIOD</th><th>TEPOCH</th><th>TDEPTH</th><th>TSNR</th><th>TDUR</th><th>INDUR</th><th>IMPACT</th><th>INCLIN</th><th>DRRATIO</th><th>RADRATIO</th><th>PRADIUS</th><th>MAXMES</th><th>MAXSES</th><th>NTRANS</th><th>CONVRGE</th><th>MEDDETR</th><th>TESSDatetime</th><th>SECTORS</th></tr></thead>\n",
       "<thead><tr><th>int32</th><th>str5</th><th>int32</th><th>str1</th><th>str4</th><th>float64</th><th>float64</th><th>float64</th><th>float64</th><th>str11</th><th>str10</th><th>str3</th><th>int32</th><th>float64</th><th>str1</th><th>float64</th><th>float64</th><th>float64</th><th>float64</th><th>str26</th><th>str26</th><th>float64</th><th>float64</th><th>float64</th><th>float64</th><th>float64</th><th>float64</th><th>int32</th><th>float64</th><th>float64</th><th>float64</th><th>float64</th><th>float64</th><th>float64</th><th>float64</th><th>float64</th><th>float64</th><th>float64</th><th>float64</th><th>float64</th><th>float64</th><th>float64</th><th>int32</th><th>str1</th><th>float64</th><th>str17</th><th>str11</th></tr></thead>\n",
       "<tr><td>78568780</td><td>TCE_1</td><td>1</td><td>0</td><td>ICRS</td><td>102.848952686548</td><td>-22.1672044547877</td><td>2000.0</td><td>20.469890856751</td><td>SOLARSYSTEM</td><td>SPACECRAFT</td><td>TDB</td><td>2457000</td><td>0.0</td><td>d</td><td>25.845821788827</td><td>20.469890856750926</td><td>2201.730415817044</td><td>2227.576467830564</td><td>2020-12-18 05:30:38.743000</td><td>2021-01-13 01:48:57.637000</td><td>0.792</td><td>0.5</td><td>1.16e-05</td><td>1.98</td><td>0.02</td><td>2.0</td><td>60</td><td>0.001388888888888889</td><td>2.8883889773908864</td><td>2202.185450134123</td><td>58023.73677687118</td><td>203.10800170898438</td><td>4.042703377621972</td><td>2.021351688810986</td><td>0.9901045603371778</td><td>79.0780973985871</td><td>5.225631254445161</td><td>0.3616802635360474</td><td>69.65709235679971</td><td>160.64451599121094</td><td>67.5764389038086</td><td>9</td><td>1</td><td>20.266666666666666</td><td>tess2020353052510</td><td>s0033-s0033</td></tr>\n",
       "<tr><td>78568780</td><td>TCE_2</td><td>1</td><td>0</td><td>ICRS</td><td>102.848952686548</td><td>-22.1672044547877</td><td>2000.0</td><td>20.469890856751</td><td>SOLARSYSTEM</td><td>SPACECRAFT</td><td>TDB</td><td>2457000</td><td>0.0</td><td>d</td><td>25.845821788827</td><td>20.469890856750926</td><td>2201.730415817044</td><td>2227.576467830564</td><td>2020-12-18 05:30:38.743000</td><td>2021-01-13 01:48:57.637000</td><td>0.792</td><td>0.5</td><td>1.16e-05</td><td>1.98</td><td>0.02</td><td>2.0</td><td>60</td><td>0.001388888888888889</td><td>2.8883554686145088</td><td>2203.6487872889966</td><td>19699.555818741155</td><td>70.5285415649414</td><td>3.975606802435562</td><td>1.987803401217781</td><td>0.9875058195976497</td><td>75.74940033888548</td><td>4.011586088702474</td><td>0.20856862413047508</td><td>40.168860119012734</td><td>59.85264205932617</td><td>25.34626007080078</td><td>8</td><td>1</td><td>19.933333333333334</td><td>tess2020353052510</td><td>s0033-s0033</td></tr>\n",
       "</table></div>"
      ],
      "text/plain": [
       "<Table length=2>\n",
       " TICID   EXTNAME EXTVER ...      MEDDETR          TESSDatetime     SECTORS  \n",
       " int32     str5  int32  ...      float64             str17          str11   \n",
       "-------- ------- ------ ... ------------------ ----------------- -----------\n",
       "78568780   TCE_1      1 ... 20.266666666666666 tess2020353052510 s0033-s0033\n",
       "78568780   TCE_2      1 ... 19.933333333333334 tess2020353052510 s0033-s0033"
      ]
     },
     "execution_count": 2,
     "metadata": {},
     "output_type": "execute_result"
    }
   ],
   "source": [
    "targets = ['TIC 78568780',]\n",
    "\n",
    "exomast_url = \"https://exo.mast.stsci.edu/api/v0.1/\"\n",
    "\n",
    "tces = None\n",
    "\n",
    "for target in targets:\n",
    "    _, id = target.split(\" \")\n",
    "    response = requests.get(f\"{exomast_url}dvdata/tess/{id}/tces/\")\n",
    "    if not response:\n",
    "        print(f\"No response for {target}\")\n",
    "        continue\n",
    "    tce_items = response.json().get(\"TCE\")\n",
    "    if not tce_items:\n",
    "        print(f\"No TCEs listed for {target}\")\n",
    "        continue\n",
    "    for tce_item in tce_items:\n",
    "        sector, name = tce_item.split(\":\")\n",
    "        tce_data = requests.get(f\"{exomast_url}dvdata/tess/{id}/info/?tce={name}&sector={sector}\")\n",
    "        if not tce_data:\n",
    "            print(f\"No TCE data listed for {target}, {name} - {sector}\")\n",
    "            continue\n",
    "        tce_data = tce_data.json()[\"DV Data Header\"]\n",
    "        if not tces:\n",
    "            tces = tb.Table({key: [value] for key, value in tce_data.items()})\n",
    "        else:\n",
    "            tces.add_row(tce_data)\n",
    "\n",
    "tces.write(\"TESS TCE Ephemerides.csv\")\n",
    "tces\n",
    "\n"
   ]
  }
 ],
 "metadata": {
  "kernelspec": {
   "display_name": "Astro",
   "language": "python",
   "name": "python3"
  },
  "language_info": {
   "codemirror_mode": {
    "name": "ipython",
    "version": 3
   },
   "file_extension": ".py",
   "mimetype": "text/x-python",
   "name": "python",
   "nbconvert_exporter": "python",
   "pygments_lexer": "ipython3",
   "version": "3.12.2"
  }
 },
 "nbformat": 4,
 "nbformat_minor": 2
}
