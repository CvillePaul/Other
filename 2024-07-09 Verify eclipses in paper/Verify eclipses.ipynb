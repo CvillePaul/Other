{
 "cells": [
  {
   "cell_type": "code",
   "execution_count": 58,
   "metadata": {},
   "outputs": [],
   "source": [
    "import astropy.table as tb\n",
    "from astropy.time import Time\n"
   ]
  },
  {
   "cell_type": "code",
   "execution_count": 5,
   "metadata": {},
   "outputs": [
    {
     "data": {
      "text/html": [
       "<div><i>Table length=398</i>\n",
       "<table id=\"table2427458347392\" class=\"table-striped table-bordered table-condensed\">\n",
       "<thead><tr><th>id</th><th>target_name</th><th>target_source</th><th>target_type</th><th>ra</th><th>dec</th><th>pmra</th><th>pmdec</th><th>parallax</th><th>Vmag</th><th>Teff</th><th>ephem_member</th><th>ephem_period</th><th>ephem_t0_a</th><th>ephem_duration_a</th><th>ephem_depth_a</th><th>ephem_t0_b</th><th>ephem_duration_b</th><th>ephem_depth_b</th></tr></thead>\n",
       "<thead><tr><th>int32</th><th>str14</th><th>str28</th><th>str6</th><th>float64</th><th>float64</th><th>float64</th><th>float64</th><th>float64</th><th>float64</th><th>float64</th><th>str1</th><th>float64</th><th>float64</th><th>float64</th><th>float64</th><th>float64</th><th>float64</th><th>float64</th></tr></thead>\n",
       "<tr><td>3366</td><td>TIC 270360534</td><td>Kostov 2023 arXiv:2309.14200</td><td>QuadEB</td><td>263.430502039255</td><td>43.860752149892</td><td>-11.9616</td><td>-23.9874</td><td>1.74434</td><td>12.041</td><td>5048.88</td><td>A</td><td>33.21789</td><td>2459408.4263</td><td>14.0</td><td>76.0</td><td>2458990.9303</td><td>11.5</td><td>69.0</td></tr>\n",
       "<tr><td>3366</td><td>TIC 270360534</td><td>Kostov 2023 arXiv:2309.14200</td><td>QuadEB</td><td>263.430502039255</td><td>43.860752149892</td><td>-11.9616</td><td>-23.9874</td><td>1.74434</td><td>12.041</td><td>5048.88</td><td>B</td><td>--</td><td>2459024.8801</td><td>9.2</td><td>--</td><td>2458989.2459</td><td>11.4</td><td>--</td></tr>\n",
       "<tr><td>3367</td><td>TIC 219469945</td><td>Kostov 2022 arXiv:2202.05790</td><td>QuadEB</td><td>241.047907546962</td><td>43.0303006747434</td><td>-0.866116</td><td>-13.0913</td><td>1.08328</td><td>12.507</td><td>6322.79</td><td>A</td><td>2.717596</td><td>2458959.7065</td><td>4.1</td><td>125.0</td><td>2458961.069103</td><td>4.0</td><td>43.0</td></tr>\n",
       "<tr><td>3367</td><td>TIC 219469945</td><td>Kostov 2022 arXiv:2202.05790</td><td>QuadEB</td><td>241.047907546962</td><td>43.0303006747434</td><td>-0.866116</td><td>-13.0913</td><td>1.08328</td><td>12.507</td><td>6322.79</td><td>B</td><td>14.965529</td><td>2458957.7099</td><td>6.3</td><td>80.0</td><td>2458964.924782</td><td>7.3</td><td>20.0</td></tr>\n",
       "<tr><td>3368</td><td>TIC 20212631</td><td>Kostov 2023 arXiv:2309.14200</td><td>QuadEB</td><td>227.038060401645</td><td>39.97024000055</td><td>-82.8253</td><td>60.7128</td><td>5.36793</td><td>10.58</td><td>5665.4</td><td>A</td><td>0.297159</td><td>2458930.599</td><td>1.2</td><td>215.0</td><td>--</td><td>--</td><td>--</td></tr>\n",
       "<tr><td>3368</td><td>TIC 20212631</td><td>Kostov 2023 arXiv:2309.14200</td><td>QuadEB</td><td>227.038060401645</td><td>39.97024000055</td><td>-82.8253</td><td>60.7128</td><td>5.36793</td><td>10.58</td><td>5665.4</td><td>B</td><td>9.47867</td><td>2458933.1418</td><td>4.4</td><td>76.0</td><td>--</td><td>--</td><td>--</td></tr>\n",
       "<tr><td>3369</td><td>TIC 150055835</td><td>Kostov 2023 arXiv:2309.14200</td><td>QuadEB</td><td>69.9253097979945</td><td>29.1345840372292</td><td>1.09215</td><td>-1.99413</td><td>0.347484</td><td>15.116</td><td>6445.0</td><td>A</td><td>3.17353</td><td>2458818.066</td><td>5.0</td><td>103.0</td><td>2458819.6528</td><td>5.0</td><td>81.0</td></tr>\n",
       "<tr><td>3369</td><td>TIC 150055835</td><td>Kostov 2023 arXiv:2309.14200</td><td>QuadEB</td><td>69.9253097979945</td><td>29.1345840372292</td><td>1.09215</td><td>-1.99413</td><td>0.347484</td><td>15.116</td><td>6445.0</td><td>B</td><td>13.78416</td><td>2459477.5808</td><td>7.0</td><td>41.0</td><td>2458823.6797</td><td>6.7</td><td>23.0</td></tr>\n",
       "<tr><td>3370</td><td>TIC 161043618</td><td>Kostov 2022 arXiv:2202.05790</td><td>QuadEB</td><td>223.425163143389</td><td>52.7158479482434</td><td>2.17801</td><td>-3.59429</td><td>2.02761</td><td>12.497</td><td>5860.0</td><td>A</td><td>1.350249</td><td>2458744.7203</td><td>4.0</td><td>75.0</td><td>2458745.394749</td><td>4.0</td><td>20.0</td></tr>\n",
       "<tr><td>3370</td><td>TIC 161043618</td><td>Kostov 2022 arXiv:2202.05790</td><td>QuadEB</td><td>223.425163143389</td><td>52.7158479482434</td><td>2.17801</td><td>-3.59429</td><td>2.02761</td><td>12.497</td><td>5860.0</td><td>B</td><td>1.488497</td><td>2458739.1594</td><td>2.6</td><td>50.0</td><td>2458739.907965</td><td>2.5</td><td>20.0</td></tr>\n",
       "<tr><td>...</td><td>...</td><td>...</td><td>...</td><td>...</td><td>...</td><td>...</td><td>...</td><td>...</td><td>...</td><td>...</td><td>...</td><td>...</td><td>...</td><td>...</td><td>...</td><td>...</td><td>...</td><td>...</td></tr>\n",
       "<tr><td>3559</td><td>TIC 414969157</td><td>Kostov 2022 arXiv:2202.05790</td><td>QuadEB</td><td>141.17616172526</td><td>22.2007571593269</td><td>-0.138778</td><td>-0.35021</td><td>1.27485</td><td>14.508</td><td>5358.36</td><td>A</td><td>4.630508</td><td>2458873.9443</td><td>3.3</td><td>160.0</td><td>2458876.262332</td><td>3.4</td><td>120.0</td></tr>\n",
       "<tr><td>3559</td><td>TIC 414969157</td><td>Kostov 2022 arXiv:2202.05790</td><td>QuadEB</td><td>141.17616172526</td><td>22.2007571593269</td><td>-0.138778</td><td>-0.35021</td><td>1.27485</td><td>14.508</td><td>5358.36</td><td>B</td><td>6.928951</td><td>2458880.0717</td><td>3.8</td><td>110.0</td><td>2458883.340779</td><td>3.1</td><td>50.0</td></tr>\n",
       "<tr><td>3560</td><td>TIC 27543409</td><td>Kostov 2022 arXiv:2202.05790</td><td>QuadEB</td><td>122.702003761872</td><td>13.5672172981478</td><td>-3.26666</td><td>0.942613</td><td>0.518392</td><td>13.663</td><td>6421.0</td><td>A</td><td>2.122862</td><td>2458493.1001</td><td>--</td><td>50.0</td><td>2458494.153889</td><td>--</td><td>15.0</td></tr>\n",
       "<tr><td>3560</td><td>TIC 27543409</td><td>Kostov 2022 arXiv:2202.05790</td><td>QuadEB</td><td>122.702003761872</td><td>13.5672172981478</td><td>-3.26666</td><td>0.942613</td><td>0.518392</td><td>13.663</td><td>6421.0</td><td>B</td><td>4.013356</td><td>2458494.513</td><td>--</td><td>75.0</td><td>--</td><td>--</td><td>--</td></tr>\n",
       "<tr><td>3561</td><td>TIC 139914081</td><td>Kostov 2023 arXiv:2309.14200</td><td>QuadEB</td><td>326.971651313212</td><td>-49.0378324180058</td><td>-4.70688</td><td>-3.40727</td><td>1.21499</td><td>14.534</td><td>5229.0</td><td>A</td><td>0.84712</td><td>2458337.1178</td><td>1.2</td><td>18.0</td><td>--</td><td>--</td><td>--</td></tr>\n",
       "<tr><td>3561</td><td>TIC 139914081</td><td>Kostov 2023 arXiv:2309.14200</td><td>QuadEB</td><td>326.971651313212</td><td>-49.0378324180058</td><td>-4.70688</td><td>-3.40727</td><td>1.21499</td><td>14.534</td><td>5229.0</td><td>B</td><td>15.79639</td><td>2458333.6577</td><td>5.3</td><td>215.0</td><td>2458328.3528</td><td>3.7</td><td>30.0</td></tr>\n",
       "<tr><td>3562</td><td>TIC 382182610</td><td>Kostov 2023 arXiv:2309.14200</td><td>QuadEB</td><td>304.472082301266</td><td>-36.2046574985401</td><td>4.58496</td><td>-5.93205</td><td>1.11394</td><td>12.609</td><td>6256.14</td><td>A</td><td>8.59283</td><td>2459040.5593</td><td>4.6</td><td>43.0</td><td>2459044.8799</td><td>5.3</td><td>26.0</td></tr>\n",
       "<tr><td>3562</td><td>TIC 382182610</td><td>Kostov 2023 arXiv:2309.14200</td><td>QuadEB</td><td>304.472082301266</td><td>-36.2046574985401</td><td>4.58496</td><td>-5.93205</td><td>1.11394</td><td>12.609</td><td>6256.14</td><td>B</td><td>11.78085534</td><td>2459047.690331</td><td>4.5</td><td>28.0</td><td>2459041.7416</td><td>4.0</td><td>12.0</td></tr>\n",
       "<tr><td>3563</td><td>TIC 337346017</td><td>Kostov 2023 arXiv:2309.14200</td><td>QuadEB</td><td>270.458748426681</td><td>-50.9437825682567</td><td>-13.0511</td><td>2.10174</td><td>1.80815</td><td>15.324</td><td>4149.0</td><td>A</td><td>4.371661</td><td>2458662.9048</td><td>3.0</td><td>148.0</td><td>2458656.3316</td><td>3.0</td><td>55.0</td></tr>\n",
       "<tr><td>3563</td><td>TIC 337346017</td><td>Kostov 2023 arXiv:2309.14200</td><td>QuadEB</td><td>270.458748426681</td><td>-50.9437825682567</td><td>-13.0511</td><td>2.10174</td><td>1.80815</td><td>15.324</td><td>4149.0</td><td>B</td><td>5.739507</td><td>2458661.5538</td><td>3.0</td><td>65.0</td><td>2458664.3272</td><td>2.5</td><td>49.0</td></tr>\n",
       "</table></div>"
      ],
      "text/plain": [
       "<Table length=398>\n",
       "  id   target_name  ... ephem_duration_b ephem_depth_b\n",
       "int32     str14     ...     float64         float64   \n",
       "----- ------------- ... ---------------- -------------\n",
       " 3366 TIC 270360534 ...             11.5          69.0\n",
       " 3366 TIC 270360534 ...             11.4            --\n",
       " 3367 TIC 219469945 ...              4.0          43.0\n",
       " 3367 TIC 219469945 ...              7.3          20.0\n",
       " 3368  TIC 20212631 ...               --            --\n",
       " 3368  TIC 20212631 ...               --            --\n",
       " 3369 TIC 150055835 ...              5.0          81.0\n",
       " 3369 TIC 150055835 ...              6.7          23.0\n",
       " 3370 TIC 161043618 ...              4.0          20.0\n",
       " 3370 TIC 161043618 ...              2.5          20.0\n",
       "  ...           ... ...              ...           ...\n",
       " 3559 TIC 414969157 ...              3.4         120.0\n",
       " 3559 TIC 414969157 ...              3.1          50.0\n",
       " 3560  TIC 27543409 ...               --          15.0\n",
       " 3560  TIC 27543409 ...               --            --\n",
       " 3561 TIC 139914081 ...               --            --\n",
       " 3561 TIC 139914081 ...              3.7          30.0\n",
       " 3562 TIC 382182610 ...              5.3          26.0\n",
       " 3562 TIC 382182610 ...              4.0          12.0\n",
       " 3563 TIC 337346017 ...              3.0          55.0\n",
       " 3563 TIC 337346017 ...              2.5          49.0"
      ]
     },
     "execution_count": 5,
     "metadata": {},
     "output_type": "execute_result"
    }
   ],
   "source": [
    "targets = tb.Table.read(\"../../Observation Planner/targets.csv\")\n",
    "targets"
   ]
  },
  {
   "cell_type": "code",
   "execution_count": 71,
   "metadata": {},
   "outputs": [
    {
     "data": {
      "text/html": [
       "<div><i>Table length=15</i>\n",
       "<table id=\"table2427459699584\" class=\"table-striped table-bordered table-condensed\">\n",
       "<thead><tr><th>TIC</th><th>Byear</th><th>System</th><th>Component</th></tr></thead>\n",
       "<thead><tr><th>str13</th><th>float64</th><th>str1</th><th>str1</th></tr></thead>\n",
       "<tr><td>TIC 78568780</td><td>2022.7479</td><td>A</td><td>a</td></tr>\n",
       "<tr><td>TIC 161043618</td><td>2022.3586</td><td>A</td><td>b</td></tr>\n",
       "<tr><td>TIC 283940788</td><td>2022.7419</td><td>A</td><td>b</td></tr>\n",
       "<tr><td>TIC 317863971</td><td>2022.8735</td><td>B</td><td>a</td></tr>\n",
       "<tr><td>TIC 344541836</td><td>2022.7445</td><td>B</td><td>a</td></tr>\n",
       "<tr><td>TIC 344541836</td><td>2022.8729</td><td>A</td><td>b</td></tr>\n",
       "<tr><td>TIC 367448265</td><td>23.1848</td><td>B</td><td>a</td></tr>\n",
       "<tr><td>TIC 375325607</td><td>22.8726</td><td>A</td><td>b</td></tr>\n",
       "<tr><td>TIC 389836747</td><td>22.8675</td><td>A</td><td>b</td></tr>\n",
       "<tr><td>TIC 470710327</td><td>23.798</td><td>A</td><td>a</td></tr>\n",
       "<tr><td>TIC 470710327</td><td>23.7983</td><td>A</td><td>a</td></tr>\n",
       "<tr><td>TIC 470710327</td><td>23.8008</td><td>A</td><td>a</td></tr>\n",
       "<tr><td>TIC 470710327</td><td>23.8012</td><td>A</td><td>a</td></tr>\n",
       "<tr><td>TIC 470710327</td><td>23.8013</td><td>A</td><td>a</td></tr>\n",
       "<tr><td>TIC 470710327</td><td>23.8015</td><td>A</td><td>a</td></tr>\n",
       "</table></div>"
      ],
      "text/plain": [
       "<Table length=15>\n",
       "     TIC        Byear   System Component\n",
       "    str13      float64   str1     str1  \n",
       "------------- --------- ------ ---------\n",
       " TIC 78568780 2022.7479      A         a\n",
       "TIC 161043618 2022.3586      A         b\n",
       "TIC 283940788 2022.7419      A         b\n",
       "TIC 317863971 2022.8735      B         a\n",
       "TIC 344541836 2022.7445      B         a\n",
       "TIC 344541836 2022.8729      A         b\n",
       "TIC 367448265   23.1848      B         a\n",
       "TIC 375325607   22.8726      A         b\n",
       "TIC 389836747   22.8675      A         b\n",
       "TIC 470710327    23.798      A         a\n",
       "TIC 470710327   23.7983      A         a\n",
       "TIC 470710327   23.8008      A         a\n",
       "TIC 470710327   23.8012      A         a\n",
       "TIC 470710327   23.8013      A         a\n",
       "TIC 470710327   23.8015      A         a"
      ]
     },
     "execution_count": 71,
     "metadata": {},
     "output_type": "execute_result"
    }
   ],
   "source": [
    "eclipses = tb.Table.read(\"Eclipse observations.csv\")\n",
    "eclipses"
   ]
  },
  {
   "cell_type": "code",
   "execution_count": 7,
   "metadata": {},
   "outputs": [
    {
     "data": {
      "text/html": [
       "<div><i>Table length=1048</i>\n",
       "<table id=\"table2427458053104\" class=\"table-striped table-bordered table-condensed\">\n",
       "<thead><tr><th>Name</th><th>ImageNum</th><th>Gain1</th><th>Gain2</th><th>RA</th><th>Dec</th><th>PMRA</th><th>PMDec</th><th>Mag</th><th>DateTimeUtc</th><th>TIC ID</th><th>BYear</th><th>JD</th></tr></thead>\n",
       "<thead><tr><th>str7</th><th>int32</th><th>int32</th><th>int32</th><th>float64</th><th>float64</th><th>float64</th><th>float64</th><th>float64</th><th>str19</th><th>str13</th><th>float64</th><th>float64</th></tr></thead>\n",
       "<tr><td>H300032</td><td>91</td><td>300</td><td>300</td><td>8.85125</td><td>62.9015833333</td><td>-2.727</td><td>-0.154</td><td>11.73</td><td>2022-09-28 08:22:00</td><td>TIC 283940788</td><td>2022.7419373794528</td><td>2459850.8486111113</td></tr>\n",
       "<tr><td>H300032</td><td>92</td><td>300</td><td>300</td><td>8.85125</td><td>62.9015833333</td><td>-2.727</td><td>-0.154</td><td>11.73</td><td>2022-09-28 08:23:00</td><td>TIC 283940788</td><td>2022.7419392807785</td><td>2459850.8493055557</td></tr>\n",
       "<tr><td>H300032</td><td>93</td><td>300</td><td>300</td><td>8.85125</td><td>62.9015833333</td><td>-2.727</td><td>-0.154</td><td>11.73</td><td>2022-09-28 08:25:00</td><td>TIC 283940788</td><td>2022.7419430834302</td><td>2459850.8506944445</td></tr>\n",
       "<tr><td>H300032</td><td>94</td><td>300</td><td>300</td><td>8.85125</td><td>62.9015833333</td><td>-2.727</td><td>-0.154</td><td>11.73</td><td>2022-09-28 08:26:00</td><td>TIC 283940788</td><td>2022.7419449847562</td><td>2459850.851388889</td></tr>\n",
       "<tr><td>H300032</td><td>95</td><td>300</td><td>300</td><td>8.85125</td><td>62.9015833333</td><td>-2.727</td><td>-0.154</td><td>11.73</td><td>2022-09-28 08:28:00</td><td>TIC 283940788</td><td>2022.7419487874079</td><td>2459850.8527777777</td></tr>\n",
       "<tr><td>H300033</td><td>97</td><td>300</td><td>300</td><td>11.86375</td><td>64.8180277777</td><td>-2.559</td><td>-0.239</td><td>12.02</td><td>2022-09-28 08:36:00</td><td>TIC 284814380</td><td>2022.7419639980149</td><td>2459850.8583333334</td></tr>\n",
       "<tr><td>H300033</td><td>98</td><td>300</td><td>300</td><td>11.86375</td><td>64.8180277777</td><td>-2.559</td><td>-0.239</td><td>12.02</td><td>2022-09-28 08:37:00</td><td>TIC 284814380</td><td>2022.7419658993408</td><td>2459850.859027778</td></tr>\n",
       "<tr><td>H300033</td><td>99</td><td>300</td><td>300</td><td>11.86375</td><td>64.8180277777</td><td>-2.559</td><td>-0.239</td><td>12.02</td><td>2022-09-28 08:39:00</td><td>TIC 284814380</td><td>2022.7419697019927</td><td>2459850.8604166666</td></tr>\n",
       "<tr><td>H300033</td><td>100</td><td>300</td><td>300</td><td>11.86375</td><td>64.8180277777</td><td>-2.559</td><td>-0.239</td><td>12.02</td><td>2022-09-28 08:41:00</td><td>TIC 284814380</td><td>2022.7419735046444</td><td>2459850.8618055554</td></tr>\n",
       "<tr><td>H300033</td><td>101</td><td>300</td><td>300</td><td>11.86375</td><td>64.8180277777</td><td>-2.559</td><td>-0.239</td><td>12.02</td><td>2022-09-28 08:42:00</td><td>TIC 284814380</td><td>2022.7419754059702</td><td>2459850.8625</td></tr>\n",
       "<tr><td>...</td><td>...</td><td>...</td><td>...</td><td>...</td><td>...</td><td>...</td><td>...</td><td>...</td><td>...</td><td>...</td><td>...</td><td>...</td></tr>\n",
       "<tr><td>H300131</td><td>288</td><td>300</td><td>300</td><td>324.800416</td><td>51.3466666666</td><td>1.13</td><td>-5.66</td><td>10.19</td><td>2024-05-28 10:39:00</td><td>TIC 278465736</td><td>2024.406846694199</td><td>2460458.94375</td></tr>\n",
       "<tr><td>H300093</td><td>290</td><td>300</td><td>300</td><td>336.837916</td><td>56.7402777777</td><td>-3.66</td><td>-2.95</td><td>10.94</td><td>2024-05-28 10:47:00</td><td>TIC 414026507</td><td>2024.406861904806</td><td>2460458.949305556</td></tr>\n",
       "<tr><td>H300093</td><td>291</td><td>300</td><td>300</td><td>336.837916</td><td>56.7402777777</td><td>-3.66</td><td>-2.95</td><td>10.94</td><td>2024-05-28 10:49:00</td><td>TIC 414026507</td><td>2024.4068657074577</td><td>2460458.9506944446</td></tr>\n",
       "<tr><td>H300093</td><td>292</td><td>300</td><td>300</td><td>336.837916</td><td>56.7402777777</td><td>-3.66</td><td>-2.95</td><td>10.94</td><td>2024-05-28 10:50:00</td><td>TIC 414026507</td><td>2024.4068676087836</td><td>2460458.951388889</td></tr>\n",
       "<tr><td>H300093</td><td>293</td><td>300</td><td>300</td><td>336.837916</td><td>56.7402777777</td><td>-3.66</td><td>-2.95</td><td>10.94</td><td>2024-05-28 10:53:00</td><td>TIC 414026507</td><td>2024.4068733127613</td><td>2460458.953472222</td></tr>\n",
       "<tr><td>H300093</td><td>294</td><td>300</td><td>300</td><td>336.837916</td><td>56.7402777777</td><td>-3.66</td><td>-2.95</td><td>10.94</td><td>2024-05-28 10:59:00</td><td>TIC 414026507</td><td>2024.4068847207166</td><td>2460458.957638889</td></tr>\n",
       "<tr><td>H300093</td><td>295</td><td>300</td><td>300</td><td>336.837916</td><td>56.7402777777</td><td>-3.66</td><td>-2.95</td><td>10.94</td><td>2024-05-28 11:01:00</td><td>TIC 414026507</td><td>2024.4068885233683</td><td>2460458.959027778</td></tr>\n",
       "<tr><td>H300093</td><td>296</td><td>300</td><td>300</td><td>336.837916</td><td>56.7402777777</td><td>-3.66</td><td>-2.95</td><td>10.94</td><td>2024-05-28 11:04:00</td><td>TIC 414026507</td><td>2024.406894227346</td><td>2460458.961111111</td></tr>\n",
       "<tr><td>H300093</td><td>297</td><td>300</td><td>300</td><td>336.837916</td><td>56.7402777777</td><td>-3.66</td><td>-2.95</td><td>10.94</td><td>2024-05-28 11:05:00</td><td>TIC 414026507</td><td>2024.4068961286719</td><td>2460458.9618055555</td></tr>\n",
       "<tr><td>H300093</td><td>298</td><td>300</td><td>300</td><td>336.837916</td><td>56.7402777777</td><td>-3.66</td><td>-2.95</td><td>10.94</td><td>2024-05-28 11:07:00</td><td>TIC 414026507</td><td>2024.4068999313236</td><td>2460458.9631944443</td></tr>\n",
       "</table></div>"
      ],
      "text/plain": [
       "<Table length=1048>\n",
       "  Name  ImageNum Gain1 ...     TIC ID          BYear                JD        \n",
       "  str7   int32   int32 ...     str13          float64            float64      \n",
       "------- -------- ----- ... ------------- ------------------ ------------------\n",
       "H300032       91   300 ... TIC 283940788 2022.7419373794528 2459850.8486111113\n",
       "H300032       92   300 ... TIC 283940788 2022.7419392807785 2459850.8493055557\n",
       "H300032       93   300 ... TIC 283940788 2022.7419430834302 2459850.8506944445\n",
       "H300032       94   300 ... TIC 283940788 2022.7419449847562  2459850.851388889\n",
       "H300032       95   300 ... TIC 283940788 2022.7419487874079 2459850.8527777777\n",
       "H300033       97   300 ... TIC 284814380 2022.7419639980149 2459850.8583333334\n",
       "H300033       98   300 ... TIC 284814380 2022.7419658993408  2459850.859027778\n",
       "H300033       99   300 ... TIC 284814380 2022.7419697019927 2459850.8604166666\n",
       "H300033      100   300 ... TIC 284814380 2022.7419735046444 2459850.8618055554\n",
       "H300033      101   300 ... TIC 284814380 2022.7419754059702       2459850.8625\n",
       "    ...      ...   ... ...           ...                ...                ...\n",
       "H300131      288   300 ... TIC 278465736  2024.406846694199      2460458.94375\n",
       "H300093      290   300 ... TIC 414026507  2024.406861904806  2460458.949305556\n",
       "H300093      291   300 ... TIC 414026507 2024.4068657074577 2460458.9506944446\n",
       "H300093      292   300 ... TIC 414026507 2024.4068676087836  2460458.951388889\n",
       "H300093      293   300 ... TIC 414026507 2024.4068733127613  2460458.953472222\n",
       "H300093      294   300 ... TIC 414026507 2024.4068847207166  2460458.957638889\n",
       "H300093      295   300 ... TIC 414026507 2024.4068885233683  2460458.959027778\n",
       "H300093      296   300 ... TIC 414026507  2024.406894227346  2460458.961111111\n",
       "H300093      297   300 ... TIC 414026507 2024.4068961286719 2460458.9618055555\n",
       "H300093      298   300 ... TIC 414026507 2024.4068999313236 2460458.9631944443"
      ]
     },
     "execution_count": 7,
     "metadata": {},
     "output_type": "execute_result"
    }
   ],
   "source": [
    "tic_observations = tb.Table.read(\"../Process DSSI olist logs/TIC observations.csv\")\n",
    "tic_observations"
   ]
  },
  {
   "cell_type": "code",
   "execution_count": 15,
   "metadata": {},
   "outputs": [
    {
     "data": {
      "text/html": [
       "<div><i>Table length=1778</i>\n",
       "<table id=\"table2427459117632\" class=\"table-striped table-bordered table-condensed\">\n",
       "<thead><tr><th>TIC ID</th><th>JD</th><th>target_name</th><th>ephem_member</th><th>ephem_period</th><th>ephem_t0_a</th><th>ephem_duration_a</th><th>ephem_t0_b</th><th>ephem_duration_b</th></tr></thead>\n",
       "<thead><tr><th>str13</th><th>float64</th><th>str14</th><th>str1</th><th>float64</th><th>float64</th><th>float64</th><th>float64</th><th>float64</th></tr></thead>\n",
       "<tr><td>TIC 123098844</td><td>2459851.715277778</td><td>TIC 123098844</td><td>A</td><td>1.730707</td><td>2458685.852</td><td>--</td><td>--</td><td>--</td></tr>\n",
       "<tr><td>TIC 123098844</td><td>2459851.715277778</td><td>TIC 123098844</td><td>B</td><td>11.210254</td><td>2458685.345</td><td>--</td><td>--</td><td>--</td></tr>\n",
       "<tr><td>TIC 123098844</td><td>2459851.7159722224</td><td>TIC 123098844</td><td>A</td><td>1.730707</td><td>2458685.852</td><td>--</td><td>--</td><td>--</td></tr>\n",
       "<tr><td>TIC 123098844</td><td>2459851.7159722224</td><td>TIC 123098844</td><td>B</td><td>11.210254</td><td>2458685.345</td><td>--</td><td>--</td><td>--</td></tr>\n",
       "<tr><td>TIC 123098844</td><td>2459851.717361111</td><td>TIC 123098844</td><td>A</td><td>1.730707</td><td>2458685.852</td><td>--</td><td>--</td><td>--</td></tr>\n",
       "<tr><td>TIC 123098844</td><td>2459851.717361111</td><td>TIC 123098844</td><td>B</td><td>11.210254</td><td>2458685.345</td><td>--</td><td>--</td><td>--</td></tr>\n",
       "<tr><td>TIC 123098844</td><td>2459851.7138888887</td><td>TIC 123098844</td><td>A</td><td>1.730707</td><td>2458685.852</td><td>--</td><td>--</td><td>--</td></tr>\n",
       "<tr><td>TIC 123098844</td><td>2459851.7138888887</td><td>TIC 123098844</td><td>B</td><td>11.210254</td><td>2458685.345</td><td>--</td><td>--</td><td>--</td></tr>\n",
       "<tr><td>TIC 123098844</td><td>2459851.7131944443</td><td>TIC 123098844</td><td>A</td><td>1.730707</td><td>2458685.852</td><td>--</td><td>--</td><td>--</td></tr>\n",
       "<tr><td>TIC 123098844</td><td>2459851.7131944443</td><td>TIC 123098844</td><td>B</td><td>11.210254</td><td>2458685.345</td><td>--</td><td>--</td><td>--</td></tr>\n",
       "<tr><td>...</td><td>...</td><td>...</td><td>...</td><td>...</td><td>...</td><td>...</td><td>...</td><td>...</td></tr>\n",
       "<tr><td>TIC 95928255</td><td>2460011.734027778</td><td>TIC 95928255</td><td>B</td><td>4.426586</td><td>2458518.7943</td><td>--</td><td>--</td><td>--</td></tr>\n",
       "<tr><td>TIC 95928255</td><td>2460011.734027778</td><td>TIC 95928255</td><td>A</td><td>2.36543</td><td>2458518.123</td><td>2.5</td><td>2458519.306425</td><td>2.5</td></tr>\n",
       "<tr><td>TIC 95928255</td><td>2460011.7368055554</td><td>TIC 95928255</td><td>B</td><td>4.426586</td><td>2458518.7943</td><td>--</td><td>--</td><td>--</td></tr>\n",
       "<tr><td>TIC 95928255</td><td>2460011.7368055554</td><td>TIC 95928255</td><td>A</td><td>2.36543</td><td>2458518.123</td><td>2.5</td><td>2458519.306425</td><td>2.5</td></tr>\n",
       "<tr><td>TIC 95928255</td><td>2460011.7270833333</td><td>TIC 95928255</td><td>B</td><td>4.426586</td><td>2458518.7943</td><td>--</td><td>--</td><td>--</td></tr>\n",
       "<tr><td>TIC 95928255</td><td>2460011.7270833333</td><td>TIC 95928255</td><td>A</td><td>2.36543</td><td>2458518.123</td><td>2.5</td><td>2458519.306425</td><td>2.5</td></tr>\n",
       "<tr><td>TIC 95928255</td><td>2460011.729861111</td><td>TIC 95928255</td><td>B</td><td>4.426586</td><td>2458518.7943</td><td>--</td><td>--</td><td>--</td></tr>\n",
       "<tr><td>TIC 95928255</td><td>2460011.729861111</td><td>TIC 95928255</td><td>A</td><td>2.36543</td><td>2458518.123</td><td>2.5</td><td>2458519.306425</td><td>2.5</td></tr>\n",
       "<tr><td>TIC 97356407</td><td>2459895.972222222</td><td>TIC 97356407</td><td>A</td><td>1.533535</td><td>2458494.5954</td><td>4.0</td><td>2458495.363548</td><td>4.0</td></tr>\n",
       "<tr><td>TIC 97356407</td><td>2459895.972222222</td><td>TIC 97356407</td><td>B</td><td>8.098533</td><td>2458493.0889</td><td>7.7</td><td>2458498.407207</td><td>7.7</td></tr>\n",
       "</table></div>"
      ],
      "text/plain": [
       "<Table length=1778>\n",
       "    TIC ID            JD         ...   ephem_t0_b   ephem_duration_b\n",
       "    str13          float64       ...    float64         float64     \n",
       "------------- ------------------ ... -------------- ----------------\n",
       "TIC 123098844  2459851.715277778 ...             --               --\n",
       "TIC 123098844  2459851.715277778 ...             --               --\n",
       "TIC 123098844 2459851.7159722224 ...             --               --\n",
       "TIC 123098844 2459851.7159722224 ...             --               --\n",
       "TIC 123098844  2459851.717361111 ...             --               --\n",
       "TIC 123098844  2459851.717361111 ...             --               --\n",
       "TIC 123098844 2459851.7138888887 ...             --               --\n",
       "TIC 123098844 2459851.7138888887 ...             --               --\n",
       "TIC 123098844 2459851.7131944443 ...             --               --\n",
       "TIC 123098844 2459851.7131944443 ...             --               --\n",
       "          ...                ... ...            ...              ...\n",
       " TIC 95928255  2460011.734027778 ...             --               --\n",
       " TIC 95928255  2460011.734027778 ... 2458519.306425              2.5\n",
       " TIC 95928255 2460011.7368055554 ...             --               --\n",
       " TIC 95928255 2460011.7368055554 ... 2458519.306425              2.5\n",
       " TIC 95928255 2460011.7270833333 ...             --               --\n",
       " TIC 95928255 2460011.7270833333 ... 2458519.306425              2.5\n",
       " TIC 95928255  2460011.729861111 ...             --               --\n",
       " TIC 95928255  2460011.729861111 ... 2458519.306425              2.5\n",
       " TIC 97356407  2459895.972222222 ... 2458495.363548              4.0\n",
       " TIC 97356407  2459895.972222222 ... 2458498.407207              7.7"
      ]
     },
     "execution_count": 15,
     "metadata": {},
     "output_type": "execute_result"
    }
   ],
   "source": [
    "tb.join(\n",
    "    tic_observations[[\"TIC ID\", \"JD\"]],\n",
    "    targets[[\"target_name\", \"ephem_member\", \"ephem_period\", \"ephem_t0_a\", \"ephem_duration_a\", \"ephem_t0_b\", \"ephem_duration_b\"]],\n",
    "    keys_left=\"TIC ID\",\n",
    "    keys_right=\"target_name\")"
   ]
  },
  {
   "cell_type": "code",
   "execution_count": 78,
   "metadata": {},
   "outputs": [
    {
     "data": {
      "text/html": [
       "<div><i>Table length=15</i>\n",
       "<table id=\"table2427453907760\" class=\"table-striped table-bordered table-condensed\">\n",
       "<thead><tr><th>TIC</th><th>Member</th><th>Component</th><th>Confirmed</th><th>Period</th><th>T_0</th><th>Duration</th><th>Num Periods</th></tr></thead>\n",
       "<thead><tr><th>str13</th><th>str1</th><th>str1</th><th>bool</th><th>float64</th><th>float64</th><th>float64</th><th>float64</th></tr></thead>\n",
       "<tr><td>TIC 78568780</td><td>A</td><td>a</td><td>False</td><td>2.88838</td><td>2458468.5374</td><td>0.1625</td><td>479.3306323096533</td></tr>\n",
       "<tr><td>TIC 161043618</td><td>A</td><td>b</td><td>True</td><td>1.350249</td><td>2458745.394749</td><td>0.16666666666666666</td><td>715.0109903910744</td></tr>\n",
       "<tr><td>TIC 283940788</td><td>A</td><td>b</td><td>True</td><td>0.876867</td><td>2458766.180072</td><td>0.2708333333333333</td><td>1236.9662520743975</td></tr>\n",
       "<tr><td>TIC 317863971</td><td>B</td><td>a</td><td>False</td><td>3.733625</td><td>2458499.5708</td><td>0.15833333333333333</td><td>374.7912636961212</td></tr>\n",
       "<tr><td>TIC 344541836</td><td>B</td><td>a</td><td>True</td><td>2.755276</td><td>2458713.3358</td><td>0.20833333333333334</td><td>413.1886563358971</td></tr>\n",
       "<tr><td>TIC 344541836</td><td>A</td><td>b</td><td>True</td><td>2.409932</td><td>2458715.416345</td><td>0.18333333333333335</td><td>490.9953233527232</td></tr>\n",
       "<tr><td>TIC 367448265</td><td>B</td><td>a</td><td>False</td><td>1.86552</td><td>2458816.8633</td><td>0.17916666666666667</td><td>-390930.4966623794</td></tr>\n",
       "<tr><td>TIC 375325607</td><td>A</td><td>b</td><td>False</td><td>1.311984</td><td>2458712.617118</td><td>0.14583333333333334</td><td>-555874.4943277219</td></tr>\n",
       "<tr><td>TIC 389836747</td><td>A</td><td>b</td><td>True</td><td>2.56703</td><td>2458793.570314</td><td>0.3416666666666666</td><td>-284134.2946896902</td></tr>\n",
       "<tr><td>TIC 470710327</td><td>A</td><td>a</td><td>True</td><td>1.104686</td><td>2458765.1668</td><td>0.24166666666666667</td><td>-659927.7958780229</td></tr>\n",
       "<tr><td>TIC 470710327</td><td>A</td><td>a</td><td>False</td><td>1.104686</td><td>2458765.1668</td><td>0.24166666666666667</td><td>-659927.6966890593</td></tr>\n",
       "<tr><td>TIC 470710327</td><td>A</td><td>a</td><td>True</td><td>1.104686</td><td>2458765.1668</td><td>0.24166666666666667</td><td>-659926.8701143609</td></tr>\n",
       "<tr><td>TIC 470710327</td><td>A</td><td>a</td><td>False</td><td>1.104686</td><td>2458765.1668</td><td>0.24166666666666667</td><td>-659926.7378624092</td></tr>\n",
       "<tr><td>TIC 470710327</td><td>A</td><td>a</td><td>False</td><td>1.104686</td><td>2458765.1668</td><td>0.24166666666666667</td><td>-659926.7047994212</td></tr>\n",
       "<tr><td>TIC 470710327</td><td>A</td><td>a</td><td>False</td><td>1.104686</td><td>2458765.1668</td><td>0.24166666666666667</td><td>-659926.6386734456</td></tr>\n",
       "</table></div>"
      ],
      "text/plain": [
       "<Table length=15>\n",
       "     TIC      Member Component ...       Duration         Num Periods    \n",
       "    str13      str1     str1   ...       float64            float64      \n",
       "------------- ------ --------- ... ------------------- ------------------\n",
       " TIC 78568780      A         a ...              0.1625  479.3306323096533\n",
       "TIC 161043618      A         b ... 0.16666666666666666  715.0109903910744\n",
       "TIC 283940788      A         b ...  0.2708333333333333 1236.9662520743975\n",
       "TIC 317863971      B         a ... 0.15833333333333333  374.7912636961212\n",
       "TIC 344541836      B         a ... 0.20833333333333334  413.1886563358971\n",
       "TIC 344541836      A         b ... 0.18333333333333335  490.9953233527232\n",
       "TIC 367448265      B         a ... 0.17916666666666667 -390930.4966623794\n",
       "TIC 375325607      A         b ... 0.14583333333333334 -555874.4943277219\n",
       "TIC 389836747      A         b ...  0.3416666666666666 -284134.2946896902\n",
       "TIC 470710327      A         a ... 0.24166666666666667 -659927.7958780229\n",
       "TIC 470710327      A         a ... 0.24166666666666667 -659927.6966890593\n",
       "TIC 470710327      A         a ... 0.24166666666666667 -659926.8701143609\n",
       "TIC 470710327      A         a ... 0.24166666666666667 -659926.7378624092\n",
       "TIC 470710327      A         a ... 0.24166666666666667 -659926.7047994212\n",
       "TIC 470710327      A         a ... 0.24166666666666667 -659926.6386734456"
      ]
     },
     "execution_count": 78,
     "metadata": {},
     "output_type": "execute_result"
    }
   ],
   "source": [
    "# tic = \"78568780\"\n",
    "# member = \"A\"\n",
    "# component = \"a\"\n",
    "# eclipse = 2459853.0006944444\n",
    "\n",
    "rows = []\n",
    "for eclipse in eclipses:\n",
    "    t = Time(eclipse[\"Byear\"], format=\"byear\").jd\n",
    "    tic = eclipse[\"TIC\"]\n",
    "    member = eclipse[\"System\"]\n",
    "    component = eclipse[\"Component\"]\n",
    "    ephem = targets[(targets[\"target_name\"] == tic) & (targets[\"ephem_member\"] == member)]\n",
    "    t0 = float(ephem[f\"ephem_t0_{component}\"])\n",
    "    duration = float(ephem[f\"ephem_duration_{component}\"]) / 24\n",
    "    period = float(ephem[\"ephem_period\"])\n",
    "    cycles = (t - t0) / period\n",
    "    confirmed = abs(cycles - round(cycles)) < duration\n",
    "    rows.append((tic, member, component, confirmed, period, t0, duration, cycles))\n",
    "\n",
    "results = tb.Table(rows=rows, names=[\"TIC\", \"Member\", \"Component\", \"Confirmed\", \"Period\", \"T_0\", \"Duration\", \"Num Periods\"])\n",
    "results\n",
    "\n",
    "\n"
   ]
  }
 ],
 "metadata": {
  "kernelspec": {
   "display_name": "Astro",
   "language": "python",
   "name": "python3"
  },
  "language_info": {
   "codemirror_mode": {
    "name": "ipython",
    "version": 3
   },
   "file_extension": ".py",
   "mimetype": "text/x-python",
   "name": "python",
   "nbconvert_exporter": "python",
   "pygments_lexer": "ipython3",
   "version": "3.12.2"
  }
 },
 "nbformat": 4,
 "nbformat_minor": 2
}
