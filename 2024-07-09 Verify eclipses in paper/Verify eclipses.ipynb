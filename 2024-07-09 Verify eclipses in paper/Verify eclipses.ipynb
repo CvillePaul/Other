{
 "cells": [
  {
   "cell_type": "code",
   "execution_count": 6,
   "metadata": {},
   "outputs": [],
   "source": [
    "import astropy.table as tb\n",
    "from astropy.time import Time\n"
   ]
  },
  {
   "cell_type": "code",
   "execution_count": 48,
   "metadata": {},
   "outputs": [
    {
     "data": {
      "text/html": [
       "<div><i>Table length=161</i>\n",
       "<table id=\"table2679631082944\" class=\"table-striped table-bordered table-condensed\">\n",
       "<thead><tr><th>Target Name</th><th>TIC ID</th><th>Speckle Session</th><th>StartTime JD</th><th>MidTime JD</th><th>EndTime JD</th><th>MidTime UTC</th><th>Num Sequences</th><th>MidTime Byear</th></tr></thead>\n",
       "<thead><tr><th>str12</th><th>str13</th><th>int32</th><th>float64</th><th>float64</th><th>float64</th><th>str19</th><th>int32</th><th>float64</th></tr></thead>\n",
       "<tr><td>H300038</td><td>TIC 328181241</td><td>12</td><td>2459849.8666666667</td><td>2459849.8680555555</td><td>2459849.8694444443</td><td>2022-09-27 08:50:00</td><td>3</td><td>2022.739252707312</td></tr>\n",
       "<tr><td>H300043</td><td>TIC 168789840</td><td>20</td><td>2459849.929861111</td><td>2459849.93125</td><td>2459849.9326388887</td><td>2022-09-27 10:21:00</td><td>3</td><td>2022.739425727967</td></tr>\n",
       "<tr><td>H300045</td><td>TIC 454140642</td><td>22</td><td>2459849.9381944444</td><td>2459849.939236111</td><td>2459849.9402777776</td><td>2022-09-27 10:32:30</td><td>3</td><td>2022.7394475932147</td></tr>\n",
       "<tr><td>H300046</td><td>TIC 139650665</td><td>29</td><td>2459849.961111111</td><td>2459849.963194445</td><td>2459849.965277778</td><td>2022-09-27 11:07:00</td><td>3</td><td>2022.7395131889587</td></tr>\n",
       "<tr><td>H300047</td><td>TIC 178953404</td><td>30</td><td>2459849.967361111</td><td>2459849.9697916666</td><td>2459849.972222222</td><td>2022-09-27 11:16:30</td><td>5</td><td>2022.7395312515532</td></tr>\n",
       "<tr><td>H300051</td><td>TIC 200094011</td><td>39</td><td>2459850.019444444</td><td>2459850.020833333</td><td>2459850.0222222223</td><td>2022-09-27 12:30:00</td><td>3</td><td>2022.7396709990046</td></tr>\n",
       "<tr><td>H300036</td><td>TIC 389836747</td><td>43</td><td>2459850.834027778</td><td>2459850.834027778</td><td>2459850.834027778</td><td>2022-09-28 08:01:00</td><td>1</td><td>2022.7418974516095</td></tr>\n",
       "<tr><td>H300032</td><td>TIC 283940788</td><td>46</td><td>2459850.8486111113</td><td>2459850.8506944445</td><td>2459850.8527777777</td><td>2022-09-28 08:25:00</td><td>5</td><td>2022.7419430834304</td></tr>\n",
       "<tr><td>H300033</td><td>TIC 284814380</td><td>48</td><td>2459850.8583333334</td><td>2459850.8604166666</td><td>2459850.8625</td><td>2022-09-28 08:39:00</td><td>5</td><td>2022.7419697019925</td></tr>\n",
       "<tr><td>H300035</td><td>TIC 52856877</td><td>49</td><td>2459850.865277778</td><td>2459850.8677083333</td><td>2459850.8701388887</td><td>2022-09-28 08:49:30</td><td>5</td><td>2022.7419896659142</td></tr>\n",
       "<tr><td>...</td><td>...</td><td>...</td><td>...</td><td>...</td><td>...</td><td>...</td><td>...</td><td>...</td></tr>\n",
       "<tr><td>H######</td><td>TIC 288391628</td><td>1951</td><td>2460456.935416667</td><td>2460456.935416667</td><td>2460456.935416667</td><td>2024-05-26 10:27:00</td><td>5</td><td>2024.4013480597587</td></tr>\n",
       "<tr><td>H300089</td><td>TIC 344541836</td><td>2008</td><td>2460457.8</td><td>2460457.8</td><td>2460457.8</td><td>2024-05-27 07:12:00</td><td>1</td><td>2024.4037152104765</td></tr>\n",
       "<tr><td>H300089</td><td>TIC 344541836</td><td>2011</td><td>2460457.80625</td><td>2460457.8079861114</td><td>2460457.8097222224</td><td>2024-05-27 07:23:30</td><td>3</td><td>2024.4037370757255</td></tr>\n",
       "<tr><td>H300089</td><td>TIC 344541836</td><td>2052</td><td>2460457.9305555555</td><td>2460457.931597222</td><td>2460457.9326388887</td><td>2024-05-27 10:21:30</td><td>3</td><td>2024.4040755117308</td></tr>\n",
       "<tr><td>H300131</td><td>TIC 278465736</td><td>2141</td><td>2460458.800694444</td><td>2460458.8027777774</td><td>2460458.804861111</td><td>2024-05-28 07:16:00</td><td>5</td><td>2024.4064607250446</td></tr>\n",
       "<tr><td>H310118</td><td>TIC 392799977</td><td>2163</td><td>2460458.855555556</td><td>2460458.8625</td><td>2460458.8694444443</td><td>2024-05-28 08:42:00</td><td>9</td><td>2024.4066242390707</td></tr>\n",
       "<tr><td>H300131</td><td>TIC 278465736</td><td>2166</td><td>2460458.877083333</td><td>2460458.8791666664</td><td>2460458.88125</td><td>2024-05-28 09:06:00</td><td>5</td><td>2024.4066698708916</td></tr>\n",
       "<tr><td>H310021</td><td>TIC 467220877</td><td>2168</td><td>2460458.886805556</td><td>2460458.892013889</td><td>2460458.8972222223</td><td>2024-05-28 09:24:30</td><td>9</td><td>2024.4067050454207</td></tr>\n",
       "<tr><td>H300131</td><td>TIC 278465736</td><td>2188</td><td>2460458.938888889</td><td>2460458.941319444</td><td>2460458.94375</td><td>2024-05-28 10:35:30</td><td>5</td><td>2024.4068400395577</td></tr>\n",
       "<tr><td>H300093</td><td>TIC 414026507</td><td>2190</td><td>2460458.949305556</td><td>2460458.95625</td><td>2460458.9631944443</td><td>2024-05-28 10:57:00</td><td>9</td><td>2024.4068809180642</td></tr>\n",
       "</table></div>"
      ],
      "text/plain": [
       "<Table length=161>\n",
       "Target Name     TIC ID    Speckle Session ... Num Sequences   MidTime Byear   \n",
       "   str12        str13          int32      ...     int32          float64      \n",
       "----------- ------------- --------------- ... ------------- ------------------\n",
       "    H300038 TIC 328181241              12 ...             3  2022.739252707312\n",
       "    H300043 TIC 168789840              20 ...             3  2022.739425727967\n",
       "    H300045 TIC 454140642              22 ...             3 2022.7394475932147\n",
       "    H300046 TIC 139650665              29 ...             3 2022.7395131889587\n",
       "    H300047 TIC 178953404              30 ...             5 2022.7395312515532\n",
       "    H300051 TIC 200094011              39 ...             3 2022.7396709990046\n",
       "    H300036 TIC 389836747              43 ...             1 2022.7418974516095\n",
       "    H300032 TIC 283940788              46 ...             5 2022.7419430834304\n",
       "    H300033 TIC 284814380              48 ...             5 2022.7419697019925\n",
       "    H300035  TIC 52856877              49 ...             5 2022.7419896659142\n",
       "        ...           ...             ... ...           ...                ...\n",
       "    H###### TIC 288391628            1951 ...             5 2024.4013480597587\n",
       "    H300089 TIC 344541836            2008 ...             1 2024.4037152104765\n",
       "    H300089 TIC 344541836            2011 ...             3 2024.4037370757255\n",
       "    H300089 TIC 344541836            2052 ...             3 2024.4040755117308\n",
       "    H300131 TIC 278465736            2141 ...             5 2024.4064607250446\n",
       "    H310118 TIC 392799977            2163 ...             9 2024.4066242390707\n",
       "    H300131 TIC 278465736            2166 ...             5 2024.4066698708916\n",
       "    H310021 TIC 467220877            2168 ...             9 2024.4067050454207\n",
       "    H300131 TIC 278465736            2188 ...             5 2024.4068400395577\n",
       "    H300093 TIC 414026507            2190 ...             9 2024.4068809180642"
      ]
     },
     "execution_count": 48,
     "metadata": {},
     "output_type": "execute_result"
    }
   ],
   "source": [
    "dssi_sessions = tb.Table.read(\"../2024-07-08 Process DSSI olist logs/DSSI sessions.csv\")\n",
    "\n",
    "tic_sessions = dssi_sessions[(dssi_sessions[\"TIC ID\"].mask == False) & (dssi_sessions[\"MidTime JD\"] > 0)]\n",
    "tic_sessions[\"MidTime Byear\"] = Time(tic_sessions[\"MidTime JD\"], format=\"jd\").byear\n",
    "tic_sessions#[tic_sessions[\"Target Name\"] == \"TIC 269811101\"]\n"
   ]
  },
  {
   "cell_type": "code",
   "execution_count": 8,
   "metadata": {},
   "outputs": [
    {
     "data": {
      "text/html": [
       "<div><i>Table length=398</i>\n",
       "<table id=\"table2679624030192\" class=\"table-striped table-bordered table-condensed\">\n",
       "<thead><tr><th>Local ID</th><th>Member</th><th>Period</th><th>T0 Primary</th><th>T0 Secondary</th><th>Depth Primary</th><th>Depth Secondary</th><th>Duration Primary</th><th>Duration Secondary</th></tr></thead>\n",
       "<thead><tr><th>str14</th><th>str1</th><th>float64</th><th>float64</th><th>float64</th><th>int32</th><th>int32</th><th>float64</th><th>float64</th></tr></thead>\n",
       "<tr><td>TIC 9493888</td><td>A</td><td>2.098992</td><td>1816.2345</td><td>1817.283786</td><td>146</td><td>117</td><td>2.9</td><td>2.7</td></tr>\n",
       "<tr><td>TIC 25818450</td><td>A</td><td>10.132402</td><td>1769.9109</td><td>1776.391584</td><td>12</td><td>9</td><td>--</td><td>--</td></tr>\n",
       "<tr><td>TIC 27543409</td><td>A</td><td>2.122862</td><td>1493.1001</td><td>1494.153889</td><td>50</td><td>15</td><td>--</td><td>--</td></tr>\n",
       "<tr><td>TIC 31928452</td><td>A</td><td>2.8823</td><td>1337.9129</td><td>1339.358085</td><td>30</td><td>25</td><td>2.1</td><td>1.6</td></tr>\n",
       "<tr><td>TIC 52856877</td><td>A</td><td>5.186818</td><td>1791.059</td><td>1793.652928</td><td>220</td><td>90</td><td>5.5</td><td>5.5</td></tr>\n",
       "<tr><td>TIC 63459761</td><td>A</td><td>4.244072</td><td>1715.1118</td><td>1717.168477</td><td>15</td><td>10</td><td>7.0</td><td>9.2</td></tr>\n",
       "<tr><td>TIC 75740921</td><td>A</td><td>0.93308</td><td>1519.6949</td><td>1520.16256</td><td>87</td><td>59</td><td>2.7</td><td>2.6</td></tr>\n",
       "<tr><td>TIC 78568780</td><td>A</td><td>2.88838</td><td>1468.5374</td><td>1469.962816</td><td>57</td><td>20</td><td>3.9</td><td>3.7</td></tr>\n",
       "<tr><td>TIC 79140936</td><td>A</td><td>3.54389</td><td>1468.3795</td><td>1469.78607</td><td>23</td><td>7</td><td>3.7</td><td>3.4</td></tr>\n",
       "<tr><td>TIC 89278612</td><td>A</td><td>2.557052</td><td>1684.2273</td><td>1685.507872</td><td>53</td><td>32</td><td>4.5</td><td>4.6</td></tr>\n",
       "<tr><td>...</td><td>...</td><td>...</td><td>...</td><td>...</td><td>...</td><td>...</td><td>...</td><td>...</td></tr>\n",
       "<tr><td>TIC 384735219</td><td>B</td><td>8.94046</td><td>1798.8181</td><td>1794.3091</td><td>119</td><td>66</td><td>7.2</td><td>7.1</td></tr>\n",
       "<tr><td>TIC 244279814</td><td>B</td><td>9.1205</td><td>1442.8405</td><td>1447.5755</td><td>28</td><td>--</td><td>4.2</td><td>--</td></tr>\n",
       "<tr><td>TIC 382182610</td><td>B</td><td>11.78085534</td><td>2047.690331</td><td>2041.7416</td><td>28</td><td>12</td><td>4.5</td><td>4.0</td></tr>\n",
       "<tr><td>TIC 53158069</td><td>B</td><td>14.49556</td><td>1469.3138</td><td>--</td><td>93</td><td>--</td><td>5.3</td><td>--</td></tr>\n",
       "<tr><td>TIC 417752064</td><td>B</td><td>15.079816</td><td>1778.8615</td><td>1805.476</td><td>246</td><td>174</td><td>4.8</td><td>9.0</td></tr>\n",
       "<tr><td>TIC 430745185</td><td>B</td><td>10.71396</td><td>1742.4694</td><td>1757.2317</td><td>64</td><td>23</td><td>6.1</td><td>6.2</td></tr>\n",
       "<tr><td>TIC 231595025</td><td>B</td><td>19.6682</td><td>2248.5616</td><td>2275.7342</td><td>137</td><td>78</td><td>8.2</td><td>7.0</td></tr>\n",
       "<tr><td>TIC 91600053</td><td>B</td><td>35.02051</td><td>1488.333</td><td>2208.3315</td><td>52</td><td>25</td><td>11.0</td><td>11.6</td></tr>\n",
       "<tr><td>TIC 779824</td><td>B</td><td>-999.0</td><td>2984.2063</td><td>2250.2018</td><td>67</td><td>20</td><td>9.5</td><td>9.5</td></tr>\n",
       "<tr><td>TIC 270360534</td><td>B</td><td>-999.0</td><td>2024.8801</td><td>1989.2459</td><td>--</td><td>--</td><td>9.2</td><td>11.4</td></tr>\n",
       "</table></div>"
      ],
      "text/plain": [
       "<Table length=398>\n",
       "   Local ID   Member    Period   ... Duration Primary Duration Secondary\n",
       "    str14      str1    float64   ...     float64           float64      \n",
       "------------- ------ ----------- ... ---------------- ------------------\n",
       "  TIC 9493888      A    2.098992 ...              2.9                2.7\n",
       " TIC 25818450      A   10.132402 ...               --                 --\n",
       " TIC 27543409      A    2.122862 ...               --                 --\n",
       " TIC 31928452      A      2.8823 ...              2.1                1.6\n",
       " TIC 52856877      A    5.186818 ...              5.5                5.5\n",
       " TIC 63459761      A    4.244072 ...              7.0                9.2\n",
       " TIC 75740921      A     0.93308 ...              2.7                2.6\n",
       " TIC 78568780      A     2.88838 ...              3.9                3.7\n",
       " TIC 79140936      A     3.54389 ...              3.7                3.4\n",
       " TIC 89278612      A    2.557052 ...              4.5                4.6\n",
       "          ...    ...         ... ...              ...                ...\n",
       "TIC 384735219      B     8.94046 ...              7.2                7.1\n",
       "TIC 244279814      B      9.1205 ...              4.2                 --\n",
       "TIC 382182610      B 11.78085534 ...              4.5                4.0\n",
       " TIC 53158069      B    14.49556 ...              5.3                 --\n",
       "TIC 417752064      B   15.079816 ...              4.8                9.0\n",
       "TIC 430745185      B    10.71396 ...              6.1                6.2\n",
       "TIC 231595025      B     19.6682 ...              8.2                7.0\n",
       " TIC 91600053      B    35.02051 ...             11.0               11.6\n",
       "   TIC 779824      B      -999.0 ...              9.5                9.5\n",
       "TIC 270360534      B      -999.0 ...              9.2               11.4"
      ]
     },
     "execution_count": 8,
     "metadata": {},
     "output_type": "execute_result"
    }
   ],
   "source": [
    "ephemerides = tb.vstack([\n",
    "    tb.Table.read(\"../../django/TargetDB/Data Files/Binary Parameters/Kostov 2022 Binary Parameters.csv\"),\n",
    "    tb.Table.read(\"../../django/TargetDB/Data Files/Binary Parameters/Kostov 2023 Binary Parameters.csv\"),\n",
    "])\n",
    "ephemerides"
   ]
  },
  {
   "cell_type": "code",
   "execution_count": 53,
   "metadata": {},
   "outputs": [
    {
     "name": "stdout",
     "output_type": "stream",
     "text": [
      "34 161\n"
     ]
    },
    {
     "ename": "AttributeError",
     "evalue": "'Table' object has no attribute 'head'",
     "output_type": "error",
     "traceback": [
      "\u001b[1;31m---------------------------------------------------------------------------\u001b[0m",
      "\u001b[1;31mAttributeError\u001b[0m                            Traceback (most recent call last)",
      "Cell \u001b[1;32mIn[53], line 37\u001b[0m\n\u001b[0;32m     34\u001b[0m eclipses\u001b[38;5;241m.\u001b[39mwrite(\u001b[38;5;124m\"\u001b[39m\u001b[38;5;124mtic eclipses.csv\u001b[39m\u001b[38;5;124m\"\u001b[39m, overwrite\u001b[38;5;241m=\u001b[39m\u001b[38;5;28;01mTrue\u001b[39;00m)\n\u001b[0;32m     36\u001b[0m foo \u001b[38;5;241m=\u001b[39m eclipses[[\u001b[38;5;124m\"\u001b[39m\u001b[38;5;124mTIC ID\u001b[39m\u001b[38;5;124m\"\u001b[39m, \u001b[38;5;124m\"\u001b[39m\u001b[38;5;124mMember\u001b[39m\u001b[38;5;124m\"\u001b[39m, \u001b[38;5;124m\"\u001b[39m\u001b[38;5;124mComponent\u001b[39m\u001b[38;5;124m\"\u001b[39m, \u001b[38;5;124m\"\u001b[39m\u001b[38;5;124mSession Mid JD\u001b[39m\u001b[38;5;124m\"\u001b[39m, \u001b[38;5;124m\"\u001b[39m\u001b[38;5;124mPeriod\u001b[39m\u001b[38;5;124m\"\u001b[39m, \u001b[38;5;124m\"\u001b[39m\u001b[38;5;124mHalf Duration Days\u001b[39m\u001b[38;5;124m\"\u001b[39m, \u001b[38;5;124m\"\u001b[39m\u001b[38;5;124mDepth\u001b[39m\u001b[38;5;124m\"\u001b[39m, \u001b[38;5;124m\"\u001b[39m\u001b[38;5;124mEclipse Fraction\u001b[39m\u001b[38;5;124m\"\u001b[39m, \u001b[38;5;124m\"\u001b[39m\u001b[38;5;124mFOM\u001b[39m\u001b[38;5;124m\"\u001b[39m]]\n\u001b[1;32m---> 37\u001b[0m \u001b[43mfoo\u001b[49m\u001b[38;5;241;43m.\u001b[39;49m\u001b[43mhead\u001b[49m(\u001b[38;5;241m30\u001b[39m)\u001b[38;5;66;03m#[foo[\"TIC ID\"] == \"TIC 286470992\"]\u001b[39;00m\n",
      "\u001b[1;31mAttributeError\u001b[0m: 'Table' object has no attribute 'head'"
     ]
    }
   ],
   "source": [
    "eclipses = tb.Table(names=[\"TIC ID\", \"Speckle Session\", \"Member\", \"Component\", \"Eclipse Beg JD\", \"Eclipse End JD\", \"Session Beg JD\", \"Session Mid JD\", \"Session End JD\", \"Session Mid UTC\", \"Session Mid Byear\", \"T0\", \"Period\", \"Half Duration Days\", \"Depth\", \"Cycles\", \"Eclipse Fraction\", \"FOM\"],\n",
    "                    dtype=[\"str\", \"int\", \"str\", \"str\", \"float\", \"float\", \"float\", \"float\", \"float\", \"str\", \"float\", \"float\", \"float\", \"float\", \"float\", \"float\", \"float\", \"float\"],\n",
    ")\n",
    "for tic_session in tic_sessions:\n",
    "    id = tic_session[\"TIC ID\"]\n",
    "    t = tic_session[\"MidTime JD\"]\n",
    "    for member in [\"A\", \"B\", \"C\"]:\n",
    "        ephem = ephemerides[(ephemerides[\"Local ID\"] == id) & (ephemerides[\"Member\"] == member)]\n",
    "        if len(ephem) == 0:\n",
    "            continue\n",
    "        ephem = ephem[0]\n",
    "        period = ephem[\"Period\"]\n",
    "        for comp_letter, component in {\"a\": \"Primary\", \"b\": \"Secondary\"}.items():\n",
    "            if ephem[f\"T0 {component}\"] > 0 and ephem[f\"Duration {component}\"] > 0:\n",
    "                t0 = float(ephem[f\"T0 {component}\"]) + 2457000\n",
    "                half_duration = ephem[f\"Duration {component}\"] / 24 / 2\n",
    "                depth_name = f\"Depth {component}\"\n",
    "                if depth_text := ephem[depth_name]:\n",
    "                    depth = int(depth_text) / 1000 # kostov gives depth as ppt\n",
    "                else:\n",
    "                    depth = 0\n",
    "                cycles = round((t - t0) / period)\n",
    "                eclipse_beg = t0 + (period * cycles) - half_duration\n",
    "                eclipse_end = eclipse_beg + 2 * half_duration\n",
    "                confirmed = eclipse_beg < t < eclipse_end\n",
    "                if confirmed:\n",
    "                    mid_eclipse = (eclipse_beg + eclipse_end) / 2\n",
    "                    eclipse_fraction = abs(t - mid_eclipse) / half_duration\n",
    "                    fom = depth * (1 - eclipse_fraction) # this assumes linear slope of light curve, better would be gaussian\n",
    "                    eclipses.add_row([id, tic_session[\"Speckle Session\"], member, comp_letter, eclipse_beg, eclipse_end, tic_session[\"StartTime JD\"], t, tic_session[\"EndTime JD\"], tic_session[\"MidTime UTC\"], tic_session[\"MidTime Byear\"], t0, period, half_duration, depth, (t - t0) / period, eclipse_fraction, fom])\n",
    "print(len(eclipses), len(tic_sessions))\n",
    "\n",
    "eclipses.sort(\"FOM\", reverse=True)\n",
    "eclipses.write(\"tic eclipses.csv\", overwrite=True)\n",
    "\n",
    "foo = eclipses[[\"TIC ID\", \"Member\", \"Component\", \"Session Mid JD\", \"Period\", \"Half Duration Days\", \"Depth\", \"Eclipse Fraction\", \"FOM\"]]\n",
    "foo.head(30)#[foo[\"TIC ID\"] == \"TIC 286470992\"]"
   ]
  },
  {
   "cell_type": "code",
   "execution_count": 45,
   "metadata": {},
   "outputs": [
    {
     "data": {
      "text/html": [
       "<div><i>Table length=95</i>\n",
       "<table id=\"table2679683340800\" class=\"table-striped table-bordered table-condensed\">\n",
       "<thead><tr><th>TIC ID</th><th>Mag</th><th>Byear</th><th>Chisq</th><th>Seeing</th><th>Theta</th><th>Rho</th><th>Delta m</th><th>Lambda</th><th>Delta lambda</th><th>Notes</th><th>Eclipse</th><th>JD</th></tr></thead>\n",
       "<thead><tr><th>str13</th><th>float64</th><th>float64</th><th>float64</th><th>float64</th><th>float64</th><th>float64</th><th>str5</th><th>int32</th><th>int32</th><th>str70</th><th>str2</th><th>float64</th></tr></thead>\n",
       "<tr><td>TIC 25818450</td><td>11.45</td><td>2022.7447</td><td>6.19</td><td>0.93</td><td>181.0</td><td>0.0633</td><td>1.51</td><td>692</td><td>40</td><td>0.06\\\\</td><td>--</td><td>2459851.8576367144</td></tr>\n",
       "<tr><td>TIC 25818450</td><td>11.45</td><td>2022.7447</td><td>0.67</td><td>1.22</td><td>181.2</td><td>0.0639</td><td>1.33</td><td>880</td><td>50</td><td>0.08\\\\</td><td>--</td><td>2459851.8576367144</td></tr>\n",
       "<tr><td>TIC 45160946</td><td>13.7</td><td>2023.9106</td><td>--</td><td>--</td><td>163.1</td><td>0.1869</td><td>1.8</td><td>824</td><td>170</td><td>$\\cdots$ \\textcolor{red}{Noisy} \\\\</td><td>--</td><td>2460277.693516273</td></tr>\n",
       "<tr><td>TIC 75740921</td><td>13.22</td><td>2023.9106</td><td>--</td><td>--</td><td>95.9</td><td>0.3986</td><td>0.4</td><td>824</td><td>170</td><td>$\\cdots$ \\textcolor{red}{Noisy} \\\\</td><td>--</td><td>2460277.693516273</td></tr>\n",
       "<tr><td>TIC 78568780</td><td>11.51</td><td>2022.7479</td><td>3.79</td><td>0.96</td><td>246.9</td><td>0.2632</td><td>1.26</td><td>692</td><td>40</td><td>0.25 \\textcolor{violet}{Aa Eclipse (4\\%)}\\\\</td><td>Aa</td><td>2459853.0264117504</td></tr>\n",
       "<tr><td>TIC 78568780</td><td>11.51</td><td>2022.7479</td><td>0.19</td><td>0.89</td><td>247.0</td><td>0.2631</td><td>1.2</td><td>880</td><td>50</td><td>0.23\\\\</td><td>--</td><td>2459853.0264117504</td></tr>\n",
       "<tr><td>TIC 89278612</td><td>11.12</td><td>2022.7443</td><td>3.41</td><td>0.82</td><td>184.7</td><td>0.0894</td><td>0.61</td><td>692</td><td>40</td><td>0.07\\\\</td><td>--</td><td>2459851.7115398347</td></tr>\n",
       "<tr><td>TIC 89278612</td><td>11.12</td><td>2022.7443</td><td>0.12</td><td>0.83</td><td>186.2</td><td>0.0894</td><td>0.55</td><td>880</td><td>50</td><td>0.07\\\\</td><td>--</td><td>2459851.7115398347</td></tr>\n",
       "<tr><td>TIC 97356407</td><td>6.31</td><td>2022.8655</td><td>93.14</td><td>1.22</td><td>228.9</td><td>0.1103</td><td>4.33</td><td>692</td><td>40</td><td>0.13\\\\</td><td>--</td><td>2459895.978894327</td></tr>\n",
       "<tr><td>TIC 97356407</td><td>6.31</td><td>2022.8655</td><td>15.0</td><td>1.12</td><td>231.9</td><td>0.1102</td><td>3.28</td><td>880</td><td>50</td><td>0.12\\\\</td><td>--</td><td>2459895.978894327</td></tr>\n",
       "<tr><td>...</td><td>...</td><td>...</td><td>...</td><td>...</td><td>...</td><td>...</td><td>...</td><td>...</td><td>...</td><td>...</td><td>...</td><td>...</td></tr>\n",
       "<tr><td>TIC 470710327</td><td>9.79</td><td>2023.7986</td><td>0.95</td><td>1.14</td><td>305.2</td><td>0.5065</td><td>1.23</td><td>692</td><td>40</td><td>0.58\\\\</td><td>--</td><td>2460236.7863900093</td></tr>\n",
       "<tr><td>TIC 470710327</td><td>9.79</td><td>2023.7986</td><td>0.12</td><td>1.1</td><td>305.2</td><td>0.5045</td><td>1.16</td><td>880</td><td>50</td><td>0.55\\\\</td><td>--</td><td>2460236.7863900093</td></tr>\n",
       "<tr><td>TIC 470710327</td><td>9.79</td><td>2023.8008</td><td>1.78</td><td>0.88</td><td>305.2</td><td>0.5079</td><td>1.26</td><td>692</td><td>40</td><td>0.45 \\textcolor{violet}{Aa Eclipse ($&lt;1$\\%)}\\\\</td><td>Aa</td><td>2460237.5899228468</td></tr>\n",
       "<tr><td>TIC 470710327</td><td>9.79</td><td>2023.8008</td><td>0.25</td><td>0.87</td><td>305.2</td><td>0.5073</td><td>1.13</td><td>880</td><td>50</td><td>0.44\\\\</td><td>--</td><td>2460237.5899228468</td></tr>\n",
       "<tr><td>TIC 470710327</td><td>9.79</td><td>2023.8012</td><td>1.77</td><td>0.94</td><td>305.2</td><td>0.5082</td><td>1.08</td><td>692</td><td>40</td><td>0.48 \\textcolor{violet}{Aa Eclipse (7\\%)}\\\\</td><td>Aa</td><td>2460237.7360197264</td></tr>\n",
       "<tr><td>TIC 470710327</td><td>9.79</td><td>2023.8012</td><td>0.25</td><td>0.9</td><td>305.1</td><td>0.5074</td><td>1.02</td><td>880</td><td>50</td><td>0.46\\\\</td><td>--</td><td>2460237.7360197264</td></tr>\n",
       "<tr><td>TIC 470710327</td><td>9.79</td><td>2023.8013</td><td>7.03</td><td>0.73</td><td>305.2</td><td>0.5068</td><td>1.09</td><td>692</td><td>40</td><td>0.37 \\textcolor{violet}{Aa Eclipse (6\\%)}\\\\</td><td>Aa</td><td>2460237.7725439463</td></tr>\n",
       "<tr><td>TIC 470710327</td><td>9.79</td><td>2023.8013</td><td>0.38</td><td>0.76</td><td>305.1</td><td>0.5065</td><td>1.07</td><td>880</td><td>50</td><td>0.38\\\\</td><td>--</td><td>2460237.7725439463</td></tr>\n",
       "<tr><td>TIC 470710327</td><td>9.79</td><td>2023.8015</td><td>62.43</td><td>0.78</td><td>305.2</td><td>0.5064</td><td>1.22</td><td>692</td><td>40</td><td>0.39 \\textcolor{violet}{Aa Eclipse (1\\%)}\\\\</td><td>Aa</td><td>2460237.845592386</td></tr>\n",
       "<tr><td>TIC 470710327</td><td>9.79</td><td>2023.8015</td><td>1.04</td><td>0.76</td><td>305.2</td><td>0.5069</td><td>1.12</td><td>880</td><td>50</td><td>0.39\\\\</td><td>--</td><td>2460237.845592386</td></tr>\n",
       "</table></div>"
      ],
      "text/plain": [
       "<Table length=95>\n",
       "    TIC ID      Mag     Byear   ... Eclipse         JD        \n",
       "    str13     float64  float64  ...   str2       float64      \n",
       "------------- ------- --------- ... ------- ------------------\n",
       " TIC 25818450   11.45 2022.7447 ...      -- 2459851.8576367144\n",
       " TIC 25818450   11.45 2022.7447 ...      -- 2459851.8576367144\n",
       " TIC 45160946    13.7 2023.9106 ...      --  2460277.693516273\n",
       " TIC 75740921   13.22 2023.9106 ...      --  2460277.693516273\n",
       " TIC 78568780   11.51 2022.7479 ...      Aa 2459853.0264117504\n",
       " TIC 78568780   11.51 2022.7479 ...      -- 2459853.0264117504\n",
       " TIC 89278612   11.12 2022.7443 ...      -- 2459851.7115398347\n",
       " TIC 89278612   11.12 2022.7443 ...      -- 2459851.7115398347\n",
       " TIC 97356407    6.31 2022.8655 ...      --  2459895.978894327\n",
       " TIC 97356407    6.31 2022.8655 ...      --  2459895.978894327\n",
       "          ...     ...       ... ...     ...                ...\n",
       "TIC 470710327    9.79 2023.7986 ...      -- 2460236.7863900093\n",
       "TIC 470710327    9.79 2023.7986 ...      -- 2460236.7863900093\n",
       "TIC 470710327    9.79 2023.8008 ...      Aa 2460237.5899228468\n",
       "TIC 470710327    9.79 2023.8008 ...      -- 2460237.5899228468\n",
       "TIC 470710327    9.79 2023.8012 ...      Aa 2460237.7360197264\n",
       "TIC 470710327    9.79 2023.8012 ...      -- 2460237.7360197264\n",
       "TIC 470710327    9.79 2023.8013 ...      Aa 2460237.7725439463\n",
       "TIC 470710327    9.79 2023.8013 ...      -- 2460237.7725439463\n",
       "TIC 470710327    9.79 2023.8015 ...      Aa  2460237.845592386\n",
       "TIC 470710327    9.79 2023.8015 ...      --  2460237.845592386"
      ]
     },
     "execution_count": 45,
     "metadata": {},
     "output_type": "execute_result"
    }
   ],
   "source": [
    "table_1 = tb.Table.read(\"Eclipses from Table 1.csv\")\n",
    "\n",
    "table_1[\"JD\"] = Time(table_1[\"Byear\"], format=\"byear\").jd\n",
    "\n",
    "table_1\n"
   ]
  },
  {
   "cell_type": "code",
   "execution_count": null,
   "metadata": {},
   "outputs": [],
   "source": [
    "QUICK RESULTS, 19 Oct 2023 UT, DSSI@APO. PA, sep, dm values are approximate, not final!\n",
    "----------------------------------------------------------------------------------------------------\n",
    "  Coords   filename    epoch  RedX^2 see'g   PA     sep    dm   fltr Notes\n",
    "---------- ---------- ------- ------ ----- ------ ------- ----- ---- -------------------------------\n",
    "23493+6158 h300096.fa 23.7980   0.78  1.08  304.9  0.5114  1.15  692\n",
    "23493+6158 h300096.fb 23.7980   0.12  0.96  304.9  0.5071  1.12  880\n",
    "23493+6158 h300096.fa 23.7983   0.93  1.55  304.9  0.5107  1.18  692\n",
    "23493+6158 h300096.fb 23.7983   0.12  1.40  304.7  0.5080  1.11  880\n",
    "23493+6158 h300096.fa 23.7986   0.95  1.15  304.9  0.5076  1.23  692\n",
    "23493+6158 h300096.fb 23.7986   0.12  1.09  304.7  0.5046  1.16  880\n",
    "\n",
    "\n",
    "QUICK RESULTS, 20 Oct 2023 UT, DSSI@APO. PA, sep, dm values are approximate, not final!\n",
    "----------------------------------------------------------------------------------------------------\n",
    "  Coords   filename    epoch  RedX^2 see'g   PA     sep    dm   fltr Notes\n",
    "---------- ---------- ------- ------ ----- ------ ------- ----- ---- -------------------------------\n",
    "23493+6158 h300096.fa 23.8008   1.78  0.88  304.9  0.5090  1.26  692\n",
    "23493+6158 h300096.fb 23.8008   0.25  0.87  304.7  0.5074  1.13  880\n",
    "23493+6158 h300096.fa 23.8012   1.77  0.94  304.9  0.5093  1.08  692\n",
    "23493+6158 h300096.fb 23.8012   0.25  0.90  304.7  0.5075  1.02  880\n",
    "23493+6158 h300096.fa 23.8013   7.03  0.73  304.9  0.5079  1.09  692\n",
    "23493+6158 h300096.fb 23.8013   0.38  0.75  304.7  0.5067  1.07  880\n",
    "23493+6158 h300096.fa 23.8015  62.43  0.78  304.9  0.5075  1.22  692\n",
    "23493+6158 h300096.fb 23.8015   1.04  0.76  304.8  0.5070  1.12  880\n",
    "\n",
    "\n",
    "QUICK RESULTS, 28 Oct 2023 UT, DSSI@APO. PA, sep, dm values are approximate, not final!\n",
    "----------------------------------------------------------------------------------------------------\n",
    "  Coords   filename    epoch  RedX^2 see'g   PA     sep    dm   fltr Notes\n",
    "---------- ---------- ------- ------ ----- ------ ------- ----- ---- -------------------------------\n",
    "20168+1835 h300137.fa 23.8227   0.03  0.99  288.5  0.2624  1.44  692\n",
    "20168+1835 h300137.fb 23.8227   0.01  0.89  284.7  0.2536  0.96  880\n",
    "21392+5121 h300131.fa 23.8228   0.27  0.61   16.7  0.2809  1.05  692\n",
    "21392+5121 h300131.fb 23.8228   0.05  0.57   16.4  0.2794  0.93  880\n",
    "23474+5722 h300144.fa 23.8228   0.27  0.66  162.1  0.0356  0.53  692 Suspected -- Needs Confirmation\n",
    "23474+5722 h300144.fb 23.8228   0.04  0.60  163.4  0.0352  0.34  880 Suspected -- Needs Confirmation\n",
    "00375+4202 h300197.fa 23.8230   0.02  0.66  234.5  1.2193  3.95  692\n",
    "00375+4202 h300197.fb 23.8230   0.01  0.65  234.1  1.2079  4.16  880\n",
    "04035+4834 h300127.1a 23.8230   4.53  0.94  344.1  0.1275  4.12  692\n",
    "04035+4834 h300127.1b 23.8230   0.87  0.93  343.7  0.1273  3.52  880\n"
   ]
  }
 ],
 "metadata": {
  "kernelspec": {
   "display_name": "Astro",
   "language": "python",
   "name": "python3"
  },
  "language_info": {
   "codemirror_mode": {
    "name": "ipython",
    "version": 3
   },
   "file_extension": ".py",
   "mimetype": "text/x-python",
   "name": "python",
   "nbconvert_exporter": "python",
   "pygments_lexer": "ipython3",
   "version": "3.12.2"
  }
 },
 "nbformat": 4,
 "nbformat_minor": 2
}
