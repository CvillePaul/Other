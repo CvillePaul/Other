{
 "cells": [
  {
   "cell_type": "code",
   "execution_count": 6,
   "metadata": {},
   "outputs": [],
   "source": [
    "import astropy.table as tb\n",
    "from astropy.time import Time\n"
   ]
  },
  {
   "cell_type": "code",
   "execution_count": 48,
   "metadata": {},
   "outputs": [
    {
     "data": {
      "text/html": [
       "<div><i>Table length=161</i>\n",
       "<table id=\"table2679631082944\" class=\"table-striped table-bordered table-condensed\">\n",
       "<thead><tr><th>Target Name</th><th>TIC ID</th><th>Speckle Session</th><th>StartTime JD</th><th>MidTime JD</th><th>EndTime JD</th><th>MidTime UTC</th><th>Num Sequences</th><th>MidTime Byear</th></tr></thead>\n",
       "<thead><tr><th>str12</th><th>str13</th><th>int32</th><th>float64</th><th>float64</th><th>float64</th><th>str19</th><th>int32</th><th>float64</th></tr></thead>\n",
       "<tr><td>H300038</td><td>TIC 328181241</td><td>12</td><td>2459849.8666666667</td><td>2459849.8680555555</td><td>2459849.8694444443</td><td>2022-09-27 08:50:00</td><td>3</td><td>2022.739252707312</td></tr>\n",
       "<tr><td>H300043</td><td>TIC 168789840</td><td>20</td><td>2459849.929861111</td><td>2459849.93125</td><td>2459849.9326388887</td><td>2022-09-27 10:21:00</td><td>3</td><td>2022.739425727967</td></tr>\n",
       "<tr><td>H300045</td><td>TIC 454140642</td><td>22</td><td>2459849.9381944444</td><td>2459849.939236111</td><td>2459849.9402777776</td><td>2022-09-27 10:32:30</td><td>3</td><td>2022.7394475932147</td></tr>\n",
       "<tr><td>H300046</td><td>TIC 139650665</td><td>29</td><td>2459849.961111111</td><td>2459849.963194445</td><td>2459849.965277778</td><td>2022-09-27 11:07:00</td><td>3</td><td>2022.7395131889587</td></tr>\n",
       "<tr><td>H300047</td><td>TIC 178953404</td><td>30</td><td>2459849.967361111</td><td>2459849.9697916666</td><td>2459849.972222222</td><td>2022-09-27 11:16:30</td><td>5</td><td>2022.7395312515532</td></tr>\n",
       "<tr><td>H300051</td><td>TIC 200094011</td><td>39</td><td>2459850.019444444</td><td>2459850.020833333</td><td>2459850.0222222223</td><td>2022-09-27 12:30:00</td><td>3</td><td>2022.7396709990046</td></tr>\n",
       "<tr><td>H300036</td><td>TIC 389836747</td><td>43</td><td>2459850.834027778</td><td>2459850.834027778</td><td>2459850.834027778</td><td>2022-09-28 08:01:00</td><td>1</td><td>2022.7418974516095</td></tr>\n",
       "<tr><td>H300032</td><td>TIC 283940788</td><td>46</td><td>2459850.8486111113</td><td>2459850.8506944445</td><td>2459850.8527777777</td><td>2022-09-28 08:25:00</td><td>5</td><td>2022.7419430834304</td></tr>\n",
       "<tr><td>H300033</td><td>TIC 284814380</td><td>48</td><td>2459850.8583333334</td><td>2459850.8604166666</td><td>2459850.8625</td><td>2022-09-28 08:39:00</td><td>5</td><td>2022.7419697019925</td></tr>\n",
       "<tr><td>H300035</td><td>TIC 52856877</td><td>49</td><td>2459850.865277778</td><td>2459850.8677083333</td><td>2459850.8701388887</td><td>2022-09-28 08:49:30</td><td>5</td><td>2022.7419896659142</td></tr>\n",
       "<tr><td>...</td><td>...</td><td>...</td><td>...</td><td>...</td><td>...</td><td>...</td><td>...</td><td>...</td></tr>\n",
       "<tr><td>H######</td><td>TIC 288391628</td><td>1951</td><td>2460456.935416667</td><td>2460456.935416667</td><td>2460456.935416667</td><td>2024-05-26 10:27:00</td><td>5</td><td>2024.4013480597587</td></tr>\n",
       "<tr><td>H300089</td><td>TIC 344541836</td><td>2008</td><td>2460457.8</td><td>2460457.8</td><td>2460457.8</td><td>2024-05-27 07:12:00</td><td>1</td><td>2024.4037152104765</td></tr>\n",
       "<tr><td>H300089</td><td>TIC 344541836</td><td>2011</td><td>2460457.80625</td><td>2460457.8079861114</td><td>2460457.8097222224</td><td>2024-05-27 07:23:30</td><td>3</td><td>2024.4037370757255</td></tr>\n",
       "<tr><td>H300089</td><td>TIC 344541836</td><td>2052</td><td>2460457.9305555555</td><td>2460457.931597222</td><td>2460457.9326388887</td><td>2024-05-27 10:21:30</td><td>3</td><td>2024.4040755117308</td></tr>\n",
       "<tr><td>H300131</td><td>TIC 278465736</td><td>2141</td><td>2460458.800694444</td><td>2460458.8027777774</td><td>2460458.804861111</td><td>2024-05-28 07:16:00</td><td>5</td><td>2024.4064607250446</td></tr>\n",
       "<tr><td>H310118</td><td>TIC 392799977</td><td>2163</td><td>2460458.855555556</td><td>2460458.8625</td><td>2460458.8694444443</td><td>2024-05-28 08:42:00</td><td>9</td><td>2024.4066242390707</td></tr>\n",
       "<tr><td>H300131</td><td>TIC 278465736</td><td>2166</td><td>2460458.877083333</td><td>2460458.8791666664</td><td>2460458.88125</td><td>2024-05-28 09:06:00</td><td>5</td><td>2024.4066698708916</td></tr>\n",
       "<tr><td>H310021</td><td>TIC 467220877</td><td>2168</td><td>2460458.886805556</td><td>2460458.892013889</td><td>2460458.8972222223</td><td>2024-05-28 09:24:30</td><td>9</td><td>2024.4067050454207</td></tr>\n",
       "<tr><td>H300131</td><td>TIC 278465736</td><td>2188</td><td>2460458.938888889</td><td>2460458.941319444</td><td>2460458.94375</td><td>2024-05-28 10:35:30</td><td>5</td><td>2024.4068400395577</td></tr>\n",
       "<tr><td>H300093</td><td>TIC 414026507</td><td>2190</td><td>2460458.949305556</td><td>2460458.95625</td><td>2460458.9631944443</td><td>2024-05-28 10:57:00</td><td>9</td><td>2024.4068809180642</td></tr>\n",
       "</table></div>"
      ],
      "text/plain": [
       "<Table length=161>\n",
       "Target Name     TIC ID    Speckle Session ... Num Sequences   MidTime Byear   \n",
       "   str12        str13          int32      ...     int32          float64      \n",
       "----------- ------------- --------------- ... ------------- ------------------\n",
       "    H300038 TIC 328181241              12 ...             3  2022.739252707312\n",
       "    H300043 TIC 168789840              20 ...             3  2022.739425727967\n",
       "    H300045 TIC 454140642              22 ...             3 2022.7394475932147\n",
       "    H300046 TIC 139650665              29 ...             3 2022.7395131889587\n",
       "    H300047 TIC 178953404              30 ...             5 2022.7395312515532\n",
       "    H300051 TIC 200094011              39 ...             3 2022.7396709990046\n",
       "    H300036 TIC 389836747              43 ...             1 2022.7418974516095\n",
       "    H300032 TIC 283940788              46 ...             5 2022.7419430834304\n",
       "    H300033 TIC 284814380              48 ...             5 2022.7419697019925\n",
       "    H300035  TIC 52856877              49 ...             5 2022.7419896659142\n",
       "        ...           ...             ... ...           ...                ...\n",
       "    H###### TIC 288391628            1951 ...             5 2024.4013480597587\n",
       "    H300089 TIC 344541836            2008 ...             1 2024.4037152104765\n",
       "    H300089 TIC 344541836            2011 ...             3 2024.4037370757255\n",
       "    H300089 TIC 344541836            2052 ...             3 2024.4040755117308\n",
       "    H300131 TIC 278465736            2141 ...             5 2024.4064607250446\n",
       "    H310118 TIC 392799977            2163 ...             9 2024.4066242390707\n",
       "    H300131 TIC 278465736            2166 ...             5 2024.4066698708916\n",
       "    H310021 TIC 467220877            2168 ...             9 2024.4067050454207\n",
       "    H300131 TIC 278465736            2188 ...             5 2024.4068400395577\n",
       "    H300093 TIC 414026507            2190 ...             9 2024.4068809180642"
      ]
     },
     "execution_count": 48,
     "metadata": {},
     "output_type": "execute_result"
    }
   ],
   "source": [
    "dssi_sessions = tb.Table.read(\"../2024-07-08 Process DSSI olist logs/DSSI sessions.csv\")\n",
    "\n",
    "tic_sessions = dssi_sessions[(dssi_sessions[\"TIC ID\"].mask == False) & (dssi_sessions[\"MidTime JD\"] > 0)]\n",
    "tic_sessions[\"MidTime Byear\"] = Time(tic_sessions[\"MidTime JD\"], format=\"jd\").byear\n",
    "tic_sessions#[tic_sessions[\"Target Name\"] == \"TIC 269811101\"]\n"
   ]
  },
  {
   "cell_type": "code",
   "execution_count": 8,
   "metadata": {},
   "outputs": [
    {
     "data": {
      "text/html": [
       "<div><i>Table length=398</i>\n",
       "<table id=\"table2679624030192\" class=\"table-striped table-bordered table-condensed\">\n",
       "<thead><tr><th>Local ID</th><th>Member</th><th>Period</th><th>T0 Primary</th><th>T0 Secondary</th><th>Depth Primary</th><th>Depth Secondary</th><th>Duration Primary</th><th>Duration Secondary</th></tr></thead>\n",
       "<thead><tr><th>str14</th><th>str1</th><th>float64</th><th>float64</th><th>float64</th><th>int32</th><th>int32</th><th>float64</th><th>float64</th></tr></thead>\n",
       "<tr><td>TIC 9493888</td><td>A</td><td>2.098992</td><td>1816.2345</td><td>1817.283786</td><td>146</td><td>117</td><td>2.9</td><td>2.7</td></tr>\n",
       "<tr><td>TIC 25818450</td><td>A</td><td>10.132402</td><td>1769.9109</td><td>1776.391584</td><td>12</td><td>9</td><td>--</td><td>--</td></tr>\n",
       "<tr><td>TIC 27543409</td><td>A</td><td>2.122862</td><td>1493.1001</td><td>1494.153889</td><td>50</td><td>15</td><td>--</td><td>--</td></tr>\n",
       "<tr><td>TIC 31928452</td><td>A</td><td>2.8823</td><td>1337.9129</td><td>1339.358085</td><td>30</td><td>25</td><td>2.1</td><td>1.6</td></tr>\n",
       "<tr><td>TIC 52856877</td><td>A</td><td>5.186818</td><td>1791.059</td><td>1793.652928</td><td>220</td><td>90</td><td>5.5</td><td>5.5</td></tr>\n",
       "<tr><td>TIC 63459761</td><td>A</td><td>4.244072</td><td>1715.1118</td><td>1717.168477</td><td>15</td><td>10</td><td>7.0</td><td>9.2</td></tr>\n",
       "<tr><td>TIC 75740921</td><td>A</td><td>0.93308</td><td>1519.6949</td><td>1520.16256</td><td>87</td><td>59</td><td>2.7</td><td>2.6</td></tr>\n",
       "<tr><td>TIC 78568780</td><td>A</td><td>2.88838</td><td>1468.5374</td><td>1469.962816</td><td>57</td><td>20</td><td>3.9</td><td>3.7</td></tr>\n",
       "<tr><td>TIC 79140936</td><td>A</td><td>3.54389</td><td>1468.3795</td><td>1469.78607</td><td>23</td><td>7</td><td>3.7</td><td>3.4</td></tr>\n",
       "<tr><td>TIC 89278612</td><td>A</td><td>2.557052</td><td>1684.2273</td><td>1685.507872</td><td>53</td><td>32</td><td>4.5</td><td>4.6</td></tr>\n",
       "<tr><td>...</td><td>...</td><td>...</td><td>...</td><td>...</td><td>...</td><td>...</td><td>...</td><td>...</td></tr>\n",
       "<tr><td>TIC 384735219</td><td>B</td><td>8.94046</td><td>1798.8181</td><td>1794.3091</td><td>119</td><td>66</td><td>7.2</td><td>7.1</td></tr>\n",
       "<tr><td>TIC 244279814</td><td>B</td><td>9.1205</td><td>1442.8405</td><td>1447.5755</td><td>28</td><td>--</td><td>4.2</td><td>--</td></tr>\n",
       "<tr><td>TIC 382182610</td><td>B</td><td>11.78085534</td><td>2047.690331</td><td>2041.7416</td><td>28</td><td>12</td><td>4.5</td><td>4.0</td></tr>\n",
       "<tr><td>TIC 53158069</td><td>B</td><td>14.49556</td><td>1469.3138</td><td>--</td><td>93</td><td>--</td><td>5.3</td><td>--</td></tr>\n",
       "<tr><td>TIC 417752064</td><td>B</td><td>15.079816</td><td>1778.8615</td><td>1805.476</td><td>246</td><td>174</td><td>4.8</td><td>9.0</td></tr>\n",
       "<tr><td>TIC 430745185</td><td>B</td><td>10.71396</td><td>1742.4694</td><td>1757.2317</td><td>64</td><td>23</td><td>6.1</td><td>6.2</td></tr>\n",
       "<tr><td>TIC 231595025</td><td>B</td><td>19.6682</td><td>2248.5616</td><td>2275.7342</td><td>137</td><td>78</td><td>8.2</td><td>7.0</td></tr>\n",
       "<tr><td>TIC 91600053</td><td>B</td><td>35.02051</td><td>1488.333</td><td>2208.3315</td><td>52</td><td>25</td><td>11.0</td><td>11.6</td></tr>\n",
       "<tr><td>TIC 779824</td><td>B</td><td>-999.0</td><td>2984.2063</td><td>2250.2018</td><td>67</td><td>20</td><td>9.5</td><td>9.5</td></tr>\n",
       "<tr><td>TIC 270360534</td><td>B</td><td>-999.0</td><td>2024.8801</td><td>1989.2459</td><td>--</td><td>--</td><td>9.2</td><td>11.4</td></tr>\n",
       "</table></div>"
      ],
      "text/plain": [
       "<Table length=398>\n",
       "   Local ID   Member    Period   ... Duration Primary Duration Secondary\n",
       "    str14      str1    float64   ...     float64           float64      \n",
       "------------- ------ ----------- ... ---------------- ------------------\n",
       "  TIC 9493888      A    2.098992 ...              2.9                2.7\n",
       " TIC 25818450      A   10.132402 ...               --                 --\n",
       " TIC 27543409      A    2.122862 ...               --                 --\n",
       " TIC 31928452      A      2.8823 ...              2.1                1.6\n",
       " TIC 52856877      A    5.186818 ...              5.5                5.5\n",
       " TIC 63459761      A    4.244072 ...              7.0                9.2\n",
       " TIC 75740921      A     0.93308 ...              2.7                2.6\n",
       " TIC 78568780      A     2.88838 ...              3.9                3.7\n",
       " TIC 79140936      A     3.54389 ...              3.7                3.4\n",
       " TIC 89278612      A    2.557052 ...              4.5                4.6\n",
       "          ...    ...         ... ...              ...                ...\n",
       "TIC 384735219      B     8.94046 ...              7.2                7.1\n",
       "TIC 244279814      B      9.1205 ...              4.2                 --\n",
       "TIC 382182610      B 11.78085534 ...              4.5                4.0\n",
       " TIC 53158069      B    14.49556 ...              5.3                 --\n",
       "TIC 417752064      B   15.079816 ...              4.8                9.0\n",
       "TIC 430745185      B    10.71396 ...              6.1                6.2\n",
       "TIC 231595025      B     19.6682 ...              8.2                7.0\n",
       " TIC 91600053      B    35.02051 ...             11.0               11.6\n",
       "   TIC 779824      B      -999.0 ...              9.5                9.5\n",
       "TIC 270360534      B      -999.0 ...              9.2               11.4"
      ]
     },
     "execution_count": 8,
     "metadata": {},
     "output_type": "execute_result"
    }
   ],
   "source": [
    "ephemerides = tb.vstack([\n",
    "    tb.Table.read(\"../../django/TargetDB/Data Files/Binary Parameters/Kostov 2022 Binary Parameters.csv\"),\n",
    "    tb.Table.read(\"../../django/TargetDB/Data Files/Binary Parameters/Kostov 2023 Binary Parameters.csv\"),\n",
    "])\n",
    "ephemerides"
   ]
  },
  {
   "cell_type": "code",
   "execution_count": 110,
   "metadata": {},
   "outputs": [
    {
     "name": "stdout",
     "output_type": "stream",
     "text": [
      "34 161\n"
     ]
    },
    {
     "data": {
      "text/plain": [
       "['TIC 269811101',\n",
       " 'TIC 125952257',\n",
       " 'TIC 278465736',\n",
       " 'TIC 443862276',\n",
       " 'TIC 251757935',\n",
       " 'TIC 367448265',\n",
       " 'TIC 178953404',\n",
       " 'TIC 125952257',\n",
       " 'TIC 470710327',\n",
       " 'TIC 285681367',\n",
       " 'TIC 470710327',\n",
       " 'TIC 317863971',\n",
       " 'TIC 130276377',\n",
       " 'TIC 286470992',\n",
       " 'TIC 344541836',\n",
       " 'TIC 344541836',\n",
       " 'TIC 89278612',\n",
       " 'TIC 168789840',\n",
       " 'TIC 344541836',\n",
       " 'TIC 283940788',\n",
       " 'TIC 470710327',\n",
       " 'TIC 336882813',\n",
       " 'TIC 278465736',\n",
       " 'TIC 470710327',\n",
       " 'TIC 161043618',\n",
       " 'TIC 317863971',\n",
       " 'TIC 161043618',\n",
       " 'TIC 284814380',\n",
       " 'TIC 283940788',\n",
       " 'TIC 407060024',\n",
       " 'TIC 283940788',\n",
       " 'TIC 375325607',\n",
       " 'TIC 278352276',\n",
       " 'TIC 327885074']"
      ]
     },
     "execution_count": 110,
     "metadata": {},
     "output_type": "execute_result"
    }
   ],
   "source": [
    "eclipses = tb.Table(names=[\"TIC ID\", \"Speckle Session\", \"Member\", \"Component\", \"Eclipse Beg JD\", \"Eclipse End JD\", \"Session Beg JD\", \"Session Mid JD\", \"Session End JD\", \"Session Mid UTC\", \"Session Mid Byear\", \"T0\", \"Period\", \"Half Duration Days\", \"Depth\", \"Cycles\", \"Eclipse Fraction\", \"FOM\"],\n",
    "                    dtype=[\"str\", \"int\", \"str\", \"str\", \"float\", \"float\", \"float\", \"float\", \"float\", \"str\", \"float\", \"float\", \"float\", \"float\", \"float\", \"float\", \"float\", \"float\"],\n",
    ")\n",
    "for tic_session in tic_sessions:\n",
    "    id = tic_session[\"TIC ID\"]\n",
    "    t = tic_session[\"MidTime JD\"]\n",
    "    for member in [\"A\", \"B\", \"C\"]:\n",
    "        ephem = ephemerides[(ephemerides[\"Local ID\"] == id) & (ephemerides[\"Member\"] == member)]\n",
    "        if len(ephem) == 0:\n",
    "            continue\n",
    "        ephem = ephem[0]\n",
    "        period = ephem[\"Period\"]\n",
    "        for comp_letter, component in {\"a\": \"Primary\", \"b\": \"Secondary\"}.items():\n",
    "            if ephem[f\"T0 {component}\"] > 0 and ephem[f\"Duration {component}\"] > 0:\n",
    "                t0 = float(ephem[f\"T0 {component}\"]) + 2457000\n",
    "                half_duration = ephem[f\"Duration {component}\"] / 24 / 2\n",
    "                depth_name = f\"Depth {component}\"\n",
    "                if depth_text := ephem[depth_name]:\n",
    "                    depth = int(depth_text) / 1000 # kostov gives depth as ppt\n",
    "                else:\n",
    "                    depth = 0\n",
    "                cycles = round((t - t0) / period)\n",
    "                eclipse_beg = t0 + (period * cycles) - half_duration\n",
    "                eclipse_end = eclipse_beg + 2 * half_duration\n",
    "                confirmed = eclipse_beg < t < eclipse_end\n",
    "                if confirmed:\n",
    "                    mid_eclipse = (eclipse_beg + eclipse_end) / 2\n",
    "                    eclipse_fraction = abs(t - mid_eclipse) / half_duration\n",
    "                    fom = depth * (1 - eclipse_fraction) # this assumes linear slope of light curve, better would be gaussian\n",
    "                    eclipses.add_row([id, tic_session[\"Speckle Session\"], member, comp_letter, eclipse_beg, eclipse_end, tic_session[\"StartTime JD\"], t, tic_session[\"EndTime JD\"], tic_session[\"MidTime UTC\"], tic_session[\"MidTime Byear\"], t0, period, half_duration, depth, (t - t0) / period, eclipse_fraction, fom])\n",
    "print(len(eclipses), len(tic_sessions))\n",
    "\n",
    "eclipses.sort(\"FOM\", reverse=True)\n",
    "eclipses.write(\"tic eclipses.csv\", overwrite=True)\n",
    "\n",
    "list(eclipses[\"TIC ID\"])\n",
    "\n",
    "# foo = eclipses[[\"TIC ID\", \"Member\", \"Component\", \"Session Mid JD\", \"Period\", \"Half Duration Days\", \"Depth\", \"Eclipse Fraction\", \"FOM\"]]\n",
    "# foo#[foo[\"TIC ID\"] == \"TIC 286470992\"]"
   ]
  },
  {
   "cell_type": "code",
   "execution_count": 45,
   "metadata": {},
   "outputs": [
    {
     "data": {
      "text/html": [
       "<div><i>Table length=95</i>\n",
       "<table id=\"table2679683340800\" class=\"table-striped table-bordered table-condensed\">\n",
       "<thead><tr><th>TIC ID</th><th>Mag</th><th>Byear</th><th>Chisq</th><th>Seeing</th><th>Theta</th><th>Rho</th><th>Delta m</th><th>Lambda</th><th>Delta lambda</th><th>Notes</th><th>Eclipse</th><th>JD</th></tr></thead>\n",
       "<thead><tr><th>str13</th><th>float64</th><th>float64</th><th>float64</th><th>float64</th><th>float64</th><th>float64</th><th>str5</th><th>int32</th><th>int32</th><th>str70</th><th>str2</th><th>float64</th></tr></thead>\n",
       "<tr><td>TIC 25818450</td><td>11.45</td><td>2022.7447</td><td>6.19</td><td>0.93</td><td>181.0</td><td>0.0633</td><td>1.51</td><td>692</td><td>40</td><td>0.06\\\\</td><td>--</td><td>2459851.8576367144</td></tr>\n",
       "<tr><td>TIC 25818450</td><td>11.45</td><td>2022.7447</td><td>0.67</td><td>1.22</td><td>181.2</td><td>0.0639</td><td>1.33</td><td>880</td><td>50</td><td>0.08\\\\</td><td>--</td><td>2459851.8576367144</td></tr>\n",
       "<tr><td>TIC 45160946</td><td>13.7</td><td>2023.9106</td><td>--</td><td>--</td><td>163.1</td><td>0.1869</td><td>1.8</td><td>824</td><td>170</td><td>$\\cdots$ \\textcolor{red}{Noisy} \\\\</td><td>--</td><td>2460277.693516273</td></tr>\n",
       "<tr><td>TIC 75740921</td><td>13.22</td><td>2023.9106</td><td>--</td><td>--</td><td>95.9</td><td>0.3986</td><td>0.4</td><td>824</td><td>170</td><td>$\\cdots$ \\textcolor{red}{Noisy} \\\\</td><td>--</td><td>2460277.693516273</td></tr>\n",
       "<tr><td>TIC 78568780</td><td>11.51</td><td>2022.7479</td><td>3.79</td><td>0.96</td><td>246.9</td><td>0.2632</td><td>1.26</td><td>692</td><td>40</td><td>0.25 \\textcolor{violet}{Aa Eclipse (4\\%)}\\\\</td><td>Aa</td><td>2459853.0264117504</td></tr>\n",
       "<tr><td>TIC 78568780</td><td>11.51</td><td>2022.7479</td><td>0.19</td><td>0.89</td><td>247.0</td><td>0.2631</td><td>1.2</td><td>880</td><td>50</td><td>0.23\\\\</td><td>--</td><td>2459853.0264117504</td></tr>\n",
       "<tr><td>TIC 89278612</td><td>11.12</td><td>2022.7443</td><td>3.41</td><td>0.82</td><td>184.7</td><td>0.0894</td><td>0.61</td><td>692</td><td>40</td><td>0.07\\\\</td><td>--</td><td>2459851.7115398347</td></tr>\n",
       "<tr><td>TIC 89278612</td><td>11.12</td><td>2022.7443</td><td>0.12</td><td>0.83</td><td>186.2</td><td>0.0894</td><td>0.55</td><td>880</td><td>50</td><td>0.07\\\\</td><td>--</td><td>2459851.7115398347</td></tr>\n",
       "<tr><td>TIC 97356407</td><td>6.31</td><td>2022.8655</td><td>93.14</td><td>1.22</td><td>228.9</td><td>0.1103</td><td>4.33</td><td>692</td><td>40</td><td>0.13\\\\</td><td>--</td><td>2459895.978894327</td></tr>\n",
       "<tr><td>TIC 97356407</td><td>6.31</td><td>2022.8655</td><td>15.0</td><td>1.12</td><td>231.9</td><td>0.1102</td><td>3.28</td><td>880</td><td>50</td><td>0.12\\\\</td><td>--</td><td>2459895.978894327</td></tr>\n",
       "<tr><td>...</td><td>...</td><td>...</td><td>...</td><td>...</td><td>...</td><td>...</td><td>...</td><td>...</td><td>...</td><td>...</td><td>...</td><td>...</td></tr>\n",
       "<tr><td>TIC 470710327</td><td>9.79</td><td>2023.7986</td><td>0.95</td><td>1.14</td><td>305.2</td><td>0.5065</td><td>1.23</td><td>692</td><td>40</td><td>0.58\\\\</td><td>--</td><td>2460236.7863900093</td></tr>\n",
       "<tr><td>TIC 470710327</td><td>9.79</td><td>2023.7986</td><td>0.12</td><td>1.1</td><td>305.2</td><td>0.5045</td><td>1.16</td><td>880</td><td>50</td><td>0.55\\\\</td><td>--</td><td>2460236.7863900093</td></tr>\n",
       "<tr><td>TIC 470710327</td><td>9.79</td><td>2023.8008</td><td>1.78</td><td>0.88</td><td>305.2</td><td>0.5079</td><td>1.26</td><td>692</td><td>40</td><td>0.45 \\textcolor{violet}{Aa Eclipse ($&lt;1$\\%)}\\\\</td><td>Aa</td><td>2460237.5899228468</td></tr>\n",
       "<tr><td>TIC 470710327</td><td>9.79</td><td>2023.8008</td><td>0.25</td><td>0.87</td><td>305.2</td><td>0.5073</td><td>1.13</td><td>880</td><td>50</td><td>0.44\\\\</td><td>--</td><td>2460237.5899228468</td></tr>\n",
       "<tr><td>TIC 470710327</td><td>9.79</td><td>2023.8012</td><td>1.77</td><td>0.94</td><td>305.2</td><td>0.5082</td><td>1.08</td><td>692</td><td>40</td><td>0.48 \\textcolor{violet}{Aa Eclipse (7\\%)}\\\\</td><td>Aa</td><td>2460237.7360197264</td></tr>\n",
       "<tr><td>TIC 470710327</td><td>9.79</td><td>2023.8012</td><td>0.25</td><td>0.9</td><td>305.1</td><td>0.5074</td><td>1.02</td><td>880</td><td>50</td><td>0.46\\\\</td><td>--</td><td>2460237.7360197264</td></tr>\n",
       "<tr><td>TIC 470710327</td><td>9.79</td><td>2023.8013</td><td>7.03</td><td>0.73</td><td>305.2</td><td>0.5068</td><td>1.09</td><td>692</td><td>40</td><td>0.37 \\textcolor{violet}{Aa Eclipse (6\\%)}\\\\</td><td>Aa</td><td>2460237.7725439463</td></tr>\n",
       "<tr><td>TIC 470710327</td><td>9.79</td><td>2023.8013</td><td>0.38</td><td>0.76</td><td>305.1</td><td>0.5065</td><td>1.07</td><td>880</td><td>50</td><td>0.38\\\\</td><td>--</td><td>2460237.7725439463</td></tr>\n",
       "<tr><td>TIC 470710327</td><td>9.79</td><td>2023.8015</td><td>62.43</td><td>0.78</td><td>305.2</td><td>0.5064</td><td>1.22</td><td>692</td><td>40</td><td>0.39 \\textcolor{violet}{Aa Eclipse (1\\%)}\\\\</td><td>Aa</td><td>2460237.845592386</td></tr>\n",
       "<tr><td>TIC 470710327</td><td>9.79</td><td>2023.8015</td><td>1.04</td><td>0.76</td><td>305.2</td><td>0.5069</td><td>1.12</td><td>880</td><td>50</td><td>0.39\\\\</td><td>--</td><td>2460237.845592386</td></tr>\n",
       "</table></div>"
      ],
      "text/plain": [
       "<Table length=95>\n",
       "    TIC ID      Mag     Byear   ... Eclipse         JD        \n",
       "    str13     float64  float64  ...   str2       float64      \n",
       "------------- ------- --------- ... ------- ------------------\n",
       " TIC 25818450   11.45 2022.7447 ...      -- 2459851.8576367144\n",
       " TIC 25818450   11.45 2022.7447 ...      -- 2459851.8576367144\n",
       " TIC 45160946    13.7 2023.9106 ...      --  2460277.693516273\n",
       " TIC 75740921   13.22 2023.9106 ...      --  2460277.693516273\n",
       " TIC 78568780   11.51 2022.7479 ...      Aa 2459853.0264117504\n",
       " TIC 78568780   11.51 2022.7479 ...      -- 2459853.0264117504\n",
       " TIC 89278612   11.12 2022.7443 ...      -- 2459851.7115398347\n",
       " TIC 89278612   11.12 2022.7443 ...      -- 2459851.7115398347\n",
       " TIC 97356407    6.31 2022.8655 ...      --  2459895.978894327\n",
       " TIC 97356407    6.31 2022.8655 ...      --  2459895.978894327\n",
       "          ...     ...       ... ...     ...                ...\n",
       "TIC 470710327    9.79 2023.7986 ...      -- 2460236.7863900093\n",
       "TIC 470710327    9.79 2023.7986 ...      -- 2460236.7863900093\n",
       "TIC 470710327    9.79 2023.8008 ...      Aa 2460237.5899228468\n",
       "TIC 470710327    9.79 2023.8008 ...      -- 2460237.5899228468\n",
       "TIC 470710327    9.79 2023.8012 ...      Aa 2460237.7360197264\n",
       "TIC 470710327    9.79 2023.8012 ...      -- 2460237.7360197264\n",
       "TIC 470710327    9.79 2023.8013 ...      Aa 2460237.7725439463\n",
       "TIC 470710327    9.79 2023.8013 ...      -- 2460237.7725439463\n",
       "TIC 470710327    9.79 2023.8015 ...      Aa  2460237.845592386\n",
       "TIC 470710327    9.79 2023.8015 ...      --  2460237.845592386"
      ]
     },
     "execution_count": 45,
     "metadata": {},
     "output_type": "execute_result"
    }
   ],
   "source": [
    "table_1 = tb.Table.read(\"Eclipses from Table 1.csv\")\n",
    "\n",
    "table_1[\"JD\"] = Time(table_1[\"Byear\"], format=\"byear\").jd\n",
    "\n",
    "table_1\n"
   ]
  },
  {
   "cell_type": "markdown",
   "metadata": {},
   "source": [
    "## Now, do a loose join to Table 1 to look for agreement"
   ]
  },
  {
   "cell_type": "code",
   "execution_count": 68,
   "metadata": {},
   "outputs": [
    {
     "ename": "ValueError",
     "evalue": "operands could not be broadcast together with shapes (95,) (34,) ",
     "output_type": "error",
     "traceback": [
      "\u001b[1;31m---------------------------------------------------------------------------\u001b[0m",
      "\u001b[1;31mValueError\u001b[0m                                Traceback (most recent call last)",
      "Cell \u001b[1;32mIn[68], line 2\u001b[0m\n\u001b[0;32m      1\u001b[0m eclipses[\u001b[38;5;124m\"\u001b[39m\u001b[38;5;124mByear\u001b[39m\u001b[38;5;124m\"\u001b[39m] \u001b[38;5;241m=\u001b[39m eclipses[\u001b[38;5;124m\"\u001b[39m\u001b[38;5;124mSession Mid Byear\u001b[39m\u001b[38;5;124m\"\u001b[39m]\n\u001b[1;32m----> 2\u001b[0m \u001b[43mtb\u001b[49m\u001b[38;5;241;43m.\u001b[39;49m\u001b[43mjoin\u001b[49m\u001b[43m(\u001b[49m\u001b[43mtable_1\u001b[49m\u001b[43m,\u001b[49m\u001b[43m \u001b[49m\u001b[43meclipses\u001b[49m\u001b[43m,\u001b[49m\u001b[43m \u001b[49m\u001b[43mkeys\u001b[49m\u001b[38;5;241;43m=\u001b[39;49m\u001b[43m[\u001b[49m\u001b[38;5;124;43m\"\u001b[39;49m\u001b[38;5;124;43mTIC ID\u001b[39;49m\u001b[38;5;124;43m\"\u001b[39;49m\u001b[43m]\u001b[49m\u001b[43m,\u001b[49m\u001b[43m \u001b[49m\u001b[43mjoin_funcs\u001b[49m\u001b[38;5;241;43m=\u001b[39;49m\u001b[43m{\u001b[49m\u001b[38;5;124;43m\"\u001b[39;49m\u001b[38;5;124;43mTIC ID\u001b[39;49m\u001b[38;5;124;43m\"\u001b[39;49m\u001b[43m:\u001b[49m\u001b[43m \u001b[49m\u001b[38;5;28;43;01mlambda\u001b[39;49;00m\u001b[43m \u001b[49m\u001b[43mx\u001b[49m\u001b[43m,\u001b[49m\u001b[43m \u001b[49m\u001b[43my\u001b[49m\u001b[43m:\u001b[49m\u001b[43m \u001b[49m\u001b[43mx\u001b[49m\u001b[38;5;241;43m==\u001b[39;49m\u001b[43my\u001b[49m\u001b[43m}\u001b[49m\u001b[43m,\u001b[49m\u001b[43m \u001b[49m\u001b[43mjoin_type\u001b[49m\u001b[38;5;241;43m=\u001b[39;49m\u001b[38;5;124;43m\"\u001b[39;49m\u001b[38;5;124;43mouter\u001b[39;49m\u001b[38;5;124;43m\"\u001b[39;49m\u001b[43m)\u001b[49m\u001b[38;5;66;03m#, \"Byear\": lambda x, y: abs(x - y) < 0.0001})\u001b[39;00m\n",
      "File \u001b[1;32mc:\\Users\\User\\anaconda3\\envs\\Astro\\Lib\\site-packages\\astropy\\table\\operations.py:415\u001b[0m, in \u001b[0;36mjoin\u001b[1;34m(left, right, keys, join_type, keys_left, keys_right, uniq_col_name, table_names, metadata_conflicts, join_funcs)\u001b[0m\n\u001b[0;32m    412\u001b[0m     right \u001b[38;5;241m=\u001b[39m Table(right)\n\u001b[0;32m    414\u001b[0m col_name_map \u001b[38;5;241m=\u001b[39m OrderedDict()\n\u001b[1;32m--> 415\u001b[0m out \u001b[38;5;241m=\u001b[39m \u001b[43m_join\u001b[49m\u001b[43m(\u001b[49m\n\u001b[0;32m    416\u001b[0m \u001b[43m    \u001b[49m\u001b[43mleft\u001b[49m\u001b[43m,\u001b[49m\n\u001b[0;32m    417\u001b[0m \u001b[43m    \u001b[49m\u001b[43mright\u001b[49m\u001b[43m,\u001b[49m\n\u001b[0;32m    418\u001b[0m \u001b[43m    \u001b[49m\u001b[43mkeys\u001b[49m\u001b[43m,\u001b[49m\n\u001b[0;32m    419\u001b[0m \u001b[43m    \u001b[49m\u001b[43mjoin_type\u001b[49m\u001b[43m,\u001b[49m\n\u001b[0;32m    420\u001b[0m \u001b[43m    \u001b[49m\u001b[43muniq_col_name\u001b[49m\u001b[43m,\u001b[49m\n\u001b[0;32m    421\u001b[0m \u001b[43m    \u001b[49m\u001b[43mtable_names\u001b[49m\u001b[43m,\u001b[49m\n\u001b[0;32m    422\u001b[0m \u001b[43m    \u001b[49m\u001b[43mcol_name_map\u001b[49m\u001b[43m,\u001b[49m\n\u001b[0;32m    423\u001b[0m \u001b[43m    \u001b[49m\u001b[43mmetadata_conflicts\u001b[49m\u001b[43m,\u001b[49m\n\u001b[0;32m    424\u001b[0m \u001b[43m    \u001b[49m\u001b[43mjoin_funcs\u001b[49m\u001b[43m,\u001b[49m\n\u001b[0;32m    425\u001b[0m \u001b[43m    \u001b[49m\u001b[43mkeys_left\u001b[49m\u001b[38;5;241;43m=\u001b[39;49m\u001b[43mkeys_left\u001b[49m\u001b[43m,\u001b[49m\n\u001b[0;32m    426\u001b[0m \u001b[43m    \u001b[49m\u001b[43mkeys_right\u001b[49m\u001b[38;5;241;43m=\u001b[39;49m\u001b[43mkeys_right\u001b[49m\u001b[43m,\u001b[49m\n\u001b[0;32m    427\u001b[0m \u001b[43m\u001b[49m\u001b[43m)\u001b[49m\n\u001b[0;32m    429\u001b[0m \u001b[38;5;66;03m# Merge the column and table meta data. Table subclasses might override\u001b[39;00m\n\u001b[0;32m    430\u001b[0m \u001b[38;5;66;03m# these methods for custom merge behavior.\u001b[39;00m\n\u001b[0;32m    431\u001b[0m _merge_table_meta(out, [left, right], metadata_conflicts\u001b[38;5;241m=\u001b[39mmetadata_conflicts)\n",
      "File \u001b[1;32mc:\\Users\\User\\anaconda3\\envs\\Astro\\Lib\\site-packages\\astropy\\table\\operations.py:1217\u001b[0m, in \u001b[0;36m_join\u001b[1;34m(left, right, keys, join_type, uniq_col_name, table_names, col_name_map, metadata_conflicts, join_funcs, keys_left, keys_right)\u001b[0m\n\u001b[0;32m   1212\u001b[0m     \u001b[38;5;28;01mif\u001b[39;00m \u001b[38;5;129;01mnot\u001b[39;00m \u001b[38;5;28mall\u001b[39m(key \u001b[38;5;129;01min\u001b[39;00m keys \u001b[38;5;28;01mfor\u001b[39;00m key \u001b[38;5;129;01min\u001b[39;00m join_funcs):\n\u001b[0;32m   1213\u001b[0m         \u001b[38;5;28;01mraise\u001b[39;00m \u001b[38;5;167;01mValueError\u001b[39;00m(\n\u001b[0;32m   1214\u001b[0m             \u001b[38;5;124mf\u001b[39m\u001b[38;5;124m\"\u001b[39m\u001b[38;5;124mjoin_funcs keys \u001b[39m\u001b[38;5;132;01m{\u001b[39;00mjoin_funcs\u001b[38;5;241m.\u001b[39mkeys()\u001b[38;5;132;01m}\u001b[39;00m\u001b[38;5;124m must be a \u001b[39m\u001b[38;5;124m\"\u001b[39m\n\u001b[0;32m   1215\u001b[0m             \u001b[38;5;124mf\u001b[39m\u001b[38;5;124m\"\u001b[39m\u001b[38;5;124msubset of join keys \u001b[39m\u001b[38;5;132;01m{\u001b[39;00mkeys\u001b[38;5;132;01m}\u001b[39;00m\u001b[38;5;124m\"\u001b[39m\n\u001b[0;32m   1216\u001b[0m         )\n\u001b[1;32m-> 1217\u001b[0m     left, right, keys \u001b[38;5;241m=\u001b[39m \u001b[43m_apply_join_funcs\u001b[49m\u001b[43m(\u001b[49m\u001b[43mleft\u001b[49m\u001b[43m,\u001b[49m\u001b[43m \u001b[49m\u001b[43mright\u001b[49m\u001b[43m,\u001b[49m\u001b[43m \u001b[49m\u001b[43mkeys\u001b[49m\u001b[43m,\u001b[49m\u001b[43m \u001b[49m\u001b[43mjoin_funcs\u001b[49m\u001b[43m)\u001b[49m\n\u001b[0;32m   1219\u001b[0m len_left, len_right \u001b[38;5;241m=\u001b[39m \u001b[38;5;28mlen\u001b[39m(left), \u001b[38;5;28mlen\u001b[39m(right)\n\u001b[0;32m   1221\u001b[0m \u001b[38;5;28;01mif\u001b[39;00m len_left \u001b[38;5;241m==\u001b[39m \u001b[38;5;241m0\u001b[39m \u001b[38;5;129;01mor\u001b[39;00m len_right \u001b[38;5;241m==\u001b[39m \u001b[38;5;241m0\u001b[39m:\n",
      "File \u001b[1;32mc:\\Users\\User\\anaconda3\\envs\\Astro\\Lib\\site-packages\\astropy\\table\\operations.py:1087\u001b[0m, in \u001b[0;36m_apply_join_funcs\u001b[1;34m(left, right, keys, join_funcs)\u001b[0m\n\u001b[0;32m   1085\u001b[0m right \u001b[38;5;241m=\u001b[39m right\u001b[38;5;241m.\u001b[39mcopy(copy_data\u001b[38;5;241m=\u001b[39m\u001b[38;5;28;01mFalse\u001b[39;00m)\n\u001b[0;32m   1086\u001b[0m \u001b[38;5;28;01mfor\u001b[39;00m key, join_func \u001b[38;5;129;01min\u001b[39;00m join_funcs\u001b[38;5;241m.\u001b[39mitems():\n\u001b[1;32m-> 1087\u001b[0m     ids1, ids2 \u001b[38;5;241m=\u001b[39m \u001b[43mjoin_func\u001b[49m\u001b[43m(\u001b[49m\u001b[43mleft\u001b[49m\u001b[43m[\u001b[49m\u001b[43mkey\u001b[49m\u001b[43m]\u001b[49m\u001b[43m,\u001b[49m\u001b[43m \u001b[49m\u001b[43mright\u001b[49m\u001b[43m[\u001b[49m\u001b[43mkey\u001b[49m\u001b[43m]\u001b[49m\u001b[43m)\u001b[49m\n\u001b[0;32m   1088\u001b[0m     \u001b[38;5;66;03m# Define a unique id_key name, and keep adding underscores until we have\u001b[39;00m\n\u001b[0;32m   1089\u001b[0m     \u001b[38;5;66;03m# a name not yet present.\u001b[39;00m\n\u001b[0;32m   1090\u001b[0m     id_key \u001b[38;5;241m=\u001b[39m key \u001b[38;5;241m+\u001b[39m \u001b[38;5;124m\"\u001b[39m\u001b[38;5;124m_id\u001b[39m\u001b[38;5;124m\"\u001b[39m\n",
      "Cell \u001b[1;32mIn[68], line 2\u001b[0m, in \u001b[0;36m<lambda>\u001b[1;34m(x, y)\u001b[0m\n\u001b[0;32m      1\u001b[0m eclipses[\u001b[38;5;124m\"\u001b[39m\u001b[38;5;124mByear\u001b[39m\u001b[38;5;124m\"\u001b[39m] \u001b[38;5;241m=\u001b[39m eclipses[\u001b[38;5;124m\"\u001b[39m\u001b[38;5;124mSession Mid Byear\u001b[39m\u001b[38;5;124m\"\u001b[39m]\n\u001b[1;32m----> 2\u001b[0m tb\u001b[38;5;241m.\u001b[39mjoin(table_1, eclipses, keys\u001b[38;5;241m=\u001b[39m[\u001b[38;5;124m\"\u001b[39m\u001b[38;5;124mTIC ID\u001b[39m\u001b[38;5;124m\"\u001b[39m], join_funcs\u001b[38;5;241m=\u001b[39m{\u001b[38;5;124m\"\u001b[39m\u001b[38;5;124mTIC ID\u001b[39m\u001b[38;5;124m\"\u001b[39m: \u001b[38;5;28;01mlambda\u001b[39;00m x, y: \u001b[43mx\u001b[49m\u001b[38;5;241;43m==\u001b[39;49m\u001b[43my\u001b[49m}, join_type\u001b[38;5;241m=\u001b[39m\u001b[38;5;124m\"\u001b[39m\u001b[38;5;124mouter\u001b[39m\u001b[38;5;124m\"\u001b[39m)\u001b[38;5;66;03m#, \"Byear\": lambda x, y: abs(x - y) < 0.0001})\u001b[39;00m\n",
      "File \u001b[1;32mc:\\Users\\User\\anaconda3\\envs\\Astro\\Lib\\site-packages\\astropy\\table\\column.py:351\u001b[0m, in \u001b[0;36m_make_compare.<locals>._compare\u001b[1;34m(self, other)\u001b[0m\n\u001b[0;32m    348\u001b[0m     other \u001b[38;5;241m=\u001b[39m \u001b[38;5;28mself\u001b[39m\u001b[38;5;241m.\u001b[39m_encode_str(other)\n\u001b[0;32m    350\u001b[0m \u001b[38;5;66;03m# Now just let the regular ndarray.__eq__, etc., take over.\u001b[39;00m\n\u001b[1;32m--> 351\u001b[0m result \u001b[38;5;241m=\u001b[39m \u001b[38;5;28;43mgetattr\u001b[39;49m\u001b[43m(\u001b[49m\u001b[38;5;28;43msuper\u001b[39;49m\u001b[43m(\u001b[49m\u001b[43mColumn\u001b[49m\u001b[43m,\u001b[49m\u001b[43m \u001b[49m\u001b[38;5;28;43mself\u001b[39;49m\u001b[43m)\u001b[49m\u001b[43m,\u001b[49m\u001b[43m \u001b[49m\u001b[43mop\u001b[49m\u001b[43m)\u001b[49m\u001b[43m(\u001b[49m\u001b[43mother\u001b[49m\u001b[43m)\u001b[49m\n\u001b[0;32m    352\u001b[0m \u001b[38;5;66;03m# But we should not return Column instances for this case.\u001b[39;00m\n\u001b[0;32m    353\u001b[0m \u001b[38;5;28;01mreturn\u001b[39;00m result\u001b[38;5;241m.\u001b[39mdata \u001b[38;5;28;01mif\u001b[39;00m \u001b[38;5;28misinstance\u001b[39m(result, Column) \u001b[38;5;28;01melse\u001b[39;00m result\n",
      "\u001b[1;31mValueError\u001b[0m: operands could not be broadcast together with shapes (95,) (34,) "
     ]
    }
   ],
   "source": [
    "eclipses[\"Byear\"] = eclipses[\"Session Mid Byear\"]\n",
    "tb.join(table_1, eclipses, keys=[\"TIC ID\"], join_funcs={\"TIC ID\": lambda x, y: x==y}, join_type=\"outer\")#, \"Byear\": lambda x, y: abs(x - y) < 0.0001})"
   ]
  },
  {
   "cell_type": "code",
   "execution_count": 108,
   "metadata": {},
   "outputs": [
    {
     "ename": "ValueError",
     "evalue": "The truth value of an array with more than one element is ambiguous. Use a.any() or a.all()",
     "output_type": "error",
     "traceback": [
      "\u001b[1;31m---------------------------------------------------------------------------\u001b[0m",
      "\u001b[1;31mValueError\u001b[0m                                Traceback (most recent call last)",
      "Cell \u001b[1;32mIn[108], line 21\u001b[0m\n\u001b[0;32m     17\u001b[0m     \u001b[38;5;28;01mreturn\u001b[39;00m ids1, ids2\n\u001b[0;32m     19\u001b[0m \u001b[38;5;66;03m# Join tables with custom floating-point comparison\u001b[39;00m\n\u001b[0;32m     20\u001b[0m \u001b[38;5;66;03m# joined_table = tb.join(table1, table2, keys='value', join_type='outer')\u001b[39;00m\n\u001b[1;32m---> 21\u001b[0m joined_table \u001b[38;5;241m=\u001b[39m \u001b[43mtb\u001b[49m\u001b[38;5;241;43m.\u001b[39;49m\u001b[43mjoin\u001b[49m\u001b[43m(\u001b[49m\u001b[43mtable1\u001b[49m\u001b[43m,\u001b[49m\u001b[43m \u001b[49m\u001b[43mtable2\u001b[49m\u001b[43m,\u001b[49m\u001b[43m \u001b[49m\u001b[43mjoin_funcs\u001b[49m\u001b[38;5;241;43m=\u001b[39;49m\u001b[43m{\u001b[49m\u001b[38;5;124;43m'\u001b[39;49m\u001b[38;5;124;43mvalue\u001b[39;49m\u001b[38;5;124;43m'\u001b[39;49m\u001b[43m:\u001b[49m\u001b[43m \u001b[49m\u001b[43mfloat_approx_equal\u001b[49m\u001b[43m}\u001b[49m\u001b[43m,\u001b[49m\u001b[43m \u001b[49m\u001b[43mjoin_type\u001b[49m\u001b[38;5;241;43m=\u001b[39;49m\u001b[38;5;124;43m'\u001b[39;49m\u001b[38;5;124;43mouter\u001b[39;49m\u001b[38;5;124;43m'\u001b[39;49m\u001b[43m)\u001b[49m\n\u001b[0;32m     23\u001b[0m \u001b[38;5;28mprint\u001b[39m(joined_table)\n",
      "File \u001b[1;32mc:\\Users\\User\\anaconda3\\envs\\Astro\\Lib\\site-packages\\astropy\\table\\operations.py:415\u001b[0m, in \u001b[0;36mjoin\u001b[1;34m(left, right, keys, join_type, keys_left, keys_right, uniq_col_name, table_names, metadata_conflicts, join_funcs)\u001b[0m\n\u001b[0;32m    412\u001b[0m     right \u001b[38;5;241m=\u001b[39m Table(right)\n\u001b[0;32m    414\u001b[0m col_name_map \u001b[38;5;241m=\u001b[39m OrderedDict()\n\u001b[1;32m--> 415\u001b[0m out \u001b[38;5;241m=\u001b[39m \u001b[43m_join\u001b[49m\u001b[43m(\u001b[49m\n\u001b[0;32m    416\u001b[0m \u001b[43m    \u001b[49m\u001b[43mleft\u001b[49m\u001b[43m,\u001b[49m\n\u001b[0;32m    417\u001b[0m \u001b[43m    \u001b[49m\u001b[43mright\u001b[49m\u001b[43m,\u001b[49m\n\u001b[0;32m    418\u001b[0m \u001b[43m    \u001b[49m\u001b[43mkeys\u001b[49m\u001b[43m,\u001b[49m\n\u001b[0;32m    419\u001b[0m \u001b[43m    \u001b[49m\u001b[43mjoin_type\u001b[49m\u001b[43m,\u001b[49m\n\u001b[0;32m    420\u001b[0m \u001b[43m    \u001b[49m\u001b[43muniq_col_name\u001b[49m\u001b[43m,\u001b[49m\n\u001b[0;32m    421\u001b[0m \u001b[43m    \u001b[49m\u001b[43mtable_names\u001b[49m\u001b[43m,\u001b[49m\n\u001b[0;32m    422\u001b[0m \u001b[43m    \u001b[49m\u001b[43mcol_name_map\u001b[49m\u001b[43m,\u001b[49m\n\u001b[0;32m    423\u001b[0m \u001b[43m    \u001b[49m\u001b[43mmetadata_conflicts\u001b[49m\u001b[43m,\u001b[49m\n\u001b[0;32m    424\u001b[0m \u001b[43m    \u001b[49m\u001b[43mjoin_funcs\u001b[49m\u001b[43m,\u001b[49m\n\u001b[0;32m    425\u001b[0m \u001b[43m    \u001b[49m\u001b[43mkeys_left\u001b[49m\u001b[38;5;241;43m=\u001b[39;49m\u001b[43mkeys_left\u001b[49m\u001b[43m,\u001b[49m\n\u001b[0;32m    426\u001b[0m \u001b[43m    \u001b[49m\u001b[43mkeys_right\u001b[49m\u001b[38;5;241;43m=\u001b[39;49m\u001b[43mkeys_right\u001b[49m\u001b[43m,\u001b[49m\n\u001b[0;32m    427\u001b[0m \u001b[43m\u001b[49m\u001b[43m)\u001b[49m\n\u001b[0;32m    429\u001b[0m \u001b[38;5;66;03m# Merge the column and table meta data. Table subclasses might override\u001b[39;00m\n\u001b[0;32m    430\u001b[0m \u001b[38;5;66;03m# these methods for custom merge behavior.\u001b[39;00m\n\u001b[0;32m    431\u001b[0m _merge_table_meta(out, [left, right], metadata_conflicts\u001b[38;5;241m=\u001b[39mmetadata_conflicts)\n",
      "File \u001b[1;32mc:\\Users\\User\\anaconda3\\envs\\Astro\\Lib\\site-packages\\astropy\\table\\operations.py:1217\u001b[0m, in \u001b[0;36m_join\u001b[1;34m(left, right, keys, join_type, uniq_col_name, table_names, col_name_map, metadata_conflicts, join_funcs, keys_left, keys_right)\u001b[0m\n\u001b[0;32m   1212\u001b[0m     \u001b[38;5;28;01mif\u001b[39;00m \u001b[38;5;129;01mnot\u001b[39;00m \u001b[38;5;28mall\u001b[39m(key \u001b[38;5;129;01min\u001b[39;00m keys \u001b[38;5;28;01mfor\u001b[39;00m key \u001b[38;5;129;01min\u001b[39;00m join_funcs):\n\u001b[0;32m   1213\u001b[0m         \u001b[38;5;28;01mraise\u001b[39;00m \u001b[38;5;167;01mValueError\u001b[39;00m(\n\u001b[0;32m   1214\u001b[0m             \u001b[38;5;124mf\u001b[39m\u001b[38;5;124m\"\u001b[39m\u001b[38;5;124mjoin_funcs keys \u001b[39m\u001b[38;5;132;01m{\u001b[39;00mjoin_funcs\u001b[38;5;241m.\u001b[39mkeys()\u001b[38;5;132;01m}\u001b[39;00m\u001b[38;5;124m must be a \u001b[39m\u001b[38;5;124m\"\u001b[39m\n\u001b[0;32m   1215\u001b[0m             \u001b[38;5;124mf\u001b[39m\u001b[38;5;124m\"\u001b[39m\u001b[38;5;124msubset of join keys \u001b[39m\u001b[38;5;132;01m{\u001b[39;00mkeys\u001b[38;5;132;01m}\u001b[39;00m\u001b[38;5;124m\"\u001b[39m\n\u001b[0;32m   1216\u001b[0m         )\n\u001b[1;32m-> 1217\u001b[0m     left, right, keys \u001b[38;5;241m=\u001b[39m \u001b[43m_apply_join_funcs\u001b[49m\u001b[43m(\u001b[49m\u001b[43mleft\u001b[49m\u001b[43m,\u001b[49m\u001b[43m \u001b[49m\u001b[43mright\u001b[49m\u001b[43m,\u001b[49m\u001b[43m \u001b[49m\u001b[43mkeys\u001b[49m\u001b[43m,\u001b[49m\u001b[43m \u001b[49m\u001b[43mjoin_funcs\u001b[49m\u001b[43m)\u001b[49m\n\u001b[0;32m   1219\u001b[0m len_left, len_right \u001b[38;5;241m=\u001b[39m \u001b[38;5;28mlen\u001b[39m(left), \u001b[38;5;28mlen\u001b[39m(right)\n\u001b[0;32m   1221\u001b[0m \u001b[38;5;28;01mif\u001b[39;00m len_left \u001b[38;5;241m==\u001b[39m \u001b[38;5;241m0\u001b[39m \u001b[38;5;129;01mor\u001b[39;00m len_right \u001b[38;5;241m==\u001b[39m \u001b[38;5;241m0\u001b[39m:\n",
      "File \u001b[1;32mc:\\Users\\User\\anaconda3\\envs\\Astro\\Lib\\site-packages\\astropy\\table\\operations.py:1087\u001b[0m, in \u001b[0;36m_apply_join_funcs\u001b[1;34m(left, right, keys, join_funcs)\u001b[0m\n\u001b[0;32m   1085\u001b[0m right \u001b[38;5;241m=\u001b[39m right\u001b[38;5;241m.\u001b[39mcopy(copy_data\u001b[38;5;241m=\u001b[39m\u001b[38;5;28;01mFalse\u001b[39;00m)\n\u001b[0;32m   1086\u001b[0m \u001b[38;5;28;01mfor\u001b[39;00m key, join_func \u001b[38;5;129;01min\u001b[39;00m join_funcs\u001b[38;5;241m.\u001b[39mitems():\n\u001b[1;32m-> 1087\u001b[0m     ids1, ids2 \u001b[38;5;241m=\u001b[39m \u001b[43mjoin_func\u001b[49m\u001b[43m(\u001b[49m\u001b[43mleft\u001b[49m\u001b[43m[\u001b[49m\u001b[43mkey\u001b[49m\u001b[43m]\u001b[49m\u001b[43m,\u001b[49m\u001b[43m \u001b[49m\u001b[43mright\u001b[49m\u001b[43m[\u001b[49m\u001b[43mkey\u001b[49m\u001b[43m]\u001b[49m\u001b[43m)\u001b[49m\n\u001b[0;32m   1088\u001b[0m     \u001b[38;5;66;03m# Define a unique id_key name, and keep adding underscores until we have\u001b[39;00m\n\u001b[0;32m   1089\u001b[0m     \u001b[38;5;66;03m# a name not yet present.\u001b[39;00m\n\u001b[0;32m   1090\u001b[0m     id_key \u001b[38;5;241m=\u001b[39m key \u001b[38;5;241m+\u001b[39m \u001b[38;5;124m\"\u001b[39m\u001b[38;5;124m_id\u001b[39m\u001b[38;5;124m\"\u001b[39m\n",
      "Cell \u001b[1;32mIn[108], line 14\u001b[0m, in \u001b[0;36mfloat_approx_equal\u001b[1;34m(col1, col2, tol)\u001b[0m\n\u001b[0;32m     12\u001b[0m \u001b[38;5;28;01mfor\u001b[39;00m i, val1 \u001b[38;5;129;01min\u001b[39;00m \u001b[38;5;28menumerate\u001b[39m(col1):\n\u001b[0;32m     13\u001b[0m     \u001b[38;5;28;01mfor\u001b[39;00m j, val2 \u001b[38;5;129;01min\u001b[39;00m \u001b[38;5;28menumerate\u001b[39m(col2):\n\u001b[1;32m---> 14\u001b[0m         \u001b[38;5;28;01mif\u001b[39;00m \u001b[38;5;28mabs\u001b[39m(col1 \u001b[38;5;241m-\u001b[39m col2) \u001b[38;5;241m<\u001b[39m tol:\n\u001b[0;32m     15\u001b[0m             ids1\u001b[38;5;241m.\u001b[39mappend(i)\n\u001b[0;32m     16\u001b[0m             ids2\u001b[38;5;241m.\u001b[39mappend(j)\n",
      "\u001b[1;31mValueError\u001b[0m: The truth value of an array with more than one element is ambiguous. Use a.any() or a.all()"
     ]
    }
   ],
   "source": [
    "# Example tables\n",
    "table1 = tb.Table({'id': [1, 2, 3, 4],\n",
    "                'value': [0.1, 0.2, 0.3, 0.4]})\n",
    "table2 = tb.Table({'id': [3, 6, 2, 1],\n",
    "                'value': [0.100001, 0.300001, 20, .1]})\n",
    "# table2 = tb.Table({'id': [3, 6],\n",
    "#                 'value': [0.100001, 0.300001]})\n",
    "\n",
    "# Custom join function for floating-point comparison with tolerance\n",
    "def float_approx_equal(col1, col2, tol=1e-5):\n",
    "    ids1, ids2 = [], []\n",
    "    for i, val1 in enumerate(col1):\n",
    "        for j, val2 in enumerate(col2):\n",
    "            if abs(col1 - col2) < tol:\n",
    "                ids1.append(i)\n",
    "                ids2.append(j)\n",
    "    return ids1, ids2\n",
    "\n",
    "# Join tables with custom floating-point comparison\n",
    "# joined_table = tb.join(table1, table2, keys='value', join_type='outer')\n",
    "joined_table = tb.join(table1, table2, join_funcs={'value': float_approx_equal}, join_type='outer')\n",
    "\n",
    "print(joined_table)\n"
   ]
  },
  {
   "cell_type": "code",
   "execution_count": 106,
   "metadata": {},
   "outputs": [
    {
     "name": "stdout",
     "output_type": "stream",
     "text": [
      "sc_id   sc_1    sc_2  \n",
      "      deg,deg deg,deg \n",
      "----- ------- --------\n",
      "    1 1.0,0.0 1.05,0.0\n",
      "    1 1.1,0.0 1.05,0.0\n",
      "(array([2, 1, 1, 3]), array([4, 1, 5]))\n"
     ]
    },
    {
     "data": {
      "text/plain": [
       "(<Table length=4>\n",
       "    sc   \n",
       " deg,deg \n",
       " SkyCoord\n",
       " --------\n",
       "  0.0,0.0\n",
       "  1.0,0.0\n",
       "  1.1,0.0\n",
       "  2.0,0.0,\n",
       " <Table length=3>\n",
       "    sc   \n",
       " deg,deg \n",
       " SkyCoord\n",
       " --------\n",
       "  0.5,0.0\n",
       " 1.05,0.0\n",
       "  2.1,0.0)"
      ]
     },
     "execution_count": 106,
     "metadata": {},
     "output_type": "execute_result"
    }
   ],
   "source": [
    "from astropy.coordinates import SkyCoord\n",
    "import astropy.units as u\n",
    "from astropy.table import Table, join_skycoord\n",
    "from astropy import table\n",
    "\n",
    "sc1 = SkyCoord([0, 1, 1.1, 2], [0, 0, 0, 0], unit='deg')\n",
    "sc2 = SkyCoord([0.5, 1.05, 2.1], [0, 0, 0], unit='deg')\n",
    "\n",
    "tol = 0.1 * u.deg\n",
    "join_func = join_skycoord(tol)\n",
    "sc1, sc2, join_func(sc1, sc2)  # Associate each coordinate with unique source ID\n",
    "\n",
    "t1 = Table([sc1], names=['sc'])\n",
    "t2 = Table([sc2], names=['sc'])\n",
    "t12 = table.join(t1, t2, join_funcs={'sc': join_skycoord(tol)})\n",
    "print(t12)\n",
    "print(join_func(sc1, sc2))  # Note new `sc_id` column with the IDs from join_func()\n",
    "t1, t2"
   ]
  }
 ],
 "metadata": {
  "kernelspec": {
   "display_name": "Astro",
   "language": "python",
   "name": "python3"
  },
  "language_info": {
   "codemirror_mode": {
    "name": "ipython",
    "version": 3
   },
   "file_extension": ".py",
   "mimetype": "text/x-python",
   "name": "python",
   "nbconvert_exporter": "python",
   "pygments_lexer": "ipython3",
   "version": "3.12.2"
  }
 },
 "nbformat": 4,
 "nbformat_minor": 2
}
